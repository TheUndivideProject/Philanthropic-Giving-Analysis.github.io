{
 "cells": [
  {
   "cell_type": "markdown",
   "metadata": {},
   "source": [
    "# Philanthropic Giving Analysis\n"
   ]
  },
  {
   "cell_type": "markdown",
   "metadata": {},
   "source": [
    "Welcome to the Philanthropic Giving Analysis project. Our goal is to investigate and present insights into philanthropic contributions towards environmental and social justice causes, aiming to enhance transparency and accountability within this sector.\n"
   ]
  },
  {
   "cell_type": "markdown",
   "metadata": {},
   "source": [
    "## Project Objectives\n",
    "\n",
    "This project aims to:\n",
    "- Conduct a comprehensive analysis of philanthropic giving data.\n",
    "- Identify trends and patterns in contributions towards environmental and social justice.\n",
    "- Evaluate the transparency and accountability of these philanthropic efforts.\n",
    "- Provide actionable insights and recommendations to improve future giving practices.\n"
   ]
  },
  {
   "cell_type": "markdown",
   "metadata": {},
   "source": [
    "## Explore the Analysis Thus Far...\n",
    "\n",
    "- [Reports](./reports/data_exploration_ex.html) - Read our comprehensive analysis reports and conclusions.\n"
   ]
  }
 ],
 "metadata": {
  "language_info": {
   "name": "python"
  }
 },
 "nbformat": 4,
 "nbformat_minor": 2
}
