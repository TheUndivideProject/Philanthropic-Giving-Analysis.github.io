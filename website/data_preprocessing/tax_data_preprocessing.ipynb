{
 "cells": [
  {
   "cell_type": "markdown",
   "metadata": {},
   "source": [
    "### Exempt Business Master File Region Merging"
   ]
  },
  {
   "cell_type": "code",
   "execution_count": 2,
   "metadata": {},
   "outputs": [],
   "source": [
    "import pandas as pd"
   ]
  },
  {
   "cell_type": "code",
   "execution_count": 5,
   "metadata": {},
   "outputs": [],
   "source": [
    "df1 = pd.read_csv('../../data/EBMF/exempt_orgs_gulf_coast.csv')\n",
    "df2 = pd.read_csv('../../data/EBMF/exempt_orgs_intl.csv')\n",
    "df3 = pd.read_csv('../../data/EBMF/exempt_orgs_mid_atlantic.csv')\n",
    "df4 = pd.read_csv('../../data/EBMF/exempt_orgs_puerto_rico.csv')\n",
    "df5 = pd.read_csv('../../data/EBMF/Regional Giving Data IRS eo1.csv')"
   ]
  },
  {
   "cell_type": "code",
   "execution_count": 5,
   "metadata": {},
   "outputs": [
    {
     "data": {
      "text/plain": [
       "(1870199, 28)"
      ]
     },
     "execution_count": 5,
     "metadata": {},
     "output_type": "execute_result"
    }
   ],
   "source": [
    "embf_merged = pd.concat([df1, df2, df3, df4, df5], ignore_index=True)\n",
    "embf_merged.shape"
   ]
  },
  {
   "cell_type": "code",
   "execution_count": 6,
   "metadata": {},
   "outputs": [],
   "source": [
    "embf_merged.to_csv('../../data/embf_merged.csv', index=False)\n"
   ]
  },
  {
   "cell_type": "markdown",
   "metadata": {},
   "source": [
    "## Joining EIN and other related fields into form 990 data\n"
   ]
  },
  {
   "cell_type": "code",
   "execution_count": 8,
   "metadata": {},
   "outputs": [
    {
     "data": {
      "text/plain": [
       "(326123, 246)"
      ]
     },
     "execution_count": 8,
     "metadata": {},
     "output_type": "execute_result"
    }
   ],
   "source": [
    "form990 = pd.read_csv('../../data/22eoextract990.csv')\n",
    "embf_merged = pd.read_csv('../../data/embf_merged.csv')\n",
    "\n",
    "form990.shape"
   ]
  },
  {
   "cell_type": "code",
   "execution_count": 9,
   "metadata": {},
   "outputs": [
    {
     "data": {
      "text/plain": [
       "Index(['EIN', 'NAME', 'ICO', 'STREET', 'CITY', 'STATE', 'ZIP', 'GROUP',\n",
       "       'SUBSECTION', 'AFFILIATION', 'CLASSIFICATION', 'RULING',\n",
       "       'DEDUCTIBILITY', 'FOUNDATION', 'ACTIVITY', 'ORGANIZATION', 'STATUS',\n",
       "       'TAX_PERIOD', 'ASSET_CD', 'INCOME_CD', 'FILING_REQ_CD',\n",
       "       'PF_FILING_REQ_CD', 'ACCT_PD', 'ASSET_AMT', 'INCOME_AMT', 'REVENUE_AMT',\n",
       "       'NTEE_CD', 'SORT_NAME'],\n",
       "      dtype='object')"
      ]
     },
     "execution_count": 9,
     "metadata": {},
     "output_type": "execute_result"
    }
   ],
   "source": [
    "embf_merged.columns\n"
   ]
  },
  {
   "cell_type": "code",
   "execution_count": 13,
   "metadata": {},
   "outputs": [
    {
     "name": "stdout",
     "output_type": "stream",
     "text": [
      "Index(['efile', 'EIN', 'tax_pd', 'subseccd', 's501c3or4947a1cd', 'schdbind',\n",
      "       'politicalactvtscd', 'lbbyingactvtscd', 'subjto6033cd',\n",
      "       'dnradvisedfundscd',\n",
      "       ...\n",
      "       'grsinc509', 'unreltxincls511tx509', 'subtotsuppinc509',\n",
      "       'netincunrelatd509', 'othrinc509', 'totsupp509', 'ACTIVITY', 'NTEE_CD',\n",
      "       'SUBSECTION', 'AFFILIATION'],\n",
      "      dtype='object', length=250)\n",
      "(326123, 250)\n"
     ]
    }
   ],
   "source": [
    "# Perform an inner join\n",
    "form990_embf = pd.merge(form990,embf_merged[['EIN', 'ACTIVITY','NTEE_CD','SUBSECTION','AFFILIATION']],  # Select only necessary columns from the first DataFrame\n",
    "                     on='EIN',  \n",
    "                     how='left')  \n",
    "\n",
    "# Check the result\n",
    "print(form990_embf.columns)\n",
    "print(form990_embf.shape)\n"
   ]
  },
  {
   "cell_type": "code",
   "execution_count": 14,
   "metadata": {},
   "outputs": [
    {
     "data": {
      "text/html": [
       "<div>\n",
       "<style scoped>\n",
       "    .dataframe tbody tr th:only-of-type {\n",
       "        vertical-align: middle;\n",
       "    }\n",
       "\n",
       "    .dataframe tbody tr th {\n",
       "        vertical-align: top;\n",
       "    }\n",
       "\n",
       "    .dataframe thead th {\n",
       "        text-align: right;\n",
       "    }\n",
       "</style>\n",
       "<table border=\"1\" class=\"dataframe\">\n",
       "  <thead>\n",
       "    <tr style=\"text-align: right;\">\n",
       "      <th></th>\n",
       "      <th>efile</th>\n",
       "      <th>ein</th>\n",
       "      <th>tax_pd</th>\n",
       "      <th>subseccd</th>\n",
       "      <th>s501c3or4947a1cd</th>\n",
       "      <th>schdbind</th>\n",
       "      <th>politicalactvtscd</th>\n",
       "      <th>lbbyingactvtscd</th>\n",
       "      <th>subjto6033cd</th>\n",
       "      <th>dnradvisedfundscd</th>\n",
       "      <th>...</th>\n",
       "      <th>grsinc509</th>\n",
       "      <th>unreltxincls511tx509</th>\n",
       "      <th>subtotsuppinc509</th>\n",
       "      <th>netincunrelatd509</th>\n",
       "      <th>othrinc509</th>\n",
       "      <th>totsupp509</th>\n",
       "      <th>activity</th>\n",
       "      <th>ntee_cd</th>\n",
       "      <th>subsection</th>\n",
       "      <th>affiliation</th>\n",
       "    </tr>\n",
       "  </thead>\n",
       "  <tbody>\n",
       "    <tr>\n",
       "      <th>148177</th>\n",
       "      <td>P</td>\n",
       "      <td>426057254</td>\n",
       "      <td>2011-06-01</td>\n",
       "      <td>2.0</td>\n",
       "      <td>N</td>\n",
       "      <td>N</td>\n",
       "      <td>N</td>\n",
       "      <td>NaN</td>\n",
       "      <td>N</td>\n",
       "      <td>N</td>\n",
       "      <td>...</td>\n",
       "      <td>0.0</td>\n",
       "      <td>0.0</td>\n",
       "      <td>0.0</td>\n",
       "      <td>0.0</td>\n",
       "      <td>0.0</td>\n",
       "      <td>0.0</td>\n",
       "      <td>36399000.0</td>\n",
       "      <td>NaN</td>\n",
       "      <td>2.0</td>\n",
       "      <td>3.0</td>\n",
       "    </tr>\n",
       "    <tr>\n",
       "      <th>14068</th>\n",
       "      <td>P</td>\n",
       "      <td>60891737</td>\n",
       "      <td>2011-10-01</td>\n",
       "      <td>5.0</td>\n",
       "      <td>N</td>\n",
       "      <td>N</td>\n",
       "      <td>N</td>\n",
       "      <td>NaN</td>\n",
       "      <td>N</td>\n",
       "      <td>N</td>\n",
       "      <td>...</td>\n",
       "      <td>0.0</td>\n",
       "      <td>0.0</td>\n",
       "      <td>0.0</td>\n",
       "      <td>0.0</td>\n",
       "      <td>0.0</td>\n",
       "      <td>0.0</td>\n",
       "      <td>232000000.0</td>\n",
       "      <td>K20</td>\n",
       "      <td>5.0</td>\n",
       "      <td>3.0</td>\n",
       "    </tr>\n",
       "    <tr>\n",
       "      <th>233203</th>\n",
       "      <td>P</td>\n",
       "      <td>660550623</td>\n",
       "      <td>2011-12-01</td>\n",
       "      <td>3.0</td>\n",
       "      <td>Y</td>\n",
       "      <td>Y</td>\n",
       "      <td>N</td>\n",
       "      <td>N</td>\n",
       "      <td>N</td>\n",
       "      <td>N</td>\n",
       "      <td>...</td>\n",
       "      <td>0.0</td>\n",
       "      <td>0.0</td>\n",
       "      <td>0.0</td>\n",
       "      <td>0.0</td>\n",
       "      <td>0.0</td>\n",
       "      <td>0.0</td>\n",
       "      <td>0.0</td>\n",
       "      <td>S20</td>\n",
       "      <td>3.0</td>\n",
       "      <td>3.0</td>\n",
       "    </tr>\n",
       "    <tr>\n",
       "      <th>168589</th>\n",
       "      <td>P</td>\n",
       "      <td>464039105</td>\n",
       "      <td>2012-06-01</td>\n",
       "      <td>3.0</td>\n",
       "      <td>Y</td>\n",
       "      <td>Y</td>\n",
       "      <td>N</td>\n",
       "      <td>N</td>\n",
       "      <td>N</td>\n",
       "      <td>N</td>\n",
       "      <td>...</td>\n",
       "      <td>0.0</td>\n",
       "      <td>0.0</td>\n",
       "      <td>0.0</td>\n",
       "      <td>0.0</td>\n",
       "      <td>0.0</td>\n",
       "      <td>0.0</td>\n",
       "      <td>NaN</td>\n",
       "      <td>NaN</td>\n",
       "      <td>NaN</td>\n",
       "      <td>NaN</td>\n",
       "    </tr>\n",
       "    <tr>\n",
       "      <th>32657</th>\n",
       "      <td>P</td>\n",
       "      <td>161696098</td>\n",
       "      <td>2012-12-01</td>\n",
       "      <td>3.0</td>\n",
       "      <td>Y</td>\n",
       "      <td>N</td>\n",
       "      <td>N</td>\n",
       "      <td>N</td>\n",
       "      <td>N</td>\n",
       "      <td>N</td>\n",
       "      <td>...</td>\n",
       "      <td>0.0</td>\n",
       "      <td>0.0</td>\n",
       "      <td>0.0</td>\n",
       "      <td>0.0</td>\n",
       "      <td>0.0</td>\n",
       "      <td>121247.0</td>\n",
       "      <td>0.0</td>\n",
       "      <td>T21</td>\n",
       "      <td>3.0</td>\n",
       "      <td>3.0</td>\n",
       "    </tr>\n",
       "  </tbody>\n",
       "</table>\n",
       "<p>5 rows × 250 columns</p>\n",
       "</div>"
      ],
      "text/plain": [
       "       efile        ein     tax_pd  subseccd s501c3or4947a1cd schdbind  \\\n",
       "148177     P  426057254 2011-06-01       2.0                N        N   \n",
       "14068      P   60891737 2011-10-01       5.0                N        N   \n",
       "233203     P  660550623 2011-12-01       3.0                Y        Y   \n",
       "168589     P  464039105 2012-06-01       3.0                Y        Y   \n",
       "32657      P  161696098 2012-12-01       3.0                Y        N   \n",
       "\n",
       "       politicalactvtscd lbbyingactvtscd subjto6033cd dnradvisedfundscd  ...  \\\n",
       "148177                 N             NaN            N                 N  ...   \n",
       "14068                  N             NaN            N                 N  ...   \n",
       "233203                 N               N            N                 N  ...   \n",
       "168589                 N               N            N                 N  ...   \n",
       "32657                  N               N            N                 N  ...   \n",
       "\n",
       "       grsinc509 unreltxincls511tx509 subtotsuppinc509 netincunrelatd509  \\\n",
       "148177       0.0                  0.0              0.0               0.0   \n",
       "14068        0.0                  0.0              0.0               0.0   \n",
       "233203       0.0                  0.0              0.0               0.0   \n",
       "168589       0.0                  0.0              0.0               0.0   \n",
       "32657        0.0                  0.0              0.0               0.0   \n",
       "\n",
       "       othrinc509 totsupp509     activity ntee_cd subsection affiliation  \n",
       "148177        0.0        0.0   36399000.0     NaN        2.0         3.0  \n",
       "14068         0.0        0.0  232000000.0     K20        5.0         3.0  \n",
       "233203        0.0        0.0          0.0     S20        3.0         3.0  \n",
       "168589        0.0        0.0          NaN     NaN        NaN         NaN  \n",
       "32657         0.0   121247.0          0.0     T21        3.0         3.0  \n",
       "\n",
       "[5 rows x 250 columns]"
      ]
     },
     "execution_count": 14,
     "metadata": {},
     "output_type": "execute_result"
    }
   ],
   "source": [
    "# Standardize column names.\n",
    "form990_embf.columns = [x.lower() for x in form990_embf.columns]\n",
    "\n",
    "# Replace zeros with NaN for appropriate columns.\n",
    "\n",
    "# Replace NaN with appropriate values accordingly.\n",
    "\n",
    "# Convert columns to appropriate data types.\n",
    "date_cols = ['tax_pd']\n",
    "for col in date_cols:\n",
    "    form990_embf[col] = form990_embf[col].astype(str).str.replace('\\.0$', '', regex=True)\n",
    "    form990_embf[col] = pd.to_datetime(form990_embf[col], format='%Y%m', errors='coerce')\n",
    "\n",
    "# Drop duplicates by keeping last tax_pd date.\n",
    "form990_embf = form990_embf.sort_values('tax_pd').drop_duplicates('ein',keep='last') \n",
    "\n",
    "# Convert dtype for appropriate columns.\n",
    "form990_embf['ein'] = form990_embf['ein'].astype(str).str.replace('\\.0$', '', regex=True)\n",
    "\n",
    "form990_embf.head()"
   ]
  },
  {
   "cell_type": "code",
   "execution_count": 15,
   "metadata": {},
   "outputs": [],
   "source": [
    "# Read out the file\n",
    "form990_embf.to_csv('../../data/form990_embf.csv')"
   ]
  }
 ],
 "metadata": {
  "kernelspec": {
   "display_name": "t_up",
   "language": "python",
   "name": "python3"
  },
  "language_info": {
   "codemirror_mode": {
    "name": "ipython",
    "version": 3
   },
   "file_extension": ".py",
   "mimetype": "text/x-python",
   "name": "python",
   "nbconvert_exporter": "python",
   "pygments_lexer": "ipython3",
   "version": "3.9.18"
  }
 },
 "nbformat": 4,
 "nbformat_minor": 2
}
