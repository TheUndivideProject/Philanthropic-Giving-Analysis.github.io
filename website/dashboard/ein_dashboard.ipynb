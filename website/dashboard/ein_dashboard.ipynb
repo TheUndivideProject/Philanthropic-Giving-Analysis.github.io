{
 "cells": [
  {
   "cell_type": "code",
   "execution_count": null,
   "metadata": {
    "vscode": {
     "languageId": "html"
    }
   },
   "outputs": [],
   "source": [
    "```html\n",
    "<!-- Embed Tableau Dashboard -->\n",
    "<div class='tableauPlaceholder' id='viz1712949710801' style='position: relative'>\n",
    "    <noscript>\n",
    "        <a href='#'>\n",
    "            <img alt='Dashboard 1 ' src='https://public.tableau.com/static/images/HC/HCDRXJ7G2/1_rss.png' style='border: none' />\n",
    "        </a>\n",
    "    </noscript>\n",
    "    <object class='tableauViz'  style='display:none;'>\n",
    "        <param name='host_url' value='https%3A%2F%2Fpublic.tableau.com%2F' />\n",
    "        <param name='embed_code_version' value='3' />\n",
    "        <param name='path' value='shared/HCDRXJ7G2' />\n",
    "        <param name='toolbar' value='yes' />\n",
    "        <param name='static_image' value='https://public.tableau.com/static/images/HC/HCDRXJ7G2/1.png' />\n",
    "        <param name='animate_transition' value='yes' />\n",
    "        <param name='display_static_image' value='yes' />\n",
    "        <param name='display_spinner' value='yes' />\n",
    "        <param name='display_overlay' value='yes' />\n",
    "        <param name='display_count' value='yes' />\n",
    "        <param name='language' value='en-US' />\n",
    "        <param name='filter' value='publish=yes' />\n",
    "    </object>\n",
    "</div>\n",
    "<script type='text/javascript'>\n",
    "    var divElement = document.getElementById('viz1712949710801');\n",
    "    var vizElement = divElement.getElementsByTagName('object')[0];\n",
    "    if (divElement.offsetWidth > 800) {\n",
    "        vizElement.style.width='100%';vizElement.style.height=(divElement.offsetWidth*0.75)+'px';\n",
    "    } else if (divElement.offsetWidth > 500) {\n",
    "        vizElement.style.width='100%';vizElement.style.height=(divElement.offsetWidth*0.75)+'px';\n",
    "    } else {\n",
    "        vizElement.style.width='100%';vizElement.style.height='727px';\n",
    "    }\n",
    "    var scriptElement = document.createElement('script');\n",
    "    scriptElement.src = 'https://public.tableau.com/javascripts/api/viz_v1.js';\n",
    "    vizElement.parentNode.insertBefore(scriptElement, vizElement);\n",
    "</script>\n"
   ]
  }
 ],
 "metadata": {
  "language_info": {
   "name": "python"
  }
 },
 "nbformat": 4,
 "nbformat_minor": 2
}
