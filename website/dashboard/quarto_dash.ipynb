{
  "cells": [
    {
      "cell_type": "raw",
      "id": "c5ed096e",
      "metadata": {},
      "source": [
        "---\n",
        "title: \"Worldwide Development\"\n",
        "author: \"Gapminder Analytics\"\n",
        "format: dashboard\n",
        "---"
      ]
    },
    {
      "cell_type": "markdown",
      "id": "bf181e51",
      "metadata": {},
      "source": [
        "## Research Questions (in progress - please contact Amelia for any additional questions you would like explored):\n",
        "1. Financial:\n",
        "   1. What is the mean/median percentage of expenses spent on program services compared to administrative and fundraising costs? \n",
        "      1. Comes from section IX in the form but the IRS extract lacks this specific expense - may need to analyze actual 990 forms from ProPublica’s Non profit Explorer using NLP.\n",
        "   2. What is the mean/median percentage of revenue comes from program specific services?\n",
        "   3. What are the primary sources of **<span title=\"membership dues/fundraising/grants/other\">contributions</span>**? \n",
        "2. Impact:\n",
        "   1. What proportion of nonprofits engage in grantmaking, and what are their patterns of distribution?\n",
        "   2. What is the impact of the programs run by these organizations, and how effectively are they using their funds?\n",
        "      1. Comes from Section III in the form but the IRS extract lacks this info. What's the best way to look into this?\n",
        "3. Temporal:\n",
        "   1. How financially stable are philanthropic organizations over time?"
      ]
    },
    {
      "cell_type": "code",
      "execution_count": null,
      "id": "29baa9a8",
      "metadata": {
        "vscode": {
          "languageId": "python"
        }
      },
      "outputs": [],
      "source": [
        "import plotly.express as px\n",
        "df = px.data.gapminder()\n",
        "df = df[df['continent'] != 'Oceania']"
      ]
    },
    {
      "cell_type": "markdown",
      "id": "bc7ebaff",
      "metadata": {},
      "source": [
        "# Indicators\n",
        "\n",
        "## Row {height=60%}\n"
      ]
    },
    {
      "cell_type": "code",
      "execution_count": null,
      "id": "bb473f71",
      "metadata": {
        "title": "GDP and Life Expectancy",
        "vscode": {
          "languageId": "python"
        }
      },
      "outputs": [],
      "source": [
        "px.scatter(\n",
        "  df, x=\"gdpPercap\", y=\"lifeExp\", \n",
        "  animation_frame=\"year\", animation_group=\"country\",\n",
        "  size=\"pop\", color=\"continent\", hover_name=\"country\", \n",
        "  facet_col=\"continent\", log_x=True, size_max=45, \n",
        "  range_x=[100,100000], range_y=[25,90]\n",
        ")"
      ]
    },
    {
      "cell_type": "markdown",
      "id": "771992e8",
      "metadata": {},
      "source": [
        "## Row {height=40%}\n"
      ]
    },
    {
      "cell_type": "code",
      "execution_count": null,
      "id": "ff50918b",
      "metadata": {
        "title": "Population",
        "vscode": {
          "languageId": "python"
        }
      },
      "outputs": [],
      "source": [
        "px.area(df, x=\"year\", y=\"pop\", color=\"continent\", line_group=\"country\")"
      ]
    },
    {
      "cell_type": "code",
      "execution_count": null,
      "id": "8cd2f36f",
      "metadata": {
        "title": "Life Expectancy",
        "vscode": {
          "languageId": "python"
        }
      },
      "outputs": [],
      "source": [
        "px.line(df, x=\"year\", y=\"lifeExp\", color=\"continent\", line_group=\"country\")"
      ]
    },
    {
      "cell_type": "markdown",
      "id": "517ed72b",
      "metadata": {},
      "source": [
        "# Data\n",
        "\n",
        "![](gapminder.png) Learn more about the Gapminder dataset at <https://www.gapminder.org/data/documentation/>\n"
      ]
    },
    {
      "cell_type": "code",
      "execution_count": null,
      "id": "91003262",
      "metadata": {
        "vscode": {
          "languageId": "python"
        }
      },
      "outputs": [],
      "source": [
        "from itables import show\n",
        "show(df, showIndex = False)"
      ]
    }
  ],
  "metadata": {
    "kernelspec": {
      "display_name": "Python 3",
      "language": "python",
      "name": "python3"
    }
  },
  "nbformat": 4,
  "nbformat_minor": 5
}
