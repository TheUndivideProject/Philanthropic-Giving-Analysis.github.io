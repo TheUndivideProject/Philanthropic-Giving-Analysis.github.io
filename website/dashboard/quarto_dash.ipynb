{
  "cells": [
    {
      "cell_type": "raw",
      "id": "c5ed096e",
      "metadata": {},
      "source": [
        "---\n",
        "title: \"Form 990 Analysis via Quarto\"\n",
        "author: \"Amelia Baier\"\n",
        "date: \"2024-04-16\"\n",
        "format: \n",
        "  html:\n",
        "    toc: false\n",
        "    toc-depth: 3\n",
        "    toc-title: \"Table of Contents\"\n",
        "    embed-resources: true\n",
        "    warnings: false\n",
        "    code-fold: true\n",
        "execute:\n",
        "  echo: true\n",
        "---"
      ]
    },
    {
      "cell_type": "markdown",
      "id": "bf181e51",
      "metadata": {},
      "source": [
        "## Research Questions \n",
        "### (in progress - please contact Amelia for any additional questions you would like explored):\n",
        "1. Financial:\n",
        "   1. What is the mean/median percentage of expenses spent on program services compared to administrative and fundraising costs? \n",
        "      1. Comes from section IX in the form but the IRS extract lacks this specific expense - may need to analyze actual 990 forms from ProPublica’s Non profit Explorer using NLP.\n",
        "   2. What is the mean/median percentage of revenue comes from program specific services?\n",
        "   3. What are the primary sources of **<span title=\"membership dues/fundraising/grants/other\">contributions</span>**? \n",
        "2. Impact:\n",
        "   1. What proportion of nonprofits engage in grantmaking, and what are their patterns of distribution?\n",
        "   2. What is the impact of the programs run by these organizations, and how effectively are they using their funds?\n",
        "      1. Comes from Section III in the form but the IRS extract lacks this info. What's the best way to look into this?\n",
        "3. Temporal:\n",
        "   1. How financially stable are philanthropic organizations over time?"
      ]
    }
  ],
  "metadata": {
    "kernelspec": {
      "display_name": "Python 3",
      "language": "python",
      "name": "python3"
    }
  },
  "nbformat": 4,
  "nbformat_minor": 5
}
