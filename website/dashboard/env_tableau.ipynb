{
 "cells": [
  {
   "cell_type": "raw",
   "metadata": {},
   "source": [
    "---\n",
    "title: \"Tax Exempt Organizations Analysis via Tableau\"\n",
    "author: \"Amelia Baier\"\n",
    "date: \"2024-04-12\"\n",
    "format: \n",
    "  html:\n",
    "    page-layout: full\n",
    "    toc: false\n",
    "    toc-depth: 3\n",
    "    toc-title: \"Table of Contents\"\n",
    "    embed-resources: true\n",
    "    warnings: false\n",
    "    code-fold: true\n",
    "execute:\n",
    "  echo: true\n",
    "---"
   ]
  },
  {
   "cell_type": "markdown",
   "metadata": {},
   "source": [
    "## Research Questions: Environmental Focus in Nonprofit Organizations\n",
    "(For additional inquiries or suggestions, please contact Amelia)\n",
    "\n",
    "1. What proportion of philanthropic organizations are classified under <span title=\"Where NTEE = XXX\">environmental justice</span>?\n",
    "2. How are <span title=\"where NTEE = Environment\">environmental nonprofit organizations</span> distributed across different 3. geographical areas?\n",
    "4. What are the different <span title=\"sub NTEE Environment codes\">types of environmental activities</span> conducted by philanthropic organizations?\n",
    "5. Depending on data resources: analyze temporal trends - \n",
    "   1. What are the **<span title=\"Formation and financial\">growth trends</span>** in philanthropic organizations over the past 5 years?\n",
    "   2. What activities are seeing the most growth? "
   ]
  },
  {
   "cell_type": "code",
   "execution_count": 1,
   "metadata": {},
   "outputs": [
    {
     "name": "stderr",
     "output_type": "stream",
     "text": [
      "UsageError: Line magic function `%HTML` not found (But cell magic `%%HTML` exists, did you mean that instead?).\n"
     ]
    }
   ],
   "source": [
    "%HTML"
   ]
  }
 ],
 "metadata": {
  "kernelspec": {
   "display_name": "t_up",
   "language": "python",
   "name": "python3"
  },
  "language_info": {
   "codemirror_mode": {
    "name": "ipython",
    "version": 3
   },
   "file_extension": ".py",
   "mimetype": "text/x-python",
   "name": "python",
   "nbconvert_exporter": "python",
   "pygments_lexer": "ipython3",
   "version": "3.9.-1"
  }
 },
 "nbformat": 4,
 "nbformat_minor": 2
}
