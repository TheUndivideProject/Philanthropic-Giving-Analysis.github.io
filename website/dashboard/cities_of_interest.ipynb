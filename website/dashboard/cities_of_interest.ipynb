{
 "cells": [
  {
   "cell_type": "raw",
   "metadata": {},
   "source": [
    "---\n",
    "title: \"Form 990 Research Question Analysis via Quarto\"\n",
    "author: \"Amelia Baier\"\n",
    "date: \"2024-04-16\"\n",
    "format: \n",
    "  html:\n",
    "    toc: false\n",
    "    toc-depth: 3\n",
    "    toc-title: \"Table of Contents\"\n",
    "    embed-resources: true\n",
    "    warnings: false\n",
    "    code-fold: true\n",
    "execute:\n",
    "  echo: true\n",
    "---"
   ]
  },
  {
   "cell_type": "markdown",
   "metadata": {},
   "source": [
    "# My Analysis\n",
    "\n",
    "The following link contains my analysis using the Streamlit app: [Streamlit Dashboard](https://philanthropic-giving-analysis-app.streamlit.app/).\n"
   ]
  }
 ],
 "metadata": {
  "kernelspec": {
   "display_name": "t_up",
   "language": "python",
   "name": "python3"
  },
  "language_info": {
   "codemirror_mode": {
    "name": "ipython",
    "version": 3
   },
   "file_extension": ".py",
   "mimetype": "text/x-python",
   "name": "python",
   "nbconvert_exporter": "python",
   "pygments_lexer": "ipython3",
   "version": "3.9.18"
  }
 },
 "nbformat": 4,
 "nbformat_minor": 2
}
