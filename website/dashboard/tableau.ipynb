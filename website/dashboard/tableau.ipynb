{
 "cells": [
  {
   "cell_type": "raw",
   "metadata": {
    "vscode": {
     "languageId": "raw"
    }
   },
   "source": [
    "---\n",
    "title: \"Tax Exempt Organization Analysis via Tableau\"\n",
    "author: \"Amelia Baier\"\n",
    "date: \"2024-04-12\"\n",
    "format: \n",
    "  html:\n",
    "    page-layout: full\n",
    "    toc: false\n",
    "    toc-depth: 3\n",
    "    toc-title: \"Table of Contents\"\n",
    "    embed-resources: true\n",
    "    warnings: false\n",
    "    code-fold: true\n",
    "execute:\n",
    "  echo: true\n",
    "---"
   ]
  },
  {
   "cell_type": "markdown",
   "metadata": {},
   "source": [
    "## Research Questions: \n",
    "(For additional inquiries or suggestions, please contact Amelia)\n",
    "\n",
    "### At a Glance:\n",
    "1. What are some KPIs to help understand philanthropic giving at a glance? \n",
    "\n",
    "### Spatial:\n",
    "1. How are <span title=\"Tax-exempt organizations\">philanthropic organizations</span> distributed across the US?\n",
    "2. What are the various <span title=\"An organization's purposes, activities, operations, or type\">types of activities</span> conducted by philanthropic organizations?\n",
    "\n",
    "### Financial:\n",
    "1. What is the revenue breakdown for US nonprofits? \n",
    "2. What are the top three nonprofit <span title=\"Mapped according to National Taxonomy of Exempt Entities (NTEE) Codes\">activities</span> within each revenue category? \n",
    "\n",
    "### Temporal:\n",
    "1. What trends are there in terms of nonprofits <span title=\"Mapped according to Ruling Date\">creation</span> over time? "
   ]
  },
  {
   "cell_type": "code",
   "execution_count": 2,
   "metadata": {},
   "outputs": [
    {
     "data": {
      "text/html": [
       "<div class='tableauPlaceholder' id='viz1724096793008' style='position: relative'><noscript><a href='#'><img alt='All US Tax Exempt Organizations At A Glance ' src='https:&#47;&#47;public.tableau.com&#47;static&#47;images&#47;EO&#47;EOMBFDashboard&#47;All_Nonprofits&#47;1_rss.png' style='border: none' /></a></noscript><object class='tableauViz'  style='display:none;'><param name='host_url' value='https%3A%2F%2Fpublic.tableau.com%2F' /> <param name='embed_code_version' value='3' /> <param name='site_root' value='' /><param name='name' value='EOMBFDashboard&#47;All_Nonprofits' /><param name='tabs' value='no' /><param name='toolbar' value='yes' /><param name='static_image' value='https:&#47;&#47;public.tableau.com&#47;static&#47;images&#47;EO&#47;EOMBFDashboard&#47;All_Nonprofits&#47;1.png' /> <param name='animate_transition' value='yes' /><param name='display_static_image' value='yes' /><param name='display_spinner' value='yes' /><param name='display_overlay' value='yes' /><param name='display_count' value='yes' /><param name='language' value='en-US' /><param name='filter' value='publish=yes' /></object></div>                <script type='text/javascript'>                    var divElement = document.getElementById('viz1724096793008');                    var vizElement = divElement.getElementsByTagName('object')[0];                    if ( divElement.offsetWidth > 800 ) { vizElement.style.width='1200px';vizElement.style.height='2727px';} else if ( divElement.offsetWidth > 500 ) { vizElement.style.width='1200px';vizElement.style.height='2727px';} else { vizElement.style.width='100%';vizElement.style.height='3327px';}                     var scriptElement = document.createElement('script');                    scriptElement.src = 'https://public.tableau.com/javascripts/api/viz_v1.js';                    vizElement.parentNode.insertBefore(scriptElement, vizElement);                </script>\n"
      ],
      "text/plain": [
       "<IPython.core.display.HTML object>"
      ]
     },
     "metadata": {},
     "output_type": "display_data"
    }
   ],
   "source": [
    "%%HTML\n",
    "<div class='tableauPlaceholder' id='viz1724096793008' style='position: relative'><noscript><a href='#'><img alt='All US Tax Exempt Organizations At A Glance ' src='https:&#47;&#47;public.tableau.com&#47;static&#47;images&#47;EO&#47;EOMBFDashboard&#47;All_Nonprofits&#47;1_rss.png' style='border: none' /></a></noscript><object class='tableauViz'  style='display:none;'><param name='host_url' value='https%3A%2F%2Fpublic.tableau.com%2F' /> <param name='embed_code_version' value='3' /> <param name='site_root' value='' /><param name='name' value='EOMBFDashboard&#47;All_Nonprofits' /><param name='tabs' value='no' /><param name='toolbar' value='yes' /><param name='static_image' value='https:&#47;&#47;public.tableau.com&#47;static&#47;images&#47;EO&#47;EOMBFDashboard&#47;All_Nonprofits&#47;1.png' /> <param name='animate_transition' value='yes' /><param name='display_static_image' value='yes' /><param name='display_spinner' value='yes' /><param name='display_overlay' value='yes' /><param name='display_count' value='yes' /><param name='language' value='en-US' /><param name='filter' value='publish=yes' /></object></div>                <script type='text/javascript'>                    var divElement = document.getElementById('viz1724096793008');                    var vizElement = divElement.getElementsByTagName('object')[0];                    if ( divElement.offsetWidth > 800 ) { vizElement.style.width='1200px';vizElement.style.height='2727px';} else if ( divElement.offsetWidth > 500 ) { vizElement.style.width='1200px';vizElement.style.height='2727px';} else { vizElement.style.width='100%';vizElement.style.height='3327px';}                     var scriptElement = document.createElement('script');                    scriptElement.src = 'https://public.tableau.com/javascripts/api/viz_v1.js';                    vizElement.parentNode.insertBefore(scriptElement, vizElement);                </script>"
   ]
  },
  {
   "cell_type": "markdown",
   "metadata": {},
   "source": [
    "## Research Questions: Environmental Focus in Nonprofit Organizations\n",
    "(For additional inquiries or suggestions, please contact Amelia)\n",
    "\n",
    "1. What proportion of philanthropic organizations are classified under <span title=\"Where NTEE = XXX\">environmental justice</span>?\n",
    "2. How are <span title=\"where NTEE = Environment\">environmental nonprofit organizations</span> distributed across different 3. geographical areas?\n",
    "4. What are the different <span title=\"sub NTEE Environment codes\">types of environmental activities</span> conducted by philanthropic organizations?\n",
    "5. Depending on data resources: analyze temporal trends - \n",
    "   1. What are the **<span title=\"Formation and financial\">growth trends</span>** in philanthropic organizations over the past 3 years?\n",
    "   2. What activities are seeing the most growth in volume and financially? \n",
    "   "
   ]
  },
  {
   "cell_type": "code",
   "execution_count": 2,
   "metadata": {},
   "outputs": [
    {
     "data": {
      "text/html": [
       "\n",
       "<div class='tableauPlaceholder' id='viz1715716014714' style='position: relative'><noscript><a href='#'><img alt='All Environmentally  Focused Tax Exempt Organizations ' src='https:&#47;&#47;public.tableau.com&#47;static&#47;images&#47;EO&#47;EOMBFDashboard&#47;Env_Nonprofits&#47;1_rss.png' style='border: none' /></a></noscript><object class='tableauViz'  style='display:none;'><param name='host_url' value='https%3A%2F%2Fpublic.tableau.com%2F' /> <param name='embed_code_version' value='3' /> <param name='site_root' value='' /><param name='name' value='EOMBFDashboard&#47;Env_Nonprofits' /><param name='tabs' value='no' /><param name='toolbar' value='yes' /><param name='static_image' value='https:&#47;&#47;public.tableau.com&#47;static&#47;images&#47;EO&#47;EOMBFDashboard&#47;Env_Nonprofits&#47;1.png' /> <param name='animate_transition' value='yes' /><param name='display_static_image' value='yes' /><param name='display_spinner' value='yes' /><param name='display_overlay' value='yes' /><param name='display_count' value='yes' /><param name='language' value='en-US' /><param name='filter' value='publish=yes' /></object></div>                <script type='text/javascript'>                    var divElement = document.getElementById('viz1715716014714');                    var vizElement = divElement.getElementsByTagName('object')[0];                    if ( divElement.offsetWidth > 800 ) { vizElement.style.width='1200px';vizElement.style.height='2727px';} else if ( divElement.offsetWidth > 500 ) { vizElement.style.width='1200px';vizElement.style.height='2727px';} else { vizElement.style.width='100%';vizElement.style.height='4377px';}                     var scriptElement = document.createElement('script');                    scriptElement.src = 'https://public.tableau.com/javascripts/api/viz_v1.js';                    vizElement.parentNode.insertBefore(scriptElement, vizElement);                </script>\n"
      ],
      "text/plain": [
       "<IPython.core.display.HTML object>"
      ]
     },
     "metadata": {},
     "output_type": "display_data"
    }
   ],
   "source": [
    "%%HTML\n",
    "\n",
    "<div class='tableauPlaceholder' id='viz1715716014714' style='position: relative'><noscript><a href='#'><img alt='All Environmentally  Focused Tax Exempt Organizations ' src='https:&#47;&#47;public.tableau.com&#47;static&#47;images&#47;EO&#47;EOMBFDashboard&#47;Env_Nonprofits&#47;1_rss.png' style='border: none' /></a></noscript><object class='tableauViz'  style='display:none;'><param name='host_url' value='https%3A%2F%2Fpublic.tableau.com%2F' /> <param name='embed_code_version' value='3' /> <param name='site_root' value='' /><param name='name' value='EOMBFDashboard&#47;Env_Nonprofits' /><param name='tabs' value='no' /><param name='toolbar' value='yes' /><param name='static_image' value='https:&#47;&#47;public.tableau.com&#47;static&#47;images&#47;EO&#47;EOMBFDashboard&#47;Env_Nonprofits&#47;1.png' /> <param name='animate_transition' value='yes' /><param name='display_static_image' value='yes' /><param name='display_spinner' value='yes' /><param name='display_overlay' value='yes' /><param name='display_count' value='yes' /><param name='language' value='en-US' /><param name='filter' value='publish=yes' /></object></div>                <script type='text/javascript'>                    var divElement = document.getElementById('viz1715716014714');                    var vizElement = divElement.getElementsByTagName('object')[0];                    if ( divElement.offsetWidth > 800 ) { vizElement.style.width='1200px';vizElement.style.height='2727px';} else if ( divElement.offsetWidth > 500 ) { vizElement.style.width='1200px';vizElement.style.height='2727px';} else { vizElement.style.width='100%';vizElement.style.height='4377px';}                     var scriptElement = document.createElement('script');                    scriptElement.src = 'https://public.tableau.com/javascripts/api/viz_v1.js';                    vizElement.parentNode.insertBefore(scriptElement, vizElement);                </script>"
   ]
  }
 ],
 "metadata": {
  "kernelspec": {
   "display_name": "t_up",
   "language": "python",
   "name": "python3"
  },
  "language_info": {
   "codemirror_mode": {
    "name": "ipython",
    "version": 3
   },
   "file_extension": ".py",
   "mimetype": "text/x-python",
   "name": "python",
   "nbconvert_exporter": "python",
   "pygments_lexer": "ipython3",
   "version": "3.9.18"
  }
 },
 "nbformat": 4,
 "nbformat_minor": 2
}
