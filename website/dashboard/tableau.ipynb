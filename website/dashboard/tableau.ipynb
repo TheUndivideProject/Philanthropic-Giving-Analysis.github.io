{
 "cells": [
  {
   "cell_type": "raw",
   "metadata": {
    "vscode": {
     "languageId": "raw"
    }
   },
   "source": [
    "---\n",
    "title: \"Tax Exempt Organizations Analysis via Tableau\"\n",
    "author: \"Amelia Baier\"\n",
    "date: \"2024-04-12\"\n",
    "format: \n",
    "  html:\n",
    "    page-layout: full\n",
    "    toc: false\n",
    "    toc-depth: 3\n",
    "    toc-title: \"Table of Contents\"\n",
    "    embed-resources: true\n",
    "    warnings: false\n",
    "    code-fold: true\n",
    "execute:\n",
    "  echo: true\n",
    "---"
   ]
  },
  {
   "cell_type": "markdown",
   "metadata": {},
   "source": [
    "## Research Questions: All US Nonprofit Organizations at a Glance\n",
    "\n",
    "(For additional inquiries or suggestions, please contact Amelia)\n",
    "\n",
    "1. What is the total number of nonprofit organizations in the US?\n",
    "2. Into how many categories are nonprofit organizations classified?\n",
    "3. How are <span title=\"Tax-exempt organizations\">philanthropic organizations</span> distributed across different geographical locations?\n",
    "4. What are the various <span title=\"An organization's purposes, activities, operations, or type\">types of activities</span> conducted by philanthropic organizations?"
   ]
  },
  {
   "cell_type": "code",
   "execution_count": 1,
   "metadata": {},
   "outputs": [
    {
     "data": {
      "text/html": [
       "<div class='tableauPlaceholder' id='viz1715027993014' style='position: relative'><noscript><a href='#'><img alt='US Tax Exempt Organizations At A Glance ' src='https:&#47;&#47;public.tableau.com&#47;static&#47;images&#47;EO&#47;EOMBFDashboard&#47;Dashboard4&#47;1_rss.png' style='border: none' /></a></noscript><object class='tableauViz'  style='display:none;'><param name='host_url' value='https%3A%2F%2Fpublic.tableau.com%2F' /> <param name='embed_code_version' value='3' /> <param name='site_root' value='' /><param name='name' value='EOMBFDashboard&#47;Dashboard4' /><param name='tabs' value='no' /><param name='toolbar' value='yes' /><param name='static_image' value='https:&#47;&#47;public.tableau.com&#47;static&#47;images&#47;EO&#47;EOMBFDashboard&#47;Dashboard4&#47;1.png' /> <param name='animate_transition' value='yes' /><param name='display_static_image' value='yes' /><param name='display_spinner' value='yes' /><param name='display_overlay' value='yes' /><param name='display_count' value='yes' /><param name='language' value='en-US' /><param name='filter' value='publish=yes' /></object></div>                <script type='text/javascript'>                    var divElement = document.getElementById('viz1715027993014');                    var vizElement = divElement.getElementsByTagName('object')[0];                    if ( divElement.offsetWidth > 800 ) { vizElement.style.width='1200px';vizElement.style.height='1127px';} else if ( divElement.offsetWidth > 500 ) { vizElement.style.width='1200px';vizElement.style.height='1127px';} else { vizElement.style.width='100%';vizElement.style.height='1427px';}                     var scriptElement = document.createElement('script');                    scriptElement.src = 'https://public.tableau.com/javascripts/api/viz_v1.js';                    vizElement.parentNode.insertBefore(scriptElement, vizElement);                </script>\n"
      ],
      "text/plain": [
       "<IPython.core.display.HTML object>"
      ]
     },
     "metadata": {},
     "output_type": "display_data"
    }
   ],
   "source": [
    "%%HTML\n",
    "<div class='tableauPlaceholder' id='viz1715027993014' style='position: relative'><noscript><a href='#'><img alt='US Tax Exempt Organizations At A Glance ' src='https:&#47;&#47;public.tableau.com&#47;static&#47;images&#47;EO&#47;EOMBFDashboard&#47;Dashboard4&#47;1_rss.png' style='border: none' /></a></noscript><object class='tableauViz'  style='display:none;'><param name='host_url' value='https%3A%2F%2Fpublic.tableau.com%2F' /> <param name='embed_code_version' value='3' /> <param name='site_root' value='' /><param name='name' value='EOMBFDashboard&#47;Dashboard4' /><param name='tabs' value='no' /><param name='toolbar' value='yes' /><param name='static_image' value='https:&#47;&#47;public.tableau.com&#47;static&#47;images&#47;EO&#47;EOMBFDashboard&#47;Dashboard4&#47;1.png' /> <param name='animate_transition' value='yes' /><param name='display_static_image' value='yes' /><param name='display_spinner' value='yes' /><param name='display_overlay' value='yes' /><param name='display_count' value='yes' /><param name='language' value='en-US' /><param name='filter' value='publish=yes' /></object></div>                <script type='text/javascript'>                    var divElement = document.getElementById('viz1715027993014');                    var vizElement = divElement.getElementsByTagName('object')[0];                    if ( divElement.offsetWidth > 800 ) { vizElement.style.width='1200px';vizElement.style.height='1127px';} else if ( divElement.offsetWidth > 500 ) { vizElement.style.width='1200px';vizElement.style.height='1127px';} else { vizElement.style.width='100%';vizElement.style.height='1427px';}                     var scriptElement = document.createElement('script');                    scriptElement.src = 'https://public.tableau.com/javascripts/api/viz_v1.js';                    vizElement.parentNode.insertBefore(scriptElement, vizElement);                </script>"
   ]
  },
  {
   "cell_type": "markdown",
   "metadata": {},
   "source": [
    "## Research Questions: Environmental Focus in Nonprofit Organizations\n",
    "(For additional inquiries or suggestions, please contact Amelia)\n",
    "\n",
    "1. What proportion of philanthropic organizations are classified under <span title=\"Where NTEE = XXX\">environmental justice</span>?\n",
    "2. How are <span title=\"where NTEE = Environment\">environmental nonprofit organizations</span> distributed across different 3. geographical areas?\n",
    "4. What are the different <span title=\"sub NTEE Environment codes\">types of environmental activities</span> conducted by philanthropic organizations?\n",
    "5. Depending on data resources: analyze temporal trends - \n",
    "   1. What are the **<span title=\"Formation and financial\">growth trends</span>** in philanthropic organizations over the past 5 years?\n",
    "   2. What activities are seeing the most growth? "
   ]
  }
 ],
 "metadata": {
  "kernelspec": {
   "display_name": "t_up",
   "language": "python",
   "name": "python3"
  },
  "language_info": {
   "codemirror_mode": {
    "name": "ipython",
    "version": 3
   },
   "file_extension": ".py",
   "mimetype": "text/x-python",
   "name": "python",
   "nbconvert_exporter": "python",
   "pygments_lexer": "ipython3",
   "version": "3.9.18"
  }
 },
 "nbformat": 4,
 "nbformat_minor": 2
}
