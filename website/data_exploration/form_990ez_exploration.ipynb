{
 "cells": [
  {
   "cell_type": "raw",
   "metadata": {},
   "source": [
    "---\n",
    "title: \"2022 Form 990ez Data Report\"\n",
    "author: \"Amelia Baier\"\n",
    "date: \"2024-03-29\"\n",
    "format: \n",
    "  html:\n",
    "    toc: true\n",
    "    toc-depth: 3\n",
    "    toc-title: \"Table of Contents\"\n",
    "    embed-resources: true\n",
    "    warnings: false\n",
    "    code-fold: true\n",
    "execute:\n",
    "  echo: true\n",
    "---"
   ]
  },
  {
   "cell_type": "markdown",
   "metadata": {},
   "source": [
    "# 1. Introduction\n",
    "\n",
    "This document aims to perform an initial exploration of the features and values within the Form 990ez to identify relevant variables for a detailed analysis of philanthropic giving within the environmental and social justice sectors. Additionally, we intend to assess the level of transparency and accountability of various organizations, leveraging the data provided by the form 990ez to inform our inquiry.\n",
    "\n",
    "Form 990 is a detailed annual information return filed by larger tax-exempt organizations with gross receipts over $200,000 or total assets over $500,000, providing comprehensive insights into their finances, governance, and operations. Form 990-EZ is a simpler, shorter form for smaller organizations with gross receipts less than $200,000 and total assets less than $500,000, requiring less detailed information. This file was pulled from https://www.irs.gov/statistics/soi-tax-stats-annual-extract-of-tax-exempt-organization-financial-data.\n"
   ]
  },
  {
   "cell_type": "markdown",
   "metadata": {},
   "source": [
    "# 2. First Glance"
   ]
  },
  {
   "cell_type": "markdown",
   "metadata": {},
   "source": [
    "## 2.1. General Summary"
   ]
  },
  {
   "cell_type": "code",
   "execution_count": 3,
   "metadata": {},
   "outputs": [
    {
     "data": {
      "text/markdown": [
       "Data Dimensions:\n",
       "\n",
       "| Dimension   | Count   |\n",
       "|:------------|:--------|\n",
       "| Rows        | 231,289 |\n",
       "| Columns     | 72      |"
      ],
      "text/plain": [
       "<IPython.core.display.Markdown object>"
      ]
     },
     "metadata": {},
     "output_type": "display_data"
    },
    {
     "data": {
      "text/markdown": [
       "First Five Rows of Data:\n",
       "\n",
       "| efile   |      ein |   taxpd |   subseccd |   totcntrbs |   prgmservrev |   duesassesmnts |   othrinvstinc |   grsamtsalesastothr |   basisalesexpnsothr |   gnsaleofastothr |   grsincgaming |   grsrevnuefndrsng |   direxpns |   netincfndrsng |   grsalesminusret |   costgoodsold |   grsprft |   othrevnue |   totrevnue |   totexpns |   totexcessyr |   othrchgsnetassetfnd |   networthend |   totassetsend |   totliabend |   totnetassetsend | actvtynotprevrptcd   | chngsinorgcd   | unrelbusincd   | filedf990tcd   | contractioncd   |   politicalexpend | filedf1120polcd   | loanstoofficerscd   |   loanstoofficers |   initiationfee |   grspublicrcpts | s4958excessbenefcd   | prohibtdtxshltrcd   |   nonpfrea |   totnoforgscnt |   totsupport |   gftgrntrcvd170 |   txrevnuelevied170 |   srvcsval170 |   pubsuppsubtot170 |   excds2pct170 |   pubsupplesspct170 |   samepubsuppsubtot170 |   grsinc170 |   netincunrelatd170 |   othrinc170 |   totsupport170 |   grsrcptsrelatd170 |   totgftgrntrcvd509 |   grsrcptsadmiss509 |   grsrcptsactvts509 |   txrevnuelevied509 |   srvcsval509 |   pubsuppsubtot509 |   rcvdfrmdisqualsub509 |   excds1pct509 |   subtotpub509 |   pubsupplesssub509 |   samepubsuppsubtot509 |   grsinc509 |   unreltxincls511tx509 |   subtotsuppinc509 |   netincunreltd509 |   othrinc509 |   totsupp509 |\n",
       "|:--------|---------:|--------:|-----------:|------------:|--------------:|----------------:|---------------:|---------------------:|---------------------:|------------------:|---------------:|-------------------:|-----------:|----------------:|------------------:|---------------:|----------:|------------:|------------:|-----------:|--------------:|----------------------:|--------------:|---------------:|-------------:|------------------:|:---------------------|:---------------|:---------------|:---------------|:----------------|------------------:|:------------------|:--------------------|------------------:|----------------:|-----------------:|:---------------------|:--------------------|-----------:|----------------:|-------------:|-----------------:|--------------------:|--------------:|-------------------:|---------------:|--------------------:|-----------------------:|------------:|--------------------:|-------------:|----------------:|--------------------:|--------------------:|--------------------:|--------------------:|--------------------:|--------------:|-------------------:|-----------------------:|---------------:|---------------:|--------------------:|-----------------------:|------------:|-----------------------:|-------------------:|-------------------:|-------------:|-------------:|\n",
       "| P       | 10011694 |  201609 |          3 |           0 |          4677 |            3866 |             36 |                    0 |                    0 |                 0 |              0 |                  0 |          0 |               0 |              2754 |            820 |      1934 |           0 |       10513 |       6528 |          3985 |                     0 |         29135 |          29135 |            0 |             29135 | N                    | N              | N              | N              | N               |                 0 | N                 | N                   |                 0 |               0 |                0 | N                    | N                   |         09 |               0 |            0 |                0 |                   0 |             0 |                  0 |              0 |                   0 |                      0 |           0 |                   0 |            0 |               0 |                   0 |               18214 |               31347 |                   0 |                   0 |             0 |              49561 |                  12520 |              0 |          12520 |               37041 |                  49561 |         286 |                      0 |                286 |                  0 |            0 |        49847 |\n",
       "| P       | 10011694 |  201709 |          3 |           0 |          3089 |            2060 |             18 |                    0 |                    0 |                 0 |              0 |                  0 |          0 |               0 |              2659 |            782 |      1877 |           0 |        7044 |       8505 |         -1461 |                     0 |         27674 |          27674 |            0 |             27674 | N                    | N              | N              | N              | N               |                 0 | N                 | N                   |                 0 |               0 |                0 | N                    | N                   |         09 |               0 |            0 |                0 |                   0 |             0 |                  0 |              0 |                   0 |                      0 |           0 |                   0 |            0 |               0 |                   0 |               16429 |               30873 |                   0 |                   0 |             0 |              47302 |                  12548 |              0 |          12548 |               34754 |                  47302 |         280 |                      0 |                280 |                  0 |            0 |        47582 |\n",
       "| P       | 10011694 |  201809 |          3 |           0 |          4041 |            2540 |             18 |                    0 |                    0 |                 0 |              0 |                  0 |          0 |               0 |              2359 |            685 |      1674 |           0 |        8273 |       6813 |          1460 |                     0 |         29134 |          29134 |            0 |             29134 | N                    | N              | N              | N              | N               |                 0 | N                 | N                   |                 0 |               0 |                0 | N                    | N                   |         09 |               0 |            0 |                0 |                   0 |             0 |                  0 |              0 |                   0 |                      0 |           0 |                   0 |            0 |               0 |                   0 |               15626 |               31483 |                   0 |                   0 |             0 |              47109 |                  12764 |              0 |          12764 |               34345 |                  47109 |         169 |                      0 |                169 |                  0 |            0 |        47278 |\n",
       "| P       | 10011694 |  201909 |          3 |           0 |          3182 |            2205 |             19 |                    0 |                    0 |                 0 |              0 |                  0 |          0 |               0 |              4303 |           1282 |      3021 |           0 |        8427 |       6292 |          2135 |                     0 |         31269 |          31269 |            0 |             31269 | N                    | N              | N              | N              | N               |                 0 | N                 | N                   |                 0 |               0 |                0 | N                    | N                   |         09 |               0 |            0 |                0 |                   0 |             0 |                  0 |              0 |                   0 |                      0 |           0 |                   0 |            0 |               0 |                   0 |               14301 |               31988 |                   0 |                   0 |             0 |              46289 |                  12980 |              0 |          12980 |               33309 |                  46289 |         133 |                      0 |                133 |                  0 |            0 |        46422 |\n",
       "| P       | 10011694 |  202009 |          3 |           0 |          2795 |            3670 |             20 |                    0 |                    0 |                 0 |              0 |                  0 |          0 |               0 |              2668 |            821 |      1847 |           0 |        8332 |       6410 |          1922 |                     0 |         33191 |          33191 |            0 |             33191 | N                    | N              | N              | N              | N               |                 0 | N                 | N                   |                 0 |               0 |                0 | N                    | N                   |         09 |               0 |            0 |                0 |                   0 |             0 |                  0 |              0 |                   0 |                      0 |           0 |                   0 |            0 |               0 |                   0 |               14341 |               32527 |                   0 |                   0 |             0 |              46868 |                  13196 |              0 |          13196 |               33672 |                  46868 |         111 |                      0 |              46979 |                  0 |            0 |        93847 |"
      ],
      "text/plain": [
       "<IPython.core.display.Markdown object>"
      ]
     },
     "metadata": {},
     "output_type": "display_data"
    },
    {
     "data": {
      "text/markdown": [
       "Metadata:\n",
       "\n",
       "| Column Name          | Data Type   | Unique Values   |   Missing Values |\n",
       "|:---------------------|:------------|:----------------|-----------------:|\n",
       "| efile                | object      | 2               |                0 |\n",
       "| ein                  | int64       | 193,368         |                0 |\n",
       "| taxpd                | int64       | 135             |                0 |\n",
       "| subseccd             | int64       | 21              |                0 |\n",
       "| totcntrbs            | int64       | 81,399          |                0 |\n",
       "| prgmservrev          | int64       | 46,383          |                0 |\n",
       "| duesassesmnts        | int64       | 35,288          |                0 |\n",
       "| othrinvstinc         | int64       | 10,793          |                0 |\n",
       "| grsamtsalesastothr   | int64       | 5,385           |                0 |\n",
       "| basisalesexpnsothr   | int64       | 4,367           |                0 |\n",
       "| gnsaleofastothr      | int64       | 5,664           |                0 |\n",
       "| grsincgaming         | int64       | 5,552           |                0 |\n",
       "| grsrevnuefndrsng     | int64       | 32,208          |                0 |\n",
       "| direxpns             | int64       | 24,630          |                0 |\n",
       "| netincfndrsng        | int64       | 31,952          |                0 |\n",
       "| grsalesminusret      | int64       | 14,448          |                0 |\n",
       "| costgoodsold         | int64       | 12,260          |                0 |\n",
       "| grsprft              | int64       | 13,607          |                0 |\n",
       "| othrevnue            | int64       | 16,269          |                0 |\n",
       "| totrevnue            | int64       | 116,060         |                0 |\n",
       "| totexpns             | int64       | 109,593         |                0 |\n",
       "| totexcessyr          | int64       | 79,479          |                0 |\n",
       "| othrchgsnetassetfnd  | int64       | 17,822          |                0 |\n",
       "| networthend          | int64       | 137,153         |                0 |\n",
       "| totassetsend         | int64       | 134,036         |                0 |\n",
       "| totliabend           | int64       | 27,815          |                0 |\n",
       "| totnetassetsend      | int64       | 135,989         |                0 |\n",
       "| actvtynotprevrptcd   | object      | 2               |                0 |\n",
       "| chngsinorgcd         | object      | 2               |                0 |\n",
       "| unrelbusincd         | object      | 2               |                0 |\n",
       "| filedf990tcd         | object      | 2               |                0 |\n",
       "| contractioncd        | object      | 2               |                0 |\n",
       "| politicalexpend      | int64       | 262             |                0 |\n",
       "| filedf1120polcd      | object      | 2               |                0 |\n",
       "| loanstoofficerscd    | object      | 2               |                0 |\n",
       "| loanstoofficers      | int64       | 2,094           |                0 |\n",
       "| initiationfee        | int64       | 1,029           |                0 |\n",
       "| grspublicrcpts       | int64       | 578             |                0 |\n",
       "| s4958excessbenefcd   | object      | 2               |                0 |\n",
       "| prohibtdtxshltrcd    | object      | 2               |                0 |\n",
       "| nonpfrea             | object      | 17              |                0 |\n",
       "| totnoforgscnt        | int64       | 33              |                0 |\n",
       "| totsupport           | int64       | 1,835           |                0 |\n",
       "| gftgrntrcvd170       | int64       | 54,437          |                0 |\n",
       "| txrevnuelevied170    | int64       | 885             |                0 |\n",
       "| srvcsval170          | int64       | 694             |                0 |\n",
       "| pubsuppsubtot170     | int64       | 54,584          |                0 |\n",
       "| excds2pct170         | int64       | 12,624          |                0 |\n",
       "| pubsupplesspct170    | int64       | 53,976          |                0 |\n",
       "| samepubsuppsubtot170 | int64       | 54,520          |                0 |\n",
       "| grsinc170            | int64       | 7,407           |                0 |\n",
       "| netincunrelatd170    | int64       | 1,460           |                0 |\n",
       "| othrinc170           | int64       | 7,046           |                0 |\n",
       "| totsupport170        | int64       | 55,217          |                0 |\n",
       "| grsrcptsrelatd170    | int64       | 12,105          |                0 |\n",
       "| totgftgrntrcvd509    | int64       | 78,532          |                0 |\n",
       "| grsrcptsadmiss509    | int64       | 47,665          |                0 |\n",
       "| grsrcptsactvts509    | int64       | 9,524           |                0 |\n",
       "| txrevnuelevied509    | int64       | 544             |                0 |\n",
       "| srvcsval509          | int64       | 443             |                0 |\n",
       "| pubsuppsubtot509     | int64       | 88,070          |                0 |\n",
       "| rcvdfrmdisqualsub509 | int64       | 4,257           |                0 |\n",
       "| excds1pct509         | int64       | 2,061           |                0 |\n",
       "| subtotpub509         | int64       | 5,791           |                0 |\n",
       "| pubsupplesssub509    | int64       | 87,340          |                0 |\n",
       "| samepubsuppsubtot509 | int64       | 87,962          |                0 |\n",
       "| grsinc509            | int64       | 9,159           |                0 |\n",
       "| unreltxincls511tx509 | int64       | 399             |                0 |\n",
       "| subtotsuppinc509     | int64       | 9,270           |                0 |\n",
       "| netincunreltd509     | int64       | 1,443           |                0 |\n",
       "| othrinc509           | int64       | 6,167           |                0 |\n",
       "| totsupp509           | int64       | 88,360          |                0 |"
      ],
      "text/plain": [
       "<IPython.core.display.Markdown object>"
      ]
     },
     "metadata": {},
     "output_type": "display_data"
    }
   ],
   "source": [
    "# Libraries for data manipulation.\n",
    "import pandas as pd\n",
    "import numpy as np\n",
    "\n",
    "# Libraries for data visualisation.\n",
    "import matplotlib.pyplot as plt\n",
    "import seaborn as sns\n",
    "import plotly.express as px\n",
    "import plotly.io as pio\n",
    "\n",
    "# Libraries for quarto rending\n",
    "from IPython.display import Markdown,display\n",
    "from tabulate import tabulate\n",
    "import plotly.io as pio\n",
    "\n",
    "# Remove warnings.\n",
    "import warnings\n",
    "warnings.filterwarnings(\"ignore\", category=UserWarning)\n",
    "\n",
    "# Read in data.\n",
    "form_990_2022ez = pd.read_csv('../../data/22eoextractez.csv')\n",
    "\n",
    "# Print data dimensions.\n",
    "shape_caption = \"Data Dimensions:\"\n",
    "shape_df = pd.DataFrame({\n",
    "        'Dimension': ['Rows','Columns'],\n",
    "        'Count': [form_990_2022ez.shape[0], form_990_2022ez.shape[1]]\n",
    "    })\n",
    "shape_df['Count'] = shape_df['Count'].apply(lambda x: f\"{x:,}\")\n",
    "shape_markdown = shape_caption + \"\\n\\n\" + shape_df.to_markdown(index=False)\n",
    "display(Markdown(shape_markdown))\n",
    "\n",
    "# Print a sample of the data.\n",
    "first_five_rows_caption = \"First Five Rows of Data:\"\n",
    "first_five_rows_markdown = first_five_rows_caption + \"\\n\\n\" + form_990_2022ez.head().to_markdown(index=False)\n",
    "display(Markdown(first_five_rows_markdown))\n",
    "\n",
    "# Print metadata.\n",
    "metadata_caption = \"Metadata:\"\n",
    "column_metadata = []\n",
    "\n",
    "for col in form_990_2022ez.columns:\n",
    "    # Gather metadata for each col.\n",
    "    col_metadata = {\n",
    "        'Column Name': col,\n",
    "        'Data Type': str(form_990_2022ez[col].dtype),\n",
    "        'Unique Values': form_990_2022ez[col].nunique(),\n",
    "        'Missing Values': form_990_2022ez[col].isnull().sum()\n",
    "    }\n",
    "    # Append metadata to list.\n",
    "    column_metadata.append(col_metadata)\n",
    "\n",
    "# Convert list to pd df and then markdown table.\n",
    "metadata_df = pd.DataFrame(column_metadata)\n",
    "metadata_df['Unique Values'] = metadata_df['Unique Values'].apply(lambda x: f\"{x:,}\")\n",
    "metadata_df['Missing Values'] = metadata_df['Missing Values'].apply(lambda x: f\"{x:,}\")\n",
    "metadata_markdown = metadata_caption + \"\\n\\n\" + metadata_df.to_markdown(index=False)\n",
    "display(Markdown(metadata_markdown))"
   ]
  },
  {
   "cell_type": "markdown",
   "metadata": {},
   "source": [
    "# 3. Data Preparation\n",
    "\n",
    "In this section, we detail the initial steps taken to prepare the 990ez Form from the IRS for analysis. Our goals are to ensure consistency in column naming, handle missing values appropriately, and convert data into formats that are suitable for our analytical needs. Please click the drop down arrow for more details on code used to achieve this."
   ]
  },
  {
   "cell_type": "code",
   "execution_count": 4,
   "metadata": {},
   "outputs": [
    {
     "name": "stdout",
     "output_type": "stream",
     "text": [
      "(231289, 72)\n",
      "(193368, 72)\n"
     ]
    },
    {
     "data": {
      "text/plain": [
       "'Cleaned data sample view:'"
      ]
     },
     "metadata": {},
     "output_type": "display_data"
    },
    {
     "data": {
      "text/html": [
       "<div>\n",
       "<style scoped>\n",
       "    .dataframe tbody tr th:only-of-type {\n",
       "        vertical-align: middle;\n",
       "    }\n",
       "\n",
       "    .dataframe tbody tr th {\n",
       "        vertical-align: top;\n",
       "    }\n",
       "\n",
       "    .dataframe thead th {\n",
       "        text-align: right;\n",
       "    }\n",
       "</style>\n",
       "<table border=\"1\" class=\"dataframe\">\n",
       "  <thead>\n",
       "    <tr style=\"text-align: right;\">\n",
       "      <th></th>\n",
       "      <th>efile</th>\n",
       "      <th>ein</th>\n",
       "      <th>taxpd</th>\n",
       "      <th>subseccd</th>\n",
       "      <th>totcntrbs</th>\n",
       "      <th>prgmservrev</th>\n",
       "      <th>duesassesmnts</th>\n",
       "      <th>othrinvstinc</th>\n",
       "      <th>grsamtsalesastothr</th>\n",
       "      <th>basisalesexpnsothr</th>\n",
       "      <th>...</th>\n",
       "      <th>excds1pct509</th>\n",
       "      <th>subtotpub509</th>\n",
       "      <th>pubsupplesssub509</th>\n",
       "      <th>samepubsuppsubtot509</th>\n",
       "      <th>grsinc509</th>\n",
       "      <th>unreltxincls511tx509</th>\n",
       "      <th>subtotsuppinc509</th>\n",
       "      <th>netincunreltd509</th>\n",
       "      <th>othrinc509</th>\n",
       "      <th>totsupp509</th>\n",
       "    </tr>\n",
       "  </thead>\n",
       "  <tbody>\n",
       "    <tr>\n",
       "      <th>217119</th>\n",
       "      <td>P</td>\n",
       "      <td>900401808</td>\n",
       "      <td>2000-05-01</td>\n",
       "      <td>3</td>\n",
       "      <td>40038</td>\n",
       "      <td>0</td>\n",
       "      <td>0</td>\n",
       "      <td>0</td>\n",
       "      <td>0</td>\n",
       "      <td>0</td>\n",
       "      <td>...</td>\n",
       "      <td>0</td>\n",
       "      <td>0</td>\n",
       "      <td>0</td>\n",
       "      <td>0</td>\n",
       "      <td>0</td>\n",
       "      <td>0</td>\n",
       "      <td>0</td>\n",
       "      <td>0</td>\n",
       "      <td>0</td>\n",
       "      <td>0</td>\n",
       "    </tr>\n",
       "    <tr>\n",
       "      <th>62095</th>\n",
       "      <td>P</td>\n",
       "      <td>300358343</td>\n",
       "      <td>2002-03-01</td>\n",
       "      <td>3</td>\n",
       "      <td>27687</td>\n",
       "      <td>0</td>\n",
       "      <td>0</td>\n",
       "      <td>0</td>\n",
       "      <td>0</td>\n",
       "      <td>0</td>\n",
       "      <td>...</td>\n",
       "      <td>0</td>\n",
       "      <td>0</td>\n",
       "      <td>0</td>\n",
       "      <td>0</td>\n",
       "      <td>0</td>\n",
       "      <td>0</td>\n",
       "      <td>0</td>\n",
       "      <td>0</td>\n",
       "      <td>0</td>\n",
       "      <td>0</td>\n",
       "    </tr>\n",
       "    <tr>\n",
       "      <th>70027</th>\n",
       "      <td>P</td>\n",
       "      <td>331204761</td>\n",
       "      <td>2006-06-01</td>\n",
       "      <td>3</td>\n",
       "      <td>1925</td>\n",
       "      <td>0</td>\n",
       "      <td>0</td>\n",
       "      <td>0</td>\n",
       "      <td>0</td>\n",
       "      <td>0</td>\n",
       "      <td>...</td>\n",
       "      <td>0</td>\n",
       "      <td>0</td>\n",
       "      <td>156604</td>\n",
       "      <td>156604</td>\n",
       "      <td>0</td>\n",
       "      <td>0</td>\n",
       "      <td>0</td>\n",
       "      <td>0</td>\n",
       "      <td>0</td>\n",
       "      <td>156604</td>\n",
       "    </tr>\n",
       "    <tr>\n",
       "      <th>139749</th>\n",
       "      <td>P</td>\n",
       "      <td>581645905</td>\n",
       "      <td>2008-12-01</td>\n",
       "      <td>4</td>\n",
       "      <td>0</td>\n",
       "      <td>0</td>\n",
       "      <td>123725</td>\n",
       "      <td>557</td>\n",
       "      <td>0</td>\n",
       "      <td>0</td>\n",
       "      <td>...</td>\n",
       "      <td>0</td>\n",
       "      <td>0</td>\n",
       "      <td>0</td>\n",
       "      <td>0</td>\n",
       "      <td>0</td>\n",
       "      <td>0</td>\n",
       "      <td>0</td>\n",
       "      <td>0</td>\n",
       "      <td>0</td>\n",
       "      <td>0</td>\n",
       "    </tr>\n",
       "    <tr>\n",
       "      <th>162698</th>\n",
       "      <td>P</td>\n",
       "      <td>760694653</td>\n",
       "      <td>2008-12-01</td>\n",
       "      <td>12</td>\n",
       "      <td>0</td>\n",
       "      <td>185788</td>\n",
       "      <td>900</td>\n",
       "      <td>7698</td>\n",
       "      <td>0</td>\n",
       "      <td>0</td>\n",
       "      <td>...</td>\n",
       "      <td>0</td>\n",
       "      <td>0</td>\n",
       "      <td>0</td>\n",
       "      <td>0</td>\n",
       "      <td>0</td>\n",
       "      <td>0</td>\n",
       "      <td>0</td>\n",
       "      <td>0</td>\n",
       "      <td>0</td>\n",
       "      <td>0</td>\n",
       "    </tr>\n",
       "  </tbody>\n",
       "</table>\n",
       "<p>5 rows × 72 columns</p>\n",
       "</div>"
      ],
      "text/plain": [
       "       efile        ein      taxpd  subseccd  totcntrbs  prgmservrev  \\\n",
       "217119     P  900401808 2000-05-01         3      40038            0   \n",
       "62095      P  300358343 2002-03-01         3      27687            0   \n",
       "70027      P  331204761 2006-06-01         3       1925            0   \n",
       "139749     P  581645905 2008-12-01         4          0            0   \n",
       "162698     P  760694653 2008-12-01        12          0       185788   \n",
       "\n",
       "        duesassesmnts  othrinvstinc  grsamtsalesastothr  basisalesexpnsothr  \\\n",
       "217119              0             0                   0                   0   \n",
       "62095               0             0                   0                   0   \n",
       "70027               0             0                   0                   0   \n",
       "139749         123725           557                   0                   0   \n",
       "162698            900          7698                   0                   0   \n",
       "\n",
       "        ...  excds1pct509  subtotpub509  pubsupplesssub509  \\\n",
       "217119  ...             0             0                  0   \n",
       "62095   ...             0             0                  0   \n",
       "70027   ...             0             0             156604   \n",
       "139749  ...             0             0                  0   \n",
       "162698  ...             0             0                  0   \n",
       "\n",
       "        samepubsuppsubtot509  grsinc509  unreltxincls511tx509  \\\n",
       "217119                     0          0                     0   \n",
       "62095                      0          0                     0   \n",
       "70027                 156604          0                     0   \n",
       "139749                     0          0                     0   \n",
       "162698                     0          0                     0   \n",
       "\n",
       "        subtotsuppinc509  netincunreltd509  othrinc509  totsupp509  \n",
       "217119                 0                 0           0           0  \n",
       "62095                  0                 0           0           0  \n",
       "70027                  0                 0           0      156604  \n",
       "139749                 0                 0           0           0  \n",
       "162698                 0                 0           0           0  \n",
       "\n",
       "[5 rows x 72 columns]"
      ]
     },
     "metadata": {},
     "output_type": "display_data"
    }
   ],
   "source": [
    "# Standardize column names.\n",
    "form_990_2022ez.columns = [x.lower() for x in form_990_2022ez.columns]\n",
    "\n",
    "# Replace zeros with NaN for appropriate columns.\n",
    "\n",
    "# Replace NaN with appropriate values accordingly.\n",
    "\n",
    "# Convert columns to appropriate data types.\n",
    "date_cols = ['taxpd']\n",
    "for col in date_cols:\n",
    "    form_990_2022ez[col] = pd.to_datetime(form_990_2022ez[col].astype(str).str.replace('\\.0$', '', regex=True), format='%Y%m', errors='coerce')\n",
    "\n",
    "# # Convert dtype for appropriate columns.\n",
    "form_990_2022ez['ein'] = form_990_2022ez['ein'].astype(str).str.replace('\\.0$', '', regex=True)\n",
    "\n",
    "# # Drop duplicates by keeping last tax_pd date.\n",
    "form_990_2022ez = form_990_2022ez.sort_values('taxpd').drop_duplicates('ein', keep='last')\n",
    "\n",
    "head_caption = \"Cleaned data sample view:\"\n",
    "head_df = form_990_2022ez.head().copy()\n",
    "head_markdown = head_caption + \"\\n\\n\" + head_df.to_markdown(index=False)\n",
    "display(head_caption,head_df)\n"
   ]
  },
  {
   "cell_type": "markdown",
   "metadata": {},
   "source": [
    "# 4. Analysis\n",
    "Objective: Determine if the 990ez Form can be used to conduct a comprehensive analysis of existing philanthropic giving in environmental and social justice. Additionally, can it be used to assess the level of transparency and accountability in current giving practices?\n"
   ]
  },
  {
   "cell_type": "markdown",
   "metadata": {},
   "source": [
    "## 4.1. Indentifying Relevant Organizations\n",
    "The 990ez Form can be filtered to reflect organizations by their codes (reflecting their primary mission), enabling the identification of nonprofits focused on environmental protection, social justice, advocacy, and related activities. This step is crucial for creating a focused dataset of relevant organizations for our objective above.\n",
    "\n",
    "The next order of data transformation should involve filtering the 990ez Form in the same manner as the Exempt Organizations Business Master File and 990 Form.\n",
    "\n",
    "**Action item**: Review with team to determine which column makes the most sense to use to filter relevant orgs. Options include:\n",
    "* Subection and Classification codes.\n",
    "* National Taxonomy of Exempt Entities (NTEE) codes (many are missing unfortunately).\n",
    "* Foundation codes.\n",
    "* Activity codes (most likely not useful since becoming obsolete with the adoption of the NTEE coding system in January 1995)."
   ]
  },
  {
   "cell_type": "code",
   "execution_count": null,
   "metadata": {},
   "outputs": [],
   "source": [
    "# Insert code here for appropriate filtering if necessary."
   ]
  },
  {
   "cell_type": "markdown",
   "metadata": {},
   "source": [
    "## 4.2 Philanthropic Giving Analysis\n",
    "\n",
    "Below are general topics that may be extracted from the data from a variety of fields to further our understanding of philanthropic giving. \n",
    "\n",
    "* Financial contributions and grants: Indicate the volume of philanthropic contributions received and an overview of the scale of philanthropic giving the organization is involved in.\n",
    "* Revenue from related activities: Provide insight into how these activities contribute to the organization's overall funding and its mission focus."
   ]
  },
  {
   "cell_type": "code",
   "execution_count": 6,
   "metadata": {},
   "outputs": [],
   "source": [
    "def display_head(df, columns, new_column_names, caption):\n",
    "    head_df = df[columns].head().rename(columns=new_column_names)\n",
    "    head_markdown = f\"{caption}\\n\\n{head_df.to_markdown(index=False)}\"\n",
    "    display(Markdown(head_markdown))\n",
    "def display_unique_values(df, columns, new_column_names, caption):\n",
    "    unique_val_df = df[columns].value_counts().reset_index()\n",
    "    unique_val_df.rename(columns=new_column_names, inplace=True)\n",
    "    uni_markdown = f\"{caption}\\n\\n{unique_val_df.to_markdown(index=False)}\"\n",
    "    display(Markdown(uni_markdown))"
   ]
  },
  {
   "cell_type": "markdown",
   "metadata": {},
   "source": [
    "### 4.2.1 Financial contributions and grants\n",
    "\n",
    "Related data fields and their descriptions:\n",
    "\n",
    "* gftgrntrcvd170:\tGifts grants membership fees received (170)\n",
    "* totcntrbs:\tContributions, gifts, grants, etc received"
   ]
  },
  {
   "cell_type": "code",
   "execution_count": 7,
   "metadata": {},
   "outputs": [
    {
     "data": {
      "text/markdown": [
       "Example of financial contributions and grants columns:\n",
       "\n",
       "|       EIN |   Gifts grants membership fees received (170) |   Contributions, gifts, grants, etc received |\n",
       "|----------:|----------------------------------------------:|---------------------------------------------:|\n",
       "| 900401808 |                                        449308 |                                        40038 |\n",
       "| 300358343 |                                        117583 |                                        27687 |\n",
       "| 331204761 |                                             0 |                                         1925 |\n",
       "| 581645905 |                                             0 |                                            0 |\n",
       "| 760694653 |                                             0 |                                            0 |"
      ],
      "text/plain": [
       "<IPython.core.display.Markdown object>"
      ]
     },
     "metadata": {},
     "output_type": "display_data"
    }
   ],
   "source": [
    "head_columns = ['ein','gftgrntrcvd170','totcntrbs']\n",
    "head_new_names = {'ein': 'EIN', 'gftgrntrcvd170': 'Gifts grants membership fees received (170)','totcntrbs':'Contributions, gifts, grants, etc received'}\n",
    "display_head(form_990_2022ez, head_columns, head_new_names, \"Example of financial contributions and grants columns:\")\n",
    "\n"
   ]
  },
  {
   "cell_type": "markdown",
   "metadata": {},
   "source": [
    "### 4.2.2 Revenue from related activities\n",
    "\n",
    "Related data fields and their descriptions:\n",
    "\n",
    "* prgmservrev:\tProgram service revenue\n",
    "* grspublicrcpts: Gross receipts for public use of club facilities"
   ]
  },
  {
   "cell_type": "code",
   "execution_count": 9,
   "metadata": {},
   "outputs": [
    {
     "data": {
      "text/markdown": [
       "Example of revenue from related activities data:\n",
       "\n",
       "|       EIN |   program service revenue |   Gross receipts for public use of club facilities |\n",
       "|----------:|--------------------------:|---------------------------------------------------:|\n",
       "| 900401808 |                         0 |                                                  0 |\n",
       "| 300358343 |                         0 |                                                  0 |\n",
       "| 331204761 |                         0 |                                                  0 |\n",
       "| 581645905 |                         0 |                                                  0 |\n",
       "| 760694653 |                    185788 |                                                  0 |"
      ],
      "text/plain": [
       "<IPython.core.display.Markdown object>"
      ]
     },
     "metadata": {},
     "output_type": "display_data"
    }
   ],
   "source": [
    "head_columns = ['ein','prgmservrev','grspublicrcpts']\n",
    "head_new_names = {'ein': 'EIN', 'prgmservrev': 'program service revenue','grspublicrcpts':'Gross receipts for public use of club facilities'}\n",
    "display_head(form_990_2022ez, head_columns, head_new_names, \"Example of revenue from related activities data:\")\n",
    "\n"
   ]
  },
  {
   "cell_type": "markdown",
   "metadata": {},
   "source": [
    "### 4.2.2 Expenses and allocations\n",
    "\n",
    "Related data fields and their descriptions:\n",
    "\n",
    "* totexpns:\tTotal expenses\n",
    "* direxpns: Special events direct expenses"
   ]
  },
  {
   "cell_type": "code",
   "execution_count": 11,
   "metadata": {},
   "outputs": [
    {
     "data": {
      "text/markdown": [
       "Example of expenses and allocations data:\n",
       "\n",
       "|       EIN |   Total expenses |   Special events direct expenses |\n",
       "|----------:|-----------------:|---------------------------------:|\n",
       "| 900401808 |            39875 |                                0 |\n",
       "| 300358343 |                0 |                                0 |\n",
       "| 331204761 |             4293 |                            25788 |\n",
       "| 581645905 |           121887 |                                0 |\n",
       "| 760694653 |           111156 |                                0 |"
      ],
      "text/plain": [
       "<IPython.core.display.Markdown object>"
      ]
     },
     "metadata": {},
     "output_type": "display_data"
    }
   ],
   "source": [
    "head_columns = ['ein','totexpns','direxpns']\n",
    "head_new_names = {'ein': 'EIN', 'totexpns': 'Total expenses','direxpns':'Special events direct expenses'}\n",
    "display_head(form_990_2022ez, head_columns, head_new_names, \"Example of expenses and allocations data:\")\n",
    "\n"
   ]
  }
 ],
 "metadata": {
  "kernelspec": {
   "display_name": "t_up",
   "language": "python",
   "name": "python3"
  },
  "language_info": {
   "codemirror_mode": {
    "name": "ipython",
    "version": 3
   },
   "file_extension": ".py",
   "mimetype": "text/x-python",
   "name": "python",
   "nbconvert_exporter": "python",
   "pygments_lexer": "ipython3",
   "version": "3.9.18"
  }
 },
 "nbformat": 4,
 "nbformat_minor": 2
}
