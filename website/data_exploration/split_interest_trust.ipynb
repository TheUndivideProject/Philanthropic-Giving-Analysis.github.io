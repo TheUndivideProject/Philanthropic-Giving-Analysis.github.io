{
 "cells": [
  {
   "cell_type": "raw",
   "metadata": {},
   "source": [
    "---\n",
    "title: \"2020 Split Interest Form\"\n",
    "author: \"Amelia Baier\"\n",
    "date: \"2024-04-02\"\n",
    "format: \n",
    "  html:\n",
    "    toc: true\n",
    "    toc-depth: 3\n",
    "    toc-title: \"Table of Contents\"\n",
    "    embed-resources: true\n",
    "    warnings: false\n",
    "    code-fold: true\n",
    "execute:\n",
    "  echo: true\n",
    "---"
   ]
  },
  {
   "cell_type": "markdown",
   "metadata": {},
   "source": [
    "# 1. Introduction\n",
    "\n",
    "Split Interest Trust Data collected from Forms 5227, or Split-Interest Trust Information Returns, pertain to specific types of trusts known as split-interest trusts. These are financial entities where the trust's benefits are divided (or \"split\") between two different types of beneficiaries. Typically, one set of benefits goes to a non-charitable beneficiary (like an individual or a family member) for a specified period, and the other set of benefits goes to a charitable organization, either for a different period or in perpetuity.\n",
    "\n",
    "The IRS Form 5227 is used by split-interest trusts to report income, deductions, and credits to the IRS. This form is essential for ensuring that these trusts comply with tax laws and regulations, and it helps the IRS monitor the activities and financial health of these entities. This file was pulled from https://www.irs.gov/charities-non-profits/exempt-organizations-business-master-file-extract-eo-bmf\n"
   ]
  },
  {
   "cell_type": "markdown",
   "metadata": {},
   "source": [
    "# 2. First Glance"
   ]
  },
  {
   "cell_type": "markdown",
   "metadata": {},
   "source": [
    "## 2.1. General Summary"
   ]
  },
  {
   "cell_type": "code",
   "execution_count": 12,
   "metadata": {},
   "outputs": [
    {
     "name": "stderr",
     "output_type": "stream",
     "text": [
      "/var/folders/79/jdv69xcs22z7cyxln5rsbzzh0000gn/T/ipykernel_29601/183015497.py:21: DtypeWarning: Columns (168,191,192,249,269) have mixed types. Specify dtype option on import or set low_memory=False.\n",
      "  split_interest = pd.read_csv('../../data/sit-2020.csv')\n"
     ]
    },
    {
     "data": {
      "text/markdown": [
       "Data Dimensions:\n",
       "\n",
       "| Dimension   | Count   |\n",
       "|:------------|:--------|\n",
       "| Rows        | 92,186  |\n",
       "| Columns     | 315     |"
      ],
      "text/plain": [
       "<IPython.core.display.Markdown object>"
      ]
     },
     "metadata": {},
     "output_type": "display_data"
    },
    {
     "data": {
      "text/markdown": [
       "First Five Rows of Data:\n",
       "\n",
       "|   PRIMARY_TIN_TYP_CD |     EIN |   ESTABLISHED_PRD | CHECK_DIGIT_CD   | NAME_CNTRL_CD   |   COLL_LOC_CD |   ULC_CD |   MF_AO_CD |   SMALL_BUS_AO_CD |   PRIMARY_ZIP_CD |   FR_941_CD |   FR_1120_CD |   FR_720_CD |   FR_1041_CD |   FR_1065_CD |   FR_1066_CD |   FR_8804_CD |   FR_CT1_CD |   FR_940_CD |   FR_943_CD |   FR_1042_CD |   FR_944_CD |   FR_8752_CD |   FR_945_CD |   FR_990T_CD |   FR_1041A_CD |   FR_5227_CD |   FR_3520A_CD |   FR_990PF_CD |   FR_4720_CD |   FR_709_CD |   FR_706_CD |   FR_2290_CD |   FR_11C_CD |   FR_730_CD |   FR_990_CD |   FR_3520_CD |   FR_706GS_T_CD |   FR_706GS_D_CD |   UNIFIED_CUM_AMT |   CAF_CNT |   NAICS_CD |   NAICS_VAL_CD |   NAICS_YR |   RRB_NUM |   NUM_PARTNERS_CNT |   F1065_PTR_TAX_PRD |   SOLE_PROP_SSN_NUM |   OFFICER_TIN_NUM |   PARENT_EIN |   LATEST_709_PRD |   TEFRA_MFT_CD |   TEFRA_PRD |   ADR_CHANGE_PRD |   PETITION_DT |   SEHI_CREDIT_45R_1ST_YR |   SEHI_CREDIT_45R_2ND_YR |   TC520_CC6X_DT |   BUSINESS_PRD |   BUSINESS_CLOSE_DT |   WAGES_PRD |   WAGES_LAST_DT |   CFOL_UPDT_PRD |   FTD_DEPOSIT_YR |   FTD_HIS_DEPOSIT_YR |   LEVY_HEARING_DT |   TC971_AC954_YR |   MEMO_SW_CD |   TDA_TDI_IND |   TDA_CD |   TDI_IND |   SW941_CD |   TC52X_CD |   SW910_CD |   IND637_CD |   TC74X_CD |   C_CORP_CD |   INVALID_SSN_CD |   REVAL_SSN_CD |   OFFSET_CD |   SW918_IND |   TC148_CD |   SW914_CD |   ACT_CD |   SW1120_CD |   BANKRUPT_FLC_CD |   SW53_CD |   TC530_UNREV_CD |   TC530_UNRV_CC19_CD |   NON_53_TDA_CD |   DOC_87_CD |   SW720_CD |   IDRS_CD |   TC130_CD |   TC844_CD |   IDRS_ACT_CD |   FCIC_CD |   TC59X_CD |   FTD_ALERT_CD |   OVERFLOW_CD |   EO_STAT_CD |   CLOSE_53_CD |   IDRS_JJ_CD |   UPC_359_IND |   AIMS_CD |   HARDSHIP_CD |   IMF_FILING_CD |   IND_2032A_CD |   CSED_CD |   EOMF_CD |   TAX_SHELTER_IND |   AUDIT_HISTORY_CD |   CMS_CD |   DMF_CD |   PMF_CD |   FM_8123_CD |   FM_CT1_CD |   SW1042_CD |   SW940_CD |   SW943_CD |   OIC_YR |   TC06X_CD |   OPENING_DO_CD |   SC_JURISDICTION_CD |   CC84_CD |   BAL_DUE_IND |   ES_PENALTY_CD |   PDT_IND |   SW597_IND |   NANNY_TAX_CD |   TCMP_CD |   F944_CD |   LRA136_CD |   LARGE_CORP_CD |   TCMP_CYCLE_CD |   TC09X_NUM |   FISCAL_PRD |   PR_FY_MON_NUM |   DELQ_HISTORY_CD |   ERIS_CD |   STATUS_58_CD |   LPS_ACT_IND |   BANKRUPT_LOC_CD |   STATUS_26_CD |   STATUS_02_CD |   RTN_1_CD |   RTN_2_CD |   RTN_3_CD |   RTN_4_CD |   RTN_5_CD |   MRS_CD |   BMFOL_CYCLE_CD |   BMFOL_ACTIVE_CD |   CEP_IND |   DISASTER_CD |   F990T_EO_ORG_CD |   CORP_990T_IND |   GATT_CD |   VENDOR_CD |   DMF_FRZ_CD |   TC076_CD | MF_BOD_CD   | BOD_CLIENT_CD   |   MAN_BOD_CLIENT_IND |   FM941_TDA_TDI_CD |   LEVY_SW_CD |   EFTPS_84_CD |   EFTPS_85_CD |   EMPLOYMENT_CD |   CD_48_IND |   TC520_CC6X_IND |   COLL_LOC_IND |   TC08X_CP_IND |   NY_PENT_TERR_CD |   TOT_1065_1120_CD |   FRZ_916_CD |   ACT_RET_PENSION_CD |   ERO_IND |   EFTP_FTD_ABATE_IND |   IND527_CD |   F8872_TYPE_CD |   F8872_PR_CD |   FINAL_8872_CD |   KATRINA_CD |   TEL_EX_TAX_REF_CD |   F944_BS6_CD |   TETR_424_CD |   LIEN_CD |   F944_BYPS_CD |   SWCP148_CD |   F990_PF_REP_IND |   LLC_IND |   FOREIGN_CNTRY_CD |   COBRA_ASSIST_CD |   UNDEL_ADR_CD |   UNDEL_CD |   CORP_FTP_CD |   APPL_LG_EMPLR_CD |   DOJ_CD |   IDENTITY_THEFT_CD |   PRIVATE_DEBT_COLLECTION_CD |   DAILY_DELQ_PNLTY_501C_CD |   PRIV_DEBT_COLL_TP_AUTH_NUM |   INDIV_ESTATE_IND |   AC754_IND |   HIST_FIDO_CD |   HIST_TDA_PRM_DO_CD |   HIST_PRIM_DO |   PRIOR_SOLE_PROP_SSN_NUM |   SOLE_PROP_SCH_PRD |   PRIOR_PRIN_OWNER_TRUST_TIN |   PRIN_TIN_ORD |   F944_FRC_CYMN8_CD |   F944_FRC_CYMN7_CD |   F944_FRC_CYMN6_CD |   F944_FRC_CYMN5_CD |   F944_FRC_CYMN4_CD |   F944_FRC_CYMN3_CD |   F944_FRC_CYMN2_CD |   F944_FRC_CYMN1_CD |   F944_FRC_CY_CD |   F944_FRC_CYPL1_CD |   RAF_FL940_CD |   RAF_FL941_CD |   RAF_FL943_CD |   RAF_FL944_CD |   RAF_FL945_CD |   RAF_FLCT1_CD |   RAF_FL1042_CD |   EFTPS_940_CD |   EFTPS_941_CD |   EFTPS_943_CD |   EFTPS_944_CD |   EFTPS_945_CD |   EFTPS_CT1_CD |   EFTPS_720_CD |   EFTPS_1042_CD |   EFTPS_FCORP_CD |   GEOGRAPHIC_CD | OLD_NM_CNTRL_CD   | PRIMARY_STATE_CD   | PRIMARY_CITY_NM   | PRIMARY_ADR   | PRIMARY_NM                        | PRIMARY_CONT_NM                |   SORT_NM | CARE_OF_NM                       |   LOCATION_ADR |   LOCATION_CONT_ADR |   FOREIGN_ADR |   AO_CD |   GRP_EXEMPT_NUM |   CURR_SUBSECT_CD |   PRIOR_SUBSECT_CD |   AFFILIATION_CD |   CLASSIFICATION_CD |   ORGANIZING_DT |   REGISTRATION_DT |   RULING_PRD |   DEDUCT_CD |   DEDUCT_YR |   CURR_FOUNDATION_CD |   PR_FOUNDATION_CD |   BMF_ACTIVITY_CD |   ORGANIZATION_CD |   FILE_FOLDER_NUM |   PENSION_PLAN_CD |   ADV_RULING_PRD |   TEAM_EXPRG_CASE_CD |   NTEE_CD |   HOSP_CD |   LOBBY_CD |   LOBBY_ELECT_YR |   ASSET_CD |   INCOME_CD |   RTN_TAX_YR |   CURR_STATUS_CD |   CURR_STATUS_PRD |   PRIOR_STATUS_CD |   PRIOR_STATUS_PRD |   ZIP_9_CD |   ZIP_5_CD |   ZIP_3_CD | REC_LOAD_DT   |   CHAR_TIN |   ASSET_AMT |   INCOME_AMT |   Name |   ICO |   Sort_Name |   Street |   rx |   matchpos |   matchpos2 |   matchpos3 |   matchpos4 |   Old_Name |   SSNFMT_NAME |   Old_ICO |   SSNFMT_ICO |   Old_Sort_Name |   SSNFMT_SORTNAME |   Old_Street |   SSNFMT_STREET |   Strng_Length |   Nmbr_Before |   Nmbr_After |   Name_9Dig |   ICO_9Dig |   Sort_Name_9Dig |   Street_9Dig |   DIG9_NAME |   DIG9_ICO |   DIG9_SORTNAME |   DIG9_STREET |\n",
       "|---------------------:|--------:|------------------:|:-----------------|:----------------|--------------:|---------:|-----------:|------------------:|-----------------:|------------:|-------------:|------------:|-------------:|-------------:|-------------:|-------------:|------------:|------------:|------------:|-------------:|------------:|-------------:|------------:|-------------:|--------------:|-------------:|--------------:|--------------:|-------------:|------------:|------------:|-------------:|------------:|------------:|------------:|-------------:|----------------:|----------------:|------------------:|----------:|-----------:|---------------:|-----------:|----------:|-------------------:|--------------------:|--------------------:|------------------:|-------------:|-----------------:|---------------:|------------:|-----------------:|--------------:|-------------------------:|-------------------------:|----------------:|---------------:|--------------------:|------------:|----------------:|----------------:|-----------------:|---------------------:|------------------:|-----------------:|-------------:|--------------:|---------:|----------:|-----------:|-----------:|-----------:|------------:|-----------:|------------:|-----------------:|---------------:|------------:|------------:|-----------:|-----------:|---------:|------------:|------------------:|----------:|-----------------:|---------------------:|----------------:|------------:|-----------:|----------:|-----------:|-----------:|--------------:|----------:|-----------:|---------------:|--------------:|-------------:|--------------:|-------------:|--------------:|----------:|--------------:|----------------:|---------------:|----------:|----------:|------------------:|-------------------:|---------:|---------:|---------:|-------------:|------------:|------------:|-----------:|-----------:|---------:|-----------:|----------------:|---------------------:|----------:|--------------:|----------------:|----------:|------------:|---------------:|----------:|----------:|------------:|----------------:|----------------:|------------:|-------------:|----------------:|------------------:|----------:|---------------:|--------------:|------------------:|---------------:|---------------:|-----------:|-----------:|-----------:|-----------:|-----------:|---------:|-----------------:|------------------:|----------:|--------------:|------------------:|----------------:|----------:|------------:|-------------:|-----------:|:------------|:----------------|---------------------:|-------------------:|-------------:|--------------:|--------------:|----------------:|------------:|-----------------:|---------------:|---------------:|------------------:|-------------------:|-------------:|---------------------:|----------:|---------------------:|------------:|----------------:|--------------:|----------------:|-------------:|--------------------:|--------------:|--------------:|----------:|---------------:|-------------:|------------------:|----------:|-------------------:|------------------:|---------------:|-----------:|--------------:|-------------------:|---------:|--------------------:|-----------------------------:|---------------------------:|-----------------------------:|-------------------:|------------:|---------------:|---------------------:|---------------:|--------------------------:|--------------------:|-----------------------------:|---------------:|--------------------:|--------------------:|--------------------:|--------------------:|--------------------:|--------------------:|--------------------:|--------------------:|-----------------:|--------------------:|---------------:|---------------:|---------------:|---------------:|---------------:|---------------:|----------------:|---------------:|---------------:|---------------:|---------------:|---------------:|---------------:|---------------:|----------------:|-----------------:|----------------:|:------------------|:-------------------|:------------------|:--------------|:----------------------------------|:-------------------------------|----------:|:---------------------------------|---------------:|--------------------:|--------------:|--------:|-----------------:|------------------:|-------------------:|-----------------:|--------------------:|----------------:|------------------:|-------------:|------------:|------------:|---------------------:|-------------------:|------------------:|------------------:|------------------:|------------------:|-----------------:|---------------------:|----------:|----------:|-----------:|-----------------:|-----------:|------------:|-------------:|-----------------:|------------------:|------------------:|-------------------:|-----------:|-----------:|-----------:|:--------------|-----------:|------------:|-------------:|-------:|------:|------------:|---------:|-----:|-----------:|------------:|------------:|------------:|-----------:|--------------:|----------:|-------------:|----------------:|------------------:|-------------:|----------------:|---------------:|--------------:|-------------:|------------:|-----------:|-----------------:|--------------:|------------:|-----------:|----------------:|--------------:|\n",
       "|                    2 | 2001555 |            197112 | UI               | OAKE            |             0 |        1 |        nan |                21 |      44015108025 |           0 |            0 |           0 |            0 |            0 |            0 |            0 |           0 |           0 |           0 |            0 |           0 |            0 |           0 |            0 |             0 |            0 |             0 |             0 |            0 |           0 |           0 |            0 |           0 |           0 |           0 |            0 |               0 |               0 |                 0 |         0 |     813000 |              5 |       1988 |         0 |                  0 |                   0 |                   0 |                 0 |            0 |                0 |              0 |           0 |           200640 |           nan |                        0 |                        0 |             nan |              0 |                 nan |           0 |             nan |          202203 |                0 |                    0 |               nan |                0 |            0 |             0 |        0 |         0 |          0 |          0 |          0 |           0 |          0 |           0 |                0 |              0 |           0 |           0 |          0 |          0 |        1 |           0 |                 0 |         0 |                0 |                    0 |               0 |           0 |          0 |         0 |          0 |          0 |             0 |         0 |          0 |              0 |             0 |            2 |             0 |            0 |             0 |         0 |             0 |               0 |              0 |         0 |         0 |                 0 |                  0 |        0 |        0 |        0 |            0 |           0 |           0 |          0 |          0 |        0 |          0 |               1 |                    0 |         0 |             0 |               0 |         0 |           0 |              0 |         0 |         0 |           0 |               0 |               0 |           0 |       198504 |               0 |                 0 |         0 |              0 |             0 |                 0 |              0 |              0 |          0 |          0 |          0 |          0 |          0 |        0 |                0 |                 0 |         0 |             4 |                 0 |               0 |         0 |           0 |            0 |          0 | TE          | B               |                    0 |                  0 |            0 |             0 |             0 |             nan |           0 |                0 |              0 |              0 |                 0 |                  0 |            0 |                    0 |         0 |                    0 |           0 |               0 |             0 |               0 |            0 |                   0 |             0 |             0 |         0 |              0 |            0 |                 0 |       nan |                nan |                 0 |              0 |          0 |             0 |                  0 |        0 |                   0 |                            0 |                          0 |                            0 |                  0 |           0 |              1 |                    0 |              4 |                         0 |                   0 |                            0 |              0 |                 nan |                 nan |                 nan |                 nan |                 nan |                 nan |                 nan |                 nan |              nan |                 nan |              0 |              0 |              0 |              0 |              0 |              0 |               0 |              0 |              0 |              0 |              0 |              0 |              0 |              0 |               0 |                0 |               0 | nan               | ME                 | BANGOR            | 2 HAMMOND ST  | MYRTICE OAKES TR UW NECT          | nan                            |       nan | % MERRILL TR CO TTEE             |            nan |                 nan |           nan |       1 |                0 |                90 |                  0 |                0 |                1000 |             nan |               nan |       197012 |           0 |           0 |                    0 |                  0 |         909000000 |                 2 |          40000000 |                 2 |                0 |                    0 |       nan |         0 |          0 |                0 |          0 |           0 |         1970 |               12 |            197305 |               nan |                  0 |   44015108 |       4401 |         44 | 2022-01-21    | 2002001555 |         nan |          nan |    nan |   nan |         nan |      nan |  nan |        nan |         nan |         nan |         nan |        nan |           nan |       nan |          nan |             nan |               nan |          nan |             nan |            nan |           nan |          nan |         nan |        nan |              nan |           nan |         nan |        nan |             nan |           nan |\n",
       "|                    2 | 2032809 |            197606 | SJ               | HISP            |             0 |       13 |        nan |                21 |     100192701991 |           0 |            0 |           0 |            0 |            0 |            0 |            0 |           0 |           0 |           0 |            0 |           0 |            0 |           0 |            0 |             0 |            0 |             0 |             0 |            0 |           0 |           0 |            0 |           0 |           0 |           0 |            0 |               0 |               0 |                 0 |         0 |     813000 |              5 |       1981 |         0 |                  0 |                   0 |                   0 |                 0 |            0 |                0 |              0 |           0 |           200639 |           nan |                        0 |                        0 |             nan |              0 |                 nan |           0 |             nan |          202206 |                0 |                    0 |               nan |                0 |            0 |             0 |        0 |         0 |          0 |          0 |          0 |           0 |          0 |           0 |                0 |              0 |           0 |           0 |          0 |          0 |        1 |           0 |                 0 |         0 |                0 |                    0 |               0 |           0 |          0 |         0 |          0 |          0 |             0 |         0 |          0 |              0 |             0 |            2 |             0 |            0 |             0 |         0 |             0 |               0 |              0 |         0 |         0 |                 0 |                  0 |        0 |        0 |        0 |            0 |           0 |           0 |          0 |          0 |        0 |          0 |              13 |                    0 |         0 |             0 |               0 |         0 |           0 |              0 |         0 |         0 |           0 |               0 |               0 |           0 |       198412 |               0 |                 0 |         0 |              0 |             0 |                 0 |              0 |              0 |          0 |          0 |          0 |          0 |          0 |        0 |                0 |                 0 |         0 |             4 |                 0 |               0 |         0 |           0 |            0 |          0 | TE          | B               |                    0 |                  0 |            0 |             0 |             0 |             nan |           0 |                0 |              0 |              0 |                 1 |                  0 |            0 |                    0 |         0 |                    0 |           0 |               0 |             0 |               0 |            0 |                   0 |             0 |             0 |         0 |              0 |            0 |                 0 |       nan |                nan |                 0 |              0 |          0 |             0 |                  0 |        0 |                   0 |                            0 |                          0 |                            0 |                  0 |           0 |             13 |                    0 |             13 |                         0 |                   0 |                            0 |              0 |                 nan |                 nan |                 nan |                 nan |                 nan |                 nan |                 nan |                 nan |              nan |                 nan |              0 |              0 |              0 |              0 |              0 |              0 |               0 |              0 |              0 |              0 |              0 |              0 |              0 |              0 |               0 |                0 |               0 | nan               | NY                 | NEW YORK          | 9 W 57TH ST   | HISPANIC SOCIETY OF AMERICA TRUST | NECT                           |       nan | % MORGAN GUARANTY TRUST COMPANY  |            nan |                 nan |           nan |       1 |                0 |                90 |                  0 |                0 |                1000 |             nan |               nan |       197605 |           0 |           0 |                    0 |                  0 |         909000000 |                 2 |         130000000 |                 2 |                0 |                    0 |       nan |         0 |          0 |                0 |          0 |           0 |            0 |               12 |            197605 |               nan |                  0 |  100192701 |      10019 |        100 | 2022-02-11    | 2002032809 |         nan |          nan |    nan |   nan |         nan |      nan |  nan |        nan |         nan |         nan |         nan |        nan |           nan |       nan |          nan |             nan |               nan |          nan |             nan |            nan |           nan |          nan |         nan |        nan |              nan |           nan |         nan |        nan |             nan |           nan |\n",
       "|                    2 | 2126212 |            197710 | KT               | BONT            |             0 |       35 |        nan |                24 |     468020000000 |           0 |            0 |           0 |            0 |            0 |            0 |            0 |           0 |           0 |           0 |            0 |           0 |            0 |           0 |            0 |             0 |            0 |             0 |             0 |            0 |           0 |           0 |            0 |           0 |           0 |           0 |            0 |               0 |               0 |                 0 |         0 |     813000 |              5 |       1982 |         0 |                  0 |                   0 |                   0 |                 0 |            0 |                0 |              0 |           0 |           200637 |           nan |                        0 |                        0 |             nan |              0 |                 nan |           0 |             nan |          202203 |                0 |                    0 |               nan |                0 |            0 |             0 |        0 |         0 |          0 |          0 |          0 |           0 |          0 |           0 |                0 |              0 |           0 |           0 |          0 |          0 |        1 |           1 |                 0 |         0 |                0 |                    0 |               0 |           0 |          0 |         0 |          0 |          0 |             0 |         0 |          0 |              0 |             0 |            2 |             0 |            0 |             0 |         0 |             0 |               0 |              0 |         0 |         0 |                 0 |                  0 |        0 |        0 |        0 |            0 |           0 |           0 |          0 |          0 |        0 |          0 |              35 |                    0 |         0 |             0 |               0 |         0 |           0 |              0 |         0 |         0 |           0 |               0 |               0 |           0 |       198609 |               0 |                 0 |         0 |              0 |             0 |                 0 |              0 |              0 |          0 |          0 |          0 |          0 |          0 |        0 |                0 |                 0 |         0 |             4 |                 0 |               0 |         0 |           0 |            0 |          0 | TE          | B               |                    0 |                  0 |            0 |             0 |             0 |             nan |           0 |                0 |              0 |              0 |                 0 |                  0 |            0 |                    0 |         0 |                    0 |           0 |               0 |             0 |               0 |            0 |                   0 |             0 |             0 |         0 |              0 |            0 |                 0 |       nan |                nan |                 0 |              0 |          0 |             0 |                  0 |        0 |                   0 |                            0 |                          0 |                            0 |                  0 |           0 |             35 |                    0 |             35 |                         0 |                   0 |                            0 |              0 |                 nan |                 nan |                 nan |                 nan |                 nan |                 nan |                 nan |                 nan |              nan |                 nan |              0 |              0 |              0 |              0 |              0 |              0 |               0 |              0 |              0 |              0 |              0 |              0 |              0 |              0 |               0 |                0 |               0 | CAST              | IN                 | FORT WAYNE        | LOCAL         | LOUISE BONTER UNITRUST FBO JESSIE | FRANCES CASTLE                 |       nan | % FORT WAYNE NATIONAL BANK       |            nan |                 nan |           nan |       3 |                0 |                90 |                  0 |                0 |                1000 |             nan |               nan |       197710 |           0 |           0 |                    0 |                  0 |         928000000 |                 2 |         310000000 |                 2 |                0 |                    0 |       nan |         0 |          0 |                0 |          4 |           3 |         1981 |               12 |            197710 |               nan |                  0 |  468020000 |      46802 |        468 | 2022-01-21    | 2002126212 |         nan |          nan |    nan |   nan |         nan |      nan |  nan |        nan |         nan |         nan |         nan |        nan |           nan |       nan |          nan |             nan |               nan |          nan |             nan |            nan |           nan |          nan |         nan |        nan |              nan |           nan |         nan |        nan |             nan |           nan |\n",
       "|                    2 | 2190092 |            197112 | CU               | JARV            |             0 |       13 |        nan |                21 |     100202302992 |           0 |            0 |           0 |            0 |            0 |            0 |            0 |           0 |           0 |           0 |            0 |           0 |            0 |           0 |            0 |             0 |            0 |             0 |             0 |            0 |           0 |           0 |            0 |           0 |           0 |           0 |            0 |               0 |               0 |                 0 |         0 |     813000 |              5 |       1985 |         0 |                  0 |                   0 |                   0 |                 0 |            0 |                0 |              0 |           0 |           200637 |           nan |                        0 |                        0 |             nan |              0 |                 nan |           0 |             nan |          202206 |                0 |                    0 |               nan |                0 |            0 |             0 |        0 |         0 |          0 |          0 |          0 |           0 |          0 |           0 |                0 |              0 |           0 |           0 |          0 |          0 |        1 |           1 |                 0 |         0 |                0 |                    0 |               0 |           0 |          0 |         0 |          0 |          0 |             0 |         0 |          0 |              0 |             0 |            2 |             0 |            0 |             0 |         0 |             0 |               0 |              0 |         0 |         0 |                 0 |                  0 |        0 |        0 |        0 |            0 |           0 |           0 |          0 |          0 |        0 |          0 |              13 |                    0 |         0 |             0 |               0 |         0 |           0 |              0 |         0 |         0 |           0 |               0 |               0 |           0 |       198512 |               0 |                 0 |         0 |              0 |             0 |                 0 |              0 |              0 |          0 |          0 |          0 |          0 |          0 |        0 |                0 |                 0 |         0 |             4 |                 0 |               0 |         0 |           0 |            0 |          0 | TE          | B               |                    0 |                  0 |            0 |             0 |             0 |             nan |           0 |                0 |              0 |              0 |                 1 |                  0 |            0 |                    0 |         0 |                    0 |           0 |               0 |             0 |               0 |            0 |                   0 |             0 |             0 |         0 |              0 |            0 |                 0 |       nan |                nan |                 0 |              0 |          0 |             0 |                  0 |        0 |                   0 |                            0 |                          0 |                            0 |                  0 |           0 |             13 |                    0 |             13 |                         0 |                   0 |                            0 |              0 |                 nan |                 nan |                 nan |                 nan |                 nan |                 nan |                 nan |                 nan |              nan |                 nan |              0 |              0 |              0 |              0 |              0 |              0 |               0 |              0 |              0 |              0 |              0 |              0 |              0 |              0 |               0 |                0 |               0 | JAVI              | NY                 | NEW YORK          | 600 FIFTH AVE | JAMES N JARVIE TRUST UW PAR 14 FB | JERUSALEM YMCA BUILDING ISRAEL |       nan | % MANUFACTURERS HANOVER TRUST CO |            nan |                 nan |           nan |       1 |                0 |                90 |                  0 |                0 |                1000 |             nan |               nan |       197012 |           0 |           0 |                    0 |                  0 |         909000000 |                 2 |         130000000 |                 2 |                0 |                    0 |       nan |         0 |          0 |                0 |          0 |           0 |         1970 |               12 |            197308 |               nan |                  0 |  100202302 |      10020 |        100 | 2022-02-11    | 2002190092 |         nan |          nan |    nan |   nan |         nan |      nan |  nan |        nan |         nan |         nan |         nan |        nan |           nan |       nan |          nan |             nan |               nan |          nan |             nan |            nan |           nan |          nan |         nan |        nan |              nan |           nan |         nan |        nan |             nan |           nan |\n",
       "|                    2 | 2209021 |            197903 | WQ               | HAMM            |             0 |       56 |        nan |                23 |     273490000000 |           0 |            0 |           0 |            0 |            0 |            0 |            0 |           0 |           0 |           0 |            0 |           0 |            0 |           0 |            0 |             0 |            0 |             0 |             0 |            0 |           0 |           0 |            0 |           0 |           0 |           0 |            0 |               0 |               0 |                 0 |         0 |     999000 |              5 |       1983 |         0 |                  0 |                   0 |                   0 |                 0 |            0 |                0 |              0 |           0 |           200636 |           nan |                        0 |                        0 |             nan |              0 |                 nan |           0 |             nan |          202241 |                0 |                    0 |               nan |                0 |            0 |             0 |        0 |         0 |          0 |          0 |          0 |           0 |          0 |           0 |                0 |              0 |           0 |           0 |          0 |          0 |        1 |           0 |                 0 |         0 |                0 |                    0 |               0 |           0 |          0 |         0 |          0 |          0 |             0 |         0 |          0 |              0 |             0 |            2 |             0 |            0 |             0 |         0 |             0 |               0 |              0 |         0 |         0 |                 0 |                  0 |        0 |        0 |        0 |            0 |           0 |           0 |          0 |          0 |        0 |          0 |              56 |                    0 |         0 |             0 |               0 |         0 |           0 |              0 |         0 |         0 |           0 |               0 |               0 |           0 |       198312 |               0 |                 0 |         0 |              0 |             0 |                 0 |              0 |              0 |          0 |          0 |          0 |          0 |          0 |        0 |                0 |                 0 |         0 |             5 |                 0 |               0 |         0 |           0 |            0 |          0 | TE          | B               |                    0 |                  0 |            0 |             0 |             0 |             nan |           0 |                0 |              0 |              0 |                 0 |                  0 |            0 |                    0 |         0 |                    0 |           0 |               0 |             0 |               0 |            0 |                   0 |             0 |             0 |         0 |              0 |            0 |                 0 |       nan |                nan |                 0 |              0 |          0 |             0 |                  0 |        0 |                   0 |                            0 |                          0 |                            0 |                  0 |           0 |             56 |                    0 |             56 |                         0 |                   0 |                            0 |              0 |                 nan |                 nan |                 nan |                 nan |                 nan |                 nan |                 nan |                 nan |              nan |                 nan |              0 |              0 |              0 |              0 |              0 |              0 |               0 |              0 |              0 |              0 |              0 |              0 |              0 |              0 |               0 |                0 |               0 | nan               | NC                 | SNOW CAMP         | LOCAL         | HAMMER TRUST                      | nan                            |       nan | % A W MOON JR                    |            nan |                 nan |           nan |       2 |                0 |                90 |                  0 |                0 |                1000 |             nan |               nan |            0 |           0 |           0 |                    0 |                  0 |                 0 |                 5 |         580001038 |                 0 |                0 |                    0 |       nan |         0 |          0 |                0 |          5 |           4 |         1977 |               12 |            198207 |                 4 |             198201 |  273490000 |      27349 |        273 | 2022-10-14    | 2002209021 |         nan |          nan |    nan |   nan |         nan |      nan |  nan |        nan |         nan |         nan |         nan |        nan |           nan |       nan |          nan |             nan |               nan |          nan |             nan |            nan |           nan |          nan |         nan |        nan |              nan |           nan |         nan |        nan |             nan |           nan |"
      ],
      "text/plain": [
       "<IPython.core.display.Markdown object>"
      ]
     },
     "metadata": {},
     "output_type": "display_data"
    },
    {
     "data": {
      "text/markdown": [
       "Metadata:\n",
       "\n",
       "| Column Name                | Data Type   | Unique Values   | Missing Values   |\n",
       "|:---------------------------|:------------|:----------------|:-----------------|\n",
       "| PRIMARY_TIN_TYP_CD         | int64       | 1               | 0                |\n",
       "| EIN                        | int64       | 92,186          | 0                |\n",
       "| ESTABLISHED_PRD            | int64       | 632             | 0                |\n",
       "| CHECK_DIGIT_CD             | object      | 528             | 188              |\n",
       "| NAME_CNTRL_CD              | object      | 15,678          | 0                |\n",
       "| COLL_LOC_CD                | int64       | 9               | 0                |\n",
       "| ULC_CD                     | int64       | 66              | 0                |\n",
       "| MF_AO_CD                   | float64     | 0               | 92,186           |\n",
       "| SMALL_BUS_AO_CD            | int64       | 8               | 0                |\n",
       "| PRIMARY_ZIP_CD             | int64       | 42,253          | 0                |\n",
       "| FR_941_CD                  | int64       | 5               | 0                |\n",
       "| FR_1120_CD                 | int64       | 4               | 0                |\n",
       "| FR_720_CD                  | int64       | 5               | 0                |\n",
       "| FR_1041_CD                 | int64       | 5               | 0                |\n",
       "| FR_1065_CD                 | int64       | 2               | 0                |\n",
       "| FR_1066_CD                 | int64       | 2               | 0                |\n",
       "| FR_8804_CD                 | int64       | 2               | 0                |\n",
       "| FR_CT1_CD                  | int64       | 3               | 0                |\n",
       "| FR_940_CD                  | int64       | 3               | 0                |\n",
       "| FR_943_CD                  | int64       | 3               | 0                |\n",
       "| FR_1042_CD                 | int64       | 3               | 0                |\n",
       "| FR_944_CD                  | int64       | 3               | 0                |\n",
       "| FR_8752_CD                 | int64       | 2               | 0                |\n",
       "| FR_945_CD                  | int64       | 3               | 0                |\n",
       "| FR_990T_CD                 | int64       | 3               | 0                |\n",
       "| FR_1041A_CD                | int64       | 3               | 0                |\n",
       "| FR_5227_CD                 | int64       | 4               | 0                |\n",
       "| FR_3520A_CD                | int64       | 3               | 0                |\n",
       "| FR_990PF_CD                | int64       | 2               | 0                |\n",
       "| FR_4720_CD                 | int64       | 3               | 0                |\n",
       "| FR_709_CD                  | int64       | 2               | 0                |\n",
       "| FR_706_CD                  | int64       | 2               | 0                |\n",
       "| FR_2290_CD                 | int64       | 3               | 0                |\n",
       "| FR_11C_CD                  | int64       | 2               | 0                |\n",
       "| FR_730_CD                  | int64       | 2               | 0                |\n",
       "| FR_990_CD                  | int64       | 3               | 0                |\n",
       "| FR_3520_CD                 | int64       | 3               | 0                |\n",
       "| FR_706GS_T_CD              | int64       | 3               | 0                |\n",
       "| FR_706GS_D_CD              | int64       | 3               | 0                |\n",
       "| UNIFIED_CUM_AMT            | int64       | 1               | 0                |\n",
       "| CAF_CNT                    | int64       | 100             | 0                |\n",
       "| NAICS_CD                   | int64       | 86              | 0                |\n",
       "| NAICS_VAL_CD               | int64       | 7               | 0                |\n",
       "| NAICS_YR                   | int64       | 42              | 0                |\n",
       "| RRB_NUM                    | int64       | 1               | 0                |\n",
       "| NUM_PARTNERS_CNT           | int64       | 3               | 0                |\n",
       "| F1065_PTR_TAX_PRD          | int64       | 3               | 0                |\n",
       "| SOLE_PROP_SSN_NUM          | int64       | 1               | 0                |\n",
       "| OFFICER_TIN_NUM            | int64       | 33,765          | 0                |\n",
       "| PARENT_EIN                 | int64       | 13              | 0                |\n",
       "| LATEST_709_PRD             | int64       | 1               | 0                |\n",
       "| TEFRA_MFT_CD               | int64       | 2               | 0                |\n",
       "| TEFRA_PRD                  | int64       | 2               | 0                |\n",
       "| ADR_CHANGE_PRD             | int64       | 1,004           | 0                |\n",
       "| PETITION_DT                | float64     | 1               | 92,185           |\n",
       "| SEHI_CREDIT_45R_1ST_YR     | int64       | 1               | 0                |\n",
       "| SEHI_CREDIT_45R_2ND_YR     | int64       | 1               | 0                |\n",
       "| TC520_CC6X_DT              | float64     | 0               | 92,186           |\n",
       "| BUSINESS_PRD               | int64       | 448             | 0                |\n",
       "| BUSINESS_CLOSE_DT          | float64     | 1               | 92,168           |\n",
       "| WAGES_PRD                  | int64       | 119             | 0                |\n",
       "| WAGES_LAST_DT              | float64     | 1               | 92,184           |\n",
       "| CFOL_UPDT_PRD              | int64       | 347             | 0                |\n",
       "| FTD_DEPOSIT_YR             | int64       | 10              | 0                |\n",
       "| FTD_HIS_DEPOSIT_YR         | int64       | 4               | 0                |\n",
       "| LEVY_HEARING_DT            | float64     | 1               | 92,185           |\n",
       "| TC971_AC954_YR             | int64       | 1               | 0                |\n",
       "| MEMO_SW_CD                 | int64       | 2               | 0                |\n",
       "| TDA_TDI_IND                | int64       | 2               | 0                |\n",
       "| TDA_CD                     | int64       | 2               | 0                |\n",
       "| TDI_IND                    | int64       | 2               | 0                |\n",
       "| SW941_CD                   | int64       | 2               | 0                |\n",
       "| TC52X_CD                   | int64       | 1               | 0                |\n",
       "| SW910_CD                   | int64       | 1               | 0                |\n",
       "| IND637_CD                  | int64       | 2               | 0                |\n",
       "| TC74X_CD                   | int64       | 1               | 0                |\n",
       "| C_CORP_CD                  | int64       | 2               | 0                |\n",
       "| INVALID_SSN_CD             | int64       | 1               | 0                |\n",
       "| REVAL_SSN_CD               | int64       | 1               | 0                |\n",
       "| OFFSET_CD                  | int64       | 1               | 0                |\n",
       "| SW918_IND                  | int64       | 1               | 0                |\n",
       "| TC148_CD                   | int64       | 1               | 0                |\n",
       "| SW914_CD                   | int64       | 1               | 0                |\n",
       "| ACT_CD                     | int64       | 2               | 0                |\n",
       "| SW1120_CD                  | int64       | 31              | 0                |\n",
       "| BANKRUPT_FLC_CD            | int64       | 2               | 0                |\n",
       "| SW53_CD                    | int64       | 2               | 0                |\n",
       "| TC530_UNREV_CD             | int64       | 1               | 0                |\n",
       "| TC530_UNRV_CC19_CD         | int64       | 1               | 0                |\n",
       "| NON_53_TDA_CD              | int64       | 2               | 0                |\n",
       "| DOC_87_CD                  | int64       | 2               | 0                |\n",
       "| SW720_CD                   | int64       | 2               | 0                |\n",
       "| IDRS_CD                    | int64       | 1               | 0                |\n",
       "| TC130_CD                   | int64       | 5               | 0                |\n",
       "| TC844_CD                   | int64       | 3               | 0                |\n",
       "| IDRS_ACT_CD                | int64       | 1               | 0                |\n",
       "| FCIC_CD                    | int64       | 1               | 0                |\n",
       "| TC59X_CD                   | int64       | 2               | 0                |\n",
       "| FTD_ALERT_CD               | int64       | 1               | 0                |\n",
       "| OVERFLOW_CD                | int64       | 1               | 0                |\n",
       "| EO_STAT_CD                 | int64       | 4               | 0                |\n",
       "| CLOSE_53_CD                | float64     | 4               | 1                |\n",
       "| IDRS_JJ_CD                 | int64       | 1               | 0                |\n",
       "| UPC_359_IND                | int64       | 2               | 0                |\n",
       "| AIMS_CD                    | float64     | 2               | 16               |\n",
       "| HARDSHIP_CD                | int64       | 1               | 0                |\n",
       "| IMF_FILING_CD              | int64       | 1               | 0                |\n",
       "| IND_2032A_CD               | int64       | 1               | 0                |\n",
       "| CSED_CD                    | int64       | 1               | 0                |\n",
       "| EOMF_CD                    | int64       | 1               | 0                |\n",
       "| TAX_SHELTER_IND            | int64       | 1               | 0                |\n",
       "| AUDIT_HISTORY_CD           | int64       | 1               | 0                |\n",
       "| CMS_CD                     | int64       | 1               | 0                |\n",
       "| DMF_CD                     | int64       | 1               | 0                |\n",
       "| PMF_CD                     | int64       | 2               | 0                |\n",
       "| FM_8123_CD                 | int64       | 1               | 0                |\n",
       "| FM_CT1_CD                  | int64       | 1               | 0                |\n",
       "| SW1042_CD                  | int64       | 2               | 0                |\n",
       "| SW940_CD                   | int64       | 4               | 0                |\n",
       "| SW943_CD                   | int64       | 2               | 0                |\n",
       "| OIC_YR                     | int64       | 2               | 0                |\n",
       "| TC06X_CD                   | int64       | 1               | 0                |\n",
       "| OPENING_DO_CD              | int64       | 66              | 0                |\n",
       "| SC_JURISDICTION_CD         | int64       | 1               | 0                |\n",
       "| CC84_CD                    | int64       | 1               | 0                |\n",
       "| BAL_DUE_IND                | int64       | 2               | 0                |\n",
       "| ES_PENALTY_CD              | float64     | 27              | 57               |\n",
       "| PDT_IND                    | int64       | 1               | 0                |\n",
       "| SW597_IND                  | int64       | 2               | 0                |\n",
       "| NANNY_TAX_CD               | int64       | 1               | 0                |\n",
       "| TCMP_CD                    | int64       | 1               | 0                |\n",
       "| F944_CD                    | int64       | 2               | 0                |\n",
       "| LRA136_CD                  | int64       | 2               | 0                |\n",
       "| LARGE_CORP_CD              | int64       | 1               | 0                |\n",
       "| TCMP_CYCLE_CD              | int64       | 1               | 0                |\n",
       "| TC09X_NUM                  | int64       | 1               | 0                |\n",
       "| FISCAL_PRD                 | int64       | 172             | 0                |\n",
       "| PR_FY_MON_NUM              | int64       | 13              | 0                |\n",
       "| DELQ_HISTORY_CD            | int64       | 2               | 0                |\n",
       "| ERIS_CD                    | int64       | 2               | 0                |\n",
       "| STATUS_58_CD               | int64       | 2               | 0                |\n",
       "| LPS_ACT_IND                | int64       | 2               | 0                |\n",
       "| BANKRUPT_LOC_CD            | int64       | 1               | 0                |\n",
       "| STATUS_26_CD               | int64       | 2               | 0                |\n",
       "| STATUS_02_CD               | int64       | 2               | 0                |\n",
       "| RTN_1_CD                   | float64     | 13              | 1                |\n",
       "| RTN_2_CD                   | int64       | 12              | 0                |\n",
       "| RTN_3_CD                   | int64       | 7               | 0                |\n",
       "| RTN_4_CD                   | int64       | 3               | 0                |\n",
       "| RTN_5_CD                   | int64       | 1               | 0                |\n",
       "| MRS_CD                     | int64       | 1               | 0                |\n",
       "| BMFOL_CYCLE_CD             | int64       | 1               | 0                |\n",
       "| BMFOL_ACTIVE_CD            | int64       | 1               | 0                |\n",
       "| CEP_IND                    | int64       | 1               | 0                |\n",
       "| DISASTER_CD                | int64       | 5               | 0                |\n",
       "| F990T_EO_ORG_CD            | int64       | 4               | 0                |\n",
       "| CORP_990T_IND              | int64       | 2               | 0                |\n",
       "| GATT_CD                    | int64       | 2               | 0                |\n",
       "| VENDOR_CD                  | int64       | 1               | 0                |\n",
       "| DMF_FRZ_CD                 | int64       | 1               | 0                |\n",
       "| TC076_CD                   | int64       | 3               | 0                |\n",
       "| MF_BOD_CD                  | object      | 3               | 0                |\n",
       "| BOD_CLIENT_CD              | object      | 9               | 0                |\n",
       "| MAN_BOD_CLIENT_IND         | int64       | 1               | 0                |\n",
       "| FM941_TDA_TDI_CD           | int64       | 1               | 0                |\n",
       "| LEVY_SW_CD                 | int64       | 2               | 0                |\n",
       "| EFTPS_84_CD                | int64       | 2               | 0                |\n",
       "| EFTPS_85_CD                | int64       | 2               | 0                |\n",
       "| EMPLOYMENT_CD              | object      | 2               | 92,168           |\n",
       "| CD_48_IND                  | int64       | 1               | 0                |\n",
       "| TC520_CC6X_IND             | int64       | 1               | 0                |\n",
       "| COLL_LOC_IND               | int64       | 2               | 0                |\n",
       "| TC08X_CP_IND               | int64       | 1               | 0                |\n",
       "| NY_PENT_TERR_CD            | int64       | 4               | 0                |\n",
       "| TOT_1065_1120_CD           | int64       | 2               | 0                |\n",
       "| FRZ_916_CD                 | int64       | 1               | 0                |\n",
       "| ACT_RET_PENSION_CD         | int64       | 2               | 0                |\n",
       "| ERO_IND                    | int64       | 2               | 0                |\n",
       "| EFTP_FTD_ABATE_IND         | int64       | 2               | 0                |\n",
       "| IND527_CD                  | int64       | 2               | 0                |\n",
       "| F8872_TYPE_CD              | int64       | 1               | 0                |\n",
       "| F8872_PR_CD                | int64       | 1               | 0                |\n",
       "| FINAL_8872_CD              | int64       | 1               | 0                |\n",
       "| KATRINA_CD                 | int64       | 1               | 0                |\n",
       "| TEL_EX_TAX_REF_CD          | int64       | 2               | 0                |\n",
       "| F944_BS6_CD                | int64       | 1               | 0                |\n",
       "| TETR_424_CD                | int64       | 1               | 0                |\n",
       "| LIEN_CD                    | int64       | 2               | 0                |\n",
       "| F944_BYPS_CD               | int64       | 2               | 0                |\n",
       "| SWCP148_CD                 | int64       | 1               | 0                |\n",
       "| F990_PF_REP_IND            | int64       | 1               | 0                |\n",
       "| LLC_IND                    | object      | 2               | 92,181           |\n",
       "| FOREIGN_CNTRY_CD           | object      | 15              | 92,143           |\n",
       "| COBRA_ASSIST_CD            | int64       | 1               | 0                |\n",
       "| UNDEL_ADR_CD               | int64       | 2               | 0                |\n",
       "| UNDEL_CD                   | int64       | 2               | 0                |\n",
       "| CORP_FTP_CD                | int64       | 1               | 0                |\n",
       "| APPL_LG_EMPLR_CD           | int64       | 3               | 0                |\n",
       "| DOJ_CD                     | int64       | 1               | 0                |\n",
       "| IDENTITY_THEFT_CD          | int64       | 2               | 0                |\n",
       "| PRIVATE_DEBT_COLLECTION_CD | int64       | 1               | 0                |\n",
       "| DAILY_DELQ_PNLTY_501C_CD   | int64       | 1               | 0                |\n",
       "| PRIV_DEBT_COLL_TP_AUTH_NUM | int64       | 1               | 0                |\n",
       "| INDIV_ESTATE_IND           | int64       | 1               | 0                |\n",
       "| AC754_IND                  | int64       | 1               | 0                |\n",
       "| HIST_FIDO_CD               | int64       | 66              | 0                |\n",
       "| HIST_TDA_PRM_DO_CD         | int64       | 12              | 0                |\n",
       "| HIST_PRIM_DO               | int64       | 36              | 0                |\n",
       "| PRIOR_SOLE_PROP_SSN_NUM    | int64       | 1               | 0                |\n",
       "| SOLE_PROP_SCH_PRD          | int64       | 1               | 0                |\n",
       "| PRIOR_PRIN_OWNER_TRUST_TIN | int64       | 9               | 0                |\n",
       "| PRIN_TIN_ORD               | int64       | 22              | 0                |\n",
       "| F944_FRC_CYMN8_CD          | float64     | 1               | 92,181           |\n",
       "| F944_FRC_CYMN7_CD          | float64     | 1               | 92,182           |\n",
       "| F944_FRC_CYMN6_CD          | float64     | 1               | 92,181           |\n",
       "| F944_FRC_CYMN5_CD          | float64     | 1               | 92,181           |\n",
       "| F944_FRC_CYMN4_CD          | float64     | 1               | 92,180           |\n",
       "| F944_FRC_CYMN3_CD          | float64     | 1               | 92,181           |\n",
       "| F944_FRC_CYMN2_CD          | float64     | 1               | 92,180           |\n",
       "| F944_FRC_CYMN1_CD          | float64     | 1               | 92,180           |\n",
       "| F944_FRC_CY_CD             | float64     | 1               | 92,180           |\n",
       "| F944_FRC_CYPL1_CD          | float64     | 0               | 92,186           |\n",
       "| RAF_FL940_CD               | int64       | 2               | 0                |\n",
       "| RAF_FL941_CD               | int64       | 2               | 0                |\n",
       "| RAF_FL943_CD               | int64       | 1               | 0                |\n",
       "| RAF_FL944_CD               | int64       | 2               | 0                |\n",
       "| RAF_FL945_CD               | int64       | 1               | 0                |\n",
       "| RAF_FLCT1_CD               | int64       | 1               | 0                |\n",
       "| RAF_FL1042_CD              | int64       | 2               | 0                |\n",
       "| EFTPS_940_CD               | int64       | 2               | 0                |\n",
       "| EFTPS_941_CD               | int64       | 2               | 0                |\n",
       "| EFTPS_943_CD               | int64       | 1               | 0                |\n",
       "| EFTPS_944_CD               | int64       | 2               | 0                |\n",
       "| EFTPS_945_CD               | int64       | 1               | 0                |\n",
       "| EFTPS_CT1_CD               | int64       | 1               | 0                |\n",
       "| EFTPS_720_CD               | int64       | 1               | 0                |\n",
       "| EFTPS_1042_CD              | int64       | 2               | 0                |\n",
       "| EFTPS_FCORP_CD             | int64       | 2               | 0                |\n",
       "| GEOGRAPHIC_CD              | int64       | 597             | 0                |\n",
       "| OLD_NM_CNTRL_CD            | object      | 3,202           | 84,212           |\n",
       "| PRIMARY_STATE_CD           | object      | 54              | 44               |\n",
       "| PRIMARY_CITY_NM            | object      | 6,154           | 0                |\n",
       "| PRIMARY_ADR                | object      | 42,477          | 0                |\n",
       "| PRIMARY_NM                 | object      | 87,453          | 0                |\n",
       "| PRIMARY_CONT_NM            | object      | 28,496          | 21,066           |\n",
       "| SORT_NM                    | object      | 46,978          | 37,868           |\n",
       "| CARE_OF_NM                 | object      | 19,185          | 40,290           |\n",
       "| LOCATION_ADR               | object      | 4,544           | 82,595           |\n",
       "| LOCATION_CONT_ADR          | object      | 2,969           | 82,616           |\n",
       "| FOREIGN_ADR                | object      | 24              | 92,142           |\n",
       "| AO_CD                      | int64       | 6               | 0                |\n",
       "| GRP_EXEMPT_NUM             | int64       | 1               | 0                |\n",
       "| CURR_SUBSECT_CD            | int64       | 1               | 0                |\n",
       "| PRIOR_SUBSECT_CD           | int64       | 8               | 0                |\n",
       "| AFFILIATION_CD             | int64       | 3               | 0                |\n",
       "| CLASSIFICATION_CD          | int64       | 2               | 0                |\n",
       "| ORGANIZING_DT              | float64     | 0               | 92,186           |\n",
       "| REGISTRATION_DT            | float64     | 0               | 92,186           |\n",
       "| RULING_PRD                 | int64       | 115             | 0                |\n",
       "| DEDUCT_CD                  | int64       | 3               | 0                |\n",
       "| DEDUCT_YR                  | int64       | 9               | 0                |\n",
       "| CURR_FOUNDATION_CD         | int64       | 4               | 0                |\n",
       "| PR_FOUNDATION_CD           | int64       | 6               | 0                |\n",
       "| BMF_ACTIVITY_CD            | int64       | 8               | 0                |\n",
       "| ORGANIZATION_CD            | int64       | 5               | 0                |\n",
       "| FILE_FOLDER_NUM            | int64       | 150             | 0                |\n",
       "| PENSION_PLAN_CD            | int64       | 3               | 0                |\n",
       "| ADV_RULING_PRD             | int64       | 1               | 0                |\n",
       "| TEAM_EXPRG_CASE_CD         | int64       | 2               | 0                |\n",
       "| NTEE_CD                    | object      | 2               | 92,183           |\n",
       "| HOSP_CD                    | float64     | 1               | 2,667            |\n",
       "| LOBBY_CD                   | int64       | 1               | 0                |\n",
       "| LOBBY_ELECT_YR             | int64       | 1               | 0                |\n",
       "| ASSET_CD                   | int64       | 10              | 0                |\n",
       "| INCOME_CD                  | int64       | 10              | 0                |\n",
       "| RTN_TAX_YR                 | int64       | 54              | 0                |\n",
       "| CURR_STATUS_CD             | int64       | 1               | 0                |\n",
       "| CURR_STATUS_PRD            | int64       | 616             | 0                |\n",
       "| PRIOR_STATUS_CD            | float64     | 4               | 89,585           |\n",
       "| PRIOR_STATUS_PRD           | int64       | 408             | 0                |\n",
       "| ZIP_9_CD                   | int64       | 41,744          | 0                |\n",
       "| ZIP_5_CD                   | int64       | 11,241          | 0                |\n",
       "| ZIP_3_CD                   | int64       | 871             | 0                |\n",
       "| REC_LOAD_DT                | object      | 51              | 0                |\n",
       "| CHAR_TIN                   | int64       | 92,186          | 0                |\n",
       "| ASSET_AMT                  | float64     | 74,396          | 12,927           |\n",
       "| INCOME_AMT                 | float64     | 48,825          | 12,927           |\n",
       "| Name                       | float64     | 0               | 92,186           |\n",
       "| ICO                        | float64     | 0               | 92,186           |\n",
       "| Sort_Name                  | float64     | 0               | 92,186           |\n",
       "| Street                     | float64     | 0               | 92,186           |\n",
       "| rx                         | float64     | 0               | 92,186           |\n",
       "| matchpos                   | float64     | 0               | 92,186           |\n",
       "| matchpos2                  | float64     | 0               | 92,186           |\n",
       "| matchpos3                  | float64     | 0               | 92,186           |\n",
       "| matchpos4                  | float64     | 0               | 92,186           |\n",
       "| Old_Name                   | float64     | 0               | 92,186           |\n",
       "| SSNFMT_NAME                | float64     | 0               | 92,186           |\n",
       "| Old_ICO                    | float64     | 0               | 92,186           |\n",
       "| SSNFMT_ICO                 | float64     | 0               | 92,186           |\n",
       "| Old_Sort_Name              | float64     | 0               | 92,186           |\n",
       "| SSNFMT_SORTNAME            | float64     | 0               | 92,186           |\n",
       "| Old_Street                 | float64     | 0               | 92,186           |\n",
       "| SSNFMT_STREET              | float64     | 0               | 92,186           |\n",
       "| Strng_Length               | float64     | 0               | 92,186           |\n",
       "| Nmbr_Before                | float64     | 0               | 92,186           |\n",
       "| Nmbr_After                 | float64     | 0               | 92,186           |\n",
       "| Name_9Dig                  | float64     | 0               | 92,186           |\n",
       "| ICO_9Dig                   | float64     | 0               | 92,186           |\n",
       "| Sort_Name_9Dig             | float64     | 0               | 92,186           |\n",
       "| Street_9Dig                | float64     | 0               | 92,186           |\n",
       "| DIG9_NAME                  | float64     | 0               | 92,186           |\n",
       "| DIG9_ICO                   | float64     | 0               | 92,186           |\n",
       "| DIG9_SORTNAME              | float64     | 0               | 92,186           |\n",
       "| DIG9_STREET                | float64     | 0               | 92,186           |"
      ],
      "text/plain": [
       "<IPython.core.display.Markdown object>"
      ]
     },
     "metadata": {},
     "output_type": "display_data"
    }
   ],
   "source": [
    "# Libraries for data manipulation.\n",
    "import pandas as pd\n",
    "import numpy as np\n",
    "\n",
    "# Libraries for data visualisation.\n",
    "import matplotlib.pyplot as plt\n",
    "import seaborn as sns\n",
    "import plotly.express as px\n",
    "import plotly.io as pio\n",
    "\n",
    "# Libraries for quarto rending\n",
    "from IPython.display import Markdown,display\n",
    "from tabulate import tabulate\n",
    "import plotly.io as pio\n",
    "\n",
    "# Remove warnings.\n",
    "import warnings\n",
    "warnings.filterwarnings(\"ignore\", category=UserWarning)\n",
    "\n",
    "# Read in data.\n",
    "split_interest = pd.read_csv('../../data/sit-2020.csv')\n",
    "\n",
    "# Print data dimensions.\n",
    "shape_caption = \"Data Dimensions:\"\n",
    "shape_df = pd.DataFrame({\n",
    "        'Dimension': ['Rows','Columns'],\n",
    "        'Count': [split_interest.shape[0], split_interest.shape[1]]\n",
    "    })\n",
    "shape_df['Count'] = shape_df['Count'].apply(lambda x: f\"{x:,}\")\n",
    "shape_markdown = shape_caption + \"\\n\\n\" + shape_df.to_markdown(index=False)\n",
    "display(Markdown(shape_markdown))\n",
    "\n",
    "# Print a sample of the data.\n",
    "first_five_rows_caption = \"First Five Rows of Data:\"\n",
    "first_five_rows_markdown = first_five_rows_caption + \"\\n\\n\" + split_interest.head().to_markdown(index=False)\n",
    "display(Markdown(first_five_rows_markdown))\n",
    "\n",
    "# Print metadata.\n",
    "metadata_caption = \"Metadata:\"\n",
    "column_metadata = []\n",
    "\n",
    "for col in split_interest.columns:\n",
    "    # Gather metadata for each col.\n",
    "    col_metadata = {\n",
    "        'Column Name': col,\n",
    "        'Data Type': str(split_interest[col].dtype),\n",
    "        'Unique Values': split_interest[col].nunique(),\n",
    "        'Missing Values': split_interest[col].isnull().sum()\n",
    "    }\n",
    "    # Append metadata to list.\n",
    "    column_metadata.append(col_metadata)\n",
    "\n",
    "# Convert list to pd df and then markdown table.\n",
    "metadata_df = pd.DataFrame(column_metadata)\n",
    "metadata_df['Unique Values'] = metadata_df['Unique Values'].apply(lambda x: f\"{x:,}\")\n",
    "metadata_df['Missing Values'] = metadata_df['Missing Values'].apply(lambda x: f\"{x:,}\")\n",
    "metadata_markdown = metadata_caption + \"\\n\\n\" + metadata_df.to_markdown(index=False)\n",
    "display(Markdown(metadata_markdown))"
   ]
  },
  {
   "cell_type": "markdown",
   "metadata": {},
   "source": [
    "# 3. Data Preparation\n",
    "\n",
    "In this section, we detail the initial steps taken to prepare the split interest trust data from the IRS for analysis. Our goals are to ensure consistency in column naming, handle missing values appropriately, and convert data into formats that are suitable for our analytical needs. Please click the drop down arrow for more details on code used to achieve this."
   ]
  },
  {
   "cell_type": "code",
   "execution_count": 13,
   "metadata": {},
   "outputs": [
    {
     "data": {
      "text/markdown": [
       "Cleaned data sample view:\n",
       "\n",
       "|   primary_tin_typ_cd |     ein | established_prd     | check_digit_cd   | name_cntrl_cd   |   coll_loc_cd |   ulc_cd |   mf_ao_cd |   small_bus_ao_cd |   primary_zip_cd |   fr_941_cd |   fr_1120_cd |   fr_720_cd |   fr_1041_cd |   fr_1065_cd |   fr_1066_cd |   fr_8804_cd |   fr_ct1_cd |   fr_940_cd |   fr_943_cd |   fr_1042_cd |   fr_944_cd |   fr_8752_cd |   fr_945_cd |   fr_990t_cd |   fr_1041a_cd |   fr_5227_cd |   fr_3520a_cd |   fr_990pf_cd |   fr_4720_cd |   fr_709_cd |   fr_706_cd |   fr_2290_cd |   fr_11c_cd |   fr_730_cd |   fr_990_cd |   fr_3520_cd |   fr_706gs_t_cd |   fr_706gs_d_cd |   unified_cum_amt |   caf_cnt |   naics_cd |   naics_val_cd |   naics_yr |   rrb_num |   num_partners_cnt |   f1065_ptr_tax_prd |   sole_prop_ssn_num |   officer_tin_num |   parent_ein |   latest_709_prd |   tefra_mft_cd |   tefra_prd |   adr_change_prd |   petition_dt |   sehi_credit_45r_1st_yr |   sehi_credit_45r_2nd_yr |   tc520_cc6x_dt |   business_prd |   business_close_dt |   wages_prd |   wages_last_dt |   cfol_updt_prd |   ftd_deposit_yr |   ftd_his_deposit_yr |   levy_hearing_dt |   tc971_ac954_yr |   memo_sw_cd |   tda_tdi_ind |   tda_cd |   tdi_ind |   sw941_cd |   tc52x_cd |   sw910_cd |   ind637_cd |   tc74x_cd |   c_corp_cd |   invalid_ssn_cd |   reval_ssn_cd |   offset_cd |   sw918_ind |   tc148_cd |   sw914_cd |   act_cd |   sw1120_cd |   bankrupt_flc_cd |   sw53_cd |   tc530_unrev_cd |   tc530_unrv_cc19_cd |   non_53_tda_cd |   doc_87_cd |   sw720_cd |   idrs_cd |   tc130_cd |   tc844_cd |   idrs_act_cd |   fcic_cd |   tc59x_cd |   ftd_alert_cd |   overflow_cd |   eo_stat_cd |   close_53_cd |   idrs_jj_cd |   upc_359_ind |   aims_cd |   hardship_cd |   imf_filing_cd |   ind_2032a_cd |   csed_cd |   eomf_cd |   tax_shelter_ind |   audit_history_cd |   cms_cd |   dmf_cd |   pmf_cd |   fm_8123_cd |   fm_ct1_cd |   sw1042_cd |   sw940_cd |   sw943_cd |   oic_yr |   tc06x_cd |   opening_do_cd |   sc_jurisdiction_cd |   cc84_cd |   bal_due_ind |   es_penalty_cd |   pdt_ind |   sw597_ind |   nanny_tax_cd |   tcmp_cd |   f944_cd |   lra136_cd |   large_corp_cd |   tcmp_cycle_cd |   tc09x_num |   fiscal_prd |   pr_fy_mon_num |   delq_history_cd |   eris_cd |   status_58_cd |   lps_act_ind |   bankrupt_loc_cd |   status_26_cd |   status_02_cd |   rtn_1_cd |   rtn_2_cd |   rtn_3_cd |   rtn_4_cd |   rtn_5_cd |   mrs_cd |   bmfol_cycle_cd |   bmfol_active_cd |   cep_ind |   disaster_cd |   f990t_eo_org_cd |   corp_990t_ind |   gatt_cd |   vendor_cd |   dmf_frz_cd |   tc076_cd | mf_bod_cd   | bod_client_cd   |   man_bod_client_ind |   fm941_tda_tdi_cd |   levy_sw_cd |   eftps_84_cd |   eftps_85_cd |   employment_cd |   cd_48_ind |   tc520_cc6x_ind |   coll_loc_ind |   tc08x_cp_ind |   ny_pent_terr_cd |   tot_1065_1120_cd |   frz_916_cd |   act_ret_pension_cd |   ero_ind |   eftp_ftd_abate_ind |   ind527_cd |   f8872_type_cd |   f8872_pr_cd |   final_8872_cd |   katrina_cd |   tel_ex_tax_ref_cd |   f944_bs6_cd |   tetr_424_cd |   lien_cd |   f944_byps_cd |   swcp148_cd |   f990_pf_rep_ind |   llc_ind |   foreign_cntry_cd |   cobra_assist_cd |   undel_adr_cd |   undel_cd |   corp_ftp_cd |   appl_lg_emplr_cd |   doj_cd |   identity_theft_cd |   private_debt_collection_cd |   daily_delq_pnlty_501c_cd |   priv_debt_coll_tp_auth_num |   indiv_estate_ind |   ac754_ind |   hist_fido_cd |   hist_tda_prm_do_cd |   hist_prim_do |   prior_sole_prop_ssn_num |   sole_prop_sch_prd |   prior_prin_owner_trust_tin |   prin_tin_ord |   f944_frc_cymn8_cd |   f944_frc_cymn7_cd |   f944_frc_cymn6_cd |   f944_frc_cymn5_cd |   f944_frc_cymn4_cd |   f944_frc_cymn3_cd |   f944_frc_cymn2_cd |   f944_frc_cymn1_cd |   f944_frc_cy_cd |   f944_frc_cypl1_cd |   raf_fl940_cd |   raf_fl941_cd |   raf_fl943_cd |   raf_fl944_cd |   raf_fl945_cd |   raf_flct1_cd |   raf_fl1042_cd |   eftps_940_cd |   eftps_941_cd |   eftps_943_cd |   eftps_944_cd |   eftps_945_cd |   eftps_ct1_cd |   eftps_720_cd |   eftps_1042_cd |   eftps_fcorp_cd |   geographic_cd | old_nm_cntrl_cd   | primary_state_cd   | primary_city_nm   | primary_adr   | primary_nm                        | primary_cont_nm                |   sort_nm | care_of_nm                       |   location_adr |   location_cont_adr |   foreign_adr |   ao_cd |   grp_exempt_num |   curr_subsect_cd |   prior_subsect_cd |   affiliation_cd |   classification_cd |   organizing_dt |   registration_dt | ruling_prd          |   deduct_cd |   deduct_yr |   curr_foundation_cd |   pr_foundation_cd |   bmf_activity_cd |   organization_cd |   file_folder_num |   pension_plan_cd |   adv_ruling_prd |   team_exprg_case_cd |   ntee_cd |   hosp_cd |   lobby_cd |   lobby_elect_yr |   asset_cd |   income_cd |   rtn_tax_yr |   curr_status_cd | curr_status_prd     |   prior_status_cd |   prior_status_prd |   zip_9_cd |   zip_5_cd |   zip_3_cd | rec_load_dt   |   char_tin |   asset_amt |   income_amt |   name |   ico |   sort_name |   street |   rx |   matchpos |   matchpos2 |   matchpos3 |   matchpos4 |   old_name |   ssnfmt_name |   old_ico |   ssnfmt_ico |   old_sort_name |   ssnfmt_sortname |   old_street |   ssnfmt_street |   strng_length |   nmbr_before |   nmbr_after |   name_9dig |   ico_9dig |   sort_name_9dig |   street_9dig |   dig9_name |   dig9_ico |   dig9_sortname |   dig9_street |\n",
       "|---------------------:|--------:|:--------------------|:-----------------|:----------------|--------------:|---------:|-----------:|------------------:|-----------------:|------------:|-------------:|------------:|-------------:|-------------:|-------------:|-------------:|------------:|------------:|------------:|-------------:|------------:|-------------:|------------:|-------------:|--------------:|-------------:|--------------:|--------------:|-------------:|------------:|------------:|-------------:|------------:|------------:|------------:|-------------:|----------------:|----------------:|------------------:|----------:|-----------:|---------------:|-----------:|----------:|-------------------:|--------------------:|--------------------:|------------------:|-------------:|-----------------:|---------------:|------------:|-----------------:|--------------:|-------------------------:|-------------------------:|----------------:|---------------:|--------------------:|------------:|----------------:|----------------:|-----------------:|---------------------:|------------------:|-----------------:|-------------:|--------------:|---------:|----------:|-----------:|-----------:|-----------:|------------:|-----------:|------------:|-----------------:|---------------:|------------:|------------:|-----------:|-----------:|---------:|------------:|------------------:|----------:|-----------------:|---------------------:|----------------:|------------:|-----------:|----------:|-----------:|-----------:|--------------:|----------:|-----------:|---------------:|--------------:|-------------:|--------------:|-------------:|--------------:|----------:|--------------:|----------------:|---------------:|----------:|----------:|------------------:|-------------------:|---------:|---------:|---------:|-------------:|------------:|------------:|-----------:|-----------:|---------:|-----------:|----------------:|---------------------:|----------:|--------------:|----------------:|----------:|------------:|---------------:|----------:|----------:|------------:|----------------:|----------------:|------------:|-------------:|----------------:|------------------:|----------:|---------------:|--------------:|------------------:|---------------:|---------------:|-----------:|-----------:|-----------:|-----------:|-----------:|---------:|-----------------:|------------------:|----------:|--------------:|------------------:|----------------:|----------:|------------:|-------------:|-----------:|:------------|:----------------|---------------------:|-------------------:|-------------:|--------------:|--------------:|----------------:|------------:|-----------------:|---------------:|---------------:|------------------:|-------------------:|-------------:|---------------------:|----------:|---------------------:|------------:|----------------:|--------------:|----------------:|-------------:|--------------------:|--------------:|--------------:|----------:|---------------:|-------------:|------------------:|----------:|-------------------:|------------------:|---------------:|-----------:|--------------:|-------------------:|---------:|--------------------:|-----------------------------:|---------------------------:|-----------------------------:|-------------------:|------------:|---------------:|---------------------:|---------------:|--------------------------:|--------------------:|-----------------------------:|---------------:|--------------------:|--------------------:|--------------------:|--------------------:|--------------------:|--------------------:|--------------------:|--------------------:|-----------------:|--------------------:|---------------:|---------------:|---------------:|---------------:|---------------:|---------------:|----------------:|---------------:|---------------:|---------------:|---------------:|---------------:|---------------:|---------------:|----------------:|-----------------:|----------------:|:------------------|:-------------------|:------------------|:--------------|:----------------------------------|:-------------------------------|----------:|:---------------------------------|---------------:|--------------------:|--------------:|--------:|-----------------:|------------------:|-------------------:|-----------------:|--------------------:|----------------:|------------------:|:--------------------|------------:|------------:|---------------------:|-------------------:|------------------:|------------------:|------------------:|------------------:|-----------------:|---------------------:|----------:|----------:|-----------:|-----------------:|-----------:|------------:|-------------:|-----------------:|:--------------------|------------------:|-------------------:|-----------:|-----------:|-----------:|:--------------|-----------:|------------:|-------------:|-------:|------:|------------:|---------:|-----:|-----------:|------------:|------------:|------------:|-----------:|--------------:|----------:|-------------:|----------------:|------------------:|-------------:|----------------:|---------------:|--------------:|-------------:|------------:|-----------:|-----------------:|--------------:|------------:|-----------:|----------------:|--------------:|\n",
       "|                    2 | 2001555 | 1971-12-01 00:00:00 | UI               | OAKE            |             0 |        1 |        nan |                21 |      44015108025 |           0 |            0 |           0 |            0 |            0 |            0 |            0 |           0 |           0 |           0 |            0 |           0 |            0 |           0 |            0 |             0 |            0 |             0 |             0 |            0 |           0 |           0 |            0 |           0 |           0 |           0 |            0 |               0 |               0 |                 0 |         0 |     813000 |              5 |       1988 |         0 |                  0 |                   0 |                   0 |                 0 |            0 |                0 |              0 |           0 |           200640 |           nan |                        0 |                        0 |             nan |              0 |                 nan |           0 |             nan |          202203 |                0 |                    0 |               nan |                0 |            0 |             0 |        0 |         0 |          0 |          0 |          0 |           0 |          0 |           0 |                0 |              0 |           0 |           0 |          0 |          0 |        1 |           0 |                 0 |         0 |                0 |                    0 |               0 |           0 |          0 |         0 |          0 |          0 |             0 |         0 |          0 |              0 |             0 |            2 |             0 |            0 |             0 |         0 |             0 |               0 |              0 |         0 |         0 |                 0 |                  0 |        0 |        0 |        0 |            0 |           0 |           0 |          0 |          0 |        0 |          0 |               1 |                    0 |         0 |             0 |               0 |         0 |           0 |              0 |         0 |         0 |           0 |               0 |               0 |           0 |       198504 |               0 |                 0 |         0 |              0 |             0 |                 0 |              0 |              0 |          0 |          0 |          0 |          0 |          0 |        0 |                0 |                 0 |         0 |             4 |                 0 |               0 |         0 |           0 |            0 |          0 | TE          | B               |                    0 |                  0 |            0 |             0 |             0 |             nan |           0 |                0 |              0 |              0 |                 0 |                  0 |            0 |                    0 |         0 |                    0 |           0 |               0 |             0 |               0 |            0 |                   0 |             0 |             0 |         0 |              0 |            0 |                 0 |       nan |                nan |                 0 |              0 |          0 |             0 |                  0 |        0 |                   0 |                            0 |                          0 |                            0 |                  0 |           0 |              1 |                    0 |              4 |                         0 |                   0 |                            0 |              0 |                 nan |                 nan |                 nan |                 nan |                 nan |                 nan |                 nan |                 nan |              nan |                 nan |              0 |              0 |              0 |              0 |              0 |              0 |               0 |              0 |              0 |              0 |              0 |              0 |              0 |              0 |               0 |                0 |               0 | nan               | ME                 | BANGOR            | 2 HAMMOND ST  | MYRTICE OAKES TR UW NECT          | nan                            |       nan | % MERRILL TR CO TTEE             |            nan |                 nan |           nan |       1 |                0 |                90 |                  0 |                0 |                1000 |             nan |               nan | 1970-12-01 00:00:00 |           0 |           0 |                    0 |                  0 |         909000000 |                 2 |          40000000 |                 2 |                0 |                    0 |       nan |         0 |          0 |                0 |          0 |           0 |         1970 |               12 | 1973-05-01 00:00:00 |               nan |                  0 |   44015108 |       4401 |         44 | 2022-01-21    | 2002001555 |         nan |          nan |    nan |   nan |         nan |      nan |  nan |        nan |         nan |         nan |         nan |        nan |           nan |       nan |          nan |             nan |               nan |          nan |             nan |            nan |           nan |          nan |         nan |        nan |              nan |           nan |         nan |        nan |             nan |           nan |\n",
       "|                    2 | 2032809 | 1976-06-01 00:00:00 | SJ               | HISP            |             0 |       13 |        nan |                21 |     100192701991 |           0 |            0 |           0 |            0 |            0 |            0 |            0 |           0 |           0 |           0 |            0 |           0 |            0 |           0 |            0 |             0 |            0 |             0 |             0 |            0 |           0 |           0 |            0 |           0 |           0 |           0 |            0 |               0 |               0 |                 0 |         0 |     813000 |              5 |       1981 |         0 |                  0 |                   0 |                   0 |                 0 |            0 |                0 |              0 |           0 |           200639 |           nan |                        0 |                        0 |             nan |              0 |                 nan |           0 |             nan |          202206 |                0 |                    0 |               nan |                0 |            0 |             0 |        0 |         0 |          0 |          0 |          0 |           0 |          0 |           0 |                0 |              0 |           0 |           0 |          0 |          0 |        1 |           0 |                 0 |         0 |                0 |                    0 |               0 |           0 |          0 |         0 |          0 |          0 |             0 |         0 |          0 |              0 |             0 |            2 |             0 |            0 |             0 |         0 |             0 |               0 |              0 |         0 |         0 |                 0 |                  0 |        0 |        0 |        0 |            0 |           0 |           0 |          0 |          0 |        0 |          0 |              13 |                    0 |         0 |             0 |               0 |         0 |           0 |              0 |         0 |         0 |           0 |               0 |               0 |           0 |       198412 |               0 |                 0 |         0 |              0 |             0 |                 0 |              0 |              0 |          0 |          0 |          0 |          0 |          0 |        0 |                0 |                 0 |         0 |             4 |                 0 |               0 |         0 |           0 |            0 |          0 | TE          | B               |                    0 |                  0 |            0 |             0 |             0 |             nan |           0 |                0 |              0 |              0 |                 1 |                  0 |            0 |                    0 |         0 |                    0 |           0 |               0 |             0 |               0 |            0 |                   0 |             0 |             0 |         0 |              0 |            0 |                 0 |       nan |                nan |                 0 |              0 |          0 |             0 |                  0 |        0 |                   0 |                            0 |                          0 |                            0 |                  0 |           0 |             13 |                    0 |             13 |                         0 |                   0 |                            0 |              0 |                 nan |                 nan |                 nan |                 nan |                 nan |                 nan |                 nan |                 nan |              nan |                 nan |              0 |              0 |              0 |              0 |              0 |              0 |               0 |              0 |              0 |              0 |              0 |              0 |              0 |              0 |               0 |                0 |               0 | nan               | NY                 | NEW YORK          | 9 W 57TH ST   | HISPANIC SOCIETY OF AMERICA TRUST | NECT                           |       nan | % MORGAN GUARANTY TRUST COMPANY  |            nan |                 nan |           nan |       1 |                0 |                90 |                  0 |                0 |                1000 |             nan |               nan | 1976-05-01 00:00:00 |           0 |           0 |                    0 |                  0 |         909000000 |                 2 |         130000000 |                 2 |                0 |                    0 |       nan |         0 |          0 |                0 |          0 |           0 |            0 |               12 | 1976-05-01 00:00:00 |               nan |                  0 |  100192701 |      10019 |        100 | 2022-02-11    | 2002032809 |         nan |          nan |    nan |   nan |         nan |      nan |  nan |        nan |         nan |         nan |         nan |        nan |           nan |       nan |          nan |             nan |               nan |          nan |             nan |            nan |           nan |          nan |         nan |        nan |              nan |           nan |         nan |        nan |             nan |           nan |\n",
       "|                    2 | 2126212 | 1977-10-01 00:00:00 | KT               | BONT            |             0 |       35 |        nan |                24 |     468020000000 |           0 |            0 |           0 |            0 |            0 |            0 |            0 |           0 |           0 |           0 |            0 |           0 |            0 |           0 |            0 |             0 |            0 |             0 |             0 |            0 |           0 |           0 |            0 |           0 |           0 |           0 |            0 |               0 |               0 |                 0 |         0 |     813000 |              5 |       1982 |         0 |                  0 |                   0 |                   0 |                 0 |            0 |                0 |              0 |           0 |           200637 |           nan |                        0 |                        0 |             nan |              0 |                 nan |           0 |             nan |          202203 |                0 |                    0 |               nan |                0 |            0 |             0 |        0 |         0 |          0 |          0 |          0 |           0 |          0 |           0 |                0 |              0 |           0 |           0 |          0 |          0 |        1 |           1 |                 0 |         0 |                0 |                    0 |               0 |           0 |          0 |         0 |          0 |          0 |             0 |         0 |          0 |              0 |             0 |            2 |             0 |            0 |             0 |         0 |             0 |               0 |              0 |         0 |         0 |                 0 |                  0 |        0 |        0 |        0 |            0 |           0 |           0 |          0 |          0 |        0 |          0 |              35 |                    0 |         0 |             0 |               0 |         0 |           0 |              0 |         0 |         0 |           0 |               0 |               0 |           0 |       198609 |               0 |                 0 |         0 |              0 |             0 |                 0 |              0 |              0 |          0 |          0 |          0 |          0 |          0 |        0 |                0 |                 0 |         0 |             4 |                 0 |               0 |         0 |           0 |            0 |          0 | TE          | B               |                    0 |                  0 |            0 |             0 |             0 |             nan |           0 |                0 |              0 |              0 |                 0 |                  0 |            0 |                    0 |         0 |                    0 |           0 |               0 |             0 |               0 |            0 |                   0 |             0 |             0 |         0 |              0 |            0 |                 0 |       nan |                nan |                 0 |              0 |          0 |             0 |                  0 |        0 |                   0 |                            0 |                          0 |                            0 |                  0 |           0 |             35 |                    0 |             35 |                         0 |                   0 |                            0 |              0 |                 nan |                 nan |                 nan |                 nan |                 nan |                 nan |                 nan |                 nan |              nan |                 nan |              0 |              0 |              0 |              0 |              0 |              0 |               0 |              0 |              0 |              0 |              0 |              0 |              0 |              0 |               0 |                0 |               0 | CAST              | IN                 | FORT WAYNE        | LOCAL         | LOUISE BONTER UNITRUST FBO JESSIE | FRANCES CASTLE                 |       nan | % FORT WAYNE NATIONAL BANK       |            nan |                 nan |           nan |       3 |                0 |                90 |                  0 |                0 |                1000 |             nan |               nan | 1977-10-01 00:00:00 |           0 |           0 |                    0 |                  0 |         928000000 |                 2 |         310000000 |                 2 |                0 |                    0 |       nan |         0 |          0 |                0 |          4 |           3 |         1981 |               12 | 1977-10-01 00:00:00 |               nan |                  0 |  468020000 |      46802 |        468 | 2022-01-21    | 2002126212 |         nan |          nan |    nan |   nan |         nan |      nan |  nan |        nan |         nan |         nan |         nan |        nan |           nan |       nan |          nan |             nan |               nan |          nan |             nan |            nan |           nan |          nan |         nan |        nan |              nan |           nan |         nan |        nan |             nan |           nan |\n",
       "|                    2 | 2190092 | 1971-12-01 00:00:00 | CU               | JARV            |             0 |       13 |        nan |                21 |     100202302992 |           0 |            0 |           0 |            0 |            0 |            0 |            0 |           0 |           0 |           0 |            0 |           0 |            0 |           0 |            0 |             0 |            0 |             0 |             0 |            0 |           0 |           0 |            0 |           0 |           0 |           0 |            0 |               0 |               0 |                 0 |         0 |     813000 |              5 |       1985 |         0 |                  0 |                   0 |                   0 |                 0 |            0 |                0 |              0 |           0 |           200637 |           nan |                        0 |                        0 |             nan |              0 |                 nan |           0 |             nan |          202206 |                0 |                    0 |               nan |                0 |            0 |             0 |        0 |         0 |          0 |          0 |          0 |           0 |          0 |           0 |                0 |              0 |           0 |           0 |          0 |          0 |        1 |           1 |                 0 |         0 |                0 |                    0 |               0 |           0 |          0 |         0 |          0 |          0 |             0 |         0 |          0 |              0 |             0 |            2 |             0 |            0 |             0 |         0 |             0 |               0 |              0 |         0 |         0 |                 0 |                  0 |        0 |        0 |        0 |            0 |           0 |           0 |          0 |          0 |        0 |          0 |              13 |                    0 |         0 |             0 |               0 |         0 |           0 |              0 |         0 |         0 |           0 |               0 |               0 |           0 |       198512 |               0 |                 0 |         0 |              0 |             0 |                 0 |              0 |              0 |          0 |          0 |          0 |          0 |          0 |        0 |                0 |                 0 |         0 |             4 |                 0 |               0 |         0 |           0 |            0 |          0 | TE          | B               |                    0 |                  0 |            0 |             0 |             0 |             nan |           0 |                0 |              0 |              0 |                 1 |                  0 |            0 |                    0 |         0 |                    0 |           0 |               0 |             0 |               0 |            0 |                   0 |             0 |             0 |         0 |              0 |            0 |                 0 |       nan |                nan |                 0 |              0 |          0 |             0 |                  0 |        0 |                   0 |                            0 |                          0 |                            0 |                  0 |           0 |             13 |                    0 |             13 |                         0 |                   0 |                            0 |              0 |                 nan |                 nan |                 nan |                 nan |                 nan |                 nan |                 nan |                 nan |              nan |                 nan |              0 |              0 |              0 |              0 |              0 |              0 |               0 |              0 |              0 |              0 |              0 |              0 |              0 |              0 |               0 |                0 |               0 | JAVI              | NY                 | NEW YORK          | 600 FIFTH AVE | JAMES N JARVIE TRUST UW PAR 14 FB | JERUSALEM YMCA BUILDING ISRAEL |       nan | % MANUFACTURERS HANOVER TRUST CO |            nan |                 nan |           nan |       1 |                0 |                90 |                  0 |                0 |                1000 |             nan |               nan | 1970-12-01 00:00:00 |           0 |           0 |                    0 |                  0 |         909000000 |                 2 |         130000000 |                 2 |                0 |                    0 |       nan |         0 |          0 |                0 |          0 |           0 |         1970 |               12 | 1973-08-01 00:00:00 |               nan |                  0 |  100202302 |      10020 |        100 | 2022-02-11    | 2002190092 |         nan |          nan |    nan |   nan |         nan |      nan |  nan |        nan |         nan |         nan |         nan |        nan |           nan |       nan |          nan |             nan |               nan |          nan |             nan |            nan |           nan |          nan |         nan |        nan |              nan |           nan |         nan |        nan |             nan |           nan |\n",
       "|                    2 | 2209021 | 1979-03-01 00:00:00 | WQ               | HAMM            |             0 |       56 |        nan |                23 |     273490000000 |           0 |            0 |           0 |            0 |            0 |            0 |            0 |           0 |           0 |           0 |            0 |           0 |            0 |           0 |            0 |             0 |            0 |             0 |             0 |            0 |           0 |           0 |            0 |           0 |           0 |           0 |            0 |               0 |               0 |                 0 |         0 |     999000 |              5 |       1983 |         0 |                  0 |                   0 |                   0 |                 0 |            0 |                0 |              0 |           0 |           200636 |           nan |                        0 |                        0 |             nan |              0 |                 nan |           0 |             nan |          202241 |                0 |                    0 |               nan |                0 |            0 |             0 |        0 |         0 |          0 |          0 |          0 |           0 |          0 |           0 |                0 |              0 |           0 |           0 |          0 |          0 |        1 |           0 |                 0 |         0 |                0 |                    0 |               0 |           0 |          0 |         0 |          0 |          0 |             0 |         0 |          0 |              0 |             0 |            2 |             0 |            0 |             0 |         0 |             0 |               0 |              0 |         0 |         0 |                 0 |                  0 |        0 |        0 |        0 |            0 |           0 |           0 |          0 |          0 |        0 |          0 |              56 |                    0 |         0 |             0 |               0 |         0 |           0 |              0 |         0 |         0 |           0 |               0 |               0 |           0 |       198312 |               0 |                 0 |         0 |              0 |             0 |                 0 |              0 |              0 |          0 |          0 |          0 |          0 |          0 |        0 |                0 |                 0 |         0 |             5 |                 0 |               0 |         0 |           0 |            0 |          0 | TE          | B               |                    0 |                  0 |            0 |             0 |             0 |             nan |           0 |                0 |              0 |              0 |                 0 |                  0 |            0 |                    0 |         0 |                    0 |           0 |               0 |             0 |               0 |            0 |                   0 |             0 |             0 |         0 |              0 |            0 |                 0 |       nan |                nan |                 0 |              0 |          0 |             0 |                  0 |        0 |                   0 |                            0 |                          0 |                            0 |                  0 |           0 |             56 |                    0 |             56 |                         0 |                   0 |                            0 |              0 |                 nan |                 nan |                 nan |                 nan |                 nan |                 nan |                 nan |                 nan |              nan |                 nan |              0 |              0 |              0 |              0 |              0 |              0 |               0 |              0 |              0 |              0 |              0 |              0 |              0 |              0 |               0 |                0 |               0 | nan               | NC                 | SNOW CAMP         | LOCAL         | HAMMER TRUST                      | nan                            |       nan | % A W MOON JR                    |            nan |                 nan |           nan |       2 |                0 |                90 |                  0 |                0 |                1000 |             nan |               nan | NaT                 |           0 |           0 |                    0 |                  0 |                 0 |                 5 |         580001038 |                 0 |                0 |                    0 |       nan |         0 |          0 |                0 |          5 |           4 |         1977 |               12 | 1982-07-01 00:00:00 |                 4 |             198201 |  273490000 |      27349 |        273 | 2022-10-14    | 2002209021 |         nan |          nan |    nan |   nan |         nan |      nan |  nan |        nan |         nan |         nan |         nan |        nan |           nan |       nan |          nan |             nan |               nan |          nan |             nan |            nan |           nan |          nan |         nan |        nan |              nan |           nan |         nan |        nan |             nan |           nan |"
      ],
      "text/plain": [
       "<IPython.core.display.Markdown object>"
      ]
     },
     "metadata": {},
     "output_type": "display_data"
    }
   ],
   "source": [
    "# Standardize column names.\n",
    "split_interest.columns = [x.lower() for x in split_interest.columns]\n",
    "\n",
    "# Replace zeros with NaN for appropriate columns.\n",
    "\n",
    "# Replace NaN with appropriate values accordingly.\n",
    "\n",
    "# Convert columns to appropriate data types.\n",
    "date_cols = ['established_prd','ruling_prd','curr_status_prd']\n",
    "for col in date_cols:\n",
    "    split_interest[col] = split_interest[col].astype(str).str.replace('\\.0$', '', regex=True)\n",
    "    split_interest[col] = pd.to_datetime(split_interest[col], format='%Y%m', errors='coerce')\n",
    "\n",
    "# Drop duplicates.\n",
    "\n",
    "# Convert dtype for appropriate columns.\n",
    "split_interest['ein'] = split_interest['ein'].astype(str).str.replace('\\.0$', '', regex=True)\n",
    "\n",
    "# Show cleaned data.\n",
    "head_caption = \"Cleaned data sample view:\"\n",
    "head_df = split_interest.head().copy()\n",
    "head_markdown = head_caption + \"\\n\\n\" + head_df.to_markdown(index=False)\n",
    "display(Markdown(head_markdown))"
   ]
  },
  {
   "cell_type": "markdown",
   "metadata": {},
   "source": [
    "# 4. Analysis\n",
    "Objective: Determine if the split interest trust data can be used to conduct a comprehensive analysis of existing philanthropic giving in environmental and social justice. Additionally, can it be used to assess the level of transparency and accountability in current giving practices?\n"
   ]
  },
  {
   "cell_type": "markdown",
   "metadata": {},
   "source": [
    "## 4.1. Indentifying Relevant Organizations\n",
    "\n",
    "The split interest trust data can be filtered to reflect organizations by their codes (reflecting their primary mission), enabling the identification of nonprofits focused on environmental protection, social justice, advocacy, and related activities. This step is crucial for creating a focused dataset of relevant organizations for our objective above.\n",
    "\n",
    "The next order of data transformation should involve filtering the split interest trust data in the same manner as the Exempt Organizations Business Master File and 990 Forms.\n",
    "\n",
    "**Action item**: Review with team to determine which column makes the most sense to use to filter relevant orgs. Options include:\n",
    "* Subection and Classification codes.\n",
    "* National Taxonomy of Exempt Entities (NTEE) codes (many are missing unfortunately).\n",
    "* Foundation codes.\n",
    "* Activity codes (most likely not useful since becoming obsolete with the adoption of the NTEE coding system in January 1995)."
   ]
  },
  {
   "cell_type": "code",
   "execution_count": null,
   "metadata": {},
   "outputs": [],
   "source": [
    "# Insert code here for appropriate filtering if necessary."
   ]
  },
  {
   "cell_type": "code",
   "execution_count": 4,
   "metadata": {},
   "outputs": [],
   "source": [
    "def display_head(df, columns, caption):\n",
    "    head_df = df[columns].head()\n",
    "    head_markdown = f\"{caption}\\n\\n{head_df.to_markdown(index=False)}\"\n",
    "    display(Markdown(head_markdown))\n",
    "def display_unique_values(df, columns):\n",
    "    unique_val_df = df[columns].value_counts().reset_index()\n",
    "    uni_markdown = f\"{unique_val_df.to_markdown(index=False)}\"\n",
    "    display(Markdown(uni_markdown))\n",
    "def display_missing_cts(df, columns):\n",
    "    missing_values = df[columns].isna().sum().reset_index()\n",
    "    missing_markdown = f\"{missing_values.rename(columns={'index':'column name',0:'missing data points'}).to_markdown(index=False)}\"\n",
    "    display(Markdown(missing_markdown))\n",
    "def display_stats(df, columns):\n",
    "    stats = df[columns].describe().reset_index()\n",
    "    for col in stats.columns[1:]:  \n",
    "        if df[col].dtype == 'float64' or df[col].dtype == 'float32':\n",
    "            stats[col] = stats[col].astype(float).apply(lambda x: f\"{x:,.0f}\")\n",
    "    stats_markdown = stats.rename(columns={'index': 'Statistics'}).to_markdown(index=False)\n",
    "    display(Markdown(stats_markdown))"
   ]
  },
  {
   "cell_type": "markdown",
   "metadata": {},
   "source": [
    "## 4.2 Financial and Charitable Contributions\n",
    "* fr_5227_cd: Indicates whether the Form 5227 has been filed. This is crucial as it directly relates to split-interest trusts, providing a starting point for identifying relevant entities.\n",
    "* asset_amt: The amount of assets the trust holds. This information can help gauge the size and potential impact of the trust.\n",
    "* income_amt: The income amount can offer insights into the financial capacity and activity level of the trust within a given period."
   ]
  },
  {
   "cell_type": "code",
   "execution_count": 6,
   "metadata": {},
   "outputs": [
    {
     "data": {
      "text/markdown": [
       "| Statistics   |   fr_5227_cd | asset_amt       | income_amt     |\n",
       "|:-------------|-------------:|:----------------|:---------------|\n",
       "| count        |  92186       | 79,259          | 79,259         |\n",
       "| mean         |      2.18666 | 20,150,374      | 353,715        |\n",
       "| std          |      9.30574 | 2,495,732,782   | 37,669,447     |\n",
       "| min          |      0       | -5,607,001      | -1,446,332     |\n",
       "| 25%          |      1       | 111,156         | 6,068          |\n",
       "| 50%          |      1       | 297,205         | 17,998         |\n",
       "| 75%          |      1       | 803,410         | 53,902         |\n",
       "| max          |     88       | 481,223,000,000 | 10,357,423,300 |"
      ],
      "text/plain": [
       "<IPython.core.display.Markdown object>"
      ]
     },
     "metadata": {},
     "output_type": "display_data"
    },
    {
     "data": {
      "text/markdown": [
       "| column name   |   missing data points |\n",
       "|:--------------|----------------------:|\n",
       "| fr_5227_cd    |                     0 |\n",
       "| asset_amt     |                 12927 |\n",
       "| income_amt    |                 12927 |"
      ],
      "text/plain": [
       "<IPython.core.display.Markdown object>"
      ]
     },
     "metadata": {},
     "output_type": "display_data"
    }
   ],
   "source": [
    "unique_columns = ['fr_5227_cd','asset_amt','income_amt']\n",
    "display_stats(split_interest, unique_columns)\n",
    "\n",
    "display_missing_cts(split_interest, unique_columns)"
   ]
  },
  {
   "cell_type": "markdown",
   "metadata": {},
   "source": [
    "## 4.3 Trust and Beneficiary Information\n",
    "* name, primary_adr, primary_city_nm, primary_state_cd, zip_5_cd: These columns provide detailed information about the trust, including its name and location. This can be used to assess geographical trends in giving and to potentially correlate trusts with local environmental and social justice initiatives."
   ]
  },
  {
   "cell_type": "code",
   "execution_count": 9,
   "metadata": {},
   "outputs": [
    {
     "data": {
      "text/markdown": [
       "Example of trust and beneficiary data:\n",
       "\n",
       "|     ein |   name | primary_adr   | primary_city_nm   | primary_state_cd   |   zip_5_cd |\n",
       "|--------:|-------:|:--------------|:------------------|:-------------------|-----------:|\n",
       "| 2001555 |    nan | 2 HAMMOND ST  | BANGOR            | ME                 |       4401 |\n",
       "| 2032809 |    nan | 9 W 57TH ST   | NEW YORK          | NY                 |      10019 |\n",
       "| 2126212 |    nan | LOCAL         | FORT WAYNE        | IN                 |      46802 |\n",
       "| 2190092 |    nan | 600 FIFTH AVE | NEW YORK          | NY                 |      10020 |\n",
       "| 2209021 |    nan | LOCAL         | SNOW CAMP         | NC                 |      27349 |"
      ],
      "text/plain": [
       "<IPython.core.display.Markdown object>"
      ]
     },
     "metadata": {},
     "output_type": "display_data"
    }
   ],
   "source": [
    "columns = ['ein','name','primary_adr','primary_city_nm','primary_state_cd','zip_5_cd']\n",
    "display_head(split_interest, columns, \"Example of trust and beneficiary data:\")\n"
   ]
  },
  {
   "cell_type": "markdown",
   "metadata": {},
   "source": [
    "## 4.4 Operational and Compliance Indicators\n",
    "* established_prd: Knowing when the trust was established can help identify long-standing contributors versus newer entities in the philanthropic landscape.\n",
    "* ruling_prd: This could indicate when the trust was granted tax-exempt status, which might correlate with strategic shifts in philanthropic giving.\n",
    "* curr_status_cd and curr_status_prd: These columns indicate the current status of the trust and the period of this status, which can be vital for understanding operational standing and compliance.\n",
    "* audit_history_cd: An indicator of whether the trust has been audited, which could imply levels of scrutiny and compliance."
   ]
  },
  {
   "cell_type": "code",
   "execution_count": 14,
   "metadata": {},
   "outputs": [
    {
     "data": {
      "text/markdown": [
       "Example of operational and compliance data:\n",
       "\n",
       "|     ein | established_prd     | ruling_prd          |   curr_status_cd | curr_status_prd     |   audit_history_cd |\n",
       "|--------:|:--------------------|:--------------------|-----------------:|:--------------------|-------------------:|\n",
       "| 2001555 | 1971-12-01 00:00:00 | 1970-12-01 00:00:00 |               12 | 1973-05-01 00:00:00 |                  0 |\n",
       "| 2032809 | 1976-06-01 00:00:00 | 1976-05-01 00:00:00 |               12 | 1976-05-01 00:00:00 |                  0 |\n",
       "| 2126212 | 1977-10-01 00:00:00 | 1977-10-01 00:00:00 |               12 | 1977-10-01 00:00:00 |                  0 |\n",
       "| 2190092 | 1971-12-01 00:00:00 | 1970-12-01 00:00:00 |               12 | 1973-08-01 00:00:00 |                  0 |\n",
       "| 2209021 | 1979-03-01 00:00:00 | NaT                 |               12 | 1982-07-01 00:00:00 |                  0 |"
      ],
      "text/plain": [
       "<IPython.core.display.Markdown object>"
      ]
     },
     "metadata": {},
     "output_type": "display_data"
    }
   ],
   "source": [
    "columns = ['ein','established_prd','ruling_prd','curr_status_cd','curr_status_prd','audit_history_cd']\n",
    "display_head(split_interest, columns, \"Example of operational and compliance data:\")"
   ]
  },
  {
   "cell_type": "markdown",
   "metadata": {},
   "source": [
    "## 4.5 Giving Patterns and Trends\n",
    "* deduct_cd and deduct_yr: Information on deductions claimed can offer insights into the trust's giving patterns and the timing of their contributions."
   ]
  },
  {
   "cell_type": "code",
   "execution_count": 10,
   "metadata": {},
   "outputs": [
    {
     "data": {
      "text/markdown": [
       "Example of giving patterns and trends data:\n",
       "\n",
       "|     ein |   deduct_cd |   deduct_yr |\n",
       "|--------:|------------:|------------:|\n",
       "| 2001555 |           0 |           0 |\n",
       "| 2032809 |           0 |           0 |\n",
       "| 2126212 |           0 |           0 |\n",
       "| 2190092 |           0 |           0 |\n",
       "| 2209021 |           0 |           0 |"
      ],
      "text/plain": [
       "<IPython.core.display.Markdown object>"
      ]
     },
     "metadata": {},
     "output_type": "display_data"
    }
   ],
   "source": [
    "columns = ['ein','deduct_cd','deduct_yr']\n",
    "display_head(split_interest, columns, \"Example of giving patterns and trends data:\")"
   ]
  },
  {
   "cell_type": "markdown",
   "metadata": {},
   "source": [
    "## 4.6 General Compliance and Filing Information\n",
    "* rec_load_dt: The record load date might provide a timeline for data analysis, showing when information was last updated.\n",
    "* char_tin: Though not directly related to financial data, the trust's identification number could be useful for cross-referencing other databases or verifying information."
   ]
  },
  {
   "cell_type": "code",
   "execution_count": 11,
   "metadata": {},
   "outputs": [
    {
     "data": {
      "text/markdown": [
       "Example of general compliance and filing info data:\n",
       "\n",
       "|     ein | rec_load_dt   |   char_tin |\n",
       "|--------:|:--------------|-----------:|\n",
       "| 2001555 | 2022-01-21    | 2002001555 |\n",
       "| 2032809 | 2022-02-11    | 2002032809 |\n",
       "| 2126212 | 2022-01-21    | 2002126212 |\n",
       "| 2190092 | 2022-02-11    | 2002190092 |\n",
       "| 2209021 | 2022-10-14    | 2002209021 |"
      ],
      "text/plain": [
       "<IPython.core.display.Markdown object>"
      ]
     },
     "metadata": {},
     "output_type": "display_data"
    }
   ],
   "source": [
    "columns = ['ein','rec_load_dt','char_tin']\n",
    "display_head(split_interest, columns, \"Example of general compliance and filing info data:\")"
   ]
  }
 ],
 "metadata": {
  "kernelspec": {
   "display_name": "t_up",
   "language": "python",
   "name": "python3"
  },
  "language_info": {
   "codemirror_mode": {
    "name": "ipython",
    "version": 3
   },
   "file_extension": ".py",
   "mimetype": "text/x-python",
   "name": "python",
   "nbconvert_exporter": "python",
   "pygments_lexer": "ipython3",
   "version": "3.9.-1"
  }
 },
 "nbformat": 4,
 "nbformat_minor": 2
}
