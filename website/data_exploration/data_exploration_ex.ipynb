{
 "cells": [
  {
   "cell_type": "raw",
   "metadata": {},
   "source": [
    "---\n",
    "title: \"Northeast EO BMF Data Report\"\n",
    "author: \"Amelia Baier\"\n",
    "date: \"2024-03-15\"\n",
    "format: \n",
    "  html:\n",
    "    toc: true\n",
    "    toc-depth: 3\n",
    "    toc-title: \"Table of Contents\"\n",
    "    embed-resources: true\n",
    "    warnings: false\n",
    "    code-fold: true\n",
    "execute:\n",
    "  echo: true\n",
    "---"
   ]
  },
  {
   "cell_type": "markdown",
   "metadata": {},
   "source": [
    "# 1. Introduction\n",
    "\n",
    "This document aims to perform an initial exploration of the Exempt Organizations Business Master File (EO BMF) features and values to identify relevant variables for a detailed analysis of philanthropic giving within the environmental and social justice sectors. Additionally, we intend to assess the level of transparency and accountability of various organizations, leveraging the data provided by the EO BMF Extract to inform our inquiry.\n",
    "\n",
    "The EO BMF Extract provides information about an organization from the Internal Revenue Service's Business Master File. This is a cumulative file, and the data are the most recent information the IRS has for these organizations. Because the EO BMF is separated into csvs by regions, the csv used for this page's analysis is specfic to the Northeast, inclusive of Connecticut, Maine, Massachusetts, New Hampshire, New Jersey, New York, Rhode Island, Vermont. In the future, a page will be created for a deeper analysis on all regions, but for now, this is just to get familiar with the data fields. Futher information can be found on IRS.gov - https://www.irs.gov/charities-non-profits/exempt-organizations-business-master-file-extract-eo-bmf\n"
   ]
  },
  {
   "cell_type": "markdown",
   "metadata": {},
   "source": [
    "# 2. First Glance"
   ]
  },
  {
   "cell_type": "markdown",
   "metadata": {},
   "source": [
    "## 2.1. General Summary"
   ]
  },
  {
   "cell_type": "code",
   "execution_count": 2,
   "metadata": {},
   "outputs": [
    {
     "data": {
      "text/markdown": [
       "Data Dimensions:\n",
       "\n",
       "| Dimension   | Count   |\n",
       "|:------------|:--------|\n",
       "| Rows        | 267,136 |\n",
       "| Columns     | 28      |"
      ],
      "text/plain": [
       "<IPython.core.display.Markdown object>"
      ]
     },
     "metadata": {},
     "output_type": "display_data"
    },
    {
     "data": {
      "text/markdown": [
       "First Five Rows of Data:\n",
       "\n",
       "|    EIN | NAME                                             |   ICO | STREET                       | CITY         | STATE   | ZIP        |   GROUP |   SUBSECTION |   AFFILIATION |   CLASSIFICATION |   RULING |   DEDUCTIBILITY |   FOUNDATION |   ACTIVITY |   ORGANIZATION |   STATUS |   TAX_PERIOD |   ASSET_CD |   INCOME_CD |   FILING_REQ_CD |   PF_FILING_REQ_CD |   ACCT_PD |   ASSET_AMT |   INCOME_AMT |   REVENUE_AMT | NTEE_CD   |   SORT_NAME |\n",
       "|-------:|:-------------------------------------------------|------:|:-----------------------------|:-------------|:--------|:-----------|--------:|-------------:|--------------:|-----------------:|---------:|----------------:|-------------:|-----------:|---------------:|---------:|-------------:|-----------:|------------:|----------------:|-------------------:|----------:|------------:|-------------:|--------------:|:----------|------------:|\n",
       "|  19818 | PALMER SECOND BAPTIST CHURCH                     |   nan | 1050 THORNDIKE ST            | PALMER       | MA      | 01069-1507 |    3125 |            3 |             9 |             7000 |   195504 |               1 |           10 |    1000000 |              5 |        1 |          nan |          0 |           0 |               6 |                  0 |        12 |         nan |          nan |           nan | nan       |        3514 |\n",
       "|  29215 | ST GEORGE CATHEDRAL                              |   nan | 523 E BROADWAY               | SOUTH BOSTON | MA      | 02127-4415 |    2365 |            3 |             9 |             7000 |   197210 |               1 |           10 |    1000000 |              1 |        1 |          nan |          0 |           0 |               6 |                  0 |        12 |         nan |          nan |           nan | nan       |         nan |\n",
       "| 587764 | IGLESIA BETHESDA INC                             |   nan | 13 CUMMINGHAM ST             | LOWELL       | MA      | 01852-0000 |       0 |            3 |             3 |             7000 |   200401 |               1 |           10 |          0 |              1 |        1 |          nan |          0 |           0 |               6 |                  0 |        12 |         nan |          nan |           nan | X21       |         nan |\n",
       "| 635913 | MINISTERIO APOSTOLICO JESUCRISTO ES EL SENOR INC |   nan | 454 ESSEX ST                 | LAWRENCE     | MA      | 01840-1242 |       0 |            3 |             3 |             7000 |   200401 |               1 |           10 |          0 |              1 |        1 |          nan |          0 |           0 |               6 |                  0 |        12 |         nan |          nan |           nan | X21       |         nan |\n",
       "| 765634 | MERCY CHAPEL INTERNATIONAL                       |   nan | 75 MORTON VILLAGE DR APT 408 | MATTAPAN     | MA      | 02126-2433 |       0 |            3 |             3 |             7000 |   200404 |               1 |           10 |          0 |              1 |        1 |          nan |          0 |           0 |               6 |                  0 |        12 |         nan |          nan |           nan | X20       |         nan |"
      ],
      "text/plain": [
       "<IPython.core.display.Markdown object>"
      ]
     },
     "metadata": {},
     "output_type": "display_data"
    },
    {
     "data": {
      "text/markdown": [
       "Metadata:\n",
       "\n",
       "| Column Name      | Data Type   | Unique Values   | Missing Values   |\n",
       "|:-----------------|:------------|:----------------|:-----------------|\n",
       "| EIN              | int64       | 267,136         | 0                |\n",
       "| NAME             | object      | 230,144         | 0                |\n",
       "| ICO              | object      | 150,373         | 97,108           |\n",
       "| STREET           | object      | 182,953         | 0                |\n",
       "| CITY             | object      | 4,766           | 0                |\n",
       "| STATE            | object      | 8               | 0                |\n",
       "| ZIP              | object      | 196,389         | 0                |\n",
       "| GROUP            | int64       | 1,516           | 0                |\n",
       "| SUBSECTION       | int64       | 28              | 0                |\n",
       "| AFFILIATION      | int64       | 8               | 0                |\n",
       "| CLASSIFICATION   | int64       | 146             | 0                |\n",
       "| RULING           | int64       | 1,241           | 0                |\n",
       "| DEDUCTIBILITY    | int64       | 4               | 0                |\n",
       "| FOUNDATION       | int64       | 20              | 0                |\n",
       "| ACTIVITY         | int64       | 9,955           | 0                |\n",
       "| ORGANIZATION     | int64       | 7               | 0                |\n",
       "| STATUS           | int64       | 4               | 0                |\n",
       "| TAX_PERIOD       | float64     | 211             | 50,071           |\n",
       "| ASSET_CD         | int64       | 10              | 0                |\n",
       "| INCOME_CD        | int64       | 10              | 0                |\n",
       "| FILING_REQ_CD    | int64       | 8               | 0                |\n",
       "| PF_FILING_REQ_CD | int64       | 4               | 0                |\n",
       "| ACCT_PD          | int64       | 13              | 0                |\n",
       "| ASSET_AMT        | float64     | 104,745         | 52,430           |\n",
       "| INCOME_AMT       | float64     | 99,571          | 52,430           |\n",
       "| REVENUE_AMT      | float64     | 82,077          | 76,224           |\n",
       "| NTEE_CD          | object      | 2,938           | 80,923           |\n",
       "| SORT_NAME        | object      | 51,987          | 212,833          |"
      ],
      "text/plain": [
       "<IPython.core.display.Markdown object>"
      ]
     },
     "metadata": {},
     "output_type": "display_data"
    }
   ],
   "source": [
    "# Libraries for data manipulation.\n",
    "import pandas as pd\n",
    "import numpy as np\n",
    "\n",
    "# Libraries for data visualisation.\n",
    "import matplotlib.pyplot as plt\n",
    "import seaborn as sns\n",
    "import plotly.express as px\n",
    "import plotly.io as pio\n",
    "\n",
    "# Libraries for quarto rending\n",
    "from IPython.display import Markdown,display\n",
    "from tabulate import tabulate\n",
    "import plotly.io as pio\n",
    "\n",
    "# Remove warnings.\n",
    "import warnings\n",
    "warnings.filterwarnings(\"ignore\", category=UserWarning)\n",
    "\n",
    "# Read in data.\n",
    "df_reg_giv_irs_eo1 = pd.read_csv('../../data/Regional Giving Data IRS eo1.csv')\n",
    "\n",
    "# Print data dimensions.\n",
    "shape_caption = \"Data Dimensions:\"\n",
    "shape_df = pd.DataFrame({\n",
    "        'Dimension': ['Rows','Columns'],\n",
    "        'Count': [df_reg_giv_irs_eo1.shape[0], df_reg_giv_irs_eo1.shape[1]]\n",
    "    })\n",
    "shape_df['Count'] = shape_df['Count'].apply(lambda x: f\"{x:,}\")\n",
    "shape_markdown = shape_caption + \"\\n\\n\" + shape_df.to_markdown(index=False)\n",
    "display(Markdown(shape_markdown))\n",
    "\n",
    "# Print a sample of the data.\n",
    "first_five_rows_caption = \"First Five Rows of Data:\"\n",
    "first_five_rows_markdown = first_five_rows_caption + \"\\n\\n\" + df_reg_giv_irs_eo1.head().to_markdown(index=False)\n",
    "display(Markdown(first_five_rows_markdown))\n",
    "\n",
    "# Print metadata.\n",
    "metadata_caption = \"Metadata:\"\n",
    "column_metadata = []\n",
    "\n",
    "for col in df_reg_giv_irs_eo1.columns:\n",
    "    # Gather metadata for each col.\n",
    "    col_metadata = {\n",
    "        'Column Name': col,\n",
    "        'Data Type': str(df_reg_giv_irs_eo1[col].dtype),\n",
    "        'Unique Values': df_reg_giv_irs_eo1[col].nunique(),\n",
    "        'Missing Values': df_reg_giv_irs_eo1[col].isnull().sum()\n",
    "    }\n",
    "    # Append metadata to list.\n",
    "    column_metadata.append(col_metadata)\n",
    "\n",
    "# Convert list to pd df and then markdown table.\n",
    "metadata_df = pd.DataFrame(column_metadata)\n",
    "metadata_df['Unique Values'] = metadata_df['Unique Values'].apply(lambda x: f\"{x:,}\")\n",
    "metadata_df['Missing Values'] = metadata_df['Missing Values'].apply(lambda x: f\"{x:,}\")\n",
    "metadata_markdown = metadata_caption + \"\\n\\n\" + metadata_df.to_markdown(index=False)\n",
    "display(Markdown(metadata_markdown))"
   ]
  },
  {
   "cell_type": "markdown",
   "metadata": {},
   "source": [
    "## 2.2. Statistical Summary"
   ]
  },
  {
   "cell_type": "code",
   "execution_count": 3,
   "metadata": {
    "tags": [
     "\"hide\""
    ]
   },
   "outputs": [],
   "source": [
    "pd.options.display.float_format = '{:,.2f}'.format\n",
    "stat_sum_caption = \"Statistical Summary:\"\n",
    "\n",
    "formatted_df = df_reg_giv_irs_eo1.describe().copy()\n",
    "for col in formatted_df.select_dtypes(include=['float64', 'float32']).columns:\n",
    "    formatted_df[col] = formatted_df[col].apply(lambda x: f\"{x:,.2f}\")\n",
    "\n",
    "stat_sum_markdown = stat_sum_caption + \"\\n\\n\" + formatted_df.to_markdown(index=False)\n",
    "#display(Markdown(stat_sum_markdown))"
   ]
  },
  {
   "cell_type": "markdown",
   "metadata": {},
   "source": [
    "# 3. Data Preparation\n",
    "\n",
    "In this section, we detail the initial steps taken to prepare the Regional Giving Data from the IRS for analysis. Our goals are to ensure consistency in column naming, handle missing values appropriately, and convert data into formats that are suitable for our analytical needs. Please click the drop down arrow for more details on code used to achieve this.\n"
   ]
  },
  {
   "cell_type": "code",
   "execution_count": 4,
   "metadata": {},
   "outputs": [
    {
     "data": {
      "text/markdown": [
       "Cleaned data sample view:\n",
       "\n",
       "|    ein | name                                             |   ico | street                       | city         | state   | zip        |   group |   subsection |   affiliation |   classification | ruling              |   deductibility |   foundation |   activity |   organization |   status | tax_period   |   asset_cd |   income_cd |   filing_req_cd |   pf_filing_req_cd |   acct_pd |   asset_amt |   income_amt |   revenue_amt | ntee_cd   |   sort_name |\n",
       "|-------:|:-------------------------------------------------|------:|:-----------------------------|:-------------|:--------|:-----------|--------:|-------------:|--------------:|-----------------:|:--------------------|----------------:|-------------:|-----------:|---------------:|---------:|:-------------|-----------:|------------:|----------------:|-------------------:|----------:|------------:|-------------:|--------------:|:----------|------------:|\n",
       "|  19818 | PALMER SECOND BAPTIST CHURCH                     |   nan | 1050 THORNDIKE ST            | PALMER       | MA      | 01069-1507 |    3125 |            3 |             9 |             7000 | 1955-04-01 00:00:00 |               1 |           10 |    1000000 |              5 |        1 | NaT          |          0 |           0 |               6 |                  0 |        12 |         nan |          nan |           nan | Z         |        3514 |\n",
       "|  29215 | ST GEORGE CATHEDRAL                              |   nan | 523 E BROADWAY               | SOUTH BOSTON | MA      | 02127-4415 |    2365 |            3 |             9 |             7000 | 1972-10-01 00:00:00 |               1 |           10 |    1000000 |              1 |        1 | NaT          |          0 |           0 |               6 |                  0 |        12 |         nan |          nan |           nan | Z         |         nan |\n",
       "| 587764 | IGLESIA BETHESDA INC                             |   nan | 13 CUMMINGHAM ST             | LOWELL       | MA      | 01852-0000 |       0 |            3 |             3 |             7000 | 2004-01-01 00:00:00 |               1 |           10 |          0 |              1 |        1 | NaT          |          0 |           0 |               6 |                  0 |        12 |         nan |          nan |           nan | X21       |         nan |\n",
       "| 635913 | MINISTERIO APOSTOLICO JESUCRISTO ES EL SENOR INC |   nan | 454 ESSEX ST                 | LAWRENCE     | MA      | 01840-1242 |       0 |            3 |             3 |             7000 | 2004-01-01 00:00:00 |               1 |           10 |          0 |              1 |        1 | NaT          |          0 |           0 |               6 |                  0 |        12 |         nan |          nan |           nan | X21       |         nan |\n",
       "| 765634 | MERCY CHAPEL INTERNATIONAL                       |   nan | 75 MORTON VILLAGE DR APT 408 | MATTAPAN     | MA      | 02126-2433 |       0 |            3 |             3 |             7000 | 2004-04-01 00:00:00 |               1 |           10 |          0 |              1 |        1 | NaT          |          0 |           0 |               6 |                  0 |        12 |         nan |          nan |           nan | X20       |         nan |"
      ],
      "text/plain": [
       "<IPython.core.display.Markdown object>"
      ]
     },
     "metadata": {},
     "output_type": "display_data"
    }
   ],
   "source": [
    "# Standardize column names.\n",
    "df_reg_giv_irs_eo1.columns = [x.lower() for x in df_reg_giv_irs_eo1.columns]\n",
    "\n",
    "# Replace zeros with NaN for appropriate columns.\n",
    "df_reg_giv_irs_eo1['ruling'] = df_reg_giv_irs_eo1['ruling'].replace(0, np.nan)\n",
    "\n",
    "# Replace NaN with appropriate values accordingly.\n",
    "df_reg_giv_irs_eo1['ntee_cd'].fillna('Z', inplace=True) # Z stands for unknown according to data documentation.\n",
    "\n",
    "# Convert columns to appropriate data types.\n",
    "date_cols = ['ruling','tax_period']\n",
    "for col in date_cols:\n",
    "    df_reg_giv_irs_eo1[col] = df_reg_giv_irs_eo1[col].astype(str).str.replace('\\.0$', '', regex=True)\n",
    "    df_reg_giv_irs_eo1[col] = pd.to_datetime(df_reg_giv_irs_eo1[col], format='%Y%m', errors='coerce')\n",
    "\n",
    "# Show cleaned data.\n",
    "head_caption = \"Cleaned data sample view:\"\n",
    "head_df = df_reg_giv_irs_eo1.head().copy()\n",
    "head_markdown = head_caption + \"\\n\\n\" + head_df.to_markdown(index=False)\n",
    "display(Markdown(head_markdown))"
   ]
  },
  {
   "cell_type": "markdown",
   "metadata": {},
   "source": [
    "# 4. Analysis\n",
    "Objective: Determine if the Exempt Organization Business Master File can be used to conduct a comprehensive analysis of existing philanthropic giving in environmental and social justice. Additionally, can it be used to assess the level of transparency and accountability in current giving practices?\n"
   ]
  },
  {
   "cell_type": "markdown",
   "metadata": {},
   "source": [
    "## 4.1. Indentifying Relevant Organizations\n",
    "The EO BMF can be filtered to reflect organizations by their codes (reflecting their primary mission), enabling the identification of nonprofits focused on environmental protection, social justice, advocacy, and related activities. This step is crucial for creating a focused dataset of relevant organizations for our objective above.\n",
    "\n",
    "**Action item**: Review with team to determine which column makes the most sense to use to filter relevant orgs. Options include:\n",
    "* Subection and Classification codes.\n",
    "* National Taxonomy of Exempt Entities (NTEE) codes (many are missing unfortunately).\n",
    "* Foundation codes.\n",
    "* Activity codes (most likely not useful since becoming obsolete with the adoption of the NTEE coding system in January 1995)."
   ]
  },
  {
   "cell_type": "markdown",
   "metadata": {},
   "source": [
    "### 4.1.1. Using Subsection & Classification Codes\n"
   ]
  },
  {
   "cell_type": "markdown",
   "metadata": {},
   "source": [
    "Subsection Codes are the codes shown under section 501(c) of the Internal Revenue Code of 1986, which define the\n",
    "category under which an organization may be exempt. A table of subsection and classification codes (which reflects a\n",
    "further breakdown of the Internal Revenue Code subsections) can be found in the section entitled \"Table of EO Subsection and Classification Codes\" (below). One to four different classification codes may be present. - https://www.irs.gov/pub/irs-soi/eo-info.pdf\n",
    "\n",
    "**Action Item**: CLASSIFICATION field is not clear. Confirm if 7000 should be interpreted as 7. Some fields not in CLASSIFICIATION code documentation such as 9510 (there is no 9 classification code - it only goes up to 8 in the documentation).\n",
    "\n",
    "**Action Item**: If this methodology is chosen to filter the dataset organizations, which codes should be used?"
   ]
  },
  {
   "cell_type": "code",
   "execution_count": 5,
   "metadata": {},
   "outputs": [
    {
     "data": {
      "text/markdown": [
       "Ex. of subsection and classifiation data for various EINs:"
      ],
      "text/plain": [
       "<IPython.core.display.Markdown object>"
      ]
     },
     "metadata": {},
     "output_type": "display_data"
    },
    {
     "data": {
      "text/html": [
       "<div>\n",
       "<style scoped>\n",
       "    .dataframe tbody tr th:only-of-type {\n",
       "        vertical-align: middle;\n",
       "    }\n",
       "\n",
       "    .dataframe tbody tr th {\n",
       "        vertical-align: top;\n",
       "    }\n",
       "\n",
       "    .dataframe thead th {\n",
       "        text-align: right;\n",
       "    }\n",
       "</style>\n",
       "<table border=\"1\" class=\"dataframe\">\n",
       "  <thead>\n",
       "    <tr style=\"text-align: right;\">\n",
       "      <th></th>\n",
       "      <th>ein</th>\n",
       "      <th>subsection</th>\n",
       "      <th>classification</th>\n",
       "    </tr>\n",
       "  </thead>\n",
       "  <tbody>\n",
       "    <tr>\n",
       "      <th>0</th>\n",
       "      <td>19818</td>\n",
       "      <td>3</td>\n",
       "      <td>7000</td>\n",
       "    </tr>\n",
       "    <tr>\n",
       "      <th>1</th>\n",
       "      <td>29215</td>\n",
       "      <td>3</td>\n",
       "      <td>7000</td>\n",
       "    </tr>\n",
       "    <tr>\n",
       "      <th>2</th>\n",
       "      <td>587764</td>\n",
       "      <td>3</td>\n",
       "      <td>7000</td>\n",
       "    </tr>\n",
       "    <tr>\n",
       "      <th>3</th>\n",
       "      <td>635913</td>\n",
       "      <td>3</td>\n",
       "      <td>7000</td>\n",
       "    </tr>\n",
       "    <tr>\n",
       "      <th>4</th>\n",
       "      <td>765634</td>\n",
       "      <td>3</td>\n",
       "      <td>7000</td>\n",
       "    </tr>\n",
       "  </tbody>\n",
       "</table>\n",
       "</div>"
      ],
      "text/plain": [
       "      ein  subsection  classification\n",
       "0   19818           3            7000\n",
       "1   29215           3            7000\n",
       "2  587764           3            7000\n",
       "3  635913           3            7000\n",
       "4  765634           3            7000"
      ]
     },
     "execution_count": 5,
     "metadata": {},
     "output_type": "execute_result"
    }
   ],
   "source": [
    "display(Markdown(f\"Ex. of subsection and classifiation data for various EINs:\"))\n",
    "\n",
    "df_reg_giv_irs_eo1[['ein','subsection','classification']].tail(5)\n",
    "df_reg_giv_irs_eo1[['ein','subsection','classification']].head(5)"
   ]
  },
  {
   "cell_type": "code",
   "execution_count": 6,
   "metadata": {},
   "outputs": [
    {
     "data": {
      "text/markdown": [
       "Value counts for classification:"
      ],
      "text/plain": [
       "<IPython.core.display.Markdown object>"
      ]
     },
     "metadata": {},
     "output_type": "display_data"
    },
    {
     "data": {
      "text/html": [
       "<div>\n",
       "<style scoped>\n",
       "    .dataframe tbody tr th:only-of-type {\n",
       "        vertical-align: middle;\n",
       "    }\n",
       "\n",
       "    .dataframe tbody tr th {\n",
       "        vertical-align: top;\n",
       "    }\n",
       "\n",
       "    .dataframe thead th {\n",
       "        text-align: right;\n",
       "    }\n",
       "</style>\n",
       "<table border=\"1\" class=\"dataframe\">\n",
       "  <thead>\n",
       "    <tr style=\"text-align: right;\">\n",
       "      <th>classification</th>\n",
       "      <th>1000</th>\n",
       "      <th>2000</th>\n",
       "      <th>7000</th>\n",
       "      <th>1200</th>\n",
       "      <th>3000</th>\n",
       "      <th>1700</th>\n",
       "      <th>2100</th>\n",
       "      <th>1270</th>\n",
       "      <th>7100</th>\n",
       "      <th>4000</th>\n",
       "      <th>...</th>\n",
       "      <th>7231</th>\n",
       "      <th>1470</th>\n",
       "      <th>9510</th>\n",
       "      <th>2510</th>\n",
       "      <th>3800</th>\n",
       "      <th>2150</th>\n",
       "      <th>9100</th>\n",
       "      <th>1287</th>\n",
       "      <th>2367</th>\n",
       "      <th>2560</th>\n",
       "    </tr>\n",
       "  </thead>\n",
       "  <tbody>\n",
       "    <tr>\n",
       "      <th>Number of orgs.</th>\n",
       "      <td>138227</td>\n",
       "      <td>34793</td>\n",
       "      <td>32520</td>\n",
       "      <td>27399</td>\n",
       "      <td>13102</td>\n",
       "      <td>4601</td>\n",
       "      <td>2278</td>\n",
       "      <td>2100</td>\n",
       "      <td>1170</td>\n",
       "      <td>1165</td>\n",
       "      <td>...</td>\n",
       "      <td>1</td>\n",
       "      <td>1</td>\n",
       "      <td>1</td>\n",
       "      <td>1</td>\n",
       "      <td>1</td>\n",
       "      <td>1</td>\n",
       "      <td>1</td>\n",
       "      <td>1</td>\n",
       "      <td>1</td>\n",
       "      <td>1</td>\n",
       "    </tr>\n",
       "  </tbody>\n",
       "</table>\n",
       "<p>1 rows × 146 columns</p>\n",
       "</div>"
      ],
      "text/plain": [
       "classification     1000   2000   7000   1200   3000  1700  2100  1270  7100  \\\n",
       "Number of orgs.  138227  34793  32520  27399  13102  4601  2278  2100  1170   \n",
       "\n",
       "classification   4000  ...  7231  1470  9510  2510  3800  2150  9100  1287  \\\n",
       "Number of orgs.  1165  ...     1     1     1     1     1     1     1     1   \n",
       "\n",
       "classification   2367  2560  \n",
       "Number of orgs.     1     1  \n",
       "\n",
       "[1 rows x 146 columns]"
      ]
     },
     "execution_count": 6,
     "metadata": {},
     "output_type": "execute_result"
    }
   ],
   "source": [
    "display(Markdown(f\"Value counts for classification:\"))\n",
    "\n",
    "df_reg_giv_irs_eo1['classification'].value_counts().to_frame(name='Number of orgs.').T"
   ]
  },
  {
   "cell_type": "markdown",
   "metadata": {},
   "source": [
    "### 4.1.2. Using National Taxonomy of Exempt Entities (NTEE) Code Information:\n",
    "\n",
    "The National Taxonomy of Exempt Entities (NTEE) Code is a four-digit code used to classify an exempt organization in\n",
    "terms of its primary exempt activity. A table of the codes found in the first three digits can be found below. The first digit (Common Code) is a modifier used to describe activities in support of nonprofit organizations. The fourth digit further defines the classification of the organization and is not defined here. - https://www.irs.gov/pub/irs-soi/eo-info.pdf\n",
    "\n",
    "**Action Item**: If this methodology is chosen to filter the dataset organizations, which codes should be used?"
   ]
  },
  {
   "cell_type": "code",
   "execution_count": 7,
   "metadata": {},
   "outputs": [
    {
     "data": {
      "text/markdown": [
       "Ex. of NTEE data for various EIN:"
      ],
      "text/plain": [
       "<IPython.core.display.Markdown object>"
      ]
     },
     "metadata": {},
     "output_type": "display_data"
    },
    {
     "data": {
      "text/html": [
       "<div>\n",
       "<style scoped>\n",
       "    .dataframe tbody tr th:only-of-type {\n",
       "        vertical-align: middle;\n",
       "    }\n",
       "\n",
       "    .dataframe tbody tr th {\n",
       "        vertical-align: top;\n",
       "    }\n",
       "\n",
       "    .dataframe thead th {\n",
       "        text-align: right;\n",
       "    }\n",
       "</style>\n",
       "<table border=\"1\" class=\"dataframe\">\n",
       "  <thead>\n",
       "    <tr style=\"text-align: right;\">\n",
       "      <th></th>\n",
       "      <th>ein</th>\n",
       "      <th>ntee_cd</th>\n",
       "    </tr>\n",
       "  </thead>\n",
       "  <tbody>\n",
       "    <tr>\n",
       "      <th>0</th>\n",
       "      <td>19818</td>\n",
       "      <td>Z</td>\n",
       "    </tr>\n",
       "    <tr>\n",
       "      <th>1</th>\n",
       "      <td>29215</td>\n",
       "      <td>Z</td>\n",
       "    </tr>\n",
       "    <tr>\n",
       "      <th>2</th>\n",
       "      <td>587764</td>\n",
       "      <td>X21</td>\n",
       "    </tr>\n",
       "    <tr>\n",
       "      <th>3</th>\n",
       "      <td>635913</td>\n",
       "      <td>X21</td>\n",
       "    </tr>\n",
       "    <tr>\n",
       "      <th>4</th>\n",
       "      <td>765634</td>\n",
       "      <td>X20</td>\n",
       "    </tr>\n",
       "  </tbody>\n",
       "</table>\n",
       "</div>"
      ],
      "text/plain": [
       "      ein ntee_cd\n",
       "0   19818       Z\n",
       "1   29215       Z\n",
       "2  587764     X21\n",
       "3  635913     X21\n",
       "4  765634     X20"
      ]
     },
     "execution_count": 7,
     "metadata": {},
     "output_type": "execute_result"
    }
   ],
   "source": [
    "display(Markdown(f\"Ex. of NTEE data for various EIN:\"))\n",
    "df_reg_giv_irs_eo1[['ein','ntee_cd']].head(5)"
   ]
  },
  {
   "cell_type": "code",
   "execution_count": 8,
   "metadata": {},
   "outputs": [
    {
     "data": {
      "text/markdown": [
       "NTEE Code Distribution:"
      ],
      "text/plain": [
       "<IPython.core.display.Markdown object>"
      ]
     },
     "metadata": {},
     "output_type": "display_data"
    },
    {
     "data": {
      "text/html": [
       "<div>\n",
       "<style scoped>\n",
       "    .dataframe tbody tr th:only-of-type {\n",
       "        vertical-align: middle;\n",
       "    }\n",
       "\n",
       "    .dataframe tbody tr th {\n",
       "        vertical-align: top;\n",
       "    }\n",
       "\n",
       "    .dataframe thead th {\n",
       "        text-align: right;\n",
       "    }\n",
       "</style>\n",
       "<table border=\"1\" class=\"dataframe\">\n",
       "  <thead>\n",
       "    <tr style=\"text-align: right;\">\n",
       "      <th>category_desc</th>\n",
       "      <th>Unknown</th>\n",
       "      <th>Education</th>\n",
       "      <th>Religion-Related</th>\n",
       "      <th>Arts, Culture and Humanities</th>\n",
       "      <th>Philanthropy, Voluntarism and Grantmaking Foundations</th>\n",
       "      <th>Human Services</th>\n",
       "      <th>Recreation &amp; Sports</th>\n",
       "      <th>Community Improvement &amp; Capacity Building</th>\n",
       "      <th>Health Care</th>\n",
       "      <th>Youth Development</th>\n",
       "      <th>...</th>\n",
       "      <th>Mental Health &amp; Crisis Intervention</th>\n",
       "      <th>Mutual &amp; Membership Benefit</th>\n",
       "      <th>Employment</th>\n",
       "      <th>Voluntary Health Associations &amp; Medical Disciplines</th>\n",
       "      <th>Food, Agriculture and Nutrition</th>\n",
       "      <th>Crime &amp; Legal-Related</th>\n",
       "      <th>Civil Rights, Social Action &amp; Advocacy</th>\n",
       "      <th>Medical Research</th>\n",
       "      <th>Science &amp; Technology</th>\n",
       "      <th>Social Science</th>\n",
       "    </tr>\n",
       "  </thead>\n",
       "  <tbody>\n",
       "    <tr>\n",
       "      <th>Number of orgs:</th>\n",
       "      <td>82281</td>\n",
       "      <td>25094</td>\n",
       "      <td>24718</td>\n",
       "      <td>20030</td>\n",
       "      <td>19366</td>\n",
       "      <td>18092</td>\n",
       "      <td>13866</td>\n",
       "      <td>8801</td>\n",
       "      <td>6608</td>\n",
       "      <td>5497</td>\n",
       "      <td>...</td>\n",
       "      <td>2763</td>\n",
       "      <td>2586</td>\n",
       "      <td>2536</td>\n",
       "      <td>2347</td>\n",
       "      <td>2113</td>\n",
       "      <td>1585</td>\n",
       "      <td>1497</td>\n",
       "      <td>1157</td>\n",
       "      <td>789</td>\n",
       "      <td>305</td>\n",
       "    </tr>\n",
       "  </tbody>\n",
       "</table>\n",
       "<p>1 rows × 26 columns</p>\n",
       "</div>"
      ],
      "text/plain": [
       "category_desc    Unknown  Education  Religion-Related  \\\n",
       "Number of orgs:    82281      25094             24718   \n",
       "\n",
       "category_desc    Arts, Culture and Humanities  \\\n",
       "Number of orgs:                         20030   \n",
       "\n",
       "category_desc    Philanthropy, Voluntarism and Grantmaking Foundations  \\\n",
       "Number of orgs:                                              19366       \n",
       "\n",
       "category_desc    Human Services  Recreation & Sports  \\\n",
       "Number of orgs:           18092                13866   \n",
       "\n",
       "category_desc    Community Improvement & Capacity Building  Health Care  \\\n",
       "Number of orgs:                                       8801         6608   \n",
       "\n",
       "category_desc    Youth Development  ...  Mental Health & Crisis Intervention  \\\n",
       "Number of orgs:               5497  ...                                 2763   \n",
       "\n",
       "category_desc    Mutual & Membership Benefit  Employment  \\\n",
       "Number of orgs:                         2586        2536   \n",
       "\n",
       "category_desc    Voluntary Health Associations & Medical Disciplines  \\\n",
       "Number of orgs:                                               2347     \n",
       "\n",
       "category_desc    Food, Agriculture and Nutrition  Crime & Legal-Related  \\\n",
       "Number of orgs:                             2113                   1585   \n",
       "\n",
       "category_desc    Civil Rights, Social Action & Advocacy  Medical Research  \\\n",
       "Number of orgs:                                    1497              1157   \n",
       "\n",
       "category_desc    Science & Technology  Social Science  \n",
       "Number of orgs:                   789             305  \n",
       "\n",
       "[1 rows x 26 columns]"
      ]
     },
     "execution_count": 8,
     "metadata": {},
     "output_type": "execute_result"
    }
   ],
   "source": [
    "ntee_mapping = {\n",
    "    'A': 'Arts, Culture and Humanities',\n",
    "    'B': 'Education',\n",
    "    'C': 'Environment',\n",
    "    'D': 'Animal-Related',\n",
    "    'E': 'Health Care',\n",
    "    'F': 'Mental Health & Crisis Intervention',\n",
    "    'G': 'Voluntary Health Associations & Medical Disciplines',\n",
    "    'H': 'Medical Research',\n",
    "    'I': 'Crime & Legal-Related',\n",
    "    'J': 'Employment',\n",
    "    'K': 'Food, Agriculture and Nutrition',\n",
    "    'L': 'Housing & Shelter',\n",
    "    'M': 'Public Safety, Disaster Preparedness and Relief',\n",
    "    'N': 'Recreation & Sports',\n",
    "    'O': 'Youth Development',\n",
    "    'P': 'Human Services',\n",
    "    'Q': 'International, Foreign Affairs and National Security',\n",
    "    'R': 'Civil Rights, Social Action & Advocacy',\n",
    "    'S': 'Community Improvement & Capacity Building',\n",
    "    'T': 'Philanthropy, Voluntarism and Grantmaking Foundations',\n",
    "    'U': 'Science & Technology',\n",
    "    'V': 'Social Science',\n",
    "    'W': 'Public & Societal Benefit',\n",
    "    'X': 'Religion-Related',\n",
    "    'Y': 'Mutual & Membership Benefit',\n",
    "    'Z': 'Unknown'\n",
    "}\n",
    "\n",
    "# Extract the first letter of NTEE_CD and map it to its description\n",
    "df_reg_giv_irs_eo1['category'] = df_reg_giv_irs_eo1['ntee_cd'].str[0]\n",
    "df_reg_giv_irs_eo1['category_desc'] = df_reg_giv_irs_eo1['category'].map(ntee_mapping)\n",
    "\n",
    "display(Markdown(f\"NTEE Code Distribution:\"))\n",
    "df_reg_giv_irs_eo1['category_desc'].value_counts().to_frame(name=\"Number of orgs:\").T"
   ]
  },
  {
   "cell_type": "code",
   "execution_count": 9,
   "metadata": {},
   "outputs": [
    {
     "data": {
      "text/markdown": [
       "Environment Specific NTEE Code Distribution:"
      ],
      "text/plain": [
       "<IPython.core.display.Markdown object>"
      ]
     },
     "metadata": {},
     "output_type": "display_data"
    },
    {
     "data": {
      "text/html": [
       "<div>\n",
       "<style scoped>\n",
       "    .dataframe tbody tr th:only-of-type {\n",
       "        vertical-align: middle;\n",
       "    }\n",
       "\n",
       "    .dataframe tbody tr th {\n",
       "        vertical-align: top;\n",
       "    }\n",
       "\n",
       "    .dataframe thead th {\n",
       "        text-align: right;\n",
       "    }\n",
       "</style>\n",
       "<table border=\"1\" class=\"dataframe\">\n",
       "  <thead>\n",
       "    <tr style=\"text-align: right;\">\n",
       "      <th>environment_cat_desc</th>\n",
       "      <th>Natural Resources Conservation and Protection</th>\n",
       "      <th>Water Resource, Wetlands Conservation and Management</th>\n",
       "      <th>Garden Club, Horticultural Program</th>\n",
       "      <th>Land Resources Conservation</th>\n",
       "      <th>Environmental Education and Outdoor Survival Programs</th>\n",
       "      <th>Environmental Quality, Protection, and Beautification N.E.C.</th>\n",
       "      <th>Environmental Beautification and Aesthetics</th>\n",
       "      <th>Alliance/Advocacy Organizations</th>\n",
       "      <th>Pollution Abatement and Control Services</th>\n",
       "      <th>Energy Resources Conservation and Development</th>\n",
       "      <th>Recycling Programs</th>\n",
       "      <th>Botanical Gardens, Arboreta and Botanical Organizations</th>\n",
       "      <th>Research Institutes and/or Public Policy Analysis</th>\n",
       "      <th>Professional Societies, Associations</th>\n",
       "      <th>Single Organization Support</th>\n",
       "      <th>Fund Raising and/or Fund Distribution</th>\n",
       "      <th>Forest Conservation</th>\n",
       "      <th>Botanical, Horticultural, and Landscape Services</th>\n",
       "      <th>Management &amp; Technical Assistance</th>\n",
       "      <th>Nonmonetary Support N.E.C.</th>\n",
       "    </tr>\n",
       "  </thead>\n",
       "  <tbody>\n",
       "    <tr>\n",
       "      <th>Number of orgs</th>\n",
       "      <td>776</td>\n",
       "      <td>537</td>\n",
       "      <td>521</td>\n",
       "      <td>478</td>\n",
       "      <td>411</td>\n",
       "      <td>308</td>\n",
       "      <td>290</td>\n",
       "      <td>267</td>\n",
       "      <td>123</td>\n",
       "      <td>103</td>\n",
       "      <td>99</td>\n",
       "      <td>84</td>\n",
       "      <td>82</td>\n",
       "      <td>72</td>\n",
       "      <td>71</td>\n",
       "      <td>70</td>\n",
       "      <td>62</td>\n",
       "      <td>55</td>\n",
       "      <td>36</td>\n",
       "      <td>16</td>\n",
       "    </tr>\n",
       "  </tbody>\n",
       "</table>\n",
       "</div>"
      ],
      "text/plain": [
       "environment_cat_desc  Natural Resources Conservation and Protection  \\\n",
       "Number of orgs                                                  776   \n",
       "\n",
       "environment_cat_desc  Water Resource, Wetlands Conservation and Management  \\\n",
       "Number of orgs                                                      537      \n",
       "\n",
       "environment_cat_desc  Garden Club, Horticultural Program  \\\n",
       "Number of orgs                                       521   \n",
       "\n",
       "environment_cat_desc  Land Resources Conservation  \\\n",
       "Number of orgs                                478   \n",
       "\n",
       "environment_cat_desc  Environmental Education and Outdoor Survival Programs  \\\n",
       "Number of orgs                                                      411       \n",
       "\n",
       "environment_cat_desc  Environmental Quality, Protection, and Beautification N.E.C.  \\\n",
       "Number of orgs                                                      308              \n",
       "\n",
       "environment_cat_desc  Environmental Beautification and Aesthetics  \\\n",
       "Number of orgs                                                290   \n",
       "\n",
       "environment_cat_desc  Alliance/Advocacy Organizations  \\\n",
       "Number of orgs                                    267   \n",
       "\n",
       "environment_cat_desc  Pollution Abatement and Control Services  \\\n",
       "Number of orgs                                             123   \n",
       "\n",
       "environment_cat_desc  Energy Resources Conservation and Development  \\\n",
       "Number of orgs                                                  103   \n",
       "\n",
       "environment_cat_desc  Recycling Programs  \\\n",
       "Number of orgs                        99   \n",
       "\n",
       "environment_cat_desc  Botanical Gardens, Arboreta and Botanical Organizations  \\\n",
       "Number of orgs                                                       84         \n",
       "\n",
       "environment_cat_desc  Research Institutes and/or Public Policy Analysis  \\\n",
       "Number of orgs                                                       82   \n",
       "\n",
       "environment_cat_desc  Professional Societies, Associations  \\\n",
       "Number of orgs                                          72   \n",
       "\n",
       "environment_cat_desc  Single Organization Support  \\\n",
       "Number of orgs                                 71   \n",
       "\n",
       "environment_cat_desc  Fund Raising and/or Fund Distribution  \\\n",
       "Number of orgs                                           70   \n",
       "\n",
       "environment_cat_desc  Forest Conservation  \\\n",
       "Number of orgs                         62   \n",
       "\n",
       "environment_cat_desc  Botanical, Horticultural, and Landscape Services  \\\n",
       "Number of orgs                                                      55   \n",
       "\n",
       "environment_cat_desc  Management & Technical Assistance  \\\n",
       "Number of orgs                                       36   \n",
       "\n",
       "environment_cat_desc  Nonmonetary Support N.E.C.  \n",
       "Number of orgs                                16  "
      ]
     },
     "execution_count": 9,
     "metadata": {},
     "output_type": "execute_result"
    }
   ],
   "source": [
    "ntee_env_mapping = {\n",
    "    \"C01\": \"Alliance/Advocacy Organizations\",\n",
    "    \"C02\": \"Management & Technical Assistance\",\n",
    "    \"C03\": \"Professional Societies, Associations\",\n",
    "    \"C05\": \"Research Institutes and/or Public Policy Analysis\",\n",
    "    \"C11\": \"Single Organization Support\",\n",
    "    \"C12\": \"Fund Raising and/or Fund Distribution\",\n",
    "    \"C19\": \"Nonmonetary Support N.E.C.\",\n",
    "    \"C20\": \"Pollution Abatement and Control Services\",\n",
    "    \"C27\": \"Recycling Programs\",\n",
    "    \"C30\": \"Natural Resources Conservation and Protection\",\n",
    "    \"C32\": \"Water Resource, Wetlands Conservation and Management\",\n",
    "    \"C34\": \"Land Resources Conservation\",\n",
    "    \"C35\": \"Energy Resources Conservation and Development\",\n",
    "    \"C36\": \"Forest Conservation\",\n",
    "    \"C40\": \"Botanical, Horticultural, and Landscape Services\",\n",
    "    \"C41\": \"Botanical Gardens, Arboreta and Botanical Organizations\",\n",
    "    \"C42\": \"Garden Club, Horticultural Program\",\n",
    "    \"C50\": \"Environmental Beautification and Aesthetics\",\n",
    "    \"C60\": \"Environmental Education and Outdoor Survival Programs\",\n",
    "    \"C99\": \"Environmental Quality, Protection, and Beautification N.E.C.\"\n",
    "    }\n",
    "\n",
    "df_reg_giv_irs_eo1['env_category'] = df_reg_giv_irs_eo1['ntee_cd'].str[0:3]\n",
    "df_reg_giv_irs_eo1['environment_cat_desc'] = df_reg_giv_irs_eo1['env_category'].map(ntee_env_mapping)\n",
    "\n",
    "display(Markdown(f\"Environment Specific NTEE Code Distribution:\"))\n",
    "df_reg_giv_irs_eo1['environment_cat_desc'].value_counts().to_frame(name=\"Number of orgs\").T"
   ]
  },
  {
   "cell_type": "markdown",
   "metadata": {},
   "source": [
    "### 4.1.3. Using Foundation Codes:\n",
    "\n",
    "The documentation for this column lacks a formal definition. - https://www.irs.gov/pub/irs-soi/eo-info.pdf\n",
    "\n",
    "Sample of possible values:\n",
    "\n",
    "* 00 All organizations except 501(c)(3)\n",
    "* 02 Private operating foundation exempt from paying excise taxes on investment income\n",
    "* 03 Private operating foundation (other)\n",
    "* 04 Private non-operating foundation\n",
    "* 09 Suspense\n",
    "* 10 Church 170(b)(1)(A)(i)\n",
    "  \n",
    "**Action Item**: If this methodology is chosen to filter the dataset organizations, which codes should be used?"
   ]
  },
  {
   "cell_type": "code",
   "execution_count": 10,
   "metadata": {},
   "outputs": [
    {
     "data": {
      "text/markdown": [
       "Ex. of Foundation Code data for various EIN:"
      ],
      "text/plain": [
       "<IPython.core.display.Markdown object>"
      ]
     },
     "metadata": {},
     "output_type": "display_data"
    },
    {
     "data": {
      "text/html": [
       "<div>\n",
       "<style scoped>\n",
       "    .dataframe tbody tr th:only-of-type {\n",
       "        vertical-align: middle;\n",
       "    }\n",
       "\n",
       "    .dataframe tbody tr th {\n",
       "        vertical-align: top;\n",
       "    }\n",
       "\n",
       "    .dataframe thead th {\n",
       "        text-align: right;\n",
       "    }\n",
       "</style>\n",
       "<table border=\"1\" class=\"dataframe\">\n",
       "  <thead>\n",
       "    <tr style=\"text-align: right;\">\n",
       "      <th></th>\n",
       "      <th>ein</th>\n",
       "      <th>foundation</th>\n",
       "    </tr>\n",
       "  </thead>\n",
       "  <tbody>\n",
       "    <tr>\n",
       "      <th>0</th>\n",
       "      <td>19818</td>\n",
       "      <td>10</td>\n",
       "    </tr>\n",
       "    <tr>\n",
       "      <th>1</th>\n",
       "      <td>29215</td>\n",
       "      <td>10</td>\n",
       "    </tr>\n",
       "    <tr>\n",
       "      <th>2</th>\n",
       "      <td>587764</td>\n",
       "      <td>10</td>\n",
       "    </tr>\n",
       "    <tr>\n",
       "      <th>3</th>\n",
       "      <td>635913</td>\n",
       "      <td>10</td>\n",
       "    </tr>\n",
       "    <tr>\n",
       "      <th>4</th>\n",
       "      <td>765634</td>\n",
       "      <td>10</td>\n",
       "    </tr>\n",
       "  </tbody>\n",
       "</table>\n",
       "</div>"
      ],
      "text/plain": [
       "      ein  foundation\n",
       "0   19818          10\n",
       "1   29215          10\n",
       "2  587764          10\n",
       "3  635913          10\n",
       "4  765634          10"
      ]
     },
     "execution_count": 10,
     "metadata": {},
     "output_type": "execute_result"
    }
   ],
   "source": [
    "display(Markdown(f\"Ex. of Foundation Code data for various EIN:\"))\n",
    "df_reg_giv_irs_eo1[['ein','foundation']].head(5)\n"
   ]
  },
  {
   "cell_type": "markdown",
   "metadata": {},
   "source": [
    "## 4.2. Geographic Distribution\n",
    "\n",
    "State and region are determined from the filing address and generally represent the location of an\n",
    "organization’s headquarters, which may or may not represent the state(s) in which an organization has operations. - https://www.irs.gov/pub/irs-soi/eo-info.pdf\n",
    "\n",
    "By analyzing the addresses of the organizations, one can understand the geographic distribution of philanthropic efforts towards certain causes. This may help in assessing regional focuses and potential areas of need or gaps in support.\n"
   ]
  },
  {
   "cell_type": "code",
   "execution_count": 11,
   "metadata": {},
   "outputs": [
    {
     "data": {
      "text/markdown": [
       "Ex. of Geographic Columns:"
      ],
      "text/plain": [
       "<IPython.core.display.Markdown object>"
      ]
     },
     "metadata": {},
     "output_type": "display_data"
    },
    {
     "data": {
      "text/html": [
       "<div>\n",
       "<style scoped>\n",
       "    .dataframe tbody tr th:only-of-type {\n",
       "        vertical-align: middle;\n",
       "    }\n",
       "\n",
       "    .dataframe tbody tr th {\n",
       "        vertical-align: top;\n",
       "    }\n",
       "\n",
       "    .dataframe thead th {\n",
       "        text-align: right;\n",
       "    }\n",
       "</style>\n",
       "<table border=\"1\" class=\"dataframe\">\n",
       "  <thead>\n",
       "    <tr style=\"text-align: right;\">\n",
       "      <th></th>\n",
       "      <th>ein</th>\n",
       "      <th>street</th>\n",
       "      <th>city</th>\n",
       "      <th>state</th>\n",
       "      <th>zip</th>\n",
       "    </tr>\n",
       "  </thead>\n",
       "  <tbody>\n",
       "    <tr>\n",
       "      <th>0</th>\n",
       "      <td>19818</td>\n",
       "      <td>1050 THORNDIKE ST</td>\n",
       "      <td>PALMER</td>\n",
       "      <td>MA</td>\n",
       "      <td>01069-1507</td>\n",
       "    </tr>\n",
       "    <tr>\n",
       "      <th>1</th>\n",
       "      <td>29215</td>\n",
       "      <td>523 E BROADWAY</td>\n",
       "      <td>SOUTH BOSTON</td>\n",
       "      <td>MA</td>\n",
       "      <td>02127-4415</td>\n",
       "    </tr>\n",
       "    <tr>\n",
       "      <th>2</th>\n",
       "      <td>587764</td>\n",
       "      <td>13 CUMMINGHAM ST</td>\n",
       "      <td>LOWELL</td>\n",
       "      <td>MA</td>\n",
       "      <td>01852-0000</td>\n",
       "    </tr>\n",
       "    <tr>\n",
       "      <th>3</th>\n",
       "      <td>635913</td>\n",
       "      <td>454 ESSEX ST</td>\n",
       "      <td>LAWRENCE</td>\n",
       "      <td>MA</td>\n",
       "      <td>01840-1242</td>\n",
       "    </tr>\n",
       "    <tr>\n",
       "      <th>4</th>\n",
       "      <td>765634</td>\n",
       "      <td>75 MORTON VILLAGE DR APT 408</td>\n",
       "      <td>MATTAPAN</td>\n",
       "      <td>MA</td>\n",
       "      <td>02126-2433</td>\n",
       "    </tr>\n",
       "  </tbody>\n",
       "</table>\n",
       "</div>"
      ],
      "text/plain": [
       "      ein                        street          city state         zip\n",
       "0   19818             1050 THORNDIKE ST        PALMER    MA  01069-1507\n",
       "1   29215                523 E BROADWAY  SOUTH BOSTON    MA  02127-4415\n",
       "2  587764              13 CUMMINGHAM ST        LOWELL    MA  01852-0000\n",
       "3  635913                  454 ESSEX ST      LAWRENCE    MA  01840-1242\n",
       "4  765634  75 MORTON VILLAGE DR APT 408      MATTAPAN    MA  02126-2433"
      ]
     },
     "execution_count": 11,
     "metadata": {},
     "output_type": "execute_result"
    }
   ],
   "source": [
    "display(Markdown(f\"Ex. of Geographic Columns:\"))\n",
    "df_reg_giv_irs_eo1[['ein','street','city','state','zip']].head()"
   ]
  },
  {
   "cell_type": "code",
   "execution_count": 12,
   "metadata": {},
   "outputs": [
    {
     "data": {
      "text/html": [
       "<div>\n",
       "<style scoped>\n",
       "    .dataframe tbody tr th:only-of-type {\n",
       "        vertical-align: middle;\n",
       "    }\n",
       "\n",
       "    .dataframe tbody tr th {\n",
       "        vertical-align: top;\n",
       "    }\n",
       "\n",
       "    .dataframe thead th {\n",
       "        text-align: right;\n",
       "    }\n",
       "</style>\n",
       "<table border=\"1\" class=\"dataframe\">\n",
       "  <thead>\n",
       "    <tr style=\"text-align: right;\">\n",
       "      <th></th>\n",
       "      <th>state</th>\n",
       "      <th>count</th>\n",
       "    </tr>\n",
       "  </thead>\n",
       "  <tbody>\n",
       "    <tr>\n",
       "      <th>0</th>\n",
       "      <td>NY</td>\n",
       "      <td>119,096</td>\n",
       "    </tr>\n",
       "    <tr>\n",
       "      <th>1</th>\n",
       "      <td>NJ</td>\n",
       "      <td>50,912</td>\n",
       "    </tr>\n",
       "    <tr>\n",
       "      <th>2</th>\n",
       "      <td>MA</td>\n",
       "      <td>42,147</td>\n",
       "    </tr>\n",
       "    <tr>\n",
       "      <th>3</th>\n",
       "      <td>CT</td>\n",
       "      <td>22,882</td>\n",
       "    </tr>\n",
       "    <tr>\n",
       "      <th>4</th>\n",
       "      <td>ME</td>\n",
       "      <td>10,144</td>\n",
       "    </tr>\n",
       "    <tr>\n",
       "      <th>5</th>\n",
       "      <td>NH</td>\n",
       "      <td>9,086</td>\n",
       "    </tr>\n",
       "    <tr>\n",
       "      <th>6</th>\n",
       "      <td>VT</td>\n",
       "      <td>6,479</td>\n",
       "    </tr>\n",
       "    <tr>\n",
       "      <th>7</th>\n",
       "      <td>RI</td>\n",
       "      <td>6,390</td>\n",
       "    </tr>\n",
       "  </tbody>\n",
       "</table>\n",
       "</div>"
      ],
      "text/plain": [
       "  state    count\n",
       "0    NY  119,096\n",
       "1    NJ   50,912\n",
       "2    MA   42,147\n",
       "3    CT   22,882\n",
       "4    ME   10,144\n",
       "5    NH    9,086\n",
       "6    VT    6,479\n",
       "7    RI    6,390"
      ]
     },
     "execution_count": 12,
     "metadata": {},
     "output_type": "execute_result"
    }
   ],
   "source": [
    "state_cts = df_reg_giv_irs_eo1['state'].value_counts().reset_index()\n",
    "state_cts.columns = ['state','count']\n",
    "state_cts['count'] = state_cts['count'].apply(lambda x: f\"{x:,.0f}\")\n",
    "state_cts"
   ]
  },
  {
   "cell_type": "code",
   "execution_count": 13,
   "metadata": {},
   "outputs": [
    {
     "data": {
      "text/html": [
       "        <script type=\"text/javascript\">\n",
       "        window.PlotlyConfig = {MathJaxConfig: 'local'};\n",
       "        if (window.MathJax && window.MathJax.Hub && window.MathJax.Hub.Config) {window.MathJax.Hub.Config({SVG: {font: \"STIX-Web\"}});}\n",
       "        if (typeof require !== 'undefined') {\n",
       "        require.undef(\"plotly\");\n",
       "        requirejs.config({\n",
       "            paths: {\n",
       "                'plotly': ['https://cdn.plot.ly/plotly-2.30.0.min']\n",
       "            }\n",
       "        });\n",
       "        require(['plotly'], function(Plotly) {\n",
       "            window._Plotly = Plotly;\n",
       "        });\n",
       "        }\n",
       "        </script>\n",
       "        "
      ]
     },
     "metadata": {},
     "output_type": "display_data"
    },
    {
     "data": {
      "application/vnd.plotly.v1+json": {
       "config": {
        "plotlyServerURL": "https://plot.ly"
       },
       "data": [
        {
         "coloraxis": "coloraxis",
         "customdata": [
          [
           "119,096"
          ],
          [
           "50,912"
          ],
          [
           "42,147"
          ],
          [
           "22,882"
          ],
          [
           "10,144"
          ],
          [
           "9,086"
          ],
          [
           "6,479"
          ],
          [
           "6,390"
          ]
         ],
         "geo": "geo",
         "hovertemplate": "State: %{location}<br>Count: %{customdata[0]}<extra></extra>",
         "locationmode": "USA-states",
         "locations": [
          "NY",
          "NJ",
          "MA",
          "CT",
          "ME",
          "NH",
          "VT",
          "RI"
         ],
         "name": "",
         "type": "choropleth",
         "z": [
          119096,
          50912,
          42147,
          22882,
          10144,
          9086,
          6479,
          6390
         ]
        }
       ],
       "layout": {
        "coloraxis": {
         "colorbar": {
          "title": {
           "text": "Organization Count"
          }
         },
         "colorscale": [
          [
           0,
           "#440154"
          ],
          [
           0.1111111111111111,
           "#482878"
          ],
          [
           0.2222222222222222,
           "#3e4989"
          ],
          [
           0.3333333333333333,
           "#31688e"
          ],
          [
           0.4444444444444444,
           "#26828e"
          ],
          [
           0.5555555555555556,
           "#1f9e89"
          ],
          [
           0.6666666666666666,
           "#35b779"
          ],
          [
           0.7777777777777778,
           "#6ece58"
          ],
          [
           0.8888888888888888,
           "#b5de2b"
          ],
          [
           1,
           "#fde725"
          ]
         ]
        },
        "geo": {
         "center": {},
         "domain": {
          "x": [
           0,
           1
          ],
          "y": [
           0,
           1
          ]
         },
         "scope": "usa"
        },
        "legend": {
         "tracegroupgap": 0
        },
        "template": {
         "data": {
          "bar": [
           {
            "error_x": {
             "color": "#2a3f5f"
            },
            "error_y": {
             "color": "#2a3f5f"
            },
            "marker": {
             "line": {
              "color": "#E5ECF6",
              "width": 0.5
             },
             "pattern": {
              "fillmode": "overlay",
              "size": 10,
              "solidity": 0.2
             }
            },
            "type": "bar"
           }
          ],
          "barpolar": [
           {
            "marker": {
             "line": {
              "color": "#E5ECF6",
              "width": 0.5
             },
             "pattern": {
              "fillmode": "overlay",
              "size": 10,
              "solidity": 0.2
             }
            },
            "type": "barpolar"
           }
          ],
          "carpet": [
           {
            "aaxis": {
             "endlinecolor": "#2a3f5f",
             "gridcolor": "white",
             "linecolor": "white",
             "minorgridcolor": "white",
             "startlinecolor": "#2a3f5f"
            },
            "baxis": {
             "endlinecolor": "#2a3f5f",
             "gridcolor": "white",
             "linecolor": "white",
             "minorgridcolor": "white",
             "startlinecolor": "#2a3f5f"
            },
            "type": "carpet"
           }
          ],
          "choropleth": [
           {
            "colorbar": {
             "outlinewidth": 0,
             "ticks": ""
            },
            "type": "choropleth"
           }
          ],
          "contour": [
           {
            "colorbar": {
             "outlinewidth": 0,
             "ticks": ""
            },
            "colorscale": [
             [
              0,
              "#0d0887"
             ],
             [
              0.1111111111111111,
              "#46039f"
             ],
             [
              0.2222222222222222,
              "#7201a8"
             ],
             [
              0.3333333333333333,
              "#9c179e"
             ],
             [
              0.4444444444444444,
              "#bd3786"
             ],
             [
              0.5555555555555556,
              "#d8576b"
             ],
             [
              0.6666666666666666,
              "#ed7953"
             ],
             [
              0.7777777777777778,
              "#fb9f3a"
             ],
             [
              0.8888888888888888,
              "#fdca26"
             ],
             [
              1,
              "#f0f921"
             ]
            ],
            "type": "contour"
           }
          ],
          "contourcarpet": [
           {
            "colorbar": {
             "outlinewidth": 0,
             "ticks": ""
            },
            "type": "contourcarpet"
           }
          ],
          "heatmap": [
           {
            "colorbar": {
             "outlinewidth": 0,
             "ticks": ""
            },
            "colorscale": [
             [
              0,
              "#0d0887"
             ],
             [
              0.1111111111111111,
              "#46039f"
             ],
             [
              0.2222222222222222,
              "#7201a8"
             ],
             [
              0.3333333333333333,
              "#9c179e"
             ],
             [
              0.4444444444444444,
              "#bd3786"
             ],
             [
              0.5555555555555556,
              "#d8576b"
             ],
             [
              0.6666666666666666,
              "#ed7953"
             ],
             [
              0.7777777777777778,
              "#fb9f3a"
             ],
             [
              0.8888888888888888,
              "#fdca26"
             ],
             [
              1,
              "#f0f921"
             ]
            ],
            "type": "heatmap"
           }
          ],
          "heatmapgl": [
           {
            "colorbar": {
             "outlinewidth": 0,
             "ticks": ""
            },
            "colorscale": [
             [
              0,
              "#0d0887"
             ],
             [
              0.1111111111111111,
              "#46039f"
             ],
             [
              0.2222222222222222,
              "#7201a8"
             ],
             [
              0.3333333333333333,
              "#9c179e"
             ],
             [
              0.4444444444444444,
              "#bd3786"
             ],
             [
              0.5555555555555556,
              "#d8576b"
             ],
             [
              0.6666666666666666,
              "#ed7953"
             ],
             [
              0.7777777777777778,
              "#fb9f3a"
             ],
             [
              0.8888888888888888,
              "#fdca26"
             ],
             [
              1,
              "#f0f921"
             ]
            ],
            "type": "heatmapgl"
           }
          ],
          "histogram": [
           {
            "marker": {
             "pattern": {
              "fillmode": "overlay",
              "size": 10,
              "solidity": 0.2
             }
            },
            "type": "histogram"
           }
          ],
          "histogram2d": [
           {
            "colorbar": {
             "outlinewidth": 0,
             "ticks": ""
            },
            "colorscale": [
             [
              0,
              "#0d0887"
             ],
             [
              0.1111111111111111,
              "#46039f"
             ],
             [
              0.2222222222222222,
              "#7201a8"
             ],
             [
              0.3333333333333333,
              "#9c179e"
             ],
             [
              0.4444444444444444,
              "#bd3786"
             ],
             [
              0.5555555555555556,
              "#d8576b"
             ],
             [
              0.6666666666666666,
              "#ed7953"
             ],
             [
              0.7777777777777778,
              "#fb9f3a"
             ],
             [
              0.8888888888888888,
              "#fdca26"
             ],
             [
              1,
              "#f0f921"
             ]
            ],
            "type": "histogram2d"
           }
          ],
          "histogram2dcontour": [
           {
            "colorbar": {
             "outlinewidth": 0,
             "ticks": ""
            },
            "colorscale": [
             [
              0,
              "#0d0887"
             ],
             [
              0.1111111111111111,
              "#46039f"
             ],
             [
              0.2222222222222222,
              "#7201a8"
             ],
             [
              0.3333333333333333,
              "#9c179e"
             ],
             [
              0.4444444444444444,
              "#bd3786"
             ],
             [
              0.5555555555555556,
              "#d8576b"
             ],
             [
              0.6666666666666666,
              "#ed7953"
             ],
             [
              0.7777777777777778,
              "#fb9f3a"
             ],
             [
              0.8888888888888888,
              "#fdca26"
             ],
             [
              1,
              "#f0f921"
             ]
            ],
            "type": "histogram2dcontour"
           }
          ],
          "mesh3d": [
           {
            "colorbar": {
             "outlinewidth": 0,
             "ticks": ""
            },
            "type": "mesh3d"
           }
          ],
          "parcoords": [
           {
            "line": {
             "colorbar": {
              "outlinewidth": 0,
              "ticks": ""
             }
            },
            "type": "parcoords"
           }
          ],
          "pie": [
           {
            "automargin": true,
            "type": "pie"
           }
          ],
          "scatter": [
           {
            "fillpattern": {
             "fillmode": "overlay",
             "size": 10,
             "solidity": 0.2
            },
            "type": "scatter"
           }
          ],
          "scatter3d": [
           {
            "line": {
             "colorbar": {
              "outlinewidth": 0,
              "ticks": ""
             }
            },
            "marker": {
             "colorbar": {
              "outlinewidth": 0,
              "ticks": ""
             }
            },
            "type": "scatter3d"
           }
          ],
          "scattercarpet": [
           {
            "marker": {
             "colorbar": {
              "outlinewidth": 0,
              "ticks": ""
             }
            },
            "type": "scattercarpet"
           }
          ],
          "scattergeo": [
           {
            "marker": {
             "colorbar": {
              "outlinewidth": 0,
              "ticks": ""
             }
            },
            "type": "scattergeo"
           }
          ],
          "scattergl": [
           {
            "marker": {
             "colorbar": {
              "outlinewidth": 0,
              "ticks": ""
             }
            },
            "type": "scattergl"
           }
          ],
          "scattermapbox": [
           {
            "marker": {
             "colorbar": {
              "outlinewidth": 0,
              "ticks": ""
             }
            },
            "type": "scattermapbox"
           }
          ],
          "scatterpolar": [
           {
            "marker": {
             "colorbar": {
              "outlinewidth": 0,
              "ticks": ""
             }
            },
            "type": "scatterpolar"
           }
          ],
          "scatterpolargl": [
           {
            "marker": {
             "colorbar": {
              "outlinewidth": 0,
              "ticks": ""
             }
            },
            "type": "scatterpolargl"
           }
          ],
          "scatterternary": [
           {
            "marker": {
             "colorbar": {
              "outlinewidth": 0,
              "ticks": ""
             }
            },
            "type": "scatterternary"
           }
          ],
          "surface": [
           {
            "colorbar": {
             "outlinewidth": 0,
             "ticks": ""
            },
            "colorscale": [
             [
              0,
              "#0d0887"
             ],
             [
              0.1111111111111111,
              "#46039f"
             ],
             [
              0.2222222222222222,
              "#7201a8"
             ],
             [
              0.3333333333333333,
              "#9c179e"
             ],
             [
              0.4444444444444444,
              "#bd3786"
             ],
             [
              0.5555555555555556,
              "#d8576b"
             ],
             [
              0.6666666666666666,
              "#ed7953"
             ],
             [
              0.7777777777777778,
              "#fb9f3a"
             ],
             [
              0.8888888888888888,
              "#fdca26"
             ],
             [
              1,
              "#f0f921"
             ]
            ],
            "type": "surface"
           }
          ],
          "table": [
           {
            "cells": {
             "fill": {
              "color": "#EBF0F8"
             },
             "line": {
              "color": "white"
             }
            },
            "header": {
             "fill": {
              "color": "#C8D4E3"
             },
             "line": {
              "color": "white"
             }
            },
            "type": "table"
           }
          ]
         },
         "layout": {
          "annotationdefaults": {
           "arrowcolor": "#2a3f5f",
           "arrowhead": 0,
           "arrowwidth": 1
          },
          "autotypenumbers": "strict",
          "coloraxis": {
           "colorbar": {
            "outlinewidth": 0,
            "ticks": ""
           }
          },
          "colorscale": {
           "diverging": [
            [
             0,
             "#8e0152"
            ],
            [
             0.1,
             "#c51b7d"
            ],
            [
             0.2,
             "#de77ae"
            ],
            [
             0.3,
             "#f1b6da"
            ],
            [
             0.4,
             "#fde0ef"
            ],
            [
             0.5,
             "#f7f7f7"
            ],
            [
             0.6,
             "#e6f5d0"
            ],
            [
             0.7,
             "#b8e186"
            ],
            [
             0.8,
             "#7fbc41"
            ],
            [
             0.9,
             "#4d9221"
            ],
            [
             1,
             "#276419"
            ]
           ],
           "sequential": [
            [
             0,
             "#0d0887"
            ],
            [
             0.1111111111111111,
             "#46039f"
            ],
            [
             0.2222222222222222,
             "#7201a8"
            ],
            [
             0.3333333333333333,
             "#9c179e"
            ],
            [
             0.4444444444444444,
             "#bd3786"
            ],
            [
             0.5555555555555556,
             "#d8576b"
            ],
            [
             0.6666666666666666,
             "#ed7953"
            ],
            [
             0.7777777777777778,
             "#fb9f3a"
            ],
            [
             0.8888888888888888,
             "#fdca26"
            ],
            [
             1,
             "#f0f921"
            ]
           ],
           "sequentialminus": [
            [
             0,
             "#0d0887"
            ],
            [
             0.1111111111111111,
             "#46039f"
            ],
            [
             0.2222222222222222,
             "#7201a8"
            ],
            [
             0.3333333333333333,
             "#9c179e"
            ],
            [
             0.4444444444444444,
             "#bd3786"
            ],
            [
             0.5555555555555556,
             "#d8576b"
            ],
            [
             0.6666666666666666,
             "#ed7953"
            ],
            [
             0.7777777777777778,
             "#fb9f3a"
            ],
            [
             0.8888888888888888,
             "#fdca26"
            ],
            [
             1,
             "#f0f921"
            ]
           ]
          },
          "colorway": [
           "#636efa",
           "#EF553B",
           "#00cc96",
           "#ab63fa",
           "#FFA15A",
           "#19d3f3",
           "#FF6692",
           "#B6E880",
           "#FF97FF",
           "#FECB52"
          ],
          "font": {
           "color": "#2a3f5f"
          },
          "geo": {
           "bgcolor": "white",
           "lakecolor": "white",
           "landcolor": "#E5ECF6",
           "showlakes": true,
           "showland": true,
           "subunitcolor": "white"
          },
          "hoverlabel": {
           "align": "left"
          },
          "hovermode": "closest",
          "mapbox": {
           "style": "light"
          },
          "paper_bgcolor": "white",
          "plot_bgcolor": "#E5ECF6",
          "polar": {
           "angularaxis": {
            "gridcolor": "white",
            "linecolor": "white",
            "ticks": ""
           },
           "bgcolor": "#E5ECF6",
           "radialaxis": {
            "gridcolor": "white",
            "linecolor": "white",
            "ticks": ""
           }
          },
          "scene": {
           "xaxis": {
            "backgroundcolor": "#E5ECF6",
            "gridcolor": "white",
            "gridwidth": 2,
            "linecolor": "white",
            "showbackground": true,
            "ticks": "",
            "zerolinecolor": "white"
           },
           "yaxis": {
            "backgroundcolor": "#E5ECF6",
            "gridcolor": "white",
            "gridwidth": 2,
            "linecolor": "white",
            "showbackground": true,
            "ticks": "",
            "zerolinecolor": "white"
           },
           "zaxis": {
            "backgroundcolor": "#E5ECF6",
            "gridcolor": "white",
            "gridwidth": 2,
            "linecolor": "white",
            "showbackground": true,
            "ticks": "",
            "zerolinecolor": "white"
           }
          },
          "shapedefaults": {
           "line": {
            "color": "#2a3f5f"
           }
          },
          "ternary": {
           "aaxis": {
            "gridcolor": "white",
            "linecolor": "white",
            "ticks": ""
           },
           "baxis": {
            "gridcolor": "white",
            "linecolor": "white",
            "ticks": ""
           },
           "bgcolor": "#E5ECF6",
           "caxis": {
            "gridcolor": "white",
            "linecolor": "white",
            "ticks": ""
           }
          },
          "title": {
           "x": 0.05
          },
          "xaxis": {
           "automargin": true,
           "gridcolor": "white",
           "linecolor": "white",
           "ticks": "",
           "title": {
            "standoff": 15
           },
           "zerolinecolor": "white",
           "zerolinewidth": 2
          },
          "yaxis": {
           "automargin": true,
           "gridcolor": "white",
           "linecolor": "white",
           "ticks": "",
           "title": {
            "standoff": 15
           },
           "zerolinecolor": "white",
           "zerolinewidth": 2
          }
         }
        },
        "title": {
         "text": "Number of Exempt Organizations by State"
        }
       }
      },
      "text/html": [
       "<div>                            <div id=\"a88b5cc0-7825-419a-93a3-815a9550ff0d\" class=\"plotly-graph-div\" style=\"height:525px; width:100%;\"></div>            <script type=\"text/javascript\">                require([\"plotly\"], function(Plotly) {                    window.PLOTLYENV=window.PLOTLYENV || {};                                    if (document.getElementById(\"a88b5cc0-7825-419a-93a3-815a9550ff0d\")) {                    Plotly.newPlot(                        \"a88b5cc0-7825-419a-93a3-815a9550ff0d\",                        [{\"coloraxis\":\"coloraxis\",\"geo\":\"geo\",\"hovertemplate\":\"State: %{location}\\u003cbr\\u003eCount: %{customdata[0]}\\u003cextra\\u003e\\u003c\\u002fextra\\u003e\",\"locationmode\":\"USA-states\",\"locations\":[\"NY\",\"NJ\",\"MA\",\"CT\",\"ME\",\"NH\",\"VT\",\"RI\"],\"name\":\"\",\"z\":[119096,50912,42147,22882,10144,9086,6479,6390],\"type\":\"choropleth\",\"customdata\":[[\"119,096\"],[\"50,912\"],[\"42,147\"],[\"22,882\"],[\"10,144\"],[\"9,086\"],[\"6,479\"],[\"6,390\"]]}],                        {\"template\":{\"data\":{\"histogram2dcontour\":[{\"type\":\"histogram2dcontour\",\"colorbar\":{\"outlinewidth\":0,\"ticks\":\"\"},\"colorscale\":[[0.0,\"#0d0887\"],[0.1111111111111111,\"#46039f\"],[0.2222222222222222,\"#7201a8\"],[0.3333333333333333,\"#9c179e\"],[0.4444444444444444,\"#bd3786\"],[0.5555555555555556,\"#d8576b\"],[0.6666666666666666,\"#ed7953\"],[0.7777777777777778,\"#fb9f3a\"],[0.8888888888888888,\"#fdca26\"],[1.0,\"#f0f921\"]]}],\"choropleth\":[{\"type\":\"choropleth\",\"colorbar\":{\"outlinewidth\":0,\"ticks\":\"\"}}],\"histogram2d\":[{\"type\":\"histogram2d\",\"colorbar\":{\"outlinewidth\":0,\"ticks\":\"\"},\"colorscale\":[[0.0,\"#0d0887\"],[0.1111111111111111,\"#46039f\"],[0.2222222222222222,\"#7201a8\"],[0.3333333333333333,\"#9c179e\"],[0.4444444444444444,\"#bd3786\"],[0.5555555555555556,\"#d8576b\"],[0.6666666666666666,\"#ed7953\"],[0.7777777777777778,\"#fb9f3a\"],[0.8888888888888888,\"#fdca26\"],[1.0,\"#f0f921\"]]}],\"heatmap\":[{\"type\":\"heatmap\",\"colorbar\":{\"outlinewidth\":0,\"ticks\":\"\"},\"colorscale\":[[0.0,\"#0d0887\"],[0.1111111111111111,\"#46039f\"],[0.2222222222222222,\"#7201a8\"],[0.3333333333333333,\"#9c179e\"],[0.4444444444444444,\"#bd3786\"],[0.5555555555555556,\"#d8576b\"],[0.6666666666666666,\"#ed7953\"],[0.7777777777777778,\"#fb9f3a\"],[0.8888888888888888,\"#fdca26\"],[1.0,\"#f0f921\"]]}],\"heatmapgl\":[{\"type\":\"heatmapgl\",\"colorbar\":{\"outlinewidth\":0,\"ticks\":\"\"},\"colorscale\":[[0.0,\"#0d0887\"],[0.1111111111111111,\"#46039f\"],[0.2222222222222222,\"#7201a8\"],[0.3333333333333333,\"#9c179e\"],[0.4444444444444444,\"#bd3786\"],[0.5555555555555556,\"#d8576b\"],[0.6666666666666666,\"#ed7953\"],[0.7777777777777778,\"#fb9f3a\"],[0.8888888888888888,\"#fdca26\"],[1.0,\"#f0f921\"]]}],\"contourcarpet\":[{\"type\":\"contourcarpet\",\"colorbar\":{\"outlinewidth\":0,\"ticks\":\"\"}}],\"contour\":[{\"type\":\"contour\",\"colorbar\":{\"outlinewidth\":0,\"ticks\":\"\"},\"colorscale\":[[0.0,\"#0d0887\"],[0.1111111111111111,\"#46039f\"],[0.2222222222222222,\"#7201a8\"],[0.3333333333333333,\"#9c179e\"],[0.4444444444444444,\"#bd3786\"],[0.5555555555555556,\"#d8576b\"],[0.6666666666666666,\"#ed7953\"],[0.7777777777777778,\"#fb9f3a\"],[0.8888888888888888,\"#fdca26\"],[1.0,\"#f0f921\"]]}],\"surface\":[{\"type\":\"surface\",\"colorbar\":{\"outlinewidth\":0,\"ticks\":\"\"},\"colorscale\":[[0.0,\"#0d0887\"],[0.1111111111111111,\"#46039f\"],[0.2222222222222222,\"#7201a8\"],[0.3333333333333333,\"#9c179e\"],[0.4444444444444444,\"#bd3786\"],[0.5555555555555556,\"#d8576b\"],[0.6666666666666666,\"#ed7953\"],[0.7777777777777778,\"#fb9f3a\"],[0.8888888888888888,\"#fdca26\"],[1.0,\"#f0f921\"]]}],\"mesh3d\":[{\"type\":\"mesh3d\",\"colorbar\":{\"outlinewidth\":0,\"ticks\":\"\"}}],\"scatter\":[{\"fillpattern\":{\"fillmode\":\"overlay\",\"size\":10,\"solidity\":0.2},\"type\":\"scatter\"}],\"parcoords\":[{\"type\":\"parcoords\",\"line\":{\"colorbar\":{\"outlinewidth\":0,\"ticks\":\"\"}}}],\"scatterpolargl\":[{\"type\":\"scatterpolargl\",\"marker\":{\"colorbar\":{\"outlinewidth\":0,\"ticks\":\"\"}}}],\"bar\":[{\"error_x\":{\"color\":\"#2a3f5f\"},\"error_y\":{\"color\":\"#2a3f5f\"},\"marker\":{\"line\":{\"color\":\"#E5ECF6\",\"width\":0.5},\"pattern\":{\"fillmode\":\"overlay\",\"size\":10,\"solidity\":0.2}},\"type\":\"bar\"}],\"scattergeo\":[{\"type\":\"scattergeo\",\"marker\":{\"colorbar\":{\"outlinewidth\":0,\"ticks\":\"\"}}}],\"scatterpolar\":[{\"type\":\"scatterpolar\",\"marker\":{\"colorbar\":{\"outlinewidth\":0,\"ticks\":\"\"}}}],\"histogram\":[{\"marker\":{\"pattern\":{\"fillmode\":\"overlay\",\"size\":10,\"solidity\":0.2}},\"type\":\"histogram\"}],\"scattergl\":[{\"type\":\"scattergl\",\"marker\":{\"colorbar\":{\"outlinewidth\":0,\"ticks\":\"\"}}}],\"scatter3d\":[{\"type\":\"scatter3d\",\"line\":{\"colorbar\":{\"outlinewidth\":0,\"ticks\":\"\"}},\"marker\":{\"colorbar\":{\"outlinewidth\":0,\"ticks\":\"\"}}}],\"scattermapbox\":[{\"type\":\"scattermapbox\",\"marker\":{\"colorbar\":{\"outlinewidth\":0,\"ticks\":\"\"}}}],\"scatterternary\":[{\"type\":\"scatterternary\",\"marker\":{\"colorbar\":{\"outlinewidth\":0,\"ticks\":\"\"}}}],\"scattercarpet\":[{\"type\":\"scattercarpet\",\"marker\":{\"colorbar\":{\"outlinewidth\":0,\"ticks\":\"\"}}}],\"carpet\":[{\"aaxis\":{\"endlinecolor\":\"#2a3f5f\",\"gridcolor\":\"white\",\"linecolor\":\"white\",\"minorgridcolor\":\"white\",\"startlinecolor\":\"#2a3f5f\"},\"baxis\":{\"endlinecolor\":\"#2a3f5f\",\"gridcolor\":\"white\",\"linecolor\":\"white\",\"minorgridcolor\":\"white\",\"startlinecolor\":\"#2a3f5f\"},\"type\":\"carpet\"}],\"table\":[{\"cells\":{\"fill\":{\"color\":\"#EBF0F8\"},\"line\":{\"color\":\"white\"}},\"header\":{\"fill\":{\"color\":\"#C8D4E3\"},\"line\":{\"color\":\"white\"}},\"type\":\"table\"}],\"barpolar\":[{\"marker\":{\"line\":{\"color\":\"#E5ECF6\",\"width\":0.5},\"pattern\":{\"fillmode\":\"overlay\",\"size\":10,\"solidity\":0.2}},\"type\":\"barpolar\"}],\"pie\":[{\"automargin\":true,\"type\":\"pie\"}]},\"layout\":{\"autotypenumbers\":\"strict\",\"colorway\":[\"#636efa\",\"#EF553B\",\"#00cc96\",\"#ab63fa\",\"#FFA15A\",\"#19d3f3\",\"#FF6692\",\"#B6E880\",\"#FF97FF\",\"#FECB52\"],\"font\":{\"color\":\"#2a3f5f\"},\"hovermode\":\"closest\",\"hoverlabel\":{\"align\":\"left\"},\"paper_bgcolor\":\"white\",\"plot_bgcolor\":\"#E5ECF6\",\"polar\":{\"bgcolor\":\"#E5ECF6\",\"angularaxis\":{\"gridcolor\":\"white\",\"linecolor\":\"white\",\"ticks\":\"\"},\"radialaxis\":{\"gridcolor\":\"white\",\"linecolor\":\"white\",\"ticks\":\"\"}},\"ternary\":{\"bgcolor\":\"#E5ECF6\",\"aaxis\":{\"gridcolor\":\"white\",\"linecolor\":\"white\",\"ticks\":\"\"},\"baxis\":{\"gridcolor\":\"white\",\"linecolor\":\"white\",\"ticks\":\"\"},\"caxis\":{\"gridcolor\":\"white\",\"linecolor\":\"white\",\"ticks\":\"\"}},\"coloraxis\":{\"colorbar\":{\"outlinewidth\":0,\"ticks\":\"\"}},\"colorscale\":{\"sequential\":[[0.0,\"#0d0887\"],[0.1111111111111111,\"#46039f\"],[0.2222222222222222,\"#7201a8\"],[0.3333333333333333,\"#9c179e\"],[0.4444444444444444,\"#bd3786\"],[0.5555555555555556,\"#d8576b\"],[0.6666666666666666,\"#ed7953\"],[0.7777777777777778,\"#fb9f3a\"],[0.8888888888888888,\"#fdca26\"],[1.0,\"#f0f921\"]],\"sequentialminus\":[[0.0,\"#0d0887\"],[0.1111111111111111,\"#46039f\"],[0.2222222222222222,\"#7201a8\"],[0.3333333333333333,\"#9c179e\"],[0.4444444444444444,\"#bd3786\"],[0.5555555555555556,\"#d8576b\"],[0.6666666666666666,\"#ed7953\"],[0.7777777777777778,\"#fb9f3a\"],[0.8888888888888888,\"#fdca26\"],[1.0,\"#f0f921\"]],\"diverging\":[[0,\"#8e0152\"],[0.1,\"#c51b7d\"],[0.2,\"#de77ae\"],[0.3,\"#f1b6da\"],[0.4,\"#fde0ef\"],[0.5,\"#f7f7f7\"],[0.6,\"#e6f5d0\"],[0.7,\"#b8e186\"],[0.8,\"#7fbc41\"],[0.9,\"#4d9221\"],[1,\"#276419\"]]},\"xaxis\":{\"gridcolor\":\"white\",\"linecolor\":\"white\",\"ticks\":\"\",\"title\":{\"standoff\":15},\"zerolinecolor\":\"white\",\"automargin\":true,\"zerolinewidth\":2},\"yaxis\":{\"gridcolor\":\"white\",\"linecolor\":\"white\",\"ticks\":\"\",\"title\":{\"standoff\":15},\"zerolinecolor\":\"white\",\"automargin\":true,\"zerolinewidth\":2},\"scene\":{\"xaxis\":{\"backgroundcolor\":\"#E5ECF6\",\"gridcolor\":\"white\",\"linecolor\":\"white\",\"showbackground\":true,\"ticks\":\"\",\"zerolinecolor\":\"white\",\"gridwidth\":2},\"yaxis\":{\"backgroundcolor\":\"#E5ECF6\",\"gridcolor\":\"white\",\"linecolor\":\"white\",\"showbackground\":true,\"ticks\":\"\",\"zerolinecolor\":\"white\",\"gridwidth\":2},\"zaxis\":{\"backgroundcolor\":\"#E5ECF6\",\"gridcolor\":\"white\",\"linecolor\":\"white\",\"showbackground\":true,\"ticks\":\"\",\"zerolinecolor\":\"white\",\"gridwidth\":2}},\"shapedefaults\":{\"line\":{\"color\":\"#2a3f5f\"}},\"annotationdefaults\":{\"arrowcolor\":\"#2a3f5f\",\"arrowhead\":0,\"arrowwidth\":1},\"geo\":{\"bgcolor\":\"white\",\"landcolor\":\"#E5ECF6\",\"subunitcolor\":\"white\",\"showland\":true,\"showlakes\":true,\"lakecolor\":\"white\"},\"title\":{\"x\":0.05},\"mapbox\":{\"style\":\"light\"}}},\"geo\":{\"domain\":{\"x\":[0.0,1.0],\"y\":[0.0,1.0]},\"center\":{},\"scope\":\"usa\"},\"coloraxis\":{\"colorbar\":{\"title\":{\"text\":\"Organization Count\"}},\"colorscale\":[[0.0,\"#440154\"],[0.1111111111111111,\"#482878\"],[0.2222222222222222,\"#3e4989\"],[0.3333333333333333,\"#31688e\"],[0.4444444444444444,\"#26828e\"],[0.5555555555555556,\"#1f9e89\"],[0.6666666666666666,\"#35b779\"],[0.7777777777777778,\"#6ece58\"],[0.8888888888888888,\"#b5de2b\"],[1.0,\"#fde725\"]]},\"legend\":{\"tracegroupgap\":0},\"title\":{\"text\":\"Number of Exempt Organizations by State\"}},                        {\"responsive\": true}                    ).then(function(){\n",
       "                            \n",
       "var gd = document.getElementById('a88b5cc0-7825-419a-93a3-815a9550ff0d');\n",
       "var x = new MutationObserver(function (mutations, observer) {{\n",
       "        var display = window.getComputedStyle(gd).display;\n",
       "        if (!display || display === 'none') {{\n",
       "            console.log([gd, 'removed!']);\n",
       "            Plotly.purge(gd);\n",
       "            observer.disconnect();\n",
       "        }}\n",
       "}});\n",
       "\n",
       "// Listen for the removal of the full notebook cells\n",
       "var notebookContainer = gd.closest('#notebook-container');\n",
       "if (notebookContainer) {{\n",
       "    x.observe(notebookContainer, {childList: true});\n",
       "}}\n",
       "\n",
       "// Listen for the clearing of the current output cell\n",
       "var outputEl = gd.closest('.output');\n",
       "if (outputEl) {{\n",
       "    x.observe(outputEl, {childList: true});\n",
       "}}\n",
       "\n",
       "                        })                };                });            </script>        </div>"
      ]
     },
     "metadata": {},
     "output_type": "display_data"
    }
   ],
   "source": [
    "#| label: fig-geo\n",
    "#| fig-cap: \"Geographic Analysis of Northeast Exempt Organizations\"\n",
    "\n",
    "# Write line to show plotly in quarto rendering.\n",
    "pio.renderers.default = \"plotly_mimetype+notebook_connected\"\n",
    "\n",
    "# Take value counts of orgs by state.\n",
    "state_cts = df_reg_giv_irs_eo1['state'].value_counts().reset_index()\n",
    "state_cts.columns = ['state','counts']\n",
    "state_cts['formatted_counts'] = state_cts['counts'].apply(lambda x: f\"{x:,.0f}\")\n",
    "\n",
    "# Build map.\n",
    "fig = px.choropleth(state_cts, locations='state', locationmode='USA-states', color='counts',\n",
    "                    color_continuous_scale='Viridis', scope='usa',\n",
    "                    title='Number of Exempt Organizations by State')\n",
    "\n",
    "fig.update_traces(hovertemplate='State: %{location}<br>Count: %{customdata[0]}<extra></extra>',\n",
    "                  customdata=state_cts[['formatted_counts']].values)\n",
    "\n",
    "fig.update_layout(coloraxis_colorbar=dict(title='Organization Count'))\n",
    "\n",
    "fig.show()"
   ]
  },
  {
   "cell_type": "markdown",
   "metadata": {},
   "source": [
    "## 4.3. Temporal Trends\n",
    "\n",
    "This is the month and year (YYYYMM) on a ruling or determination letter recognizing the organization's exempt status - https://www.irs.gov/pub/irs-soi/eo-info.pdf\n",
    "\n",
    "The ruling date indicates when the IRS officially recognized the organization's exempt status, enabling analysis of trends over time in the establishment and growth of organizations dedicated to certain causes.\n",
    "\n",
    "Data Transformation Note: \n",
    "0.56% of the organizations contained a \"0\" value for this variable. They were replaced with missing (NaN) values to avoid confusion and are therefore not included in this section of analysis."
   ]
  },
  {
   "cell_type": "code",
   "execution_count": 14,
   "metadata": {},
   "outputs": [
    {
     "data": {
      "text/markdown": [
       "Ex. of Ruling Column:"
      ],
      "text/plain": [
       "<IPython.core.display.Markdown object>"
      ]
     },
     "metadata": {},
     "output_type": "display_data"
    },
    {
     "data": {
      "text/html": [
       "<div>\n",
       "<style scoped>\n",
       "    .dataframe tbody tr th:only-of-type {\n",
       "        vertical-align: middle;\n",
       "    }\n",
       "\n",
       "    .dataframe tbody tr th {\n",
       "        vertical-align: top;\n",
       "    }\n",
       "\n",
       "    .dataframe thead th {\n",
       "        text-align: right;\n",
       "    }\n",
       "</style>\n",
       "<table border=\"1\" class=\"dataframe\">\n",
       "  <thead>\n",
       "    <tr style=\"text-align: right;\">\n",
       "      <th></th>\n",
       "      <th>ein</th>\n",
       "      <th>ruling</th>\n",
       "    </tr>\n",
       "  </thead>\n",
       "  <tbody>\n",
       "    <tr>\n",
       "      <th>0</th>\n",
       "      <td>19818</td>\n",
       "      <td>1955-04-01</td>\n",
       "    </tr>\n",
       "    <tr>\n",
       "      <th>1</th>\n",
       "      <td>29215</td>\n",
       "      <td>1972-10-01</td>\n",
       "    </tr>\n",
       "    <tr>\n",
       "      <th>2</th>\n",
       "      <td>587764</td>\n",
       "      <td>2004-01-01</td>\n",
       "    </tr>\n",
       "    <tr>\n",
       "      <th>3</th>\n",
       "      <td>635913</td>\n",
       "      <td>2004-01-01</td>\n",
       "    </tr>\n",
       "    <tr>\n",
       "      <th>4</th>\n",
       "      <td>765634</td>\n",
       "      <td>2004-04-01</td>\n",
       "    </tr>\n",
       "  </tbody>\n",
       "</table>\n",
       "</div>"
      ],
      "text/plain": [
       "      ein     ruling\n",
       "0   19818 1955-04-01\n",
       "1   29215 1972-10-01\n",
       "2  587764 2004-01-01\n",
       "3  635913 2004-01-01\n",
       "4  765634 2004-04-01"
      ]
     },
     "execution_count": 14,
     "metadata": {},
     "output_type": "execute_result"
    }
   ],
   "source": [
    "display(Markdown(f\"Ex. of Ruling Column:\"))\n",
    "df_reg_giv_irs_eo1[['ein','ruling']].head()"
   ]
  },
  {
   "cell_type": "code",
   "execution_count": 22,
   "metadata": {},
   "outputs": [
    {
     "data": {
      "text/markdown": [
       "Tax Ruling Summary Stats:"
      ],
      "text/plain": [
       "<IPython.core.display.Markdown object>"
      ]
     },
     "metadata": {},
     "output_type": "display_data"
    },
    {
     "data": {
      "text/plain": [
       "count                           265648\n",
       "mean     1997-10-29 20:21:07.686562944\n",
       "min                1900-01-01 00:00:00\n",
       "25%                1983-11-01 00:00:00\n",
       "50%                2005-08-01 00:00:00\n",
       "75%                2016-11-01 00:00:00\n",
       "max                2023-06-01 00:00:00\n",
       "Name: ruling, dtype: object"
      ]
     },
     "execution_count": 22,
     "metadata": {},
     "output_type": "execute_result"
    }
   ],
   "source": [
    "# Show stats.\n",
    "display(Markdown(f\"Tax Ruling Summary Stats:\"))\n",
    "df_reg_giv_irs_eo1['ruling'].describe()"
   ]
  },
  {
   "cell_type": "code",
   "execution_count": 15,
   "metadata": {},
   "outputs": [
    {
     "name": "stderr",
     "output_type": "stream",
     "text": [
      "/var/folders/79/jdv69xcs22z7cyxln5rsbzzh0000gn/T/ipykernel_63172/1108986454.py:8: FutureWarning:\n",
      "\n",
      "Series.__getitem__ treating keys as positions is deprecated. In a future version, integer keys will always be treated as labels (consistent with DataFrame behavior). To access a value by position, use `ser.iloc[pos]`\n",
      "\n"
     ]
    },
    {
     "data": {
      "image/png": "[encoded data removed]",
      "text/plain": [
       "<Figure size 900x500 with 1 Axes>"
      ]
     },
     "metadata": {},
     "output_type": "display_data"
    }
   ],
   "source": [
    "#| label: fig-ruling\n",
    "#| fig-cap: \"Trend Analysis of Ruling Dates for Exempt Organizations\"\n",
    "\n",
    "# Make data copy\n",
    "ruling_df = df_reg_giv_irs_eo1.copy() \n",
    "\n",
    "# Calculate percentage of zeros in RULING col.\n",
    "pct_of_zeros = ruling_df['ruling'].value_counts().get(0,0)/ruling_df.shape[0]\n",
    "#print(f\"{pct_of_zeros:.2%}\")\n",
    "\n",
    "# Aggregate data anually.\n",
    "annual_counts = ruling_df.groupby(pd.Grouper(key='ruling', freq='Y')).size()\n",
    "\n",
    "# Apply rolling window of 5 years to smooth the data\n",
    "rolling_counts = annual_counts.rolling(window=5, center=True).mean()\n",
    "\n",
    "# Plot\n",
    "plt.figure(figsize=(9, 5))\n",
    "annual_counts.plot(alpha=0.5, label='Annual Counts')  # Original data\n",
    "rolling_counts.plot(color='red', label='5-Year Rolling Average')  # Smoothed data\n",
    "plt.title('Number of Exempt Organizations Over Time (According to Ruling Date)')\n",
    "plt.xlabel('Ruling Date (Year)')\n",
    "plt.ylabel('Number of EINs')\n",
    "plt.legend()\n",
    "plt.xticks(rotation=45)\n",
    "plt.tight_layout()\n",
    "plt.show()"
   ]
  },
  {
   "cell_type": "markdown",
   "metadata": {},
   "source": [
    "## 4.4 Financial Analysis\n",
    "This section aims to analyze financial metrics like asset, income and revenue to gauge the size and financial health of organizations. This can help in undertanding how much resources are available for and allocated towards their cause.\n",
    "\n",
    "Classification codes provide a range view of the organization's assets and income, useful for categorizing organizations by financial size. These may provide a more coherent view of financials. "
   ]
  },
  {
   "cell_type": "markdown",
   "metadata": {},
   "source": [
    "### 4.4.1. Asset, Income & Revenue Amounts \n",
    "\n",
    "Data Values Note: \n",
    "Some values are negative. Documentation confirmed this is a possibility but lacks formal interpretation - https://www.irs.gov/pub/irs-soi/eo-info.pdf"
   ]
  },
  {
   "cell_type": "code",
   "execution_count": 16,
   "metadata": {},
   "outputs": [
    {
     "data": {
      "text/markdown": [
       "Financial Amount Summary Stats:"
      ],
      "text/plain": [
       "<IPython.core.display.Markdown object>"
      ]
     },
     "metadata": {},
     "output_type": "display_data"
    },
    {
     "data": {
      "text/html": [
       "<div>\n",
       "<style scoped>\n",
       "    .dataframe tbody tr th:only-of-type {\n",
       "        vertical-align: middle;\n",
       "    }\n",
       "\n",
       "    .dataframe tbody tr th {\n",
       "        vertical-align: top;\n",
       "    }\n",
       "\n",
       "    .dataframe thead th {\n",
       "        text-align: right;\n",
       "    }\n",
       "</style>\n",
       "<table border=\"1\" class=\"dataframe\">\n",
       "  <thead>\n",
       "    <tr style=\"text-align: right;\">\n",
       "      <th></th>\n",
       "      <th>asset_amt</th>\n",
       "      <th>income_amt</th>\n",
       "      <th>revenue_amt</th>\n",
       "    </tr>\n",
       "  </thead>\n",
       "  <tbody>\n",
       "    <tr>\n",
       "      <th>count</th>\n",
       "      <td>214,706.00</td>\n",
       "      <td>214,706.00</td>\n",
       "      <td>190,912.00</td>\n",
       "    </tr>\n",
       "    <tr>\n",
       "      <th>mean</th>\n",
       "      <td>8,412,815.72</td>\n",
       "      <td>4,918,212.63</td>\n",
       "      <td>3,663,787.81</td>\n",
       "    </tr>\n",
       "    <tr>\n",
       "      <th>std</th>\n",
       "      <td>284,811,159.26</td>\n",
       "      <td>151,694,731.50</td>\n",
       "      <td>99,541,115.77</td>\n",
       "    </tr>\n",
       "    <tr>\n",
       "      <th>min</th>\n",
       "      <td>0.00</td>\n",
       "      <td>-1,753,425.00</td>\n",
       "      <td>-46,780,468.00</td>\n",
       "    </tr>\n",
       "    <tr>\n",
       "      <th>25%</th>\n",
       "      <td>0.00</td>\n",
       "      <td>0.00</td>\n",
       "      <td>0.00</td>\n",
       "    </tr>\n",
       "    <tr>\n",
       "      <th>50%</th>\n",
       "      <td>5,989.00</td>\n",
       "      <td>3,000.00</td>\n",
       "      <td>0.00</td>\n",
       "    </tr>\n",
       "    <tr>\n",
       "      <th>75%</th>\n",
       "      <td>380,038.25</td>\n",
       "      <td>206,526.00</td>\n",
       "      <td>145,756.25</td>\n",
       "    </tr>\n",
       "    <tr>\n",
       "      <th>max</th>\n",
       "      <td>54,599,818,948.00</td>\n",
       "      <td>42,081,770,632.00</td>\n",
       "      <td>19,858,151,933.00</td>\n",
       "    </tr>\n",
       "  </tbody>\n",
       "</table>\n",
       "</div>"
      ],
      "text/plain": [
       "              asset_amt        income_amt       revenue_amt\n",
       "count        214,706.00        214,706.00        190,912.00\n",
       "mean       8,412,815.72      4,918,212.63      3,663,787.81\n",
       "std      284,811,159.26    151,694,731.50     99,541,115.77\n",
       "min                0.00     -1,753,425.00    -46,780,468.00\n",
       "25%                0.00              0.00              0.00\n",
       "50%            5,989.00          3,000.00              0.00\n",
       "75%          380,038.25        206,526.00        145,756.25\n",
       "max   54,599,818,948.00 42,081,770,632.00 19,858,151,933.00"
      ]
     },
     "execution_count": 16,
     "metadata": {},
     "output_type": "execute_result"
    }
   ],
   "source": [
    "# Select financial columns.\n",
    "financial_columns = ['asset_amt', 'income_amt', 'revenue_amt']\n",
    "\n",
    "# Show stats.\n",
    "display(Markdown(f\"Financial Amount Summary Stats:\"))\n",
    "df_reg_giv_irs_eo1[financial_columns].describe()"
   ]
  },
  {
   "cell_type": "markdown",
   "metadata": {},
   "source": [
    "### 4.4.2. Asset & Income Codes\n",
    "\n",
    "**Action item:** find documentation that maps asset and income codes. "
   ]
  },
  {
   "cell_type": "code",
   "execution_count": 17,
   "metadata": {},
   "outputs": [
    {
     "data": {
      "text/markdown": [
       "Financial Code Summary Stats:"
      ],
      "text/plain": [
       "<IPython.core.display.Markdown object>"
      ]
     },
     "metadata": {},
     "output_type": "display_data"
    },
    {
     "data": {
      "text/html": [
       "<div>\n",
       "<style scoped>\n",
       "    .dataframe tbody tr th:only-of-type {\n",
       "        vertical-align: middle;\n",
       "    }\n",
       "\n",
       "    .dataframe tbody tr th {\n",
       "        vertical-align: top;\n",
       "    }\n",
       "\n",
       "    .dataframe thead th {\n",
       "        text-align: right;\n",
       "    }\n",
       "</style>\n",
       "<table border=\"1\" class=\"dataframe\">\n",
       "  <thead>\n",
       "    <tr style=\"text-align: right;\">\n",
       "      <th></th>\n",
       "      <th>asset_cd</th>\n",
       "      <th>income_cd</th>\n",
       "    </tr>\n",
       "  </thead>\n",
       "  <tbody>\n",
       "    <tr>\n",
       "      <th>count</th>\n",
       "      <td>267,136.00</td>\n",
       "      <td>267,136.00</td>\n",
       "    </tr>\n",
       "    <tr>\n",
       "      <th>mean</th>\n",
       "      <td>1.95</td>\n",
       "      <td>1.79</td>\n",
       "    </tr>\n",
       "    <tr>\n",
       "      <th>std</th>\n",
       "      <td>2.56</td>\n",
       "      <td>2.37</td>\n",
       "    </tr>\n",
       "    <tr>\n",
       "      <th>min</th>\n",
       "      <td>0.00</td>\n",
       "      <td>0.00</td>\n",
       "    </tr>\n",
       "    <tr>\n",
       "      <th>25%</th>\n",
       "      <td>0.00</td>\n",
       "      <td>0.00</td>\n",
       "    </tr>\n",
       "    <tr>\n",
       "      <th>50%</th>\n",
       "      <td>0.00</td>\n",
       "      <td>0.00</td>\n",
       "    </tr>\n",
       "    <tr>\n",
       "      <th>75%</th>\n",
       "      <td>4.00</td>\n",
       "      <td>4.00</td>\n",
       "    </tr>\n",
       "    <tr>\n",
       "      <th>max</th>\n",
       "      <td>9.00</td>\n",
       "      <td>9.00</td>\n",
       "    </tr>\n",
       "  </tbody>\n",
       "</table>\n",
       "</div>"
      ],
      "text/plain": [
       "        asset_cd  income_cd\n",
       "count 267,136.00 267,136.00\n",
       "mean        1.95       1.79\n",
       "std         2.56       2.37\n",
       "min         0.00       0.00\n",
       "25%         0.00       0.00\n",
       "50%         0.00       0.00\n",
       "75%         4.00       4.00\n",
       "max         9.00       9.00"
      ]
     },
     "execution_count": 17,
     "metadata": {},
     "output_type": "execute_result"
    }
   ],
   "source": [
    "# Select financial code columns.\n",
    "financial_columns = ['asset_cd', 'income_cd']\n",
    "\n",
    "# Show stats.\n",
    "display(Markdown(f\"Financial Code Summary Stats:\"))\n",
    "df_reg_giv_irs_eo1[financial_columns].describe()"
   ]
  },
  {
   "cell_type": "markdown",
   "metadata": {},
   "source": [
    "## 4.5 Transparency and Accountability\n",
    "Codes within the dataset such as filing_req_cd and pf_filing_req_cd may indicate the filing requirements, which can help assess compliance with IRS reporting standards, a proxy for transparency.\n",
    "\n",
    "TAX_PERIOD, ACCT_PD: Reviewing the tax period and accounting period using tax_period and acct_pd columns may offer insights into the timeliness and regularity of financial reporting.\n",
    "\n",
    "**Action item:** find documentation that maps filing_req_cd, pf_filing_req_cd, and acct_pd codes. "
   ]
  },
  {
   "cell_type": "code",
   "execution_count": 21,
   "metadata": {},
   "outputs": [
    {
     "data": {
      "text/markdown": [
       "Tax Filing Code Summary Stats:"
      ],
      "text/plain": [
       "<IPython.core.display.Markdown object>"
      ]
     },
     "metadata": {},
     "output_type": "display_data"
    },
    {
     "data": {
      "text/html": [
       "<div>\n",
       "<style scoped>\n",
       "    .dataframe tbody tr th:only-of-type {\n",
       "        vertical-align: middle;\n",
       "    }\n",
       "\n",
       "    .dataframe tbody tr th {\n",
       "        vertical-align: top;\n",
       "    }\n",
       "\n",
       "    .dataframe thead th {\n",
       "        text-align: right;\n",
       "    }\n",
       "</style>\n",
       "<table border=\"1\" class=\"dataframe\">\n",
       "  <thead>\n",
       "    <tr style=\"text-align: right;\">\n",
       "      <th></th>\n",
       "      <th>filing_req_cd</th>\n",
       "      <th>pf_filing_req_cd</th>\n",
       "      <th>tax_period</th>\n",
       "      <th>acct_pd</th>\n",
       "    </tr>\n",
       "  </thead>\n",
       "  <tbody>\n",
       "    <tr>\n",
       "      <th>count</th>\n",
       "      <td>267,136.00</td>\n",
       "      <td>267,136.00</td>\n",
       "      <td>217065</td>\n",
       "      <td>267,136.00</td>\n",
       "    </tr>\n",
       "    <tr>\n",
       "      <th>mean</th>\n",
       "      <td>2.12</td>\n",
       "      <td>0.10</td>\n",
       "      <td>2022-03-02 17:30:47.938636544</td>\n",
       "      <td>10.13</td>\n",
       "    </tr>\n",
       "    <tr>\n",
       "      <th>min</th>\n",
       "      <td>0.00</td>\n",
       "      <td>0.00</td>\n",
       "      <td>1988-12-01 00:00:00</td>\n",
       "      <td>0.00</td>\n",
       "    </tr>\n",
       "    <tr>\n",
       "      <th>25%</th>\n",
       "      <td>1.00</td>\n",
       "      <td>0.00</td>\n",
       "      <td>2021-12-01 00:00:00</td>\n",
       "      <td>8.00</td>\n",
       "    </tr>\n",
       "    <tr>\n",
       "      <th>50%</th>\n",
       "      <td>2.00</td>\n",
       "      <td>0.00</td>\n",
       "      <td>2022-06-01 00:00:00</td>\n",
       "      <td>12.00</td>\n",
       "    </tr>\n",
       "    <tr>\n",
       "      <th>75%</th>\n",
       "      <td>2.00</td>\n",
       "      <td>0.00</td>\n",
       "      <td>2022-12-01 00:00:00</td>\n",
       "      <td>12.00</td>\n",
       "    </tr>\n",
       "    <tr>\n",
       "      <th>max</th>\n",
       "      <td>14.00</td>\n",
       "      <td>3.00</td>\n",
       "      <td>2023-06-01 00:00:00</td>\n",
       "      <td>12.00</td>\n",
       "    </tr>\n",
       "    <tr>\n",
       "      <th>std</th>\n",
       "      <td>1.88</td>\n",
       "      <td>0.30</td>\n",
       "      <td>NaN</td>\n",
       "      <td>2.91</td>\n",
       "    </tr>\n",
       "  </tbody>\n",
       "</table>\n",
       "</div>"
      ],
      "text/plain": [
       "       filing_req_cd  pf_filing_req_cd                     tax_period  \\\n",
       "count     267,136.00        267,136.00                         217065   \n",
       "mean            2.12              0.10  2022-03-02 17:30:47.938636544   \n",
       "min             0.00              0.00            1988-12-01 00:00:00   \n",
       "25%             1.00              0.00            2021-12-01 00:00:00   \n",
       "50%             2.00              0.00            2022-06-01 00:00:00   \n",
       "75%             2.00              0.00            2022-12-01 00:00:00   \n",
       "max            14.00              3.00            2023-06-01 00:00:00   \n",
       "std             1.88              0.30                            NaN   \n",
       "\n",
       "         acct_pd  \n",
       "count 267,136.00  \n",
       "mean       10.13  \n",
       "min         0.00  \n",
       "25%         8.00  \n",
       "50%        12.00  \n",
       "75%        12.00  \n",
       "max        12.00  \n",
       "std         2.91  "
      ]
     },
     "execution_count": 21,
     "metadata": {},
     "output_type": "execute_result"
    }
   ],
   "source": [
    "# Select filing columns.\n",
    "filing_columns = ['filing_req_cd', 'pf_filing_req_cd','tax_period', 'acct_pd']\n",
    "\n",
    "# Show stats.\n",
    "display(Markdown(f\"Tax Filing Code Summary Stats:\"))\n",
    "df_reg_giv_irs_eo1[filing_columns].describe()"
   ]
  }
 ],
 "metadata": {
  "interpreter": {
   "hash": "61260626b7a8cb8ab5504211c542d45c5d79b24ae1da8d267068e60b412659a5"
  },
  "kernelspec": {
   "display_name": "Python 3.9.17 ('t_up')",
   "language": "python",
   "name": "python3"
  },
  "language_info": {
   "codemirror_mode": {
    "name": "ipython",
    "version": 3
   },
   "file_extension": ".py",
   "mimetype": "text/x-python",
   "name": "python",
   "nbconvert_exporter": "python",
   "pygments_lexer": "ipython3",
   "version": "3.9.18"
  },
  "orig_nbformat": 4
 },
 "nbformat": 4,
 "nbformat_minor": 2
}
