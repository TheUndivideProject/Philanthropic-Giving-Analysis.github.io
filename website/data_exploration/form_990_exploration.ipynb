{
 "cells": [
  {
   "cell_type": "raw",
   "metadata": {},
   "source": [
    "---\n",
    "title: \"2022 Form 990 Data Report\"\n",
    "author: \"Amelia Baier\"\n",
    "date: \"2024-03-22\"\n",
    "format: \n",
    "  html:\n",
    "    toc: true\n",
    "    toc-depth: 3\n",
    "    toc-title: \"Table of Contents\"\n",
    "    embed-resources: true\n",
    "    warnings: false\n",
    "    code-fold: true\n",
    "execute:\n",
    "  echo: true\n",
    "---"
   ]
  },
  {
   "cell_type": "markdown",
   "metadata": {},
   "source": [
    "# 1. Introduction\n",
    "\n",
    "This document aims to perform an initial exploration of the features and values within the Form 990 to identify relevant variables for a detailed analysis of philanthropic giving within the environmental and social justice sectors. Additionally, we intend to assess the level of transparency and accountability of various organizations, leveraging the data provided by the form 990 to inform our inquiry.\n",
    "\n",
    "These forms contain selected financial data from filers of three Internal Revenue Service (IRS) information returns. Futher information can be found on IRS.gov - https://www.irs.gov/statistics/soi-tax-stats-annual-extract-of-tax-exempt-organization-financial-data\n"
   ]
  },
  {
   "cell_type": "markdown",
   "metadata": {},
   "source": [
    "# 2. First Glance"
   ]
  },
  {
   "cell_type": "markdown",
   "metadata": {},
   "source": [
    "## 2.1. General Summary"
   ]
  },
  {
   "cell_type": "code",
   "execution_count": 1,
   "metadata": {},
   "outputs": [
    {
     "data": {
      "text/markdown": [
       "Data Dimensions:\n",
       "\n",
       "| Dimension   | Count   |\n",
       "|:------------|:--------|\n",
       "| Rows        | 326,123 |\n",
       "| Columns     | 246     |"
      ],
      "text/plain": [
       "<IPython.core.display.Markdown object>"
      ]
     },
     "metadata": {},
     "output_type": "display_data"
    },
    {
     "data": {
      "text/markdown": [
       "First Five Rows of Data:\n",
       "\n",
       "| efile   |         EIN |   tax_pd |   subseccd | s501c3or4947a1cd   | schdbind   | politicalactvtscd   |   lbbyingactvtscd | subjto6033cd   | dnradvisedfundscd   | prptyintrcvdcd   | maintwrkofartcd   | crcounselingqstncd   | hldassetsintermpermcd   | rptlndbldgeqptcd   | rptinvstothsecd   | rptinvstprgrelcd   | rptothasstcd   | rptothliabcd   | sepcnsldtfinstmtcd   | sepindaudfinstmtcd   | inclinfinstmtcd   | operateschools170cd   | frgnofficecd   | frgnrevexpnscd   | frgngrntscd   | frgnaggragrntscd   | rptprofndrsngfeescd   | rptincfnndrsngcd   | rptincgamingcd   | operatehosptlcd   |   hospaudfinstmtcd | rptgrntstogovtcd   | rptgrntstoindvcd   | rptyestocompnstncd   | txexmptbndcd   |   invstproceedscd |   maintescrwaccntcd |   actonbehalfcd |   engageexcessbnftcd |   awarexcessbnftcd | loantofficercd   | grantoofficercd   | dirbusnreltdcd   | fmlybusnreltdcd   | servasofficercd   | recvnoncashcd   | recvartcd   | ceaseoperationscd   | sellorexchcd   | ownsepentcd   | reltdorgcd   | intincntrlcd   |   orgtrnsfrcd | conduct5percentcd   | compltschocd   |   f1096cnt |   fw2gcnt | wthldngrulescd   |   noemplyeesw3cnt | filerqrdrtnscd   | unrelbusinccd   | filedf990tcd   | frgnacctcd   | prohibtdtxshltrcd   | prtynotifyorgcd   |   filedf8886tcd | solicitcntrbcd   |   exprstmntcd |   providegoodscd |   notfydnrvalcd |   filedf8282cd |   f8282cnt |   fndsrcvdcd |   premiumspaidcd |   filedf8899cd |   filedf1098ccd |   excbushldngscd |   s4966distribcd |   distribtodonorcd |   initiationfees |   grsrcptspublicuse |   grsincmembers |   grsincother |   filedlieuf1041cd |   txexmptint |   qualhlthplncd |   qualhlthreqmntn |   qualhlthonhnd | rcvdpdtngcd   |   filedf720cd |   totreprtabled |   totcomprelatede |   totestcompf |   noindiv100kcnt |   nocontractor100kcnt |   totcntrbgfts |   prgmservcode2acd |   totrev2acola |   prgmservcode2bcd |   totrev2bcola |   prgmservcode2ccd |   totrev2ccola |   prgmservcode2dcd |   totrev2dcola |   prgmservcode2ecd |   totrev2ecola |   totrev2fcola |   totprgmrevnue |   invstmntinc |   txexmptbndsproceeds |   royaltsinc |   grsrntsreal |   grsrntsprsnl |   rntlexpnsreal |   rntlexpnsprsnl |   rntlincreal |   rntlincprsnl |   netrntlinc |   grsalesecur |   grsalesothr |   cstbasisecur |   cstbasisothr |   gnlsecur |   gnlsothr |   netgnls |   grsincfndrsng |   lessdirfndrsng |   netincfndrsng |   grsincgaming |   lessdirgaming |   netincgaming |   grsalesinvent |   lesscstofgoods |   netincsales |   miscrev11acd |   miscrevtota |   miscrev11bcd |   miscrevtot11b |   miscrev11ccd |   miscrevtot11c |   miscrevtot11d |   miscrevtot11e |   totrevenue |   grntstogovt |   grnsttoindiv |   grntstofrgngovt |   benifitsmembrs |   compnsatncurrofcr |   compnsatnandothr |   othrsalwages |   pensionplancontrb |   othremplyeebenef |   payrolltx |   feesforsrvcmgmt |   legalfees |   accntingfees |   feesforsrvclobby |   profndraising |   feesforsrvcinvstmgmt |   feesforsrvcothr |   advrtpromo |   officexpns |   infotech |   royaltsexpns |   occupancy |   travel |   travelofpublicoffcl |   converconventmtng |   interestamt |   pymtoaffiliates |   deprcatndepletn |   insurance |   othrexpnsa |   othrexpnsb |   othrexpnsc |   othrexpnsd |   othrexpnse |   othrexpnsf |   totfuncexpns |   nonintcashend |   svngstempinvend |   pldgegrntrcvblend |   accntsrcvblend |   currfrmrcvblend |   rcvbldisqualend |   notesloansrcvblend |   invntriesalesend |   prepaidexpnsend |   lndbldgsequipend |   invstmntsend |   invstmntsothrend |   invstmntsprgmend |   intangibleassetsend |   othrassetsend |   totassetsend |   accntspayableend |   grntspayableend |   deferedrevnuend |   txexmptbndsend |   escrwaccntliabend |   paybletoffcrsend |   secrdmrtgsend |   unsecurednotesend |   othrliabend |   totliabend |   unrstrctnetasstsend |   temprstrctnetasstsend |   permrstrctnetasstsend |   capitalstktrstend |   paidinsurplusend |   retainedearnend |   totnetassetend |   totnetliabastend |   nonpfrea |   totnooforgscnt |   totsupport |   gftgrntsrcvd170 |   txrevnuelevied170 |   srvcsval170 |   pubsuppsubtot170 |   exceeds2pct170 |   pubsupplesspct170 |   samepubsuppsubtot170 |   grsinc170 |   netincunreltd170 |   othrinc170 |   totsupp170 |   grsrcptsrelated170 |   totgftgrntrcvd509 |   grsrcptsadmissn509 |   grsrcptsactivities509 |   txrevnuelevied509 |   srvcsval509 |   pubsuppsubtot509 |   rcvdfrmdisqualsub509 |   exceeds1pct509 |   subtotpub509 |   pubsupplesub509 |   samepubsuppsubtot509 |   grsinc509 |   unreltxincls511tx509 |   subtotsuppinc509 |   netincunrelatd509 |   othrinc509 |   totsupp509 |\n",
       "|:--------|------------:|---------:|-----------:|:-------------------|:-----------|:--------------------|------------------:|:---------------|:--------------------|:-----------------|:------------------|:---------------------|:------------------------|:-------------------|:------------------|:-------------------|:---------------|:---------------|:---------------------|:---------------------|:------------------|:----------------------|:---------------|:-----------------|:--------------|:-------------------|:----------------------|:-------------------|:-----------------|:------------------|-------------------:|:-------------------|:-------------------|:---------------------|:---------------|------------------:|--------------------:|----------------:|---------------------:|-------------------:|:-----------------|:------------------|:-----------------|:------------------|:------------------|:----------------|:------------|:--------------------|:---------------|:--------------|:-------------|:---------------|--------------:|:--------------------|:---------------|-----------:|----------:|:-----------------|------------------:|:-----------------|:----------------|:---------------|:-------------|:--------------------|:------------------|----------------:|:-----------------|--------------:|-----------------:|----------------:|---------------:|-----------:|-------------:|-----------------:|---------------:|----------------:|-----------------:|-----------------:|-------------------:|-----------------:|--------------------:|----------------:|--------------:|-------------------:|-------------:|----------------:|------------------:|----------------:|:--------------|--------------:|----------------:|------------------:|--------------:|-----------------:|----------------------:|---------------:|-------------------:|---------------:|-------------------:|---------------:|-------------------:|---------------:|-------------------:|---------------:|-------------------:|---------------:|---------------:|----------------:|--------------:|----------------------:|-------------:|--------------:|---------------:|----------------:|-----------------:|--------------:|---------------:|-------------:|--------------:|--------------:|---------------:|---------------:|-----------:|-----------:|----------:|----------------:|-----------------:|----------------:|---------------:|----------------:|---------------:|----------------:|-----------------:|--------------:|---------------:|--------------:|---------------:|----------------:|---------------:|----------------:|----------------:|----------------:|-------------:|--------------:|---------------:|------------------:|-----------------:|--------------------:|-------------------:|---------------:|--------------------:|-------------------:|------------:|------------------:|------------:|---------------:|-------------------:|----------------:|-----------------------:|------------------:|-------------:|-------------:|-----------:|---------------:|------------:|---------:|----------------------:|--------------------:|--------------:|------------------:|------------------:|------------:|-------------:|-------------:|-------------:|-------------:|-------------:|-------------:|---------------:|----------------:|------------------:|--------------------:|-----------------:|------------------:|------------------:|---------------------:|-------------------:|------------------:|-------------------:|---------------:|-------------------:|-------------------:|----------------------:|----------------:|---------------:|-------------------:|------------------:|------------------:|-----------------:|--------------------:|-------------------:|----------------:|--------------------:|--------------:|-------------:|----------------------:|------------------------:|------------------------:|--------------------:|-------------------:|------------------:|-----------------:|-------------------:|-----------:|-----------------:|-------------:|------------------:|--------------------:|--------------:|-------------------:|-----------------:|--------------------:|-----------------------:|------------:|-------------------:|-------------:|-------------:|---------------------:|--------------------:|---------------------:|------------------------:|--------------------:|--------------:|-------------------:|-----------------------:|-----------------:|---------------:|------------------:|-----------------------:|------------:|-----------------------:|-------------------:|--------------------:|-------------:|-------------:|\n",
       "| P       | 1.00189e+07 |   202004 |         19 | N                  | N          | N                   |               nan | N              | N                   | N                | N                 | N                    | N                       | N                  | N                 | N                  | N              | N              | N                    | Y                    | N                 | N                     | N              | N                | N             | N                  | N                     | N                  | N                | N                 |                nan | N                  | N                  | N                    | N              |               nan |                 nan |             nan |                  nan |                nan | N                | N                 | N                | N                 | N                 | N               | N           | N                   | N              | N             | N            | N              |           nan | N                   | Y              |          3 |         0 | N                |                 1 | Y                | N               | nan            | N            | N                   | N                 |             nan | N                |           nan |              nan |             nan |            nan |          0 |          nan |              nan |            nan |             nan |              nan |              nan |                nan |                0 |                   0 |               0 |             0 |                nan |            0 |             nan |                 0 |               0 | N             |           nan |           40000 |                 0 |             0 |                0 |                     0 |         125780 |                nan |          54362 |                nan |          48087 |                nan |          23211 |                nan |           8294 |                nan |              0 |              0 |          133954 |           725 |                     0 |            0 |             0 |              0 |               0 |                0 |             0 |              0 |            0 |             0 |             0 |              0 |              0 |          0 |          0 |         0 |               0 |                0 |               0 |              0 |               0 |              0 |               0 |                0 |             0 |            nan |             0 |            nan |               0 |            nan |               0 |               0 |               0 |       260459 |             0 |           1100 |                 0 |                0 |               40000 |                  0 |           1800 |                   0 |                  0 |        2624 |                 0 |           0 |           2700 |                  0 |               0 |                      0 |                 0 |            0 |         7097 |          0 |              0 |       12560 |        0 |                     0 |               13719 |             0 |                 0 |                 0 |        4395 |        65485 |        60719 |        44495 |        13703 |         6032 |            0 |         276429 |          179298 |             36656 |                   0 |                0 |                 0 |                 0 |                    0 |                  0 |                 0 |                  0 |              0 |                  0 |                  0 |                     0 |               0 |         215954 |                  0 |                 0 |                 0 |                0 |                   0 |                  0 |               0 |                   0 |             0 |            0 |                215954 |                       0 |                       0 |                   0 |                  0 |                 0 |           215954 |             215954 |        nan |                0 |            0 |                 0 |                   0 |             0 |                  0 |                0 |                   0 |                      0 |           0 |                  0 |            0 |            0 |                    0 |                   0 |                    0 |                       0 |                   0 |             0 |                  0 |                      0 |                0 |              0 |                 0 |                      0 |           0 |                      0 |                  0 |                   0 |            0 |            0 |\n",
       "| E       | 1.00189e+07 |   202104 |         19 | N                  | N          | N                   |               nan | N              | N                   | N                | N                 | N                    | nan                     | N                  | N                 | N                  | N              | N              | N                    | Y                    | N                 | N                     | N              | N                | N             | N                  | N                     | N                  | N                | N                 |                nan | N                  | N                  | N                    | N              |               nan |                 nan |             nan |                  nan |                nan | N                | N                 | N                | N                 | nan               | N               | N           | N                   | N              | N             | N            | N              |           nan | N                   | Y              |          2 |         0 | N                |                 1 | Y                | N               | nan            | N            | N                   | N                 |             nan | N                |           nan |              nan |             nan |            nan |          0 |          nan |              nan |            nan |             nan |              nan |              nan |                nan |                0 |                   0 |               0 |             0 |                nan |            0 |             nan |                 0 |               0 | N             |           nan |           42000 |                 0 |             0 |                0 |                     0 |         122786 |                nan |          20958 |                nan |           9018 |                nan |           2432 |                nan |           1091 |                nan |              0 |              0 |           33499 |           307 |                     0 |            0 |             0 |              0 |               0 |                0 |             0 |              0 |            0 |             0 |             0 |              0 |              0 |          0 |          0 |         0 |               0 |                0 |               0 |              0 |               0 |              0 |               0 |                0 |             0 |            nan |             0 |            nan |               0 |            nan |               0 |               0 |               0 |       156592 |             0 |              0 |                 0 |                0 |               42000 |                  0 |           1100 |                   0 |                  0 |        2878 |                 0 |           0 |           3000 |                  0 |               0 |                      0 |                 0 |            0 |         6200 |          0 |              0 |       12248 |        0 |                     0 |                 904 |             0 |                 0 |                 0 |         989 |        64897 |         6051 |         1657 |          260 |            0 |            0 |         142184 |          193408 |             36954 |                   0 |                0 |                 0 |                 0 |                    0 |                  0 |                 0 |                  0 |              0 |                  0 |                  0 |                     0 |               0 |         230362 |                  0 |                 0 |                 0 |                0 |                   0 |                  0 |               0 |                   0 |             0 |            0 |                230362 |                       0 |                       0 |                   0 |                  0 |                 0 |           230362 |             230362 |        nan |                0 |            0 |                 0 |                   0 |             0 |                  0 |                0 |                   0 |                      0 |           0 |                  0 |            0 |            0 |                    0 |                   0 |                    0 |                       0 |                   0 |             0 |                  0 |                      0 |                0 |              0 |                 0 |                      0 |           0 |                      0 |                  0 |                   0 |            0 |            0 |\n",
       "| E       | 1.00189e+07 |   202204 |         19 | N                  | N          | N                   |               nan | N              | N                   | N                | N                 | N                    | nan                     | N                  | N                 | N                  | N              | N              | N                    | Y                    | N                 | N                     | N              | N                | N             | N                  | N                     | N                  | N                | N                 |                nan | N                  | N                  | N                    | N              |               nan |                 nan |             nan |                  nan |                nan | N                | N                 | N                | N                 | nan               | N               | N           | N                   | N              | N             | N            | N              |           nan | N                   | Y              |          1 |         0 | N                |                 1 | Y                | N               | nan            | N            | N                   | N                 |             nan | N                |           nan |              nan |             nan |            nan |          0 |          nan |              nan |            nan |             nan |              nan |              nan |                nan |                0 |                   0 |               0 |             0 |                nan |            0 |             nan |                 0 |               0 | N             |           nan |           42750 |                 0 |             0 |                0 |                     0 |         122782 |                nan |          43047 |                nan |          11477 |                nan |          10368 |                nan |              1 |                nan |              0 |              0 |           64893 |           194 |                     0 |            0 |             0 |              0 |               0 |                0 |             0 |              0 |            0 |             0 |             0 |              0 |              0 |          0 |          0 |         0 |               0 |                0 |               0 |              0 |               0 |              0 |               0 |                0 |             0 |            nan |             0 |            nan |               0 |            nan |               0 |               0 |               0 |       187869 |             0 |              0 |                 0 |                0 |               42750 |                  0 |           1350 |                   0 |                  0 |        2846 |                 0 |           0 |           3700 |                  0 |               0 |                      0 |                 0 |            0 |         6333 |          0 |              0 |       12552 |        0 |                     0 |                8447 |             0 |                 0 |                 0 |         989 |        63566 |        21942 |        11304 |            0 |            0 |            0 |         175779 |          205313 |             37139 |                   0 |                0 |                 0 |                 0 |                    0 |                  0 |                 0 |                  0 |              0 |                  0 |                  0 |                     0 |               0 |         242452 |                  0 |                 0 |                 0 |                0 |                   0 |                  0 |               0 |                   0 |             0 |            0 |                242452 |                       0 |                       0 |                   0 |                  0 |                 0 |           242452 |             242452 |        nan |                0 |            0 |                 0 |                   0 |             0 |                  0 |                0 |                   0 |                      0 |           0 |                  0 |            0 |            0 |                    0 |                   0 |                    0 |                       0 |                   0 |             0 |                  0 |                      0 |                0 |              0 |                 0 |                      0 |           0 |                      0 |                  0 |                   0 |            0 |            0 |\n",
       "| E       | 1.00189e+07 |   202105 |         19 | N                  | N          | N                   |               nan | N              | N                   | N                | N                 | N                    | nan                     | Y                  | Y                 | N                  | N              | Y              | N                    | N                    | N                 | N                     | N              | N                | N             | N                  | N                     | N                  | Y                | N                 |                nan | N                  | N                  | N                    | N              |               nan |                 nan |             nan |                  nan |                nan | N                | N                 | N                | N                 | nan               | N               | N           | N                   | N              | N             | N            | N              |           nan | N                   | N              |          1 |         0 | N                |                14 | Y                | Y               | Y              | N            | N                   | N                 |             nan | N                |           nan |              nan |             nan |            nan |          0 |          nan |              nan |            nan |             nan |              nan |              nan |                nan |                0 |                   0 |               0 |             0 |                nan |            0 |             nan |                 0 |               0 | N             |           nan |               0 |                 0 |             0 |                0 |                     0 |          15102 |                nan |              0 |                nan |              0 |                nan |              0 |                nan |              0 |                nan |              0 |              0 |               0 |             4 |                     0 |            0 |             0 |              0 |               0 |                0 |             0 |              0 |            0 |             0 |             0 |              0 |              0 |          0 |          0 |         0 |             285 |                0 |             285 |         854292 |          748033 |         106259 |          101638 |            47148 |         54490 |            nan |          4656 |            nan |             371 |            nan |             345 |              41 |            5413 |       181553 |             0 |              0 |                 0 |              592 |                   0 |                  0 |          87593 |                   0 |                  0 |        7617 |                 0 |         675 |           5100 |                  0 |               0 |                      0 |                 0 |          273 |         2343 |          0 |              0 |         790 |        0 |                     0 |                   0 |             0 |              7661 |              9125 |        8376 |        15408 |        15013 |         4195 |         4045 |            0 |        15588 |         184394 |            9149 |             64413 |                   0 |                0 |                 0 |                 0 |                    0 |               3077 |                 0 |              29071 |              0 |              47576 |                  0 |                     0 |            2000 |         155286 |                  0 |                 0 |                 0 |                0 |                   0 |                  0 |               0 |                   0 |         26754 |        26754 |                     0 |                       0 |                       0 |                   0 |                  0 |            128532 |           128532 |             155286 |        nan |                0 |            0 |                 0 |                   0 |             0 |                  0 |                0 |                   0 |                      0 |           0 |                  0 |            0 |            0 |                    0 |                   0 |                    0 |                       0 |                   0 |             0 |                  0 |                      0 |                0 |              0 |                 0 |                      0 |           0 |                      0 |                  0 |                   0 |            0 |            0 |\n",
       "| E       | 1.00189e+07 |   202205 |         19 | N                  | N          | N                   |               nan | N              | N                   | N                | N                 | N                    | nan                     | Y                  | Y                 | N                  | N              | Y              | N                    | N                    | N                 | N                     | N              | N                | N             | N                  | N                     | N                  | Y                | N                 |                nan | N                  | N                  | N                    | N              |               nan |                 nan |             nan |                  nan |                nan | N                | N                 | N                | N                 | nan               | N               | N           | N                   | N              | N             | N            | N              |           nan | N                   | N              |          0 |         0 | N                |                13 | Y                | Y               | Y              | N            | N                   | N                 |             nan | N                |           nan |              nan |             nan |            nan |          0 |          nan |              nan |            nan |             nan |              nan |              nan |                nan |                0 |                   0 |               0 |             0 |                nan |            0 |             nan |                 0 |               0 | N             |           nan |               0 |                 0 |             0 |                0 |                     0 |          27640 |                nan |              0 |                nan |              0 |                nan |              0 |                nan |              0 |                nan |              0 |              0 |               0 |             5 |                     0 |            0 |             0 |              0 |               0 |                0 |             0 |              0 |            0 |             0 |             0 |              0 |              0 |          0 |          0 |         0 |            5981 |                0 |            5981 |         932945 |          804952 |         127993 |          144587 |            69923 |         74664 |            nan |         24100 |            nan |               3 |            nan |               0 |               0 |           24103 |       260386 |             0 |              0 |                 0 |                0 |                   0 |                  0 |         102765 |                   0 |                  0 |        8936 |                 0 |           0 |           5525 |                  0 |               0 |                      0 |                 0 |          502 |         4238 |          0 |              0 |       10258 |        0 |                     0 |                   0 |             0 |              7623 |              7568 |        6707 |        22195 |         9544 |         4620 |         3844 |            0 |        20953 |         215278 |            8645 |             95227 |                   0 |                0 |                 0 |                 0 |                    0 |               3077 |                 0 |              27982 |              0 |              49581 |                  0 |                     0 |               0 |         184512 |                  0 |                 0 |                 0 |                0 |                   0 |                  0 |               0 |                   0 |          3835 |         3835 |                     0 |                       0 |                       0 |                   0 |                  0 |            180677 |           180677 |             184512 |        nan |                0 |            0 |                 0 |                   0 |             0 |                  0 |                0 |                   0 |                      0 |           0 |                  0 |            0 |            0 |                    0 |                   0 |                    0 |                       0 |                   0 |             0 |                  0 |                      0 |                0 |              0 |                 0 |                      0 |           0 |                      0 |                  0 |                   0 |            0 |            0 |"
      ],
      "text/plain": [
       "<IPython.core.display.Markdown object>"
      ]
     },
     "metadata": {},
     "output_type": "display_data"
    },
    {
     "data": {
      "text/markdown": [
       "Metadata:\n",
       "\n",
       "| Column Name           | Data Type   | Unique Values   | Missing Values   |\n",
       "|:----------------------|:------------|:----------------|:-----------------|\n",
       "| efile                 | object      | 2               | 4                |\n",
       "| EIN                   | float64     | 302,567         | 4                |\n",
       "| tax_pd                | float64     | 115             | 4                |\n",
       "| subseccd              | float64     | 24              | 4                |\n",
       "| s501c3or4947a1cd      | object      | 2               | 59               |\n",
       "| schdbind              | object      | 2               | 55               |\n",
       "| politicalactvtscd     | object      | 2               | 53               |\n",
       "| lbbyingactvtscd       | object      | 2               | 73,196           |\n",
       "| subjto6033cd          | object      | 2               | 10,789           |\n",
       "| dnradvisedfundscd     | object      | 2               | 50               |\n",
       "| prptyintrcvdcd        | object      | 2               | 46               |\n",
       "| maintwrkofartcd       | object      | 2               | 51               |\n",
       "| crcounselingqstncd    | object      | 2               | 56               |\n",
       "| hldassetsintermpermcd | object      | 2               | 316,793          |\n",
       "| rptlndbldgeqptcd      | object      | 2               | 65               |\n",
       "| rptinvstothsecd       | object      | 2               | 68               |\n",
       "| rptinvstprgrelcd      | object      | 2               | 77               |\n",
       "| rptothasstcd          | object      | 2               | 78               |\n",
       "| rptothliabcd          | object      | 2               | 83               |\n",
       "| sepcnsldtfinstmtcd    | object      | 2               | 86               |\n",
       "| sepindaudfinstmtcd    | object      | 2               | 56               |\n",
       "| inclinfinstmtcd       | object      | 2               | 88               |\n",
       "| operateschools170cd   | object      | 2               | 66               |\n",
       "| frgnofficecd          | object      | 2               | 70               |\n",
       "| frgnrevexpnscd        | object      | 2               | 74               |\n",
       "| frgngrntscd           | object      | 2               | 53               |\n",
       "| frgnaggragrntscd      | object      | 2               | 52               |\n",
       "| rptprofndrsngfeescd   | object      | 2               | 60               |\n",
       "| rptincfnndrsngcd      | object      | 2               | 51               |\n",
       "| rptincgamingcd        | object      | 2               | 53               |\n",
       "| operatehosptlcd       | object      | 2               | 68               |\n",
       "| hospaudfinstmtcd      | float64     | 2               | 322,523          |\n",
       "| rptgrntstogovtcd      | object      | 2               | 73               |\n",
       "| rptgrntstoindvcd      | object      | 2               | 63               |\n",
       "| rptyestocompnstncd    | object      | 2               | 77               |\n",
       "| txexmptbndcd          | object      | 2               | 84               |\n",
       "| invstproceedscd       | object      | 2               | 313,308          |\n",
       "| maintescrwaccntcd     | object      | 2               | 313,391          |\n",
       "| actonbehalfcd         | object      | 2               | 313,505          |\n",
       "| engageexcessbnftcd    | object      | 2               | 61,710           |\n",
       "| awarexcessbnftcd      | object      | 2               | 61,514           |\n",
       "| loantofficercd        | object      | 2               | 66               |\n",
       "| grantoofficercd       | object      | 2               | 76               |\n",
       "| dirbusnreltdcd        | object      | 2               | 69               |\n",
       "| fmlybusnreltdcd       | object      | 2               | 88               |\n",
       "| servasofficercd       | object      | 2               | 316,799          |\n",
       "| recvnoncashcd         | object      | 2               | 70               |\n",
       "| recvartcd             | object      | 2               | 60               |\n",
       "| ceaseoperationscd     | object      | 2               | 68               |\n",
       "| sellorexchcd          | object      | 2               | 63               |\n",
       "| ownsepentcd           | object      | 2               | 60               |\n",
       "| reltdorgcd            | object      | 2               | 70               |\n",
       "| intincntrlcd          | object      | 2               | 310              |\n",
       "| orgtrnsfrcd           | object      | 2               | 73,493           |\n",
       "| conduct5percentcd     | object      | 2               | 78               |\n",
       "| compltschocd          | object      | 2               | 133              |\n",
       "| f1096cnt              | float64     | 2,831           | 4                |\n",
       "| fw2gcnt               | float64     | 152             | 4                |\n",
       "| wthldngrulescd        | object      | 2               | 122,684          |\n",
       "| noemplyeesw3cnt       | float64     | 2,973           | 4                |\n",
       "| filerqrdrtnscd        | object      | 2               | 123,640          |\n",
       "| unrelbusinccd         | object      | 2               | 109              |\n",
       "| filedf990tcd          | object      | 2               | 294,123          |\n",
       "| frgnacctcd            | object      | 2               | 122              |\n",
       "| prohibtdtxshltrcd     | object      | 2               | 88               |\n",
       "| prtynotifyorgcd       | object      | 2               | 303              |\n",
       "| filedf8886tcd         | object      | 2               | 323,361          |\n",
       "| solicitcntrbcd        | object      | 2               | 136              |\n",
       "| exprstmntcd           | object      | 2               | 315,315          |\n",
       "| providegoodscd        | object      | 2               | 101,679          |\n",
       "| notfydnrvalcd         | object      | 2               | 303,569          |\n",
       "| filedf8282cd          | object      | 2               | 102,286          |\n",
       "| f8282cnt              | float64     | 39              | 4                |\n",
       "| fndsrcvdcd            | object      | 2               | 138,722          |\n",
       "| premiumspaidcd        | object      | 2               | 138,694          |\n",
       "| filedf8899cd          | object      | 2               | 248,621          |\n",
       "| filedf1098ccd         | object      | 2               | 248,336          |\n",
       "| excbushldngscd        | object      | 2               | 324,052          |\n",
       "| s4966distribcd        | object      | 2               | 294,054          |\n",
       "| distribtodonorcd      | object      | 2               | 294,352          |\n",
       "| initiationfees        | float64     | 2,694           | 4                |\n",
       "| grsrcptspublicuse     | float64     | 2,231           | 4                |\n",
       "| grsincmembers         | float64     | 2,289           | 4                |\n",
       "| grsincother           | float64     | 1,962           | 4                |\n",
       "| filedlieuf1041cd      | object      | 1               | 322,811          |\n",
       "| txexmptint            | float64     | 4               | 4                |\n",
       "| qualhlthplncd         | object      | 2               | 320,991          |\n",
       "| qualhlthreqmntn       | float64     | 8               | 4                |\n",
       "| qualhlthonhnd         | float64     | 25              | 4                |\n",
       "| rcvdpdtngcd           | object      | 2               | 429              |\n",
       "| filedf720cd           | object      | 2               | 323,367          |\n",
       "| totreprtabled         | float64     | 108,040         | 4                |\n",
       "| totcomprelatede       | float64     | 25,017          | 4                |\n",
       "| totestcompf           | float64     | 60,267          | 4                |\n",
       "| noindiv100kcnt        | float64     | 944             | 4                |\n",
       "| nocontractor100kcnt   | float64     | 414             | 4                |\n",
       "| totcntrbgfts          | float64     | 219,353         | 4                |\n",
       "| prgmservcode2acd      | float64     | 1,093           | 173,346          |\n",
       "| totrev2acola          | float64     | 160,681         | 4                |\n",
       "| prgmservcode2bcd      | float64     | 774             | 244,782          |\n",
       "| totrev2bcola          | float64     | 76,944          | 4                |\n",
       "| prgmservcode2ccd      | float64     | 580             | 279,064          |\n",
       "| totrev2ccola          | float64     | 44,110          | 4                |\n",
       "| prgmservcode2dcd      | float64     | 455             | 300,130          |\n",
       "| totrev2dcola          | float64     | 25,391          | 4                |\n",
       "| prgmservcode2ecd      | float64     | 374             | 312,378          |\n",
       "| totrev2ecola          | float64     | 14,515          | 4                |\n",
       "| totrev2fcola          | float64     | 13,938          | 4                |\n",
       "| totprgmrevnue         | float64     | 172,610         | 4                |\n",
       "| invstmntinc           | float64     | 73,932          | 4                |\n",
       "| txexmptbndsproceeds   | float64     | 969             | 4                |\n",
       "| royaltsinc            | float64     | 6,201           | 4                |\n",
       "| grsrntsreal           | float64     | 26,604          | 4                |\n",
       "| grsrntsprsnl          | float64     | 1,569           | 4                |\n",
       "| rntlexpnsreal         | float64     | 14,631          | 4                |\n",
       "| rntlexpnsprsnl        | float64     | 574             | 4                |\n",
       "| rntlincreal           | float64     | 28,239          | 4                |\n",
       "| rntlincprsnl          | float64     | 1,616           | 4                |\n",
       "| netrntlinc            | float64     | 28,942          | 4                |\n",
       "| grsalesecur           | float64     | 52,558          | 4                |\n",
       "| grsalesothr           | float64     | 15,852          | 4                |\n",
       "| cstbasisecur          | float64     | 47,130          | 4                |\n",
       "| cstbasisothr          | float64     | 15,634          | 4                |\n",
       "| gnlsecur              | float64     | 47,779          | 4                |\n",
       "| gnlsothr              | float64     | 23,197          | 4                |\n",
       "| netgnls               | float64     | 59,819          | 4                |\n",
       "| grsincfndrsng         | float64     | 45,179          | 4                |\n",
       "| lessdirfndrsng        | float64     | 38,808          | 4                |\n",
       "| netincfndrsng         | float64     | 47,946          | 4                |\n",
       "| grsincgaming          | float64     | 12,146          | 4                |\n",
       "| lessdirgaming         | float64     | 10,817          | 4                |\n",
       "| netincgaming          | float64     | 12,038          | 4                |\n",
       "| grsalesinvent         | float64     | 31,967          | 4                |\n",
       "| lesscstofgoods        | float64     | 28,316          | 4                |\n",
       "| netincsales           | float64     | 30,344          | 4                |\n",
       "| miscrev11acd          | float64     | 681             | 243,083          |\n",
       "| miscrevtota           | float64     | 53,703          | 4                |\n",
       "| miscrev11bcd          | float64     | 448             | 297,611          |\n",
       "| miscrevtot11b         | float64     | 22,378          | 4                |\n",
       "| miscrev11ccd          | float64     | 315             | 314,436          |\n",
       "| miscrevtot11c         | float64     | 10,730          | 4                |\n",
       "| miscrevtot11d         | float64     | 10,057          | 4                |\n",
       "| miscrevtot11e         | float64     | 60,898          | 4                |\n",
       "| totrevenue            | float64     | 291,897         | 4                |\n",
       "| grntstogovt           | float64     | 41,319          | 4                |\n",
       "| grnsttoindiv          | float64     | 28,863          | 4                |\n",
       "| grntstofrgngovt       | float64     | 9,704           | 4                |\n",
       "| benifitsmembrs        | float64     | 12,054          | 4                |\n",
       "| compnsatncurrofcr     | float64     | 103,451         | 4                |\n",
       "| compnsatnandothr      | float64     | 7,113           | 4                |\n",
       "| othrsalwages          | float64     | 164,065         | 4                |\n",
       "| pensionplancontrb     | float64     | 51,113          | 4                |\n",
       "| othremplyeebenef      | float64     | 91,840          | 4                |\n",
       "| payrolltx             | float64     | 97,103          | 4                |\n",
       "| feesforsrvcmgmt       | float64     | 32,577          | 4                |\n",
       "| legalfees             | float64     | 40,390          | 4                |\n",
       "| accntingfees          | float64     | 52,646          | 4                |\n",
       "| feesforsrvclobby      | float64     | 6,825           | 4                |\n",
       "| profndraising         | float64     | 6,810           | 4                |\n",
       "| feesforsrvcinvstmgmt  | float64     | 29,304          | 4                |\n",
       "| feesforsrvcothr       | float64     | 91,138          | 4                |\n",
       "| advrtpromo            | float64     | 50,907          | 4                |\n",
       "| officexpns            | float64     | 80,120          | 4                |\n",
       "| infotech              | float64     | 50,211          | 4                |\n",
       "| royaltsexpns          | float64     | 2,611           | 4                |\n",
       "| occupancy             | float64     | 114,974         | 4                |\n",
       "| travel                | float64     | 48,208          | 4                |\n",
       "| travelofpublicoffcl   | float64     | 1,386           | 4                |\n",
       "| converconventmtng     | float64     | 41,412          | 4                |\n",
       "| interestamt           | float64     | 45,153          | 4                |\n",
       "| pymtoaffiliates       | float64     | 11,856          | 4                |\n",
       "| deprcatndepletn       | float64     | 100,405         | 4                |\n",
       "| insurance             | float64     | 72,911          | 4                |\n",
       "| othrexpnsa            | float64     | 147,171         | 4                |\n",
       "| othrexpnsb            | float64     | 101,478         | 4                |\n",
       "| othrexpnsc            | float64     | 78,174          | 4                |\n",
       "| othrexpnsd            | float64     | 61,365          | 4                |\n",
       "| othrexpnse            | float64     | 4,157           | 4                |\n",
       "| othrexpnsf            | float64     | 77,256          | 4                |\n",
       "| totfuncexpns          | float64     | 287,489         | 4                |\n",
       "| nonintcashend         | float64     | 219,323         | 4                |\n",
       "| svngstempinvend       | float64     | 144,007         | 4                |\n",
       "| pldgegrntrcvblend     | float64     | 45,168          | 4                |\n",
       "| accntsrcvblend        | float64     | 88,070          | 4                |\n",
       "| currfrmrcvblend       | float64     | 2,318           | 4                |\n",
       "| rcvbldisqualend       | float64     | 345             | 4                |\n",
       "| notesloansrcvblend    | float64     | 16,251          | 4                |\n",
       "| invntriesalesend      | float64     | 34,053          | 4                |\n",
       "| prepaidexpnsend       | float64     | 65,463          | 4                |\n",
       "| lndbldgsequipend      | float64     | 167,873         | 4                |\n",
       "| invstmntsend          | float64     | 77,435          | 4                |\n",
       "| invstmntsothrend      | float64     | 26,937          | 4                |\n",
       "| invstmntsprgmend      | float64     | 8,688           | 4                |\n",
       "| intangibleassetsend   | float64     | 11,043          | 4                |\n",
       "| othrassetsend         | float64     | 72,879          | 4                |\n",
       "| totassetsend          | float64     | 303,295         | 4                |\n",
       "| accntspayableend      | float64     | 116,076         | 4                |\n",
       "| grntspayableend       | float64     | 6,319           | 4                |\n",
       "| deferedrevnuend       | float64     | 55,752          | 4                |\n",
       "| txexmptbndsend        | float64     | 5,875           | 4                |\n",
       "| escrwaccntliabend     | float64     | 6,363           | 4                |\n",
       "| paybletoffcrsend      | float64     | 4,552           | 4                |\n",
       "| secrdmrtgsend         | float64     | 52,220          | 4                |\n",
       "| unsecurednotesend     | float64     | 21,736          | 4                |\n",
       "| othrliabend           | float64     | 81,595          | 4                |\n",
       "| totliabend            | float64     | 176,487         | 4                |\n",
       "| unrstrctnetasstsend   | float64     | 135,082         | 4                |\n",
       "| temprstrctnetasstsend | float64     | 46,602          | 4                |\n",
       "| permrstrctnetasstsend | float64     | 85              | 4                |\n",
       "| capitalstktrstend     | float64     | 12,542          | 4                |\n",
       "| paidinsurplusend      | float64     | 6,418           | 4                |\n",
       "| retainedearnend       | float64     | 67,507          | 4                |\n",
       "| totnetassetend        | float64     | 300,764         | 4                |\n",
       "| totnetliabastend      | float64     | 303,337         | 4                |\n",
       "| nonpfrea              | float64     | 15              | 73,594           |\n",
       "| totnooforgscnt        | float64     | 86              | 4                |\n",
       "| totsupport            | float64     | 8,015           | 4                |\n",
       "| gftgrntsrcvd170       | float64     | 113,604         | 4                |\n",
       "| txrevnuelevied170     | float64     | 2,443           | 4                |\n",
       "| srvcsval170           | float64     | 2,876           | 4                |\n",
       "| pubsuppsubtot170      | float64     | 113,800         | 4                |\n",
       "| exceeds2pct170        | float64     | 42,382          | 4                |\n",
       "| pubsupplesspct170     | float64     | 113,719         | 4                |\n",
       "| samepubsuppsubtot170  | float64     | 113,800         | 4                |\n",
       "| grsinc170             | float64     | 51,910          | 4                |\n",
       "| netincunreltd170      | float64     | 8,383           | 4                |\n",
       "| othrinc170            | float64     | 35,188          | 4                |\n",
       "| totsupp170            | float64     | 114,386         | 4                |\n",
       "| grsrcptsrelated170    | float64     | 49,840          | 4                |\n",
       "| totgftgrntrcvd509     | float64     | 83,625          | 4                |\n",
       "| grsrcptsadmissn509    | float64     | 66,560          | 4                |\n",
       "| grsrcptsactivities509 | float64     | 11,609          | 4                |\n",
       "| txrevnuelevied509     | float64     | 832             | 4                |\n",
       "| srvcsval509           | float64     | 857             | 4                |\n",
       "| pubsuppsubtot509      | float64     | 92,621          | 3                |\n",
       "| rcvdfrmdisqualsub509  | float64     | 10,513          | 4                |\n",
       "| exceeds1pct509        | float64     | 7,215           | 4                |\n",
       "| subtotpub509          | float64     | 14,966          | 4                |\n",
       "| pubsupplesub509       | float64     | 92,478          | 4                |\n",
       "| samepubsuppsubtot509  | float64     | 92,616          | 4                |\n",
       "| grsinc509             | float64     | 34,084          | 4                |\n",
       "| unreltxincls511tx509  | float64     | 1,400           | 4                |\n",
       "| subtotsuppinc509      | float64     | 34,431          | 4                |\n",
       "| netincunrelatd509     | float64     | 4,638           | 4                |\n",
       "| othrinc509            | float64     | 19,787          | 4                |\n",
       "| totsupp509            | float64     | 92,791          | 4                |"
      ],
      "text/plain": [
       "<IPython.core.display.Markdown object>"
      ]
     },
     "metadata": {},
     "output_type": "display_data"
    }
   ],
   "source": [
    "# Libraries for data manipulation.\n",
    "import pandas as pd\n",
    "import numpy as np\n",
    "\n",
    "# Libraries for data visualisation.\n",
    "import matplotlib.pyplot as plt\n",
    "import seaborn as sns\n",
    "import plotly.express as px\n",
    "import plotly.io as pio\n",
    "\n",
    "# Libraries for quarto rending\n",
    "from IPython.display import Markdown,display\n",
    "from tabulate import tabulate\n",
    "import plotly.io as pio\n",
    "\n",
    "# Remove warnings.\n",
    "import warnings\n",
    "warnings.filterwarnings(\"ignore\", category=UserWarning)\n",
    "\n",
    "# Read in data.\n",
    "form_990_2022 = pd.read_csv('../../data/22eoextract990.csv')\n",
    "\n",
    "# Print data dimensions.\n",
    "shape_caption = \"Data Dimensions:\"\n",
    "shape_df = pd.DataFrame({\n",
    "        'Dimension': ['Rows','Columns'],\n",
    "        'Count': [form_990_2022.shape[0], form_990_2022.shape[1]]\n",
    "    })\n",
    "shape_df['Count'] = shape_df['Count'].apply(lambda x: f\"{x:,}\")\n",
    "shape_markdown = shape_caption + \"\\n\\n\" + shape_df.to_markdown(index=False)\n",
    "display(Markdown(shape_markdown))\n",
    "\n",
    "# Print a sample of the data.\n",
    "first_five_rows_caption = \"First Five Rows of Data:\"\n",
    "first_five_rows_markdown = first_five_rows_caption + \"\\n\\n\" + form_990_2022.head().to_markdown(index=False)\n",
    "display(Markdown(first_five_rows_markdown))\n",
    "\n",
    "# Print metadata.\n",
    "metadata_caption = \"Metadata:\"\n",
    "column_metadata = []\n",
    "\n",
    "for col in form_990_2022.columns:\n",
    "    # Gather metadata for each col.\n",
    "    col_metadata = {\n",
    "        'Column Name': col,\n",
    "        'Data Type': str(form_990_2022[col].dtype),\n",
    "        'Unique Values': form_990_2022[col].nunique(),\n",
    "        'Missing Values': form_990_2022[col].isnull().sum()\n",
    "    }\n",
    "    # Append metadata to list.\n",
    "    column_metadata.append(col_metadata)\n",
    "\n",
    "# Convert list to pd df and then markdown table.\n",
    "metadata_df = pd.DataFrame(column_metadata)\n",
    "metadata_df['Unique Values'] = metadata_df['Unique Values'].apply(lambda x: f\"{x:,}\")\n",
    "metadata_df['Missing Values'] = metadata_df['Missing Values'].apply(lambda x: f\"{x:,}\")\n",
    "metadata_markdown = metadata_caption + \"\\n\\n\" + metadata_df.to_markdown(index=False)\n",
    "display(Markdown(metadata_markdown))"
   ]
  },
  {
   "cell_type": "markdown",
   "metadata": {},
   "source": [
    "# 3. Data Preparation\n",
    "\n",
    "In this section, we detail the initial steps taken to prepare the 990 Form from the IRS for analysis. Our goals are to ensure consistency in column naming, handle missing values appropriately, and convert data into formats that are suitable for our analytical needs. Please click the drop down arrow for more details on code used to achieve this."
   ]
  },
  {
   "cell_type": "code",
   "execution_count": 2,
   "metadata": {},
   "outputs": [
    {
     "data": {
      "text/markdown": [
       "Cleaned data sample view:\n",
       "\n",
       "| efile   |       ein | tax_pd              |   subseccd | s501c3or4947a1cd   | schdbind   | politicalactvtscd   | lbbyingactvtscd   | subjto6033cd   | dnradvisedfundscd   | prptyintrcvdcd   | maintwrkofartcd   | crcounselingqstncd   | hldassetsintermpermcd   | rptlndbldgeqptcd   | rptinvstothsecd   | rptinvstprgrelcd   | rptothasstcd   | rptothliabcd   | sepcnsldtfinstmtcd   | sepindaudfinstmtcd   | inclinfinstmtcd   | operateschools170cd   | frgnofficecd   | frgnrevexpnscd   | frgngrntscd   | frgnaggragrntscd   | rptprofndrsngfeescd   | rptincfnndrsngcd   | rptincgamingcd   | operatehosptlcd   |   hospaudfinstmtcd | rptgrntstogovtcd   | rptgrntstoindvcd   | rptyestocompnstncd   | txexmptbndcd   | invstproceedscd   | maintescrwaccntcd   | actonbehalfcd   | engageexcessbnftcd   | awarexcessbnftcd   | loantofficercd   | grantoofficercd   | dirbusnreltdcd   | fmlybusnreltdcd   | servasofficercd   | recvnoncashcd   | recvartcd   | ceaseoperationscd   | sellorexchcd   | ownsepentcd   | reltdorgcd   | intincntrlcd   | orgtrnsfrcd   | conduct5percentcd   | compltschocd   |   f1096cnt |   fw2gcnt | wthldngrulescd   |   noemplyeesw3cnt | filerqrdrtnscd   | unrelbusinccd   |   filedf990tcd | frgnacctcd   | prohibtdtxshltrcd   | prtynotifyorgcd   |   filedf8886tcd | solicitcntrbcd   |   exprstmntcd | providegoodscd   |   notfydnrvalcd | filedf8282cd   |   f8282cnt | fndsrcvdcd   | premiumspaidcd   | filedf8899cd   | filedf1098ccd   | excbushldngscd   | s4966distribcd   | distribtodonorcd   |   initiationfees |   grsrcptspublicuse |   grsincmembers |   grsincother |   filedlieuf1041cd |   txexmptint |   qualhlthplncd |   qualhlthreqmntn |   qualhlthonhnd | rcvdpdtngcd   |   filedf720cd |   totreprtabled |   totcomprelatede |   totestcompf |   noindiv100kcnt |   nocontractor100kcnt |   totcntrbgfts |   prgmservcode2acd |   totrev2acola |   prgmservcode2bcd |   totrev2bcola |   prgmservcode2ccd |   totrev2ccola |   prgmservcode2dcd |   totrev2dcola |   prgmservcode2ecd |   totrev2ecola |   totrev2fcola |   totprgmrevnue |   invstmntinc |   txexmptbndsproceeds |   royaltsinc |   grsrntsreal |   grsrntsprsnl |   rntlexpnsreal |   rntlexpnsprsnl |   rntlincreal |   rntlincprsnl |   netrntlinc |   grsalesecur |   grsalesothr |   cstbasisecur |   cstbasisothr |   gnlsecur |   gnlsothr |   netgnls |   grsincfndrsng |   lessdirfndrsng |   netincfndrsng |   grsincgaming |   lessdirgaming |   netincgaming |   grsalesinvent |   lesscstofgoods |   netincsales |   miscrev11acd |   miscrevtota |   miscrev11bcd |   miscrevtot11b |   miscrev11ccd |   miscrevtot11c |   miscrevtot11d |   miscrevtot11e |   totrevenue |   grntstogovt |   grnsttoindiv |   grntstofrgngovt |   benifitsmembrs |   compnsatncurrofcr |   compnsatnandothr |   othrsalwages |   pensionplancontrb |   othremplyeebenef |   payrolltx |   feesforsrvcmgmt |   legalfees |   accntingfees |   feesforsrvclobby |   profndraising |   feesforsrvcinvstmgmt |   feesforsrvcothr |   advrtpromo |   officexpns |   infotech |   royaltsexpns |   occupancy |   travel |   travelofpublicoffcl |   converconventmtng |   interestamt |   pymtoaffiliates |   deprcatndepletn |   insurance |   othrexpnsa |   othrexpnsb |   othrexpnsc |   othrexpnsd |   othrexpnse |   othrexpnsf |   totfuncexpns |   nonintcashend |   svngstempinvend |   pldgegrntrcvblend |   accntsrcvblend |   currfrmrcvblend |   rcvbldisqualend |   notesloansrcvblend |   invntriesalesend |   prepaidexpnsend |   lndbldgsequipend |   invstmntsend |   invstmntsothrend |   invstmntsprgmend |   intangibleassetsend |   othrassetsend |     totassetsend |   accntspayableend |   grntspayableend |   deferedrevnuend |   txexmptbndsend |   escrwaccntliabend |   paybletoffcrsend |   secrdmrtgsend |   unsecurednotesend |   othrliabend |   totliabend |   unrstrctnetasstsend |   temprstrctnetasstsend |   permrstrctnetasstsend |   capitalstktrstend |   paidinsurplusend |   retainedearnend |   totnetassetend |   totnetliabastend |   nonpfrea |   totnooforgscnt |   totsupport |   gftgrntsrcvd170 |   txrevnuelevied170 |   srvcsval170 |   pubsuppsubtot170 |   exceeds2pct170 |   pubsupplesspct170 |   samepubsuppsubtot170 |   grsinc170 |   netincunreltd170 |   othrinc170 |       totsupp170 |   grsrcptsrelated170 |   totgftgrntrcvd509 |   grsrcptsadmissn509 |   grsrcptsactivities509 |   txrevnuelevied509 |   srvcsval509 |   pubsuppsubtot509 |   rcvdfrmdisqualsub509 |   exceeds1pct509 |   subtotpub509 |   pubsupplesub509 |   samepubsuppsubtot509 |   grsinc509 |   unreltxincls511tx509 |   subtotsuppinc509 |   netincunrelatd509 |   othrinc509 |   totsupp509 |\n",
       "|:--------|----------:|:--------------------|-----------:|:-------------------|:-----------|:--------------------|:------------------|:---------------|:--------------------|:-----------------|:------------------|:---------------------|:------------------------|:-------------------|:------------------|:-------------------|:---------------|:---------------|:---------------------|:---------------------|:------------------|:----------------------|:---------------|:-----------------|:--------------|:-------------------|:----------------------|:-------------------|:-----------------|:------------------|-------------------:|:-------------------|:-------------------|:---------------------|:---------------|:------------------|:--------------------|:----------------|:---------------------|:-------------------|:-----------------|:------------------|:-----------------|:------------------|:------------------|:----------------|:------------|:--------------------|:---------------|:--------------|:-------------|:---------------|:--------------|:--------------------|:---------------|-----------:|----------:|:-----------------|------------------:|:-----------------|:----------------|---------------:|:-------------|:--------------------|:------------------|----------------:|:-----------------|--------------:|:-----------------|----------------:|:---------------|-----------:|:-------------|:-----------------|:---------------|:----------------|:-----------------|:-----------------|:-------------------|-----------------:|--------------------:|----------------:|--------------:|-------------------:|-------------:|----------------:|------------------:|----------------:|:--------------|--------------:|----------------:|------------------:|--------------:|-----------------:|----------------------:|---------------:|-------------------:|---------------:|-------------------:|---------------:|-------------------:|---------------:|-------------------:|---------------:|-------------------:|---------------:|---------------:|----------------:|--------------:|----------------------:|-------------:|--------------:|---------------:|----------------:|-----------------:|--------------:|---------------:|-------------:|--------------:|--------------:|---------------:|---------------:|-----------:|-----------:|----------:|----------------:|-----------------:|----------------:|---------------:|----------------:|---------------:|----------------:|-----------------:|--------------:|---------------:|--------------:|---------------:|----------------:|---------------:|----------------:|----------------:|----------------:|-------------:|--------------:|---------------:|------------------:|-----------------:|--------------------:|-------------------:|---------------:|--------------------:|-------------------:|------------:|------------------:|------------:|---------------:|-------------------:|----------------:|-----------------------:|------------------:|-------------:|-------------:|-----------:|---------------:|------------:|---------:|----------------------:|--------------------:|--------------:|------------------:|------------------:|------------:|-------------:|-------------:|-------------:|-------------:|-------------:|-------------:|---------------:|----------------:|------------------:|--------------------:|-----------------:|------------------:|------------------:|---------------------:|-------------------:|------------------:|-------------------:|---------------:|-------------------:|-------------------:|----------------------:|----------------:|-----------------:|-------------------:|------------------:|------------------:|-----------------:|--------------------:|-------------------:|----------------:|--------------------:|--------------:|-------------:|----------------------:|------------------------:|------------------------:|--------------------:|-------------------:|------------------:|-----------------:|-------------------:|-----------:|-----------------:|-------------:|------------------:|--------------------:|--------------:|-------------------:|-----------------:|--------------------:|-----------------------:|------------:|-------------------:|-------------:|-----------------:|---------------------:|--------------------:|---------------------:|------------------------:|--------------------:|--------------:|-------------------:|-----------------------:|-----------------:|---------------:|------------------:|-----------------------:|------------:|-----------------------:|-------------------:|--------------------:|-------------:|-------------:|\n",
       "| P       | 426057254 | 2011-06-01 00:00:00 |          2 | N                  | N          | N                   | nan               | N              | N                   | N                | N                 | N                    | N                       | Y                  | N                 | N                  | N              | Y              | N                    | N                    | N                 | N                     | N              | N                | N             | N                  | N                     | N                  | N                | N                 |                nan | N                  | N                  | N                    | N              | nan               | nan                 | nan             | N                    | N                  | N                | N                 | N                | N                 | N                 | N               | N           | N                   | N              | N             | N            | N              | N             | N                   | Y              |          0 |         0 | Y                |                 0 | nan              | N               |            nan | N            | N                   | N                 |             nan | N                |           nan | nan              |             nan | nan            |          0 | nan          | nan              | nan            | nan             | nan              | nan              | nan                |                0 |                   0 |               0 |             0 |                nan |            0 |             nan |                 0 |               0 | N             |           nan |               0 |                 0 |             0 |                0 |                     0 |              0 |                nan |         141124 |                nan |              0 |                nan |              0 |                nan |              0 |                nan |              0 |              0 |          141124 |             0 |                     0 |            0 |             0 |              0 |               0 |                0 |             0 |              0 |            0 |             0 |             0 |              0 |              0 |          0 |          0 |         0 |               0 |                0 |               0 |              0 |               0 |              0 |               0 |                0 |             0 |            nan |             0 |            nan |               0 |            nan |               0 |               0 |               0 |       141124 |             0 |              0 |                 0 |                0 |                   0 |                  0 |              0 |                   0 |                  0 |           0 |                 0 |           0 |              0 |                  0 |               0 |                      0 |                 0 |            0 |          313 |          0 |              0 |           0 |        0 |                     0 |                   0 |         51812 |                 0 |                 0 |       10006 |        21664 |        26817 |         1000 |            0 |            0 |            0 |         111612 |           52057 |                 0 |                   0 |                0 |                 0 |                 0 |                    0 |                  0 |                 0 |        1.45743e+06 |              0 |                  0 |                  0 |                     0 |               0 |      1.50949e+06 |                  0 |                 0 |                 0 |                0 |                   0 |                  0 |          622410 |                   0 |          7600 |       630010 |                879477 |                       0 |                       0 |                   0 |                  0 |                 0 |           879477 |        1.50949e+06 |        nan |                0 |            0 |       0           |                   0 |             0 |        0           |                0 |         0           |            0           |           0 |                  0 |            0 |      0           |                    0 |                   0 |                    0 |                       0 |                   0 |             0 |                  0 |                      0 |                0 |              0 |                 0 |                      0 |           0 |                      0 |                  0 |                   0 |            0 |            0 |\n",
       "| P       |  60891737 | 2011-10-01 00:00:00 |          5 | N                  | N          | N                   | nan               | N              | N                   | N                | N                 | N                    | N                       | Y                  | N                 | N                  | N              | N              | N                    | N                    | N                 | N                     | N              | N                | N             | N                  | N                     | N                  | N                | N                 |                nan | N                  | N                  | N                    | N              | N                 | N                   | N               | nan                  | nan                | N                | N                 | N                | N                 | N                 | N               | N           | N                   | N              | N             | N            | N              | nan           | N                   | Y              |          0 |         0 | Y                |                43 | Y                | N               |            nan | N            | N                   | N                 |             nan | N                |           nan | nan              |             nan | nan            |          0 | nan          | nan              | nan            | nan             | nan              | nan              | nan                |                0 |                   0 |               0 |             0 |                nan |            0 |             nan |                 0 |               0 | N             |           nan |               0 |                 0 |             0 |                0 |                     0 |              0 |                nan |         296865 |                nan |              0 |                nan |              0 |                nan |              0 |                nan |              0 |              0 |          296865 |           231 |                     0 |            0 |             0 |              0 |               0 |                0 |             0 |              0 |            0 |             0 |             0 |              0 |              0 |          0 |          0 |         0 |               0 |                0 |               0 |              0 |               0 |              0 |               0 |                0 |             0 |            nan |          2703 |            nan |            3000 |            nan |               0 |               0 |            5703 |       302799 |             0 |              0 |                 0 |                0 |                   0 |                  0 |          30171 |                   0 |                  0 |        3209 |                 0 |           0 |              0 |                  0 |               0 |                      0 |             31848 |        23347 |          330 |          0 |              0 |       46963 |        0 |                     0 |                5067 |         20204 |                 0 |             33976 |       19021 |        41487 |         5184 |        41184 |        37261 |        78940 |            0 |         418192 |           17327 |             10879 |                   0 |                0 |                 0 |                 0 |                 2602 |                  0 |                 0 |   934054           |              0 |                  0 |                  0 |                     0 |               0 | 964862           |                  0 |                 0 |                 0 |                0 |                   0 |                  0 |          375650 |                   0 |             0 |       375650 |                589212 |                       0 |                       0 |                   0 |                  0 |                 0 |           589212 |   964862           |        nan |                0 |            0 |       0           |                   0 |             0 |        0           |                0 |         0           |            0           |           0 |                  0 |            0 |      0           |                    0 |                   0 |                    0 |                       0 |                   0 |             0 |                  0 |                      0 |                0 |              0 |                 0 |                      0 |           0 |                      0 |                  0 |                   0 |            0 |            0 |\n",
       "| P       | 660550623 | 2011-12-01 00:00:00 |          3 | Y                  | Y          | N                   | N                 | N              | N                   | N                | N                 | N                    | N                       | N                  | N                 | N                  | N              | N              | N                    | N                    | N                 | N                     | N              | N                | N             | N                  | N                     | N                  | N                | N                 |                nan | N                  | N                  | N                    | N              | nan               | nan                 | nan             | N                    | N                  | N                | N                 | N                | N                 | N                 | N               | N           | N                   | N              | N             | N            | N              | N             | N                   | Y              |      20319 |         0 | N                |                 2 | Y                | N               |            nan | N            | N                   | N                 |             nan | N                |           nan | nan              |             nan | nan            |          0 | nan          | nan              | nan            | nan             | nan              | nan              | nan                |                0 |                   0 |               0 |             0 |                nan |            0 |             nan |                 0 |               0 | N             |           nan |               0 |                 0 |             0 |                0 |                     0 |          51958 |                nan |              0 |                nan |              0 |                nan |              0 |                nan |              0 |                nan |              0 |              0 |               0 |             0 |                     0 |            0 |             0 |              0 |               0 |                0 |             0 |              0 |            0 |             0 |             0 |              0 |              0 |          0 |          0 |         0 |               0 |                0 |               0 |              0 |               0 |              0 |               0 |                0 |             0 |            nan |             0 |            nan |               0 |            nan |               0 |               0 |               0 |        51958 |             0 |              0 |                 0 |                0 |                   0 |                  0 |          20790 |                   0 |               1193 |        2033 |                 0 |           0 |              0 |                  0 |               0 |                      0 |             11954 |         2844 |         5521 |          0 |              0 |           0 |     4832 |                     0 |                   0 |             0 |                 0 |                 0 |         857 |            0 |            0 |            0 |            0 |            0 |            0 |          50024 |           55339 |                 0 |                   0 |                0 |                 0 |                 0 |                    0 |                  0 |                 0 |        0           |              0 |                  0 |                  0 |                     0 |               0 |  55339           |                  0 |                 0 |                 0 |                0 |                   0 |                  0 |               0 |                   0 |             0 |            0 |                     0 |                       0 |                       0 |                   0 |                  0 |             55339 |            55339 |    55339           |          7 |                0 |            0 |  297377           |               24187 |         20450 |   342014           |                0 |    342014           |       342014           |           0 |                  0 |            0 | 342014           |                    0 |                   0 |                    0 |                       0 |                   0 |             0 |                  0 |                      0 |                0 |              0 |                 0 |                      0 |           0 |                      0 |                  0 |                   0 |            0 |            0 |\n",
       "| P       | 464039105 | 2012-06-01 00:00:00 |          3 | Y                  | Y          | N                   | N                 | N              | N                   | N                | N                 | N                    | N                       | N                  | N                 | N                  | N              | Y              | N                    | Y                    | N                 | N                     | N              | N                | N             | N                  | N                     | N                  | N                | N                 |                nan | N                  | N                  | N                    | N              | nan               | nan                 | nan             | N                    | N                  | N                | N                 | N                | N                 | N                 | N               | N           | N                   | N              | N             | Y            | N              | N             | N                   | Y              |          0 |         0 | Y                |                22 | Y                | N               |            nan | N            | N                   | N                 |             nan | N                |           nan | N                |             nan | N              |          0 | N            | N                | nan            | nan             | nan              | nan              | nan                |                0 |                   0 |               0 |             0 |                nan |            0 |             nan |                 0 |               0 | N             |           nan |           53800 |                 0 |             0 |                0 |                     0 |         768494 |             616000 |          99738 |                nan |              0 |                nan |              0 |                nan |              0 |                nan |              0 |              0 |           99738 |             0 |                     0 |            0 |             0 |              0 |               0 |                0 |             0 |              0 |            0 |             0 |             0 |              0 |              0 |          0 |          0 |         0 |               0 |                0 |               0 |              0 |               0 |              0 |               0 |                0 |             0 |            nan |             0 |            nan |               0 |            nan |               0 |               0 |               0 |       868232 |             0 |              0 |                 0 |                0 |               53800 |                  0 |         517025 |                   0 |              18559 |       43668 |                 0 |           0 |              0 |                  0 |               0 |                      0 |                 0 |            0 |        21734 |          0 |              0 |       64500 |       82 |                     0 |                   0 |          3858 |                 0 |                 0 |       17371 |        29928 |        88642 |         9241 |        45458 |        20206 |            0 |         934072 |           96395 |                 0 |                   0 |                0 |                 0 |                 0 |                    0 |                  0 |                 0 |        0           |              0 |                  0 |                  0 |                     0 |               0 |  96395           |                  0 |                 0 |                 0 |                0 |                   0 |                  0 |               0 |               82900 |         36058 |       118958 |                -22563 |                       0 |                       0 |                   0 |                  0 |                 0 |           -22563 |    96395           |          7 |                0 |            0 |       4.03637e+06 |                   0 |             0 |        4.03637e+06 |                0 |         4.03637e+06 |            4.03637e+06 |           0 |                  0 |            0 |      4.03637e+06 |                    0 |                   0 |                    0 |                       0 |                   0 |             0 |                  0 |                      0 |                0 |              0 |                 0 |                      0 |           0 |                      0 |                  0 |                   0 |            0 |            0 |\n",
       "| P       | 161696098 | 2012-12-01 00:00:00 |          3 | Y                  | N          | N                   | N                 | N              | N                   | N                | N                 | N                    | N                       | N                  | N                 | N                  | N              | N              | N                    | N                    | N                 | N                     | N              | N                | N             | N                  | N                     | N                  | N                | N                 |                nan | N                  | N                  | N                    | N              | nan               | nan                 | nan             | N                    | N                  | N                | N                 | N                | N                 | N                 | N               | N           | N                   | N              | N             | N            | N              | N             | N                   | Y              |          0 |         0 | N                |                 0 | N                | N               |            nan | N            | N                   | N                 |             nan | N                |           nan | N                |             nan | N              |          0 | N            | N                | N              | N               | N                | N                | N                  |                0 |                   0 |               0 |             0 |                nan |            0 |             nan |                 0 |               0 | N             |           nan |               0 |                 0 |             0 |                0 |                     0 |           7760 |             900099 |              0 |                nan |              0 |                nan |              0 |                nan |              0 |                nan |              0 |              0 |               0 |             0 |                     0 |            0 |             0 |              0 |               0 |                0 |             0 |              0 |            0 |             0 |             0 |              0 |              0 |          0 |          0 |         0 |               0 |                0 |               0 |              0 |               0 |              0 |               0 |                0 |             0 |            nan |             0 |            nan |               0 |            nan |               0 |               0 |               0 |         7760 |             0 |              0 |                 0 |                0 |                   0 |                  0 |              0 |                   0 |                  0 |           0 |               612 |           0 |              0 |                  0 |               0 |                      0 |                 0 |            0 |         3916 |          0 |              0 |           0 |        0 |                     0 |                   0 |             0 |                 0 |                 0 |           0 |         2160 |         1548 |         1699 |          500 |         2617 |            0 |          13052 |           -5292 |                 0 |                   0 |                0 |                 0 |                 0 |                    0 |                  0 |                 0 |        0           |              0 |                  0 |                  0 |                     0 |               0 |  -5292           |                  0 |                 0 |                 0 |                0 |                   0 |                  0 |               0 |                   0 |             0 |            0 |                 -5292 |                       0 |                       0 |                   0 |                  0 |                 0 |            -5292 |    -5292           |          9 |                0 |            0 |       0           |                   0 |             0 |        0           |                0 |         0           |            0           |           0 |                  0 |            0 |      0           |                    0 |              121247 |                    0 |                       0 |                   0 |             0 |             121247 |                      0 |                0 |              0 |            121247 |                 121247 |           0 |                      0 |                  0 |                   0 |            0 |       121247 |"
      ],
      "text/plain": [
       "<IPython.core.display.Markdown object>"
      ]
     },
     "metadata": {},
     "output_type": "display_data"
    }
   ],
   "source": [
    "# Standardize column names.\n",
    "form_990_2022.columns = [x.lower() for x in form_990_2022.columns]\n",
    "\n",
    "# Replace zeros with NaN for appropriate columns.\n",
    "\n",
    "# Replace NaN with appropriate values accordingly.\n",
    "\n",
    "# Convert columns to appropriate data types.\n",
    "date_cols = ['tax_pd']\n",
    "for col in date_cols:\n",
    "    form_990_2022[col] = form_990_2022[col].astype(str).str.replace('\\.0$', '', regex=True)\n",
    "    form_990_2022[col] = pd.to_datetime(form_990_2022[col], format='%Y%m', errors='coerce')\n",
    "\n",
    "# Drop duplicates by keeping last tax_pd date.\n",
    "form_990_2022 = form_990_2022.sort_values('tax_pd').drop_duplicates('ein',keep='last') \n",
    "\n",
    "# Convert dtype for appropriate columns.\n",
    "form_990_2022['ein'] = form_990_2022['ein'].astype(str).str.replace('\\.0$', '', regex=True)\n",
    "\n",
    "# Show cleaned data.\n",
    "head_caption = \"Cleaned data sample view:\"\n",
    "head_df = form_990_2022.head().copy()\n",
    "head_markdown = head_caption + \"\\n\\n\" + head_df.to_markdown(index=False)\n",
    "display(Markdown(head_markdown))"
   ]
  },
  {
   "cell_type": "markdown",
   "metadata": {},
   "source": [
    "# 4. Analysis\n",
    "Objective: Determine if the 990 Form can be used to conduct a comprehensive analysis of existing philanthropic giving in environmental and social justice. Additionally, can it be used to assess the level of transparency and accountability in current giving practices?\n"
   ]
  },
  {
   "cell_type": "markdown",
   "metadata": {},
   "source": [
    "## 4.1. Indentifying Relevant Organizations\n",
    "\n",
    "The 990 Form can be filtered to reflect organizations by their codes (reflecting their primary mission), enabling the identification of nonprofits focused on environmental protection, social justice, advocacy, and related activities. This step is crucial for creating a focused dataset of relevant organizations for our objective above.\n",
    "\n",
    "Assuming that the action item (below) has been completed, the next order of data maniputlation should involve filtering the 990 Form in the same manner as the Exempt Organizations Business Master File was filtered for consistency. \n",
    "\n",
    "**Action item**: Review with team to determine which column makes the most sense to use to filter relevant orgs. Options include:\n",
    "* Subection and Classification codes.\n",
    "* National Taxonomy of Exempt Entities (NTEE) codes (many are missing unfortunately).\n",
    "* Foundation codes.\n",
    "* Activity codes (most likely not useful since becoming obsolete with the adoption of the NTEE coding system in January 1995)."
   ]
  },
  {
   "cell_type": "code",
   "execution_count": 3,
   "metadata": {},
   "outputs": [],
   "source": [
    "# Insert code here for appropriate filtering if necessary."
   ]
  },
  {
   "cell_type": "markdown",
   "metadata": {},
   "source": [
    "## 4.2 Philanthropic Giving Analysis\n",
    "\n",
    "Below are general topics that may be extracted from the data from a variety of fields to further our understanding of philanthropic giving. \n",
    "\n",
    "* Grants to Organizations & Individuals (US and outside the US): Determine the extent of philanthropic giving, both domestically and internationally.\n",
    "* Program Service Revenue: Analyze how much revenue is related to the mission and can be reinvested into philanthropic efforts.\n",
    "* Fundraising Expenses: Evaluate the cost-effectiveness of fundraising activities.\n",
    "* Investment Income: Understand how investments contribute to funding philanthropic activities.\n",
    "* Donor Advised Funds: Investigate the use of these funds which may be earmarked for future charitable giving."
   ]
  },
  {
   "cell_type": "code",
   "execution_count": 4,
   "metadata": {},
   "outputs": [],
   "source": [
    "def display_head(df, columns, new_column_names, caption):\n",
    "    head_df = df[columns].head().rename(columns=new_column_names)\n",
    "    head_markdown = f\"{caption}\\n\\n{head_df.to_markdown(index=False)}\"\n",
    "    display(Markdown(head_markdown))\n",
    "def display_unique_values(df, columns, new_column_names, caption):\n",
    "    unique_val_df = df[columns].value_counts().reset_index()\n",
    "    unique_val_df.rename(columns=new_column_names, inplace=True)\n",
    "    uni_markdown = f\"{caption}\\n\\n{unique_val_df.to_markdown(index=False)}\"\n",
    "    display(Markdown(uni_markdown))"
   ]
  },
  {
   "cell_type": "markdown",
   "metadata": {},
   "source": [
    "### 4.2.1 Grants to Organizations & Individuals (US and outside of US)\n",
    "\n",
    "Related data fields and their descriptions:\n",
    "\n",
    "* grntstogovt:\tNumber of grants to governments/orgs in the US\n",
    "* grnsttoindiv:\tNumber of grants to individuals in the US\n",
    "* rptgrntstoindvcd:\tGrants to individuals? Yes or No\n",
    "* rptgrntstogovtcd:\tGrants to organizations? Yes or No\n",
    "* grntstofrgngovt:\tNumber of grants to orgs and individuals outside the US\n",
    "\n",
    "**Action Item:** Confirm if TUP wants to start with US or both US and outside."
   ]
  },
  {
   "cell_type": "code",
   "execution_count": 5,
   "metadata": {},
   "outputs": [
    {
     "data": {
      "text/markdown": [
       "Example of Grants to Organizations & Individuals columns:\n",
       "\n",
       "|       EIN |   grntstogovt |   Number of grants to individuals in the US | Grants to individuals?   | Grants to organizations?   |   Number of grants to orgs/individuals outside the US |\n",
       "|----------:|--------------:|--------------------------------------------:|:-------------------------|:---------------------------|------------------------------------------------------:|\n",
       "| 426057254 |             0 |                                           0 | N                        | N                          |                                                     0 |\n",
       "|  60891737 |             0 |                                           0 | N                        | N                          |                                                     0 |\n",
       "| 660550623 |             0 |                                           0 | N                        | N                          |                                                     0 |\n",
       "| 464039105 |             0 |                                           0 | N                        | N                          |                                                     0 |\n",
       "| 161696098 |             0 |                                           0 | N                        | N                          |                                                     0 |"
      ],
      "text/plain": [
       "<IPython.core.display.Markdown object>"
      ]
     },
     "metadata": {},
     "output_type": "display_data"
    },
    {
     "data": {
      "text/markdown": [
       "Unique values in Described in 501(c)(3) columns:\n",
       "\n",
       "| Grants to individuals?   | Grants to organizations?   |   count |\n",
       "|:-------------------------|:---------------------------|--------:|\n",
       "| N                        | N                          |  238272 |\n",
       "| N                        | Y                          |   32333 |\n",
       "| Y                        | N                          |   21920 |\n",
       "| Y                        | Y                          |   10004 |"
      ],
      "text/plain": [
       "<IPython.core.display.Markdown object>"
      ]
     },
     "metadata": {},
     "output_type": "display_data"
    }
   ],
   "source": [
    "head_columns = ['ein', 'grntstogovt','grnsttoindiv','rptgrntstoindvcd','rptgrntstogovtcd','grntstofrgngovt']\n",
    "head_new_names = {'ein': 'EIN', 'rptgrntstoindvcd': 'Number of grants to governments/orgs in the US','grnsttoindiv':'Number of grants to individuals in the US','rptgrntstoindvcd':'Grants to individuals?','rptgrntstogovtcd':'Grants to organizations?','grntstofrgngovt':'Number of grants to orgs/individuals outside the US'}\n",
    "display_head(form_990_2022, head_columns, head_new_names, \"Example of Grants to Organizations & Individuals columns:\")\n",
    "\n",
    "unique_columns = ['rptgrntstoindvcd','rptgrntstogovtcd']\n",
    "unique_new_names = {0: 'Grants to individuals?',1:'Grants to organizations?', 'rptgrntstoindvcd':'Grants to individuals?','rptgrntstogovtcd':'Grants to organizations?', '0': 'Count'}\n",
    "display_unique_values(form_990_2022, unique_columns, unique_new_names, \"Unique values in Described in 501(c)(3) columns:\")\n"
   ]
  },
  {
   "cell_type": "markdown",
   "metadata": {},
   "source": [
    "### 4.2.2 Program Service Revenue\n",
    "\n",
    "* rptinvstprgrelcd:\tProgram related investments reported?\n",
    "* totprgmrevnue:\tProgram service revenue\n",
    "* totrev2acola:\tProgram service revenue amount 2a\n",
    "* totrev2bcola:\tProgram service revenue amount 2b\n",
    "* totrev2ccola:\tProgram service revenue amount 2c\n",
    "* totrev2dcola:\tProgram service revenue amount 2d\n",
    "* totrev2ecola:\tProgram service revenue amount 2e\n",
    "* totrev2fcola:\tProgram service revenue amount 2f\n",
    "* prgmservcode2acd:\tProgram service revenue code 2a\n",
    "* prgmservcode2bcd:\tProgram service revenue code 2b\n",
    "* prgmservcode2ccd:\tProgram service revenue code 2c\n",
    "* prgmservcode2dcd:\tProgram service revenue code 2d\n",
    "* prgmservcode2ecd:\tProgram service revenue code 2e\n",
    "* invstmntsprgmend:\tProgram-related investments -- eoy\n",
    "\n",
    "**Action Item:** Confirm with team which columns make the most sense to prioritize.\n",
    "\n",
    "**Action Item:** Find documentation to explain codes."
   ]
  },
  {
   "cell_type": "code",
   "execution_count": 9,
   "metadata": {},
   "outputs": [
    {
     "data": {
      "text/markdown": [
       "Example of program service revenue columns:\n",
       "\n",
       "|       EIN | Program related investments reported?   |   Program service revenue |   Program service revenue amount 2a |   Program service revenue amount 2b |   Program service revenue amount 2c |   Program service revenue amount 2d |   Program service revenue amount 2e |   Program service revenue amount 2f |\n",
       "|----------:|:----------------------------------------|--------------------------:|------------------------------------:|------------------------------------:|------------------------------------:|------------------------------------:|------------------------------------:|------------------------------------:|\n",
       "| 426057254 | N                                       |                    141124 |                              141124 |                                   0 |                                   0 |                                   0 |                                   0 |                                   0 |\n",
       "|  60891737 | N                                       |                    296865 |                              296865 |                                   0 |                                   0 |                                   0 |                                   0 |                                   0 |\n",
       "| 660550623 | N                                       |                         0 |                                   0 |                                   0 |                                   0 |                                   0 |                                   0 |                                   0 |\n",
       "| 464039105 | N                                       |                     99738 |                               99738 |                                   0 |                                   0 |                                   0 |                                   0 |                                   0 |\n",
       "| 161696098 | N                                       |                         0 |                                   0 |                                   0 |                                   0 |                                   0 |                                   0 |                                   0 |"
      ],
      "text/plain": [
       "<IPython.core.display.Markdown object>"
      ]
     },
     "metadata": {},
     "output_type": "display_data"
    },
    {
     "data": {
      "text/markdown": [
       "Unique values in program service revenue columns:\n",
       "\n",
       "| Program related investments reported?   |   count |\n",
       "|:----------------------------------------|--------:|\n",
       "| N                                       |  296956 |\n",
       "| Y                                       |    5584 |"
      ],
      "text/plain": [
       "<IPython.core.display.Markdown object>"
      ]
     },
     "metadata": {},
     "output_type": "display_data"
    }
   ],
   "source": [
    "head_columns = ['ein','rptinvstprgrelcd','totprgmrevnue','totrev2acola','totrev2bcola','totrev2ccola','totrev2dcola','totrev2ecola','totrev2fcola']\n",
    "head_new_names = {'ein': 'EIN', 'rptinvstprgrelcd': 'Program related investments reported?','totprgmrevnue':'Program service revenue','totrev2acola':'Program service revenue amount 2a','totrev2bcola':'Program service revenue amount 2b','totrev2ccola':'Program service revenue amount 2c','totrev2dcola':'Program service revenue amount 2d','totrev2ecola':'Program service revenue amount 2e','totrev2fcola':'Program service revenue amount 2f',\\\n",
    "                  'prgmservcode2acd':'Program service revenue code 2a','prgmservcode2bcd':'Program service revenue code 2b','prgmservcode2ccd':'Program service revenue code 2c','prgmservcode2dcd':'Program service revenue code 2d','prgmservcode2ecd':'Program service revenue code 2e','invstmntsprgmend':'Program-related investments -- eoy'}\n",
    "display_head(form_990_2022, head_columns, head_new_names, \"Example of program service revenue columns:\")\n",
    "\n",
    "unique_columns = ['rptinvstprgrelcd']\n",
    "unique_new_names = {0: 'Program related investments reported?', 'rptinvstprgrelcd': 'Program related investments reported?', '0': 'Count'}\n",
    "display_unique_values(form_990_2022, unique_columns, unique_new_names, \"Unique values in program service revenue columns:\")\n"
   ]
  },
  {
   "cell_type": "markdown",
   "metadata": {},
   "source": [
    "### 4.2.3 Fundraising Expenses\n",
    "\n",
    "* rptincfnndrsngcd:\tFundraising activities?\n",
    "* lessdirfndrsng:\tFundraising expenses\n",
    "* netincfndrsng:\tFundraising income\n",
    "\n",
    "**Action Item:** Confirm with team which columns make the most sense to prioritize."
   ]
  },
  {
   "cell_type": "code",
   "execution_count": 10,
   "metadata": {},
   "outputs": [
    {
     "data": {
      "text/markdown": [
       "Example of fundraising columns:\n",
       "\n",
       "|       EIN | Fundraising activities?   |   Fundraising expenses |   Fundraising income |\n",
       "|----------:|:--------------------------|-----------------------:|---------------------:|\n",
       "| 426057254 | N                         |                      0 |                    0 |\n",
       "|  60891737 | N                         |                      0 |                    0 |\n",
       "| 660550623 | N                         |                      0 |                    0 |\n",
       "| 464039105 | N                         |                      0 |                    0 |\n",
       "| 161696098 | N                         |                      0 |                    0 |"
      ],
      "text/plain": [
       "<IPython.core.display.Markdown object>"
      ]
     },
     "metadata": {},
     "output_type": "display_data"
    },
    {
     "data": {
      "text/markdown": [
       "Unique values in fundraising columns:\n",
       "\n",
       "| Fundraising activities?   |   count |\n",
       "|:--------------------------|--------:|\n",
       "| N                         |  249837 |\n",
       "| Y                         |   52708 |"
      ],
      "text/plain": [
       "<IPython.core.display.Markdown object>"
      ]
     },
     "metadata": {},
     "output_type": "display_data"
    }
   ],
   "source": [
    "head_columns = ['ein','rptincfnndrsngcd','lessdirfndrsng','netincfndrsng']\n",
    "head_new_names = {'ein': 'EIN', 'rptincfnndrsngcd': 'Fundraising activities?','lessdirfndrsng':'Fundraising expenses','netincfndrsng':'Fundraising income'}\n",
    "display_head(form_990_2022, head_columns, head_new_names, \"Example of fundraising columns:\")\n",
    "\n",
    "unique_columns = ['rptincfnndrsngcd']\n",
    "unique_new_names = {0: 'Fundraising activities?', 'rptincfnndrsngcd': 'Fundraising activities?', '0': 'Count'}\n",
    "display_unique_values(form_990_2022, unique_columns, unique_new_names, \"Unique values in fundraising columns:\")\n"
   ]
  },
  {
   "cell_type": "markdown",
   "metadata": {},
   "source": [
    "### 4.2.4 Investment Income\n",
    "\n",
    "* invstmntinc:\tInvestment income\n",
    "* invstproceedscd:\tInvestment income?"
   ]
  },
  {
   "cell_type": "code",
   "execution_count": 11,
   "metadata": {},
   "outputs": [
    {
     "data": {
      "text/markdown": [
       "Example of investment income columns:\n",
       "\n",
       "|       EIN |   Investment income | Investment income?   |\n",
       "|----------:|--------------------:|:---------------------|\n",
       "| 426057254 |                   0 | nan                  |\n",
       "|  60891737 |                 231 | N                    |\n",
       "| 660550623 |                   0 | nan                  |\n",
       "| 464039105 |                   0 | nan                  |\n",
       "| 161696098 |                   0 | nan                  |"
      ],
      "text/plain": [
       "<IPython.core.display.Markdown object>"
      ]
     },
     "metadata": {},
     "output_type": "display_data"
    },
    {
     "data": {
      "text/markdown": [
       "Unique values in investment income columns:\n",
       "\n",
       "| Investment income?   |   count |\n",
       "|:---------------------|--------:|\n",
       "| N                    |   10903 |\n",
       "| Y                    |     122 |"
      ],
      "text/plain": [
       "<IPython.core.display.Markdown object>"
      ]
     },
     "metadata": {},
     "output_type": "display_data"
    }
   ],
   "source": [
    "head_columns = ['ein','invstmntinc','invstproceedscd']\n",
    "head_new_names = {'ein': 'EIN', 'invstmntinc': 'Investment income','invstproceedscd':'Investment income?'}\n",
    "display_head(form_990_2022, head_columns, head_new_names, \"Example of investment income columns:\")\n",
    "\n",
    "unique_columns = ['invstproceedscd']\n",
    "unique_new_names = {0: 'Investment income?', 'invstproceedscd': 'Investment income?', '0': 'Count'}\n",
    "display_unique_values(form_990_2022, unique_columns, unique_new_names, \"Unique values in investment income columns:\")\n"
   ]
  },
  {
   "cell_type": "markdown",
   "metadata": {},
   "source": [
    "### 4.2.5 Donor Advised Funds\n",
    "\n",
    "* dnradvisedfundscd:\tDonor advised funds?"
   ]
  },
  {
   "cell_type": "code",
   "execution_count": 24,
   "metadata": {},
   "outputs": [
    {
     "data": {
      "text/markdown": [
       "Example of donor advised activity columns:\n",
       "\n",
       "|       EIN | Donor advised funds?   |\n",
       "|----------:|:-----------------------|\n",
       "| 426057254 | N                      |\n",
       "|  60891737 | N                      |\n",
       "| 660550623 | N                      |\n",
       "| 464039105 | N                      |\n",
       "| 161696098 | N                      |"
      ],
      "text/plain": [
       "<IPython.core.display.Markdown object>"
      ]
     },
     "metadata": {},
     "output_type": "display_data"
    },
    {
     "data": {
      "text/markdown": [
       "Unique values in domor advised columns:\n",
       "\n",
       "| Donor advised funds?   |   count |\n",
       "|:-----------------------|--------:|\n",
       "| N                      |  299913 |\n",
       "| Y                      |    2633 |"
      ],
      "text/plain": [
       "<IPython.core.display.Markdown object>"
      ]
     },
     "metadata": {},
     "output_type": "display_data"
    }
   ],
   "source": [
    "head_columns = ['ein', 'dnradvisedfundscd']\n",
    "head_new_names = {'ein': 'EIN', 'dnradvisedfundscd': 'Donor advised funds?'}\n",
    "display_head(form_990_2022, head_columns, head_new_names, \"Example of donor advised activity columns:\")\n",
    "\n",
    "unique_columns = ['dnradvisedfundscd']\n",
    "unique_new_names = {0: 'Donor advised funds?', 'dnradvisedfundscd': 'Donor advised funds?', '0': 'Count'}\n",
    "display_unique_values(form_990_2022, unique_columns, unique_new_names, \"Unique values in domor advised columns:\")\n"
   ]
  },
  {
   "cell_type": "markdown",
   "metadata": {},
   "source": [
    "## 4.3 Transparency & Accountability Analysis\n",
    "\n",
    "Below are general topics that may be extracted from the data from a variety of fields to further our understanding of transparency and accountability in philanthropic giving. \n",
    "\n",
    "* Described in 501(c)(3)?: Confirm the organization's tax-exempt status ( 501(c)(3) are subject to public inspection, charitable/religious/educational etc. purposes only, must fill out Form 990 variants providing more transparency assurance).\n",
    "* Schedule B required?: Indicates whether the organization must report on its donors, affecting the transparency of funding sources.\n",
    "* Political Activities & Lobbying Activities: Understand involvement in activities that may require additional disclosure and could influence organizational focus.\n",
    "* Audited Financial Statement Included: Assesses the level of financial review and oversight.\n",
    "* Tax Period: The latest fiscal information provides current status and compliance with IRS filing (also provided in EO BMF)."
   ]
  },
  {
   "cell_type": "markdown",
   "metadata": {},
   "source": [
    "### 4.3.1 Described in 501(c)(3)\n",
    "\n",
    "* s501c3or4947a1cd:\tDescribed in 501(c)(3)?"
   ]
  },
  {
   "cell_type": "code",
   "execution_count": 23,
   "metadata": {},
   "outputs": [
    {
     "data": {
      "text/markdown": [
       "Example of Described in 501(c)(3) columns:\n",
       "\n",
       "|       EIN | Described in 501(c)(3)?   |\n",
       "|----------:|:--------------------------|\n",
       "| 426057254 | N                         |\n",
       "|  60891737 | N                         |\n",
       "| 660550623 | Y                         |\n",
       "| 464039105 | Y                         |\n",
       "| 161696098 | Y                         |"
      ],
      "text/plain": [
       "<IPython.core.display.Markdown object>"
      ]
     },
     "metadata": {},
     "output_type": "display_data"
    },
    {
     "data": {
      "text/markdown": [
       "Unique values in Described in 501(c)(3) columns:\n",
       "\n",
       "| Described in 501(c)(3)?   |   count |\n",
       "|:--------------------------|--------:|\n",
       "| Y                         |  232620 |\n",
       "| N                         |   69923 |"
      ],
      "text/plain": [
       "<IPython.core.display.Markdown object>"
      ]
     },
     "metadata": {},
     "output_type": "display_data"
    }
   ],
   "source": [
    "head_columns = ['ein', 's501c3or4947a1cd']\n",
    "head_new_names = {'ein': 'EIN', 's501c3or4947a1cd': 'Described in 501(c)(3)?'}\n",
    "display_head(form_990_2022, head_columns, head_new_names, \"Example of Described in 501(c)(3) columns:\")\n",
    "\n",
    "unique_columns = ['s501c3or4947a1cd']\n",
    "unique_new_names = {0: 'Described in 501(c)(3)?', 's501c3or4947a1cd': 'Described in 501(c)(3)?', '0': 'Count'}\n",
    "display_unique_values(form_990_2022, unique_columns, unique_new_names, \"Unique values in Described in 501(c)(3) columns:\")\n"
   ]
  },
  {
   "cell_type": "markdown",
   "metadata": {},
   "source": [
    "### 4.3.2 Schedule B required?\n",
    "\n",
    "* schdbind:\tSchedule B required?"
   ]
  },
  {
   "cell_type": "code",
   "execution_count": 20,
   "metadata": {},
   "outputs": [
    {
     "data": {
      "text/markdown": [
       "Example of schedule B activity columns:\n",
       "\n",
       "|       EIN | Schedule B required?   |\n",
       "|----------:|:-----------------------|\n",
       "| 426057254 | N                      |\n",
       "|  60891737 | N                      |\n",
       "| 660550623 | Y                      |\n",
       "| 464039105 | Y                      |\n",
       "| 161696098 | N                      |"
      ],
      "text/plain": [
       "<IPython.core.display.Markdown object>"
      ]
     },
     "metadata": {},
     "output_type": "display_data"
    },
    {
     "data": {
      "text/markdown": [
       "Unique values in political & lobbying activity columns:\n",
       "\n",
       "| Schedule B required?   |   count |\n",
       "|:-----------------------|--------:|\n",
       "| Y                      |  154082 |\n",
       "| N                      |  148462 |"
      ],
      "text/plain": [
       "<IPython.core.display.Markdown object>"
      ]
     },
     "metadata": {},
     "output_type": "display_data"
    }
   ],
   "source": [
    "head_columns = ['ein', 'schdbind']\n",
    "head_new_names = {'ein': 'EIN', 'schdbind': 'Schedule B required?'}\n",
    "display_head(form_990_2022, head_columns, head_new_names, \"Example of schedule B activity columns:\")\n",
    "\n",
    "unique_columns = ['schdbind']\n",
    "unique_new_names = {0: 'Schedule B required?', 'schdbind': 'Schedule B required?', '0': 'Count'}\n",
    "display_unique_values(form_990_2022, unique_columns, unique_new_names, \"Unique values in political & lobbying activity columns:\")\n"
   ]
  },
  {
   "cell_type": "markdown",
   "metadata": {},
   "source": [
    "### 4.3.3 Political Activities & Lobbying Activities\n",
    "\n",
    "* politicalactvtscd:\tPolitical activities?\n",
    "* lbbyingactvtscd:\tLobbying activities?"
   ]
  },
  {
   "cell_type": "code",
   "execution_count": 17,
   "metadata": {},
   "outputs": [
    {
     "data": {
      "text/markdown": [
       "Example of political & pobbying activity columns:\n",
       "\n",
       "|       EIN | Political activities?   | Lobbying activities?   |\n",
       "|----------:|:------------------------|:-----------------------|\n",
       "| 426057254 | N                       | nan                    |\n",
       "|  60891737 | N                       | nan                    |\n",
       "| 660550623 | N                       | N                      |\n",
       "| 464039105 | N                       | N                      |\n",
       "| 161696098 | N                       | N                      |"
      ],
      "text/plain": [
       "<IPython.core.display.Markdown object>"
      ]
     },
     "metadata": {},
     "output_type": "display_data"
    },
    {
     "data": {
      "text/markdown": [
       "Unique values in political & lobbying activity columns:\n",
       "\n",
       "| Political activities?   | Lobbying activities?   |   count |\n",
       "|:------------------------|:-----------------------|--------:|\n",
       "| N                       | N                      |  223119 |\n",
       "| N                       | Y                      |   11224 |\n",
       "| Y                       | Y                      |     106 |\n",
       "| Y                       | N                      |      83 |"
      ],
      "text/plain": [
       "<IPython.core.display.Markdown object>"
      ]
     },
     "metadata": {},
     "output_type": "display_data"
    }
   ],
   "source": [
    "head_columns = ['ein', 'politicalactvtscd', 'lbbyingactvtscd']\n",
    "head_new_names = {'ein': 'EIN', 'politicalactvtscd': 'Political activities?', 'lbbyingactvtscd': 'Lobbying activities?'}\n",
    "display_head(form_990_2022, head_columns, head_new_names, \"Example of political & pobbying activity columns:\")\n",
    "\n",
    "unique_columns = ['politicalactvtscd', 'lbbyingactvtscd']\n",
    "unique_new_names = {0: 'Political activities?', 1: 'Lobbying activities?', 'politicalactvtscd': 'Political activities?', 'lbbyingactvtscd': 'Lobbying activities?', '0': 'Count'}\n",
    "display_unique_values(form_990_2022, unique_columns, unique_new_names, \"Unique values in political & lobbying activity columns:\")\n"
   ]
  },
  {
   "cell_type": "markdown",
   "metadata": {},
   "source": [
    "### 4.3.4 Audited Financial Statement Included\n",
    "\n",
    "* sepindaudfinstmtcd:\tSeparate audited financial statement"
   ]
  },
  {
   "cell_type": "code",
   "execution_count": 16,
   "metadata": {},
   "outputs": [
    {
     "data": {
      "text/markdown": [
       "Example of separate audited financial statement columns:\n",
       "\n",
       "|       EIN | Separate audited financial statement   |\n",
       "|----------:|:---------------------------------------|\n",
       "| 426057254 | N                                      |\n",
       "|  60891737 | N                                      |\n",
       "| 660550623 | N                                      |\n",
       "| 464039105 | Y                                      |\n",
       "| 161696098 | N                                      |"
      ],
      "text/plain": [
       "<IPython.core.display.Markdown object>"
      ]
     },
     "metadata": {},
     "output_type": "display_data"
    },
    {
     "data": {
      "text/markdown": [
       "Unique values in financial audit columns:\n",
       "\n",
       "| Separate audited financial statement   |   count |\n",
       "|:---------------------------------------|--------:|\n",
       "| N                                      |  217204 |\n",
       "| Y                                      |   85338 |"
      ],
      "text/plain": [
       "<IPython.core.display.Markdown object>"
      ]
     },
     "metadata": {},
     "output_type": "display_data"
    }
   ],
   "source": [
    "head_columns = ['ein', 'sepindaudfinstmtcd']\n",
    "head_new_names = {'ein': 'EIN', 'sepindaudfinstmtcd': 'Separate audited financial statement'}\n",
    "display_head(form_990_2022, head_columns, head_new_names, \"Example of separate audited financial statement columns:\")\n",
    "\n",
    "unique_columns = ['sepindaudfinstmtcd']\n",
    "unique_new_names = {0: 'Separate audited financial statement', 'sepindaudfinstmtcd': 'Separate audited financial statement', '0': 'Count'}\n",
    "display_unique_values(form_990_2022, unique_columns, unique_new_names, \"Unique values in financial audit columns:\")\n"
   ]
  },
  {
   "cell_type": "markdown",
   "metadata": {},
   "source": [
    "## 4.4 Financial Health and Operational Efficiency\n",
    "\n",
    "Below are general topics that may be extracted from the data from a variety of fields to further our understanding of transparency and accountability in philanthropic giving. \n",
    "\n",
    "* Total Revenue & Total Expenses: Gauge the size and financial activity level.\n",
    "* Fundraising Income vs. Fundraising Expenses: Assess the efficiency and effectiveness of fundraising activities.\n",
    "* Compensation of Officers/Directors: Insights into governance and potential conflicts of interest.\n",
    "* Program-related investments: Evaluate investments made to support the mission directly.\n",
    "* Net Assets: Provide a snapshot of financial health and sustainability."
   ]
  },
  {
   "cell_type": "markdown",
   "metadata": {},
   "source": [
    "### 4.4.1 Total Revenue & Total Expenses\n",
    "\n",
    "* totrevenue:\tTotal revenue\n",
    "* totfuncexpns:\tTotal functional expenses"
   ]
  },
  {
   "cell_type": "code",
   "execution_count": 15,
   "metadata": {},
   "outputs": [
    {
     "data": {
      "text/markdown": [
       "Example of revenue & expenses columns:\n",
       "\n",
       "|       EIN |   Total revenue |   Total functional expenses |\n",
       "|----------:|----------------:|----------------------------:|\n",
       "| 426057254 |          141124 |                      111612 |\n",
       "|  60891737 |          302799 |                      418192 |\n",
       "| 660550623 |           51958 |                       50024 |\n",
       "| 464039105 |          868232 |                      934072 |\n",
       "| 161696098 |            7760 |                       13052 |"
      ],
      "text/plain": [
       "<IPython.core.display.Markdown object>"
      ]
     },
     "metadata": {},
     "output_type": "display_data"
    }
   ],
   "source": [
    "head_columns = ['ein', 'totrevenue', 'totfuncexpns']\n",
    "head_new_names = {'ein': 'EIN', 'totrevenue': 'Total revenue', 'totfuncexpns': 'Total functional expenses'}\n",
    "display_head(form_990_2022, head_columns, head_new_names, \"Example of revenue & expenses columns:\")"
   ]
  },
  {
   "cell_type": "markdown",
   "metadata": {},
   "source": [
    "### 4.4.2 Fundraising Income vs. Fundraising Expenses\n",
    "* rptincfnndrsngcd:\tFundraising activities?\n",
    "* lessdirfndrsng:\tFundraising expenses\n",
    "* netincfndrsng:\tFundraising income"
   ]
  },
  {
   "cell_type": "code",
   "execution_count": 8,
   "metadata": {},
   "outputs": [
    {
     "data": {
      "text/markdown": [
       "Example of fundraising elements in the data:\n",
       "\n",
       "|       EIN | Fundraising activities?   |   Fundraising expenses |   Fundraising income |\n",
       "|----------:|:--------------------------|-----------------------:|---------------------:|\n",
       "| 426057254 | N                         |                      0 |                    0 |\n",
       "|  60891737 | N                         |                      0 |                    0 |\n",
       "| 660550623 | N                         |                      0 |                    0 |\n",
       "| 464039105 | N                         |                      0 |                    0 |\n",
       "| 161696098 | N                         |                      0 |                    0 |"
      ],
      "text/plain": [
       "<IPython.core.display.Markdown object>"
      ]
     },
     "metadata": {},
     "output_type": "display_data"
    },
    {
     "data": {
      "text/markdown": [
       "Unique Values in Fundraising Columns:\n",
       "\n",
       "| Fundraising activities?   |   count |\n",
       "|:--------------------------|--------:|\n",
       "| N                         |  249837 |\n",
       "| Y                         |   52708 |"
      ],
      "text/plain": [
       "<IPython.core.display.Markdown object>"
      ]
     },
     "metadata": {},
     "output_type": "display_data"
    }
   ],
   "source": [
    "head_columns = ['ein', 'rptincfnndrsngcd', 'lessdirfndrsng','netincfndrsng']\n",
    "head_new_names = {'ein': 'EIN', 'rptincfnndrsngcd': 'Fundraising activities?', 'lessdirfndrsng': 'Fundraising expenses', 'netincfndrsng': 'Fundraising income'}\n",
    "display_head(form_990_2022, head_columns, head_new_names, \"Example of fundraising elements in the data:\")\n",
    "\n",
    "unique_columns = ['rptincfnndrsngcd']\n",
    "unique_new_names = {0: 'Fundraising activities?', 'rptincfnndrsngcd': 'Fundraising activities?', '0': 'Count'}\n",
    "display_unique_values(form_990_2022, unique_columns, unique_new_names, \"Unique values in fundraising columns:\")\n"
   ]
  },
  {
   "cell_type": "markdown",
   "metadata": {},
   "source": [
    "### 4.4.3 Compensation of Officers/Directors\n",
    "\n",
    "* compnsatncurrofcr:\tCompensation of current officers, directors, etc "
   ]
  },
  {
   "cell_type": "code",
   "execution_count": 12,
   "metadata": {},
   "outputs": [
    {
     "data": {
      "text/markdown": [
       "Example of compensation elements in the data:\n",
       "\n",
       "|       EIN |   Fundraising activities? |\n",
       "|----------:|--------------------------:|\n",
       "| 426057254 |                         0 |\n",
       "|  60891737 |                         0 |\n",
       "| 660550623 |                         0 |\n",
       "| 464039105 |                     53800 |\n",
       "| 161696098 |                         0 |"
      ],
      "text/plain": [
       "<IPython.core.display.Markdown object>"
      ]
     },
     "metadata": {},
     "output_type": "display_data"
    }
   ],
   "source": [
    "head_columns = ['ein', 'compnsatncurrofcr']\n",
    "head_new_names = {'ein': 'EIN', 'compnsatncurrofcr': 'Fundraising activities?'}\n",
    "display_head(form_990_2022, head_columns, head_new_names, \"Example of compensation elements in the data:\")"
   ]
  },
  {
   "cell_type": "markdown",
   "metadata": {},
   "source": [
    "### 4.4.4 Program-related investments \n",
    "\n",
    "* rptinvstprgrelcd:\tProgram related investments reported?\n",
    "* invstmntsprgmend:\tProgram-related investments -- eoy"
   ]
  },
  {
   "cell_type": "code",
   "execution_count": 19,
   "metadata": {},
   "outputs": [
    {
     "data": {
      "text/markdown": [
       "Example of program-related investment elements in the data:\n",
       "\n",
       "|       EIN | Program related investments reported?   |   Program-related investments -- eoy |\n",
       "|----------:|:----------------------------------------|-------------------------------------:|\n",
       "| 426057254 | N                                       |                                    0 |\n",
       "|  60891737 | N                                       |                                    0 |\n",
       "| 660550623 | N                                       |                                    0 |\n",
       "| 464039105 | N                                       |                                    0 |\n",
       "| 161696098 | N                                       |                                    0 |"
      ],
      "text/plain": [
       "<IPython.core.display.Markdown object>"
      ]
     },
     "metadata": {},
     "output_type": "display_data"
    },
    {
     "data": {
      "text/markdown": [
       "Unique values in program-related investment columns:\n",
       "\n",
       "| Program related investments reported?   |   count |\n",
       "|:----------------------------------------|--------:|\n",
       "| N                                       |  296956 |\n",
       "| Y                                       |    5584 |"
      ],
      "text/plain": [
       "<IPython.core.display.Markdown object>"
      ]
     },
     "metadata": {},
     "output_type": "display_data"
    }
   ],
   "source": [
    "head_columns = ['ein', 'rptinvstprgrelcd', 'invstmntsprgmend']\n",
    "head_new_names = {'ein': 'EIN', 'rptinvstprgrelcd': 'Program related investments reported?', 'invstmntsprgmend': 'Program-related investments -- eoy'}\n",
    "display_head(form_990_2022, head_columns, head_new_names, \"Example of program-related investment elements in the data:\")\n",
    "\n",
    "unique_columns = ['rptinvstprgrelcd']\n",
    "unique_new_names = {0: 'Program related investments reported?', 'rptinvstprgrelcd': 'Program related investments reported?', '0': 'Count'}\n",
    "display_unique_values(form_990_2022, unique_columns, unique_new_names, \"Unique values in program-related investment columns:\")\n"
   ]
  },
  {
   "cell_type": "markdown",
   "metadata": {},
   "source": [
    "### 4.4.5 Net Assets\n",
    "* totassetsend:\tTotal assets -- eoy\n",
    "* totnetliabastend:\tTotal Liabilities + Net Assets -- eoy\n",
    "* totnetassetend:\tTotal Net Assets -- eoy"
   ]
  },
  {
   "cell_type": "code",
   "execution_count": 14,
   "metadata": {},
   "outputs": [
    {
     "data": {
      "text/markdown": [
       "Example of asset elements in the data:\n",
       "\n",
       "|       EIN |   Total assets -- eoy |   Total Liabilities + Net Assets -- eoy |   Total Net Assets -- eoy |\n",
       "|----------:|----------------------:|----------------------------------------:|--------------------------:|\n",
       "| 426057254 |           1.50949e+06 |                             1.50949e+06 |                    879477 |\n",
       "|  60891737 |      964862           |                        964862           |                    589212 |\n",
       "| 660550623 |       55339           |                         55339           |                     55339 |\n",
       "| 464039105 |       96395           |                         96395           |                    -22563 |\n",
       "| 161696098 |       -5292           |                         -5292           |                     -5292 |"
      ],
      "text/plain": [
       "<IPython.core.display.Markdown object>"
      ]
     },
     "metadata": {},
     "output_type": "display_data"
    }
   ],
   "source": [
    "head_columns = ['ein', 'totassetsend', 'totnetliabastend','totnetassetend']\n",
    "head_new_names = {'ein': 'EIN', 'totassetsend': 'Total assets -- eoy', 'totnetliabastend': 'Total Liabilities + Net Assets -- eoy','totnetassetend': 'Total Net Assets -- eoy'}\n",
    "display_head(form_990_2022, head_columns, head_new_names, \"Example of asset elements in the data:\")\n"
   ]
  },
  {
   "cell_type": "markdown",
   "metadata": {},
   "source": [
    "## 4.5 Compliance and Governance\n",
    "\n",
    "Below are general topics that may be extracted from the data from a variety of fields to further our understanding of transparency and accountability in philanthropic giving. \n",
    "\n",
    "* Excess Benefit Transaction: Indicates potential self-dealing, which can be a red flag for governance issues.\n",
    "* Loans to Officers: Analyze for potential conflicts of interest.\n",
    "* Schedule O completed?: This schedule includes additional information about the organization's policies and practices.\n",
    "* Form 990-T filed?: Determine if the organization has unrelated business income and how it is managed.\n",
    "* Foreign Financial Account & Foreign Activities: Insights into international compliance and operations."
   ]
  },
  {
   "cell_type": "markdown",
   "metadata": {},
   "source": [
    "### 4.5.1 Excess Benefit Transaction\n",
    "* engageexcessbnftcd:\tExcess benefit transaction?"
   ]
  },
  {
   "cell_type": "code",
   "execution_count": 12,
   "metadata": {},
   "outputs": [
    {
     "data": {
      "text/markdown": [
       "Example of excess benefit transactions in the data:\n",
       "\n",
       "|       EIN | Excess benefit transaction?   |\n",
       "|----------:|:------------------------------|\n",
       "| 426057254 | N                             |\n",
       "|  60891737 | nan                           |\n",
       "| 660550623 | N                             |\n",
       "| 464039105 | N                             |\n",
       "| 161696098 | N                             |"
      ],
      "text/plain": [
       "<IPython.core.display.Markdown object>"
      ]
     },
     "metadata": {},
     "output_type": "display_data"
    },
    {
     "data": {
      "text/markdown": [
       "Unique values in excess benefit transactions columns:\n",
       "\n",
       "| Excess benefit transaction?   |   count |\n",
       "|:------------------------------|--------:|\n",
       "| N                             |  245139 |\n",
       "| Y                             |      69 |"
      ],
      "text/plain": [
       "<IPython.core.display.Markdown object>"
      ]
     },
     "metadata": {},
     "output_type": "display_data"
    }
   ],
   "source": [
    "head_columns = ['ein', 'engageexcessbnftcd']\n",
    "head_new_names = {'ein': 'EIN', 'engageexcessbnftcd': 'Excess benefit transaction?'}\n",
    "display_head(form_990_2022, head_columns, head_new_names, \"Example of excess benefit transactions in the data:\")\n",
    "\n",
    "unique_columns = ['engageexcessbnftcd']\n",
    "unique_new_names = {0: 'Excess benefit transaction?', 'engageexcessbnftcd': 'Excess benefit transaction?', '0': 'Count'}\n",
    "display_unique_values(form_990_2022, unique_columns, unique_new_names, \"Unique values in excess benefit transactions columns:\")\n"
   ]
  },
  {
   "cell_type": "markdown",
   "metadata": {},
   "source": [
    "### 4.5.2 Loans to Officers\n",
    "* loantofficercd:\tLoan to officer or DQP?"
   ]
  },
  {
   "cell_type": "code",
   "execution_count": 13,
   "metadata": {},
   "outputs": [
    {
     "data": {
      "text/markdown": [
       "Example of loans to officers in the data:\n",
       "\n",
       "|       EIN | Loan to officer or DQP?   |\n",
       "|----------:|:--------------------------|\n",
       "| 426057254 | N                         |\n",
       "|  60891737 | N                         |\n",
       "| 660550623 | N                         |\n",
       "| 464039105 | N                         |\n",
       "| 161696098 | N                         |"
      ],
      "text/plain": [
       "<IPython.core.display.Markdown object>"
      ]
     },
     "metadata": {},
     "output_type": "display_data"
    },
    {
     "data": {
      "text/markdown": [
       "Unique values in loans to officers columns:\n",
       "\n",
       "| Loan to officer or DQP?   |   count |\n",
       "|:--------------------------|--------:|\n",
       "| N                         |  294695 |\n",
       "| Y                         |    7847 |"
      ],
      "text/plain": [
       "<IPython.core.display.Markdown object>"
      ]
     },
     "metadata": {},
     "output_type": "display_data"
    }
   ],
   "source": [
    "head_columns = ['ein', 'loantofficercd']\n",
    "head_new_names = {'ein': 'EIN', 'loantofficercd': 'Loan to officer or DQP?'}\n",
    "display_head(form_990_2022, head_columns, head_new_names, \"Example of loans to officers in the data:\")\n",
    "\n",
    "unique_columns = ['loantofficercd']\n",
    "unique_new_names = {0: 'Loan to officer or DQP?', 'loantofficercd': 'Loan to officer or DQP?', '0': 'Count'}\n",
    "display_unique_values(form_990_2022, unique_columns, unique_new_names, \"Unique values in loans to officers columns:\")\n"
   ]
  },
  {
   "cell_type": "markdown",
   "metadata": {},
   "source": [
    "### 4.5.3 Schedule: O completed?\n",
    "* compltschocd:\tSchedule O completed?"
   ]
  },
  {
   "cell_type": "code",
   "execution_count": 15,
   "metadata": {},
   "outputs": [
    {
     "data": {
      "text/markdown": [
       "Example of Schedule 0 in the data:\n",
       "\n",
       "|       EIN | Schedule O completed?   |\n",
       "|----------:|:------------------------|\n",
       "| 426057254 | Y                       |\n",
       "|  60891737 | Y                       |\n",
       "| 660550623 | Y                       |\n",
       "| 464039105 | Y                       |\n",
       "| 161696098 | Y                       |"
      ],
      "text/plain": [
       "<IPython.core.display.Markdown object>"
      ]
     },
     "metadata": {},
     "output_type": "display_data"
    },
    {
     "data": {
      "text/markdown": [
       "Unique values in Schedule 0 columns:\n",
       "\n",
       "| Schedule O completed?   |   count |\n",
       "|:------------------------|--------:|\n",
       "| Y                       |  275980 |\n",
       "| N                       |   26534 |"
      ],
      "text/plain": [
       "<IPython.core.display.Markdown object>"
      ]
     },
     "metadata": {},
     "output_type": "display_data"
    }
   ],
   "source": [
    "head_columns = ['ein', 'compltschocd']\n",
    "head_new_names = {'ein': 'EIN', 'compltschocd': 'Schedule O completed?'}\n",
    "display_head(form_990_2022, head_columns, head_new_names, \"Example of Schedule 0 in the data:\")\n",
    "\n",
    "unique_columns = ['compltschocd']\n",
    "unique_new_names = {0: 'Schedule O completed?', 'compltschocd': 'Schedule O completed?', '0': 'Count'}\n",
    "display_unique_values(form_990_2022, unique_columns, unique_new_names, \"Unique values in Schedule 0 columns:\")\n"
   ]
  },
  {
   "cell_type": "markdown",
   "metadata": {},
   "source": [
    "### 4.5.4 Form 990-T filed?\n",
    "* filedf990tcd:\tForm 990-T filed?\n"
   ]
  },
  {
   "cell_type": "code",
   "execution_count": 16,
   "metadata": {},
   "outputs": [
    {
     "data": {
      "text/markdown": [
       "Example of Form 990-T filed column:\n",
       "\n",
       "|       EIN |   Form 990-T filed? |\n",
       "|----------:|--------------------:|\n",
       "| 426057254 |                 nan |\n",
       "|  60891737 |                 nan |\n",
       "| 660550623 |                 nan |\n",
       "| 464039105 |                 nan |\n",
       "| 161696098 |                 nan |"
      ],
      "text/plain": [
       "<IPython.core.display.Markdown object>"
      ]
     },
     "metadata": {},
     "output_type": "display_data"
    },
    {
     "data": {
      "text/markdown": [
       "Unique values in Form 990-T filed column:\n",
       "\n",
       "| Form 990-T filed?   |   count |\n",
       "|:--------------------|--------:|\n",
       "| Y                   |   24954 |\n",
       "| N                   |    4663 |"
      ],
      "text/plain": [
       "<IPython.core.display.Markdown object>"
      ]
     },
     "metadata": {},
     "output_type": "display_data"
    }
   ],
   "source": [
    "head_columns = ['ein', 'filedf990tcd']\n",
    "head_new_names = {'ein': 'EIN', 'filedf990tcd': 'Form 990-T filed?'}\n",
    "display_head(form_990_2022, head_columns, head_new_names, \"Example of Form 990-T filed column:\")\n",
    "\n",
    "unique_columns = ['filedf990tcd']\n",
    "unique_new_names = {0: 'Form 990-T filed?', 'filedf990tcd': 'Form 990-T filed?', '0': 'Count'}\n",
    "display_unique_values(form_990_2022, unique_columns, unique_new_names, \"Unique values in Form 990-T filed column:\")\n"
   ]
  },
  {
   "cell_type": "markdown",
   "metadata": {},
   "source": [
    "### 4.5.5 Foreign Financial Account & Foreign Activities\n",
    "* frgnrevexpnscd:\tForeign activities, etc?\n",
    "* frgnacctcd:\tForeign financial account?\n",
    "* frgnofficecd:\tForeign office?"
   ]
  },
  {
   "cell_type": "code",
   "execution_count": 17,
   "metadata": {},
   "outputs": [
    {
     "data": {
      "text/markdown": [
       "Example of foreign activity columns:\n",
       "\n",
       "|       EIN | Foreign activities, etc?   | Foreign financial account?   | Foreign office?   |\n",
       "|----------:|:---------------------------|:-----------------------------|:------------------|\n",
       "| 426057254 | N                          | N                            | N                 |\n",
       "|  60891737 | N                          | N                            | N                 |\n",
       "| 660550623 | N                          | N                            | N                 |\n",
       "| 464039105 | N                          | N                            | N                 |\n",
       "| 161696098 | N                          | N                            | N                 |"
      ],
      "text/plain": [
       "<IPython.core.display.Markdown object>"
      ]
     },
     "metadata": {},
     "output_type": "display_data"
    },
    {
     "data": {
      "text/markdown": [
       "Unique values in foreign activity columns:\n",
       "\n",
       "| Foreign activities, etc?   | Foreign financial account?   | Foreign office?   |   count |\n",
       "|:---------------------------|:-----------------------------|:------------------|--------:|\n",
       "| N                          | N                            | N                 |  288212 |\n",
       "| Y                          | N                            | N                 |    6706 |\n",
       "| Y                          | N                            | Y                 |    2843 |\n",
       "| Y                          | Y                            | Y                 |    2398 |\n",
       "| N                          | N                            | Y                 |    1004 |\n",
       "| Y                          | Y                            | N                 |     590 |\n",
       "| N                          | Y                            | N                 |     506 |\n",
       "| N                          | Y                            | Y                 |     241 |"
      ],
      "text/plain": [
       "<IPython.core.display.Markdown object>"
      ]
     },
     "metadata": {},
     "output_type": "display_data"
    }
   ],
   "source": [
    "head_columns = ['ein', 'frgnrevexpnscd', 'frgnacctcd','frgnofficecd']\n",
    "head_new_names = {'ein': 'EIN', 'frgnrevexpnscd': 'Foreign activities, etc?', 'frgnacctcd': 'Foreign financial account?','frgnofficecd':'Foreign office?'}\n",
    "display_head(form_990_2022, head_columns, head_new_names, \"Example of foreign activity columns:\")\n",
    "\n",
    "unique_columns = ['frgnrevexpnscd', 'frgnacctcd','frgnofficecd']\n",
    "unique_new_names = {0: 'Foreign activities, etc?', 'frgnrevexpnscd': 'Foreign activities, etc?', 'frgnacctcd': 'Foreign financial account?','frgnofficecd':'Foreign office?', '0': 'Count'}\n",
    "display_unique_values(form_990_2022, unique_columns, unique_new_names, \"Unique values in foreign activity columns:\")\n"
   ]
  }
 ],
 "metadata": {
  "kernelspec": {
   "display_name": "t_up",
   "language": "python",
   "name": "python3"
  },
  "language_info": {
   "codemirror_mode": {
    "name": "ipython",
    "version": 3
   },
   "file_extension": ".py",
   "mimetype": "text/x-python",
   "name": "python",
   "nbconvert_exporter": "python",
   "pygments_lexer": "ipython3",
   "version": "3.9.18"
  }
 },
 "nbformat": 4,
 "nbformat_minor": 2
}
