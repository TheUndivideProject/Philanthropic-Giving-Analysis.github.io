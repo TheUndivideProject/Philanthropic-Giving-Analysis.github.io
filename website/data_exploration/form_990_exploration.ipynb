{
 "cells": [
  {
   "cell_type": "raw",
   "metadata": {},
   "source": [
    "---\n",
    "title: \"2022 Form 990 Data Report\"\n",
    "author: \"Amelia Baier\"\n",
    "date: \"2024-03-22\"\n",
    "format: \n",
    "  html:\n",
    "    toc: true\n",
    "    toc-depth: 3\n",
    "    toc-title: \"Table of Contents\"\n",
    "    embed-resources: true\n",
    "    warnings: false\n",
    "    code-fold: true\n",
    "execute:\n",
    "  echo: true\n",
    "---"
   ]
  },
  {
   "cell_type": "markdown",
   "metadata": {},
   "source": [
    "# 1. Introduction\n",
    "\n",
    "This document aims to perform an initial exploration of the features and values within the Form 990 to identify relevant variables for a detailed analysis of philanthropic giving within the environmental and social justice sectors. Additionally, we intend to assess the level of transparency and accountability of various organizations, leveraging the data provided by the form 990 to inform our inquiry.\n",
    "\n",
    "These forms contain selected financial data from filers of three Internal Revenue Service (IRS) information returns. Futher information can be found on IRS.gov - https://www.irs.gov/statistics/soi-tax-stats-annual-extract-of-tax-exempt-organization-financial-data\n"
   ]
  },
  {
   "cell_type": "markdown",
   "metadata": {},
   "source": [
    "# 2. First Glance"
   ]
  },
  {
   "cell_type": "markdown",
   "metadata": {},
   "source": [
    "## 2.1. General Summary"
   ]
  },
  {
   "cell_type": "code",
   "execution_count": 5,
   "metadata": {},
   "outputs": [
    {
     "data": {
      "text/markdown": [
       "Data Dimensions:\n",
       "\n",
       "| Dimension   | Count   |\n",
       "|:------------|:--------|\n",
       "| Rows        | 326,123 |\n",
       "| Columns     | 246     |"
      ],
      "text/plain": [
       "<IPython.core.display.Markdown object>"
      ]
     },
     "metadata": {},
     "output_type": "display_data"
    },
    {
     "data": {
      "text/markdown": [
       "First Five Rows of Data:\n",
       "\n",
       "| efile   |         EIN |   tax_pd |   subseccd | s501c3or4947a1cd   | schdbind   | politicalactvtscd   |   lbbyingactvtscd | subjto6033cd   | dnradvisedfundscd   | prptyintrcvdcd   | maintwrkofartcd   | crcounselingqstncd   | hldassetsintermpermcd   | rptlndbldgeqptcd   | rptinvstothsecd   | rptinvstprgrelcd   | rptothasstcd   | rptothliabcd   | sepcnsldtfinstmtcd   | sepindaudfinstmtcd   | inclinfinstmtcd   | operateschools170cd   | frgnofficecd   | frgnrevexpnscd   | frgngrntscd   | frgnaggragrntscd   | rptprofndrsngfeescd   | rptincfnndrsngcd   | rptincgamingcd   | operatehosptlcd   |   hospaudfinstmtcd | rptgrntstogovtcd   | rptgrntstoindvcd   | rptyestocompnstncd   | txexmptbndcd   |   invstproceedscd |   maintescrwaccntcd |   actonbehalfcd |   engageexcessbnftcd |   awarexcessbnftcd | loantofficercd   | grantoofficercd   | dirbusnreltdcd   | fmlybusnreltdcd   | servasofficercd   | recvnoncashcd   | recvartcd   | ceaseoperationscd   | sellorexchcd   | ownsepentcd   | reltdorgcd   | intincntrlcd   |   orgtrnsfrcd | conduct5percentcd   | compltschocd   |   f1096cnt |   fw2gcnt | wthldngrulescd   |   noemplyeesw3cnt | filerqrdrtnscd   | unrelbusinccd   | filedf990tcd   | frgnacctcd   | prohibtdtxshltrcd   | prtynotifyorgcd   |   filedf8886tcd | solicitcntrbcd   |   exprstmntcd |   providegoodscd |   notfydnrvalcd |   filedf8282cd |   f8282cnt |   fndsrcvdcd |   premiumspaidcd |   filedf8899cd |   filedf1098ccd |   excbushldngscd |   s4966distribcd |   distribtodonorcd |   initiationfees |   grsrcptspublicuse |   grsincmembers |   grsincother |   filedlieuf1041cd |   txexmptint |   qualhlthplncd |   qualhlthreqmntn |   qualhlthonhnd | rcvdpdtngcd   |   filedf720cd |   totreprtabled |   totcomprelatede |   totestcompf |   noindiv100kcnt |   nocontractor100kcnt |   totcntrbgfts |   prgmservcode2acd |   totrev2acola |   prgmservcode2bcd |   totrev2bcola |   prgmservcode2ccd |   totrev2ccola |   prgmservcode2dcd |   totrev2dcola |   prgmservcode2ecd |   totrev2ecola |   totrev2fcola |   totprgmrevnue |   invstmntinc |   txexmptbndsproceeds |   royaltsinc |   grsrntsreal |   grsrntsprsnl |   rntlexpnsreal |   rntlexpnsprsnl |   rntlincreal |   rntlincprsnl |   netrntlinc |   grsalesecur |   grsalesothr |   cstbasisecur |   cstbasisothr |   gnlsecur |   gnlsothr |   netgnls |   grsincfndrsng |   lessdirfndrsng |   netincfndrsng |   grsincgaming |   lessdirgaming |   netincgaming |   grsalesinvent |   lesscstofgoods |   netincsales |   miscrev11acd |   miscrevtota |   miscrev11bcd |   miscrevtot11b |   miscrev11ccd |   miscrevtot11c |   miscrevtot11d |   miscrevtot11e |   totrevenue |   grntstogovt |   grnsttoindiv |   grntstofrgngovt |   benifitsmembrs |   compnsatncurrofcr |   compnsatnandothr |   othrsalwages |   pensionplancontrb |   othremplyeebenef |   payrolltx |   feesforsrvcmgmt |   legalfees |   accntingfees |   feesforsrvclobby |   profndraising |   feesforsrvcinvstmgmt |   feesforsrvcothr |   advrtpromo |   officexpns |   infotech |   royaltsexpns |   occupancy |   travel |   travelofpublicoffcl |   converconventmtng |   interestamt |   pymtoaffiliates |   deprcatndepletn |   insurance |   othrexpnsa |   othrexpnsb |   othrexpnsc |   othrexpnsd |   othrexpnse |   othrexpnsf |   totfuncexpns |   nonintcashend |   svngstempinvend |   pldgegrntrcvblend |   accntsrcvblend |   currfrmrcvblend |   rcvbldisqualend |   notesloansrcvblend |   invntriesalesend |   prepaidexpnsend |   lndbldgsequipend |   invstmntsend |   invstmntsothrend |   invstmntsprgmend |   intangibleassetsend |   othrassetsend |   totassetsend |   accntspayableend |   grntspayableend |   deferedrevnuend |   txexmptbndsend |   escrwaccntliabend |   paybletoffcrsend |   secrdmrtgsend |   unsecurednotesend |   othrliabend |   totliabend |   unrstrctnetasstsend |   temprstrctnetasstsend |   permrstrctnetasstsend |   capitalstktrstend |   paidinsurplusend |   retainedearnend |   totnetassetend |   totnetliabastend |   nonpfrea |   totnooforgscnt |   totsupport |   gftgrntsrcvd170 |   txrevnuelevied170 |   srvcsval170 |   pubsuppsubtot170 |   exceeds2pct170 |   pubsupplesspct170 |   samepubsuppsubtot170 |   grsinc170 |   netincunreltd170 |   othrinc170 |   totsupp170 |   grsrcptsrelated170 |   totgftgrntrcvd509 |   grsrcptsadmissn509 |   grsrcptsactivities509 |   txrevnuelevied509 |   srvcsval509 |   pubsuppsubtot509 |   rcvdfrmdisqualsub509 |   exceeds1pct509 |   subtotpub509 |   pubsupplesub509 |   samepubsuppsubtot509 |   grsinc509 |   unreltxincls511tx509 |   subtotsuppinc509 |   netincunrelatd509 |   othrinc509 |   totsupp509 |\n",
       "|:--------|------------:|---------:|-----------:|:-------------------|:-----------|:--------------------|------------------:|:---------------|:--------------------|:-----------------|:------------------|:---------------------|:------------------------|:-------------------|:------------------|:-------------------|:---------------|:---------------|:---------------------|:---------------------|:------------------|:----------------------|:---------------|:-----------------|:--------------|:-------------------|:----------------------|:-------------------|:-----------------|:------------------|-------------------:|:-------------------|:-------------------|:---------------------|:---------------|------------------:|--------------------:|----------------:|---------------------:|-------------------:|:-----------------|:------------------|:-----------------|:------------------|:------------------|:----------------|:------------|:--------------------|:---------------|:--------------|:-------------|:---------------|--------------:|:--------------------|:---------------|-----------:|----------:|:-----------------|------------------:|:-----------------|:----------------|:---------------|:-------------|:--------------------|:------------------|----------------:|:-----------------|--------------:|-----------------:|----------------:|---------------:|-----------:|-------------:|-----------------:|---------------:|----------------:|-----------------:|-----------------:|-------------------:|-----------------:|--------------------:|----------------:|--------------:|-------------------:|-------------:|----------------:|------------------:|----------------:|:--------------|--------------:|----------------:|------------------:|--------------:|-----------------:|----------------------:|---------------:|-------------------:|---------------:|-------------------:|---------------:|-------------------:|---------------:|-------------------:|---------------:|-------------------:|---------------:|---------------:|----------------:|--------------:|----------------------:|-------------:|--------------:|---------------:|----------------:|-----------------:|--------------:|---------------:|-------------:|--------------:|--------------:|---------------:|---------------:|-----------:|-----------:|----------:|----------------:|-----------------:|----------------:|---------------:|----------------:|---------------:|----------------:|-----------------:|--------------:|---------------:|--------------:|---------------:|----------------:|---------------:|----------------:|----------------:|----------------:|-------------:|--------------:|---------------:|------------------:|-----------------:|--------------------:|-------------------:|---------------:|--------------------:|-------------------:|------------:|------------------:|------------:|---------------:|-------------------:|----------------:|-----------------------:|------------------:|-------------:|-------------:|-----------:|---------------:|------------:|---------:|----------------------:|--------------------:|--------------:|------------------:|------------------:|------------:|-------------:|-------------:|-------------:|-------------:|-------------:|-------------:|---------------:|----------------:|------------------:|--------------------:|-----------------:|------------------:|------------------:|---------------------:|-------------------:|------------------:|-------------------:|---------------:|-------------------:|-------------------:|----------------------:|----------------:|---------------:|-------------------:|------------------:|------------------:|-----------------:|--------------------:|-------------------:|----------------:|--------------------:|--------------:|-------------:|----------------------:|------------------------:|------------------------:|--------------------:|-------------------:|------------------:|-----------------:|-------------------:|-----------:|-----------------:|-------------:|------------------:|--------------------:|--------------:|-------------------:|-----------------:|--------------------:|-----------------------:|------------:|-------------------:|-------------:|-------------:|---------------------:|--------------------:|---------------------:|------------------------:|--------------------:|--------------:|-------------------:|-----------------------:|-----------------:|---------------:|------------------:|-----------------------:|------------:|-----------------------:|-------------------:|--------------------:|-------------:|-------------:|\n",
       "| P       | 1.00189e+07 |   202004 |         19 | N                  | N          | N                   |               nan | N              | N                   | N                | N                 | N                    | N                       | N                  | N                 | N                  | N              | N              | N                    | Y                    | N                 | N                     | N              | N                | N             | N                  | N                     | N                  | N                | N                 |                nan | N                  | N                  | N                    | N              |               nan |                 nan |             nan |                  nan |                nan | N                | N                 | N                | N                 | N                 | N               | N           | N                   | N              | N             | N            | N              |           nan | N                   | Y              |          3 |         0 | N                |                 1 | Y                | N               | nan            | N            | N                   | N                 |             nan | N                |           nan |              nan |             nan |            nan |          0 |          nan |              nan |            nan |             nan |              nan |              nan |                nan |                0 |                   0 |               0 |             0 |                nan |            0 |             nan |                 0 |               0 | N             |           nan |           40000 |                 0 |             0 |                0 |                     0 |         125780 |                nan |          54362 |                nan |          48087 |                nan |          23211 |                nan |           8294 |                nan |              0 |              0 |          133954 |           725 |                     0 |            0 |             0 |              0 |               0 |                0 |             0 |              0 |            0 |             0 |             0 |              0 |              0 |          0 |          0 |         0 |               0 |                0 |               0 |              0 |               0 |              0 |               0 |                0 |             0 |            nan |             0 |            nan |               0 |            nan |               0 |               0 |               0 |       260459 |             0 |           1100 |                 0 |                0 |               40000 |                  0 |           1800 |                   0 |                  0 |        2624 |                 0 |           0 |           2700 |                  0 |               0 |                      0 |                 0 |            0 |         7097 |          0 |              0 |       12560 |        0 |                     0 |               13719 |             0 |                 0 |                 0 |        4395 |        65485 |        60719 |        44495 |        13703 |         6032 |            0 |         276429 |          179298 |             36656 |                   0 |                0 |                 0 |                 0 |                    0 |                  0 |                 0 |                  0 |              0 |                  0 |                  0 |                     0 |               0 |         215954 |                  0 |                 0 |                 0 |                0 |                   0 |                  0 |               0 |                   0 |             0 |            0 |                215954 |                       0 |                       0 |                   0 |                  0 |                 0 |           215954 |             215954 |        nan |                0 |            0 |                 0 |                   0 |             0 |                  0 |                0 |                   0 |                      0 |           0 |                  0 |            0 |            0 |                    0 |                   0 |                    0 |                       0 |                   0 |             0 |                  0 |                      0 |                0 |              0 |                 0 |                      0 |           0 |                      0 |                  0 |                   0 |            0 |            0 |\n",
       "| E       | 1.00189e+07 |   202104 |         19 | N                  | N          | N                   |               nan | N              | N                   | N                | N                 | N                    | nan                     | N                  | N                 | N                  | N              | N              | N                    | Y                    | N                 | N                     | N              | N                | N             | N                  | N                     | N                  | N                | N                 |                nan | N                  | N                  | N                    | N              |               nan |                 nan |             nan |                  nan |                nan | N                | N                 | N                | N                 | nan               | N               | N           | N                   | N              | N             | N            | N              |           nan | N                   | Y              |          2 |         0 | N                |                 1 | Y                | N               | nan            | N            | N                   | N                 |             nan | N                |           nan |              nan |             nan |            nan |          0 |          nan |              nan |            nan |             nan |              nan |              nan |                nan |                0 |                   0 |               0 |             0 |                nan |            0 |             nan |                 0 |               0 | N             |           nan |           42000 |                 0 |             0 |                0 |                     0 |         122786 |                nan |          20958 |                nan |           9018 |                nan |           2432 |                nan |           1091 |                nan |              0 |              0 |           33499 |           307 |                     0 |            0 |             0 |              0 |               0 |                0 |             0 |              0 |            0 |             0 |             0 |              0 |              0 |          0 |          0 |         0 |               0 |                0 |               0 |              0 |               0 |              0 |               0 |                0 |             0 |            nan |             0 |            nan |               0 |            nan |               0 |               0 |               0 |       156592 |             0 |              0 |                 0 |                0 |               42000 |                  0 |           1100 |                   0 |                  0 |        2878 |                 0 |           0 |           3000 |                  0 |               0 |                      0 |                 0 |            0 |         6200 |          0 |              0 |       12248 |        0 |                     0 |                 904 |             0 |                 0 |                 0 |         989 |        64897 |         6051 |         1657 |          260 |            0 |            0 |         142184 |          193408 |             36954 |                   0 |                0 |                 0 |                 0 |                    0 |                  0 |                 0 |                  0 |              0 |                  0 |                  0 |                     0 |               0 |         230362 |                  0 |                 0 |                 0 |                0 |                   0 |                  0 |               0 |                   0 |             0 |            0 |                230362 |                       0 |                       0 |                   0 |                  0 |                 0 |           230362 |             230362 |        nan |                0 |            0 |                 0 |                   0 |             0 |                  0 |                0 |                   0 |                      0 |           0 |                  0 |            0 |            0 |                    0 |                   0 |                    0 |                       0 |                   0 |             0 |                  0 |                      0 |                0 |              0 |                 0 |                      0 |           0 |                      0 |                  0 |                   0 |            0 |            0 |\n",
       "| E       | 1.00189e+07 |   202204 |         19 | N                  | N          | N                   |               nan | N              | N                   | N                | N                 | N                    | nan                     | N                  | N                 | N                  | N              | N              | N                    | Y                    | N                 | N                     | N              | N                | N             | N                  | N                     | N                  | N                | N                 |                nan | N                  | N                  | N                    | N              |               nan |                 nan |             nan |                  nan |                nan | N                | N                 | N                | N                 | nan               | N               | N           | N                   | N              | N             | N            | N              |           nan | N                   | Y              |          1 |         0 | N                |                 1 | Y                | N               | nan            | N            | N                   | N                 |             nan | N                |           nan |              nan |             nan |            nan |          0 |          nan |              nan |            nan |             nan |              nan |              nan |                nan |                0 |                   0 |               0 |             0 |                nan |            0 |             nan |                 0 |               0 | N             |           nan |           42750 |                 0 |             0 |                0 |                     0 |         122782 |                nan |          43047 |                nan |          11477 |                nan |          10368 |                nan |              1 |                nan |              0 |              0 |           64893 |           194 |                     0 |            0 |             0 |              0 |               0 |                0 |             0 |              0 |            0 |             0 |             0 |              0 |              0 |          0 |          0 |         0 |               0 |                0 |               0 |              0 |               0 |              0 |               0 |                0 |             0 |            nan |             0 |            nan |               0 |            nan |               0 |               0 |               0 |       187869 |             0 |              0 |                 0 |                0 |               42750 |                  0 |           1350 |                   0 |                  0 |        2846 |                 0 |           0 |           3700 |                  0 |               0 |                      0 |                 0 |            0 |         6333 |          0 |              0 |       12552 |        0 |                     0 |                8447 |             0 |                 0 |                 0 |         989 |        63566 |        21942 |        11304 |            0 |            0 |            0 |         175779 |          205313 |             37139 |                   0 |                0 |                 0 |                 0 |                    0 |                  0 |                 0 |                  0 |              0 |                  0 |                  0 |                     0 |               0 |         242452 |                  0 |                 0 |                 0 |                0 |                   0 |                  0 |               0 |                   0 |             0 |            0 |                242452 |                       0 |                       0 |                   0 |                  0 |                 0 |           242452 |             242452 |        nan |                0 |            0 |                 0 |                   0 |             0 |                  0 |                0 |                   0 |                      0 |           0 |                  0 |            0 |            0 |                    0 |                   0 |                    0 |                       0 |                   0 |             0 |                  0 |                      0 |                0 |              0 |                 0 |                      0 |           0 |                      0 |                  0 |                   0 |            0 |            0 |\n",
       "| E       | 1.00189e+07 |   202105 |         19 | N                  | N          | N                   |               nan | N              | N                   | N                | N                 | N                    | nan                     | Y                  | Y                 | N                  | N              | Y              | N                    | N                    | N                 | N                     | N              | N                | N             | N                  | N                     | N                  | Y                | N                 |                nan | N                  | N                  | N                    | N              |               nan |                 nan |             nan |                  nan |                nan | N                | N                 | N                | N                 | nan               | N               | N           | N                   | N              | N             | N            | N              |           nan | N                   | N              |          1 |         0 | N                |                14 | Y                | Y               | Y              | N            | N                   | N                 |             nan | N                |           nan |              nan |             nan |            nan |          0 |          nan |              nan |            nan |             nan |              nan |              nan |                nan |                0 |                   0 |               0 |             0 |                nan |            0 |             nan |                 0 |               0 | N             |           nan |               0 |                 0 |             0 |                0 |                     0 |          15102 |                nan |              0 |                nan |              0 |                nan |              0 |                nan |              0 |                nan |              0 |              0 |               0 |             4 |                     0 |            0 |             0 |              0 |               0 |                0 |             0 |              0 |            0 |             0 |             0 |              0 |              0 |          0 |          0 |         0 |             285 |                0 |             285 |         854292 |          748033 |         106259 |          101638 |            47148 |         54490 |            nan |          4656 |            nan |             371 |            nan |             345 |              41 |            5413 |       181553 |             0 |              0 |                 0 |              592 |                   0 |                  0 |          87593 |                   0 |                  0 |        7617 |                 0 |         675 |           5100 |                  0 |               0 |                      0 |                 0 |          273 |         2343 |          0 |              0 |         790 |        0 |                     0 |                   0 |             0 |              7661 |              9125 |        8376 |        15408 |        15013 |         4195 |         4045 |            0 |        15588 |         184394 |            9149 |             64413 |                   0 |                0 |                 0 |                 0 |                    0 |               3077 |                 0 |              29071 |              0 |              47576 |                  0 |                     0 |            2000 |         155286 |                  0 |                 0 |                 0 |                0 |                   0 |                  0 |               0 |                   0 |         26754 |        26754 |                     0 |                       0 |                       0 |                   0 |                  0 |            128532 |           128532 |             155286 |        nan |                0 |            0 |                 0 |                   0 |             0 |                  0 |                0 |                   0 |                      0 |           0 |                  0 |            0 |            0 |                    0 |                   0 |                    0 |                       0 |                   0 |             0 |                  0 |                      0 |                0 |              0 |                 0 |                      0 |           0 |                      0 |                  0 |                   0 |            0 |            0 |\n",
       "| E       | 1.00189e+07 |   202205 |         19 | N                  | N          | N                   |               nan | N              | N                   | N                | N                 | N                    | nan                     | Y                  | Y                 | N                  | N              | Y              | N                    | N                    | N                 | N                     | N              | N                | N             | N                  | N                     | N                  | Y                | N                 |                nan | N                  | N                  | N                    | N              |               nan |                 nan |             nan |                  nan |                nan | N                | N                 | N                | N                 | nan               | N               | N           | N                   | N              | N             | N            | N              |           nan | N                   | N              |          0 |         0 | N                |                13 | Y                | Y               | Y              | N            | N                   | N                 |             nan | N                |           nan |              nan |             nan |            nan |          0 |          nan |              nan |            nan |             nan |              nan |              nan |                nan |                0 |                   0 |               0 |             0 |                nan |            0 |             nan |                 0 |               0 | N             |           nan |               0 |                 0 |             0 |                0 |                     0 |          27640 |                nan |              0 |                nan |              0 |                nan |              0 |                nan |              0 |                nan |              0 |              0 |               0 |             5 |                     0 |            0 |             0 |              0 |               0 |                0 |             0 |              0 |            0 |             0 |             0 |              0 |              0 |          0 |          0 |         0 |            5981 |                0 |            5981 |         932945 |          804952 |         127993 |          144587 |            69923 |         74664 |            nan |         24100 |            nan |               3 |            nan |               0 |               0 |           24103 |       260386 |             0 |              0 |                 0 |                0 |                   0 |                  0 |         102765 |                   0 |                  0 |        8936 |                 0 |           0 |           5525 |                  0 |               0 |                      0 |                 0 |          502 |         4238 |          0 |              0 |       10258 |        0 |                     0 |                   0 |             0 |              7623 |              7568 |        6707 |        22195 |         9544 |         4620 |         3844 |            0 |        20953 |         215278 |            8645 |             95227 |                   0 |                0 |                 0 |                 0 |                    0 |               3077 |                 0 |              27982 |              0 |              49581 |                  0 |                     0 |               0 |         184512 |                  0 |                 0 |                 0 |                0 |                   0 |                  0 |               0 |                   0 |          3835 |         3835 |                     0 |                       0 |                       0 |                   0 |                  0 |            180677 |           180677 |             184512 |        nan |                0 |            0 |                 0 |                   0 |             0 |                  0 |                0 |                   0 |                      0 |           0 |                  0 |            0 |            0 |                    0 |                   0 |                    0 |                       0 |                   0 |             0 |                  0 |                      0 |                0 |              0 |                 0 |                      0 |           0 |                      0 |                  0 |                   0 |            0 |            0 |"
      ],
      "text/plain": [
       "<IPython.core.display.Markdown object>"
      ]
     },
     "metadata": {},
     "output_type": "display_data"
    },
    {
     "data": {
      "text/markdown": [
       "Metadata:\n",
       "\n",
       "| Column Name           | Data Type   | Unique Values   | Missing Values   |\n",
       "|:----------------------|:------------|:----------------|:-----------------|\n",
       "| efile                 | object      | 2               | 4                |\n",
       "| EIN                   | float64     | 302,567         | 4                |\n",
       "| tax_pd                | float64     | 115             | 4                |\n",
       "| subseccd              | float64     | 24              | 4                |\n",
       "| s501c3or4947a1cd      | object      | 2               | 59               |\n",
       "| schdbind              | object      | 2               | 55               |\n",
       "| politicalactvtscd     | object      | 2               | 53               |\n",
       "| lbbyingactvtscd       | object      | 2               | 73,196           |\n",
       "| subjto6033cd          | object      | 2               | 10,789           |\n",
       "| dnradvisedfundscd     | object      | 2               | 50               |\n",
       "| prptyintrcvdcd        | object      | 2               | 46               |\n",
       "| maintwrkofartcd       | object      | 2               | 51               |\n",
       "| crcounselingqstncd    | object      | 2               | 56               |\n",
       "| hldassetsintermpermcd | object      | 2               | 316,793          |\n",
       "| rptlndbldgeqptcd      | object      | 2               | 65               |\n",
       "| rptinvstothsecd       | object      | 2               | 68               |\n",
       "| rptinvstprgrelcd      | object      | 2               | 77               |\n",
       "| rptothasstcd          | object      | 2               | 78               |\n",
       "| rptothliabcd          | object      | 2               | 83               |\n",
       "| sepcnsldtfinstmtcd    | object      | 2               | 86               |\n",
       "| sepindaudfinstmtcd    | object      | 2               | 56               |\n",
       "| inclinfinstmtcd       | object      | 2               | 88               |\n",
       "| operateschools170cd   | object      | 2               | 66               |\n",
       "| frgnofficecd          | object      | 2               | 70               |\n",
       "| frgnrevexpnscd        | object      | 2               | 74               |\n",
       "| frgngrntscd           | object      | 2               | 53               |\n",
       "| frgnaggragrntscd      | object      | 2               | 52               |\n",
       "| rptprofndrsngfeescd   | object      | 2               | 60               |\n",
       "| rptincfnndrsngcd      | object      | 2               | 51               |\n",
       "| rptincgamingcd        | object      | 2               | 53               |\n",
       "| operatehosptlcd       | object      | 2               | 68               |\n",
       "| hospaudfinstmtcd      | float64     | 2               | 322,523          |\n",
       "| rptgrntstogovtcd      | object      | 2               | 73               |\n",
       "| rptgrntstoindvcd      | object      | 2               | 63               |\n",
       "| rptyestocompnstncd    | object      | 2               | 77               |\n",
       "| txexmptbndcd          | object      | 2               | 84               |\n",
       "| invstproceedscd       | object      | 2               | 313,308          |\n",
       "| maintescrwaccntcd     | object      | 2               | 313,391          |\n",
       "| actonbehalfcd         | object      | 2               | 313,505          |\n",
       "| engageexcessbnftcd    | object      | 2               | 61,710           |\n",
       "| awarexcessbnftcd      | object      | 2               | 61,514           |\n",
       "| loantofficercd        | object      | 2               | 66               |\n",
       "| grantoofficercd       | object      | 2               | 76               |\n",
       "| dirbusnreltdcd        | object      | 2               | 69               |\n",
       "| fmlybusnreltdcd       | object      | 2               | 88               |\n",
       "| servasofficercd       | object      | 2               | 316,799          |\n",
       "| recvnoncashcd         | object      | 2               | 70               |\n",
       "| recvartcd             | object      | 2               | 60               |\n",
       "| ceaseoperationscd     | object      | 2               | 68               |\n",
       "| sellorexchcd          | object      | 2               | 63               |\n",
       "| ownsepentcd           | object      | 2               | 60               |\n",
       "| reltdorgcd            | object      | 2               | 70               |\n",
       "| intincntrlcd          | object      | 2               | 310              |\n",
       "| orgtrnsfrcd           | object      | 2               | 73,493           |\n",
       "| conduct5percentcd     | object      | 2               | 78               |\n",
       "| compltschocd          | object      | 2               | 133              |\n",
       "| f1096cnt              | float64     | 2,831           | 4                |\n",
       "| fw2gcnt               | float64     | 152             | 4                |\n",
       "| wthldngrulescd        | object      | 2               | 122,684          |\n",
       "| noemplyeesw3cnt       | float64     | 2,973           | 4                |\n",
       "| filerqrdrtnscd        | object      | 2               | 123,640          |\n",
       "| unrelbusinccd         | object      | 2               | 109              |\n",
       "| filedf990tcd          | object      | 2               | 294,123          |\n",
       "| frgnacctcd            | object      | 2               | 122              |\n",
       "| prohibtdtxshltrcd     | object      | 2               | 88               |\n",
       "| prtynotifyorgcd       | object      | 2               | 303              |\n",
       "| filedf8886tcd         | object      | 2               | 323,361          |\n",
       "| solicitcntrbcd        | object      | 2               | 136              |\n",
       "| exprstmntcd           | object      | 2               | 315,315          |\n",
       "| providegoodscd        | object      | 2               | 101,679          |\n",
       "| notfydnrvalcd         | object      | 2               | 303,569          |\n",
       "| filedf8282cd          | object      | 2               | 102,286          |\n",
       "| f8282cnt              | float64     | 39              | 4                |\n",
       "| fndsrcvdcd            | object      | 2               | 138,722          |\n",
       "| premiumspaidcd        | object      | 2               | 138,694          |\n",
       "| filedf8899cd          | object      | 2               | 248,621          |\n",
       "| filedf1098ccd         | object      | 2               | 248,336          |\n",
       "| excbushldngscd        | object      | 2               | 324,052          |\n",
       "| s4966distribcd        | object      | 2               | 294,054          |\n",
       "| distribtodonorcd      | object      | 2               | 294,352          |\n",
       "| initiationfees        | float64     | 2,694           | 4                |\n",
       "| grsrcptspublicuse     | float64     | 2,231           | 4                |\n",
       "| grsincmembers         | float64     | 2,289           | 4                |\n",
       "| grsincother           | float64     | 1,962           | 4                |\n",
       "| filedlieuf1041cd      | object      | 1               | 322,811          |\n",
       "| txexmptint            | float64     | 4               | 4                |\n",
       "| qualhlthplncd         | object      | 2               | 320,991          |\n",
       "| qualhlthreqmntn       | float64     | 8               | 4                |\n",
       "| qualhlthonhnd         | float64     | 25              | 4                |\n",
       "| rcvdpdtngcd           | object      | 2               | 429              |\n",
       "| filedf720cd           | object      | 2               | 323,367          |\n",
       "| totreprtabled         | float64     | 108,040         | 4                |\n",
       "| totcomprelatede       | float64     | 25,017          | 4                |\n",
       "| totestcompf           | float64     | 60,267          | 4                |\n",
       "| noindiv100kcnt        | float64     | 944             | 4                |\n",
       "| nocontractor100kcnt   | float64     | 414             | 4                |\n",
       "| totcntrbgfts          | float64     | 219,353         | 4                |\n",
       "| prgmservcode2acd      | float64     | 1,093           | 173,346          |\n",
       "| totrev2acola          | float64     | 160,681         | 4                |\n",
       "| prgmservcode2bcd      | float64     | 774             | 244,782          |\n",
       "| totrev2bcola          | float64     | 76,944          | 4                |\n",
       "| prgmservcode2ccd      | float64     | 580             | 279,064          |\n",
       "| totrev2ccola          | float64     | 44,110          | 4                |\n",
       "| prgmservcode2dcd      | float64     | 455             | 300,130          |\n",
       "| totrev2dcola          | float64     | 25,391          | 4                |\n",
       "| prgmservcode2ecd      | float64     | 374             | 312,378          |\n",
       "| totrev2ecola          | float64     | 14,515          | 4                |\n",
       "| totrev2fcola          | float64     | 13,938          | 4                |\n",
       "| totprgmrevnue         | float64     | 172,610         | 4                |\n",
       "| invstmntinc           | float64     | 73,932          | 4                |\n",
       "| txexmptbndsproceeds   | float64     | 969             | 4                |\n",
       "| royaltsinc            | float64     | 6,201           | 4                |\n",
       "| grsrntsreal           | float64     | 26,604          | 4                |\n",
       "| grsrntsprsnl          | float64     | 1,569           | 4                |\n",
       "| rntlexpnsreal         | float64     | 14,631          | 4                |\n",
       "| rntlexpnsprsnl        | float64     | 574             | 4                |\n",
       "| rntlincreal           | float64     | 28,239          | 4                |\n",
       "| rntlincprsnl          | float64     | 1,616           | 4                |\n",
       "| netrntlinc            | float64     | 28,942          | 4                |\n",
       "| grsalesecur           | float64     | 52,558          | 4                |\n",
       "| grsalesothr           | float64     | 15,852          | 4                |\n",
       "| cstbasisecur          | float64     | 47,130          | 4                |\n",
       "| cstbasisothr          | float64     | 15,634          | 4                |\n",
       "| gnlsecur              | float64     | 47,779          | 4                |\n",
       "| gnlsothr              | float64     | 23,197          | 4                |\n",
       "| netgnls               | float64     | 59,819          | 4                |\n",
       "| grsincfndrsng         | float64     | 45,179          | 4                |\n",
       "| lessdirfndrsng        | float64     | 38,808          | 4                |\n",
       "| netincfndrsng         | float64     | 47,946          | 4                |\n",
       "| grsincgaming          | float64     | 12,146          | 4                |\n",
       "| lessdirgaming         | float64     | 10,817          | 4                |\n",
       "| netincgaming          | float64     | 12,038          | 4                |\n",
       "| grsalesinvent         | float64     | 31,967          | 4                |\n",
       "| lesscstofgoods        | float64     | 28,316          | 4                |\n",
       "| netincsales           | float64     | 30,344          | 4                |\n",
       "| miscrev11acd          | float64     | 681             | 243,083          |\n",
       "| miscrevtota           | float64     | 53,703          | 4                |\n",
       "| miscrev11bcd          | float64     | 448             | 297,611          |\n",
       "| miscrevtot11b         | float64     | 22,378          | 4                |\n",
       "| miscrev11ccd          | float64     | 315             | 314,436          |\n",
       "| miscrevtot11c         | float64     | 10,730          | 4                |\n",
       "| miscrevtot11d         | float64     | 10,057          | 4                |\n",
       "| miscrevtot11e         | float64     | 60,898          | 4                |\n",
       "| totrevenue            | float64     | 291,897         | 4                |\n",
       "| grntstogovt           | float64     | 41,319          | 4                |\n",
       "| grnsttoindiv          | float64     | 28,863          | 4                |\n",
       "| grntstofrgngovt       | float64     | 9,704           | 4                |\n",
       "| benifitsmembrs        | float64     | 12,054          | 4                |\n",
       "| compnsatncurrofcr     | float64     | 103,451         | 4                |\n",
       "| compnsatnandothr      | float64     | 7,113           | 4                |\n",
       "| othrsalwages          | float64     | 164,065         | 4                |\n",
       "| pensionplancontrb     | float64     | 51,113          | 4                |\n",
       "| othremplyeebenef      | float64     | 91,840          | 4                |\n",
       "| payrolltx             | float64     | 97,103          | 4                |\n",
       "| feesforsrvcmgmt       | float64     | 32,577          | 4                |\n",
       "| legalfees             | float64     | 40,390          | 4                |\n",
       "| accntingfees          | float64     | 52,646          | 4                |\n",
       "| feesforsrvclobby      | float64     | 6,825           | 4                |\n",
       "| profndraising         | float64     | 6,810           | 4                |\n",
       "| feesforsrvcinvstmgmt  | float64     | 29,304          | 4                |\n",
       "| feesforsrvcothr       | float64     | 91,138          | 4                |\n",
       "| advrtpromo            | float64     | 50,907          | 4                |\n",
       "| officexpns            | float64     | 80,120          | 4                |\n",
       "| infotech              | float64     | 50,211          | 4                |\n",
       "| royaltsexpns          | float64     | 2,611           | 4                |\n",
       "| occupancy             | float64     | 114,974         | 4                |\n",
       "| travel                | float64     | 48,208          | 4                |\n",
       "| travelofpublicoffcl   | float64     | 1,386           | 4                |\n",
       "| converconventmtng     | float64     | 41,412          | 4                |\n",
       "| interestamt           | float64     | 45,153          | 4                |\n",
       "| pymtoaffiliates       | float64     | 11,856          | 4                |\n",
       "| deprcatndepletn       | float64     | 100,405         | 4                |\n",
       "| insurance             | float64     | 72,911          | 4                |\n",
       "| othrexpnsa            | float64     | 147,171         | 4                |\n",
       "| othrexpnsb            | float64     | 101,478         | 4                |\n",
       "| othrexpnsc            | float64     | 78,174          | 4                |\n",
       "| othrexpnsd            | float64     | 61,365          | 4                |\n",
       "| othrexpnse            | float64     | 4,157           | 4                |\n",
       "| othrexpnsf            | float64     | 77,256          | 4                |\n",
       "| totfuncexpns          | float64     | 287,489         | 4                |\n",
       "| nonintcashend         | float64     | 219,323         | 4                |\n",
       "| svngstempinvend       | float64     | 144,007         | 4                |\n",
       "| pldgegrntrcvblend     | float64     | 45,168          | 4                |\n",
       "| accntsrcvblend        | float64     | 88,070          | 4                |\n",
       "| currfrmrcvblend       | float64     | 2,318           | 4                |\n",
       "| rcvbldisqualend       | float64     | 345             | 4                |\n",
       "| notesloansrcvblend    | float64     | 16,251          | 4                |\n",
       "| invntriesalesend      | float64     | 34,053          | 4                |\n",
       "| prepaidexpnsend       | float64     | 65,463          | 4                |\n",
       "| lndbldgsequipend      | float64     | 167,873         | 4                |\n",
       "| invstmntsend          | float64     | 77,435          | 4                |\n",
       "| invstmntsothrend      | float64     | 26,937          | 4                |\n",
       "| invstmntsprgmend      | float64     | 8,688           | 4                |\n",
       "| intangibleassetsend   | float64     | 11,043          | 4                |\n",
       "| othrassetsend         | float64     | 72,879          | 4                |\n",
       "| totassetsend          | float64     | 303,295         | 4                |\n",
       "| accntspayableend      | float64     | 116,076         | 4                |\n",
       "| grntspayableend       | float64     | 6,319           | 4                |\n",
       "| deferedrevnuend       | float64     | 55,752          | 4                |\n",
       "| txexmptbndsend        | float64     | 5,875           | 4                |\n",
       "| escrwaccntliabend     | float64     | 6,363           | 4                |\n",
       "| paybletoffcrsend      | float64     | 4,552           | 4                |\n",
       "| secrdmrtgsend         | float64     | 52,220          | 4                |\n",
       "| unsecurednotesend     | float64     | 21,736          | 4                |\n",
       "| othrliabend           | float64     | 81,595          | 4                |\n",
       "| totliabend            | float64     | 176,487         | 4                |\n",
       "| unrstrctnetasstsend   | float64     | 135,082         | 4                |\n",
       "| temprstrctnetasstsend | float64     | 46,602          | 4                |\n",
       "| permrstrctnetasstsend | float64     | 85              | 4                |\n",
       "| capitalstktrstend     | float64     | 12,542          | 4                |\n",
       "| paidinsurplusend      | float64     | 6,418           | 4                |\n",
       "| retainedearnend       | float64     | 67,507          | 4                |\n",
       "| totnetassetend        | float64     | 300,764         | 4                |\n",
       "| totnetliabastend      | float64     | 303,337         | 4                |\n",
       "| nonpfrea              | float64     | 15              | 73,594           |\n",
       "| totnooforgscnt        | float64     | 86              | 4                |\n",
       "| totsupport            | float64     | 8,015           | 4                |\n",
       "| gftgrntsrcvd170       | float64     | 113,604         | 4                |\n",
       "| txrevnuelevied170     | float64     | 2,443           | 4                |\n",
       "| srvcsval170           | float64     | 2,876           | 4                |\n",
       "| pubsuppsubtot170      | float64     | 113,800         | 4                |\n",
       "| exceeds2pct170        | float64     | 42,382          | 4                |\n",
       "| pubsupplesspct170     | float64     | 113,719         | 4                |\n",
       "| samepubsuppsubtot170  | float64     | 113,800         | 4                |\n",
       "| grsinc170             | float64     | 51,910          | 4                |\n",
       "| netincunreltd170      | float64     | 8,383           | 4                |\n",
       "| othrinc170            | float64     | 35,188          | 4                |\n",
       "| totsupp170            | float64     | 114,386         | 4                |\n",
       "| grsrcptsrelated170    | float64     | 49,840          | 4                |\n",
       "| totgftgrntrcvd509     | float64     | 83,625          | 4                |\n",
       "| grsrcptsadmissn509    | float64     | 66,560          | 4                |\n",
       "| grsrcptsactivities509 | float64     | 11,609          | 4                |\n",
       "| txrevnuelevied509     | float64     | 832             | 4                |\n",
       "| srvcsval509           | float64     | 857             | 4                |\n",
       "| pubsuppsubtot509      | float64     | 92,621          | 3                |\n",
       "| rcvdfrmdisqualsub509  | float64     | 10,513          | 4                |\n",
       "| exceeds1pct509        | float64     | 7,215           | 4                |\n",
       "| subtotpub509          | float64     | 14,966          | 4                |\n",
       "| pubsupplesub509       | float64     | 92,478          | 4                |\n",
       "| samepubsuppsubtot509  | float64     | 92,616          | 4                |\n",
       "| grsinc509             | float64     | 34,084          | 4                |\n",
       "| unreltxincls511tx509  | float64     | 1,400           | 4                |\n",
       "| subtotsuppinc509      | float64     | 34,431          | 4                |\n",
       "| netincunrelatd509     | float64     | 4,638           | 4                |\n",
       "| othrinc509            | float64     | 19,787          | 4                |\n",
       "| totsupp509            | float64     | 92,791          | 4                |"
      ],
      "text/plain": [
       "<IPython.core.display.Markdown object>"
      ]
     },
     "metadata": {},
     "output_type": "display_data"
    }
   ],
   "source": [
    "# Libraries for data manipulation.\n",
    "import pandas as pd\n",
    "import numpy as np\n",
    "\n",
    "# Libraries for data visualisation.\n",
    "import matplotlib.pyplot as plt\n",
    "import seaborn as sns\n",
    "import plotly.express as px\n",
    "import plotly.io as pio\n",
    "\n",
    "# Libraries for quarto rending\n",
    "from IPython.display import Markdown,display\n",
    "from tabulate import tabulate\n",
    "import plotly.io as pio\n",
    "\n",
    "# Remove warnings.\n",
    "import warnings\n",
    "warnings.filterwarnings(\"ignore\", category=UserWarning)\n",
    "\n",
    "# Read in data.\n",
    "form_990_2022 = pd.read_csv('../../data/22eoextract990.csv')\n",
    "\n",
    "# Print data dimensions.\n",
    "shape_caption = \"Data Dimensions:\"\n",
    "shape_df = pd.DataFrame({\n",
    "        'Dimension': ['Rows','Columns'],\n",
    "        'Count': [form_990_2022.shape[0], form_990_2022.shape[1]]\n",
    "    })\n",
    "shape_df['Count'] = shape_df['Count'].apply(lambda x: f\"{x:,}\")\n",
    "shape_markdown = shape_caption + \"\\n\\n\" + shape_df.to_markdown(index=False)\n",
    "display(Markdown(shape_markdown))\n",
    "\n",
    "# Print a sample of the data.\n",
    "first_five_rows_caption = \"First Five Rows of Data:\"\n",
    "first_five_rows_markdown = first_five_rows_caption + \"\\n\\n\" + form_990_2022.head().to_markdown(index=False)\n",
    "display(Markdown(first_five_rows_markdown))\n",
    "\n",
    "# Print metadata.\n",
    "metadata_caption = \"Metadata:\"\n",
    "column_metadata = []\n",
    "\n",
    "for col in form_990_2022.columns:\n",
    "    # Gather metadata for each col.\n",
    "    col_metadata = {\n",
    "        'Column Name': col,\n",
    "        'Data Type': str(form_990_2022[col].dtype),\n",
    "        'Unique Values': form_990_2022[col].nunique(),\n",
    "        'Missing Values': form_990_2022[col].isnull().sum()\n",
    "    }\n",
    "    # Append metadata to list.\n",
    "    column_metadata.append(col_metadata)\n",
    "\n",
    "# Convert list to pd df and then markdown table.\n",
    "metadata_df = pd.DataFrame(column_metadata)\n",
    "metadata_df['Unique Values'] = metadata_df['Unique Values'].apply(lambda x: f\"{x:,}\")\n",
    "metadata_df['Missing Values'] = metadata_df['Missing Values'].apply(lambda x: f\"{x:,}\")\n",
    "metadata_markdown = metadata_caption + \"\\n\\n\" + metadata_df.to_markdown(index=False)\n",
    "display(Markdown(metadata_markdown))"
   ]
  },
  {
   "cell_type": "markdown",
   "metadata": {},
   "source": [
    "# 3. Data Preparation\n",
    "\n",
    "In this section, we detail the initial steps taken to prepare the 990 Form from the IRS for analysis. Our goals are to ensure consistency in column naming, handle missing values appropriately, and convert data into formats that are suitable for our analytical needs. Please click the drop down arrow for more details on code used to achieve this."
   ]
  },
  {
   "cell_type": "code",
   "execution_count": 11,
   "metadata": {},
   "outputs": [
    {
     "data": {
      "text/markdown": [
       "Cleaned data sample view:\n",
       "\n",
       "| efile   |      ein | tax_pd              |   subseccd | s501c3or4947a1cd   | schdbind   | politicalactvtscd   |   lbbyingactvtscd | subjto6033cd   | dnradvisedfundscd   | prptyintrcvdcd   | maintwrkofartcd   | crcounselingqstncd   | hldassetsintermpermcd   | rptlndbldgeqptcd   | rptinvstothsecd   | rptinvstprgrelcd   | rptothasstcd   | rptothliabcd   | sepcnsldtfinstmtcd   | sepindaudfinstmtcd   | inclinfinstmtcd   | operateschools170cd   | frgnofficecd   | frgnrevexpnscd   | frgngrntscd   | frgnaggragrntscd   | rptprofndrsngfeescd   | rptincfnndrsngcd   | rptincgamingcd   | operatehosptlcd   |   hospaudfinstmtcd | rptgrntstogovtcd   | rptgrntstoindvcd   | rptyestocompnstncd   | txexmptbndcd   |   invstproceedscd |   maintescrwaccntcd |   actonbehalfcd |   engageexcessbnftcd |   awarexcessbnftcd | loantofficercd   | grantoofficercd   | dirbusnreltdcd   | fmlybusnreltdcd   | servasofficercd   | recvnoncashcd   | recvartcd   | ceaseoperationscd   | sellorexchcd   | ownsepentcd   | reltdorgcd   | intincntrlcd   |   orgtrnsfrcd | conduct5percentcd   | compltschocd   |   f1096cnt |   fw2gcnt | wthldngrulescd   |   noemplyeesw3cnt | filerqrdrtnscd   | unrelbusinccd   | filedf990tcd   | frgnacctcd   | prohibtdtxshltrcd   | prtynotifyorgcd   |   filedf8886tcd | solicitcntrbcd   |   exprstmntcd |   providegoodscd |   notfydnrvalcd |   filedf8282cd |   f8282cnt |   fndsrcvdcd |   premiumspaidcd |   filedf8899cd |   filedf1098ccd |   excbushldngscd |   s4966distribcd |   distribtodonorcd |   initiationfees |   grsrcptspublicuse |   grsincmembers |   grsincother |   filedlieuf1041cd |   txexmptint |   qualhlthplncd |   qualhlthreqmntn |   qualhlthonhnd | rcvdpdtngcd   |   filedf720cd |   totreprtabled |   totcomprelatede |   totestcompf |   noindiv100kcnt |   nocontractor100kcnt |   totcntrbgfts |   prgmservcode2acd |   totrev2acola |   prgmservcode2bcd |   totrev2bcola |   prgmservcode2ccd |   totrev2ccola |   prgmservcode2dcd |   totrev2dcola |   prgmservcode2ecd |   totrev2ecola |   totrev2fcola |   totprgmrevnue |   invstmntinc |   txexmptbndsproceeds |   royaltsinc |   grsrntsreal |   grsrntsprsnl |   rntlexpnsreal |   rntlexpnsprsnl |   rntlincreal |   rntlincprsnl |   netrntlinc |   grsalesecur |   grsalesothr |   cstbasisecur |   cstbasisothr |   gnlsecur |   gnlsothr |   netgnls |   grsincfndrsng |   lessdirfndrsng |   netincfndrsng |   grsincgaming |   lessdirgaming |   netincgaming |   grsalesinvent |   lesscstofgoods |   netincsales |   miscrev11acd |   miscrevtota |   miscrev11bcd |   miscrevtot11b |   miscrev11ccd |   miscrevtot11c |   miscrevtot11d |   miscrevtot11e |   totrevenue |   grntstogovt |   grnsttoindiv |   grntstofrgngovt |   benifitsmembrs |   compnsatncurrofcr |   compnsatnandothr |   othrsalwages |   pensionplancontrb |   othremplyeebenef |   payrolltx |   feesforsrvcmgmt |   legalfees |   accntingfees |   feesforsrvclobby |   profndraising |   feesforsrvcinvstmgmt |   feesforsrvcothr |   advrtpromo |   officexpns |   infotech |   royaltsexpns |   occupancy |   travel |   travelofpublicoffcl |   converconventmtng |   interestamt |   pymtoaffiliates |   deprcatndepletn |   insurance |   othrexpnsa |   othrexpnsb |   othrexpnsc |   othrexpnsd |   othrexpnse |   othrexpnsf |   totfuncexpns |   nonintcashend |   svngstempinvend |   pldgegrntrcvblend |   accntsrcvblend |   currfrmrcvblend |   rcvbldisqualend |   notesloansrcvblend |   invntriesalesend |   prepaidexpnsend |   lndbldgsequipend |   invstmntsend |   invstmntsothrend |   invstmntsprgmend |   intangibleassetsend |   othrassetsend |   totassetsend |   accntspayableend |   grntspayableend |   deferedrevnuend |   txexmptbndsend |   escrwaccntliabend |   paybletoffcrsend |   secrdmrtgsend |   unsecurednotesend |   othrliabend |   totliabend |   unrstrctnetasstsend |   temprstrctnetasstsend |   permrstrctnetasstsend |   capitalstktrstend |   paidinsurplusend |   retainedearnend |   totnetassetend |   totnetliabastend |   nonpfrea |   totnooforgscnt |   totsupport |   gftgrntsrcvd170 |   txrevnuelevied170 |   srvcsval170 |   pubsuppsubtot170 |   exceeds2pct170 |   pubsupplesspct170 |   samepubsuppsubtot170 |   grsinc170 |   netincunreltd170 |   othrinc170 |   totsupp170 |   grsrcptsrelated170 |   totgftgrntrcvd509 |   grsrcptsadmissn509 |   grsrcptsactivities509 |   txrevnuelevied509 |   srvcsval509 |   pubsuppsubtot509 |   rcvdfrmdisqualsub509 |   exceeds1pct509 |   subtotpub509 |   pubsupplesub509 |   samepubsuppsubtot509 |   grsinc509 |   unreltxincls511tx509 |   subtotsuppinc509 |   netincunrelatd509 |   othrinc509 |   totsupp509 |\n",
       "|:--------|---------:|:--------------------|-----------:|:-------------------|:-----------|:--------------------|------------------:|:---------------|:--------------------|:-----------------|:------------------|:---------------------|:------------------------|:-------------------|:------------------|:-------------------|:---------------|:---------------|:---------------------|:---------------------|:------------------|:----------------------|:---------------|:-----------------|:--------------|:-------------------|:----------------------|:-------------------|:-----------------|:------------------|-------------------:|:-------------------|:-------------------|:---------------------|:---------------|------------------:|--------------------:|----------------:|---------------------:|-------------------:|:-----------------|:------------------|:-----------------|:------------------|:------------------|:----------------|:------------|:--------------------|:---------------|:--------------|:-------------|:---------------|--------------:|:--------------------|:---------------|-----------:|----------:|:-----------------|------------------:|:-----------------|:----------------|:---------------|:-------------|:--------------------|:------------------|----------------:|:-----------------|--------------:|-----------------:|----------------:|---------------:|-----------:|-------------:|-----------------:|---------------:|----------------:|-----------------:|-----------------:|-------------------:|-----------------:|--------------------:|----------------:|--------------:|-------------------:|-------------:|----------------:|------------------:|----------------:|:--------------|--------------:|----------------:|------------------:|--------------:|-----------------:|----------------------:|---------------:|-------------------:|---------------:|-------------------:|---------------:|-------------------:|---------------:|-------------------:|---------------:|-------------------:|---------------:|---------------:|----------------:|--------------:|----------------------:|-------------:|--------------:|---------------:|----------------:|-----------------:|--------------:|---------------:|-------------:|--------------:|--------------:|---------------:|---------------:|-----------:|-----------:|----------:|----------------:|-----------------:|----------------:|---------------:|----------------:|---------------:|----------------:|-----------------:|--------------:|---------------:|--------------:|---------------:|----------------:|---------------:|----------------:|----------------:|----------------:|-------------:|--------------:|---------------:|------------------:|-----------------:|--------------------:|-------------------:|---------------:|--------------------:|-------------------:|------------:|------------------:|------------:|---------------:|-------------------:|----------------:|-----------------------:|------------------:|-------------:|-------------:|-----------:|---------------:|------------:|---------:|----------------------:|--------------------:|--------------:|------------------:|------------------:|------------:|-------------:|-------------:|-------------:|-------------:|-------------:|-------------:|---------------:|----------------:|------------------:|--------------------:|-----------------:|------------------:|------------------:|---------------------:|-------------------:|------------------:|-------------------:|---------------:|-------------------:|-------------------:|----------------------:|----------------:|---------------:|-------------------:|------------------:|------------------:|-----------------:|--------------------:|-------------------:|----------------:|--------------------:|--------------:|-------------:|----------------------:|------------------------:|------------------------:|--------------------:|-------------------:|------------------:|-----------------:|-------------------:|-----------:|-----------------:|-------------:|------------------:|--------------------:|--------------:|-------------------:|-----------------:|--------------------:|-----------------------:|------------:|-------------------:|-------------:|-------------:|---------------------:|--------------------:|---------------------:|------------------------:|--------------------:|--------------:|-------------------:|-----------------------:|-----------------:|---------------:|------------------:|-----------------------:|------------:|-----------------------:|-------------------:|--------------------:|-------------:|-------------:|\n",
       "| P       | 10018922 | 2020-04-01 00:00:00 |         19 | N                  | N          | N                   |               nan | N              | N                   | N                | N                 | N                    | N                       | N                  | N                 | N                  | N              | N              | N                    | Y                    | N                 | N                     | N              | N                | N             | N                  | N                     | N                  | N                | N                 |                nan | N                  | N                  | N                    | N              |               nan |                 nan |             nan |                  nan |                nan | N                | N                 | N                | N                 | N                 | N               | N           | N                   | N              | N             | N            | N              |           nan | N                   | Y              |          3 |         0 | N                |                 1 | Y                | N               | nan            | N            | N                   | N                 |             nan | N                |           nan |              nan |             nan |            nan |          0 |          nan |              nan |            nan |             nan |              nan |              nan |                nan |                0 |                   0 |               0 |             0 |                nan |            0 |             nan |                 0 |               0 | N             |           nan |           40000 |                 0 |             0 |                0 |                     0 |         125780 |                nan |          54362 |                nan |          48087 |                nan |          23211 |                nan |           8294 |                nan |              0 |              0 |          133954 |           725 |                     0 |            0 |             0 |              0 |               0 |                0 |             0 |              0 |            0 |             0 |             0 |              0 |              0 |          0 |          0 |         0 |               0 |                0 |               0 |              0 |               0 |              0 |               0 |                0 |             0 |            nan |             0 |            nan |               0 |            nan |               0 |               0 |               0 |       260459 |             0 |           1100 |                 0 |                0 |               40000 |                  0 |           1800 |                   0 |                  0 |        2624 |                 0 |           0 |           2700 |                  0 |               0 |                      0 |                 0 |            0 |         7097 |          0 |              0 |       12560 |        0 |                     0 |               13719 |             0 |                 0 |                 0 |        4395 |        65485 |        60719 |        44495 |        13703 |         6032 |            0 |         276429 |          179298 |             36656 |                   0 |                0 |                 0 |                 0 |                    0 |                  0 |                 0 |                  0 |              0 |                  0 |                  0 |                     0 |               0 |         215954 |                  0 |                 0 |                 0 |                0 |                   0 |                  0 |               0 |                   0 |             0 |            0 |                215954 |                       0 |                       0 |                   0 |                  0 |                 0 |           215954 |             215954 |        nan |                0 |            0 |                 0 |                   0 |             0 |                  0 |                0 |                   0 |                      0 |           0 |                  0 |            0 |            0 |                    0 |                   0 |                    0 |                       0 |                   0 |             0 |                  0 |                      0 |                0 |              0 |                 0 |                      0 |           0 |                      0 |                  0 |                   0 |            0 |            0 |\n",
       "| E       | 10018922 | 2021-04-01 00:00:00 |         19 | N                  | N          | N                   |               nan | N              | N                   | N                | N                 | N                    | nan                     | N                  | N                 | N                  | N              | N              | N                    | Y                    | N                 | N                     | N              | N                | N             | N                  | N                     | N                  | N                | N                 |                nan | N                  | N                  | N                    | N              |               nan |                 nan |             nan |                  nan |                nan | N                | N                 | N                | N                 | nan               | N               | N           | N                   | N              | N             | N            | N              |           nan | N                   | Y              |          2 |         0 | N                |                 1 | Y                | N               | nan            | N            | N                   | N                 |             nan | N                |           nan |              nan |             nan |            nan |          0 |          nan |              nan |            nan |             nan |              nan |              nan |                nan |                0 |                   0 |               0 |             0 |                nan |            0 |             nan |                 0 |               0 | N             |           nan |           42000 |                 0 |             0 |                0 |                     0 |         122786 |                nan |          20958 |                nan |           9018 |                nan |           2432 |                nan |           1091 |                nan |              0 |              0 |           33499 |           307 |                     0 |            0 |             0 |              0 |               0 |                0 |             0 |              0 |            0 |             0 |             0 |              0 |              0 |          0 |          0 |         0 |               0 |                0 |               0 |              0 |               0 |              0 |               0 |                0 |             0 |            nan |             0 |            nan |               0 |            nan |               0 |               0 |               0 |       156592 |             0 |              0 |                 0 |                0 |               42000 |                  0 |           1100 |                   0 |                  0 |        2878 |                 0 |           0 |           3000 |                  0 |               0 |                      0 |                 0 |            0 |         6200 |          0 |              0 |       12248 |        0 |                     0 |                 904 |             0 |                 0 |                 0 |         989 |        64897 |         6051 |         1657 |          260 |            0 |            0 |         142184 |          193408 |             36954 |                   0 |                0 |                 0 |                 0 |                    0 |                  0 |                 0 |                  0 |              0 |                  0 |                  0 |                     0 |               0 |         230362 |                  0 |                 0 |                 0 |                0 |                   0 |                  0 |               0 |                   0 |             0 |            0 |                230362 |                       0 |                       0 |                   0 |                  0 |                 0 |           230362 |             230362 |        nan |                0 |            0 |                 0 |                   0 |             0 |                  0 |                0 |                   0 |                      0 |           0 |                  0 |            0 |            0 |                    0 |                   0 |                    0 |                       0 |                   0 |             0 |                  0 |                      0 |                0 |              0 |                 0 |                      0 |           0 |                      0 |                  0 |                   0 |            0 |            0 |\n",
       "| E       | 10018922 | 2022-04-01 00:00:00 |         19 | N                  | N          | N                   |               nan | N              | N                   | N                | N                 | N                    | nan                     | N                  | N                 | N                  | N              | N              | N                    | Y                    | N                 | N                     | N              | N                | N             | N                  | N                     | N                  | N                | N                 |                nan | N                  | N                  | N                    | N              |               nan |                 nan |             nan |                  nan |                nan | N                | N                 | N                | N                 | nan               | N               | N           | N                   | N              | N             | N            | N              |           nan | N                   | Y              |          1 |         0 | N                |                 1 | Y                | N               | nan            | N            | N                   | N                 |             nan | N                |           nan |              nan |             nan |            nan |          0 |          nan |              nan |            nan |             nan |              nan |              nan |                nan |                0 |                   0 |               0 |             0 |                nan |            0 |             nan |                 0 |               0 | N             |           nan |           42750 |                 0 |             0 |                0 |                     0 |         122782 |                nan |          43047 |                nan |          11477 |                nan |          10368 |                nan |              1 |                nan |              0 |              0 |           64893 |           194 |                     0 |            0 |             0 |              0 |               0 |                0 |             0 |              0 |            0 |             0 |             0 |              0 |              0 |          0 |          0 |         0 |               0 |                0 |               0 |              0 |               0 |              0 |               0 |                0 |             0 |            nan |             0 |            nan |               0 |            nan |               0 |               0 |               0 |       187869 |             0 |              0 |                 0 |                0 |               42750 |                  0 |           1350 |                   0 |                  0 |        2846 |                 0 |           0 |           3700 |                  0 |               0 |                      0 |                 0 |            0 |         6333 |          0 |              0 |       12552 |        0 |                     0 |                8447 |             0 |                 0 |                 0 |         989 |        63566 |        21942 |        11304 |            0 |            0 |            0 |         175779 |          205313 |             37139 |                   0 |                0 |                 0 |                 0 |                    0 |                  0 |                 0 |                  0 |              0 |                  0 |                  0 |                     0 |               0 |         242452 |                  0 |                 0 |                 0 |                0 |                   0 |                  0 |               0 |                   0 |             0 |            0 |                242452 |                       0 |                       0 |                   0 |                  0 |                 0 |           242452 |             242452 |        nan |                0 |            0 |                 0 |                   0 |             0 |                  0 |                0 |                   0 |                      0 |           0 |                  0 |            0 |            0 |                    0 |                   0 |                    0 |                       0 |                   0 |             0 |                  0 |                      0 |                0 |              0 |                 0 |                      0 |           0 |                      0 |                  0 |                   0 |            0 |            0 |\n",
       "| E       | 10018923 | 2021-05-01 00:00:00 |         19 | N                  | N          | N                   |               nan | N              | N                   | N                | N                 | N                    | nan                     | Y                  | Y                 | N                  | N              | Y              | N                    | N                    | N                 | N                     | N              | N                | N             | N                  | N                     | N                  | Y                | N                 |                nan | N                  | N                  | N                    | N              |               nan |                 nan |             nan |                  nan |                nan | N                | N                 | N                | N                 | nan               | N               | N           | N                   | N              | N             | N            | N              |           nan | N                   | N              |          1 |         0 | N                |                14 | Y                | Y               | Y              | N            | N                   | N                 |             nan | N                |           nan |              nan |             nan |            nan |          0 |          nan |              nan |            nan |             nan |              nan |              nan |                nan |                0 |                   0 |               0 |             0 |                nan |            0 |             nan |                 0 |               0 | N             |           nan |               0 |                 0 |             0 |                0 |                     0 |          15102 |                nan |              0 |                nan |              0 |                nan |              0 |                nan |              0 |                nan |              0 |              0 |               0 |             4 |                     0 |            0 |             0 |              0 |               0 |                0 |             0 |              0 |            0 |             0 |             0 |              0 |              0 |          0 |          0 |         0 |             285 |                0 |             285 |         854292 |          748033 |         106259 |          101638 |            47148 |         54490 |            nan |          4656 |            nan |             371 |            nan |             345 |              41 |            5413 |       181553 |             0 |              0 |                 0 |              592 |                   0 |                  0 |          87593 |                   0 |                  0 |        7617 |                 0 |         675 |           5100 |                  0 |               0 |                      0 |                 0 |          273 |         2343 |          0 |              0 |         790 |        0 |                     0 |                   0 |             0 |              7661 |              9125 |        8376 |        15408 |        15013 |         4195 |         4045 |            0 |        15588 |         184394 |            9149 |             64413 |                   0 |                0 |                 0 |                 0 |                    0 |               3077 |                 0 |              29071 |              0 |              47576 |                  0 |                     0 |            2000 |         155286 |                  0 |                 0 |                 0 |                0 |                   0 |                  0 |               0 |                   0 |         26754 |        26754 |                     0 |                       0 |                       0 |                   0 |                  0 |            128532 |           128532 |             155286 |        nan |                0 |            0 |                 0 |                   0 |             0 |                  0 |                0 |                   0 |                      0 |           0 |                  0 |            0 |            0 |                    0 |                   0 |                    0 |                       0 |                   0 |             0 |                  0 |                      0 |                0 |              0 |                 0 |                      0 |           0 |                      0 |                  0 |                   0 |            0 |            0 |\n",
       "| E       | 10018923 | 2022-05-01 00:00:00 |         19 | N                  | N          | N                   |               nan | N              | N                   | N                | N                 | N                    | nan                     | Y                  | Y                 | N                  | N              | Y              | N                    | N                    | N                 | N                     | N              | N                | N             | N                  | N                     | N                  | Y                | N                 |                nan | N                  | N                  | N                    | N              |               nan |                 nan |             nan |                  nan |                nan | N                | N                 | N                | N                 | nan               | N               | N           | N                   | N              | N             | N            | N              |           nan | N                   | N              |          0 |         0 | N                |                13 | Y                | Y               | Y              | N            | N                   | N                 |             nan | N                |           nan |              nan |             nan |            nan |          0 |          nan |              nan |            nan |             nan |              nan |              nan |                nan |                0 |                   0 |               0 |             0 |                nan |            0 |             nan |                 0 |               0 | N             |           nan |               0 |                 0 |             0 |                0 |                     0 |          27640 |                nan |              0 |                nan |              0 |                nan |              0 |                nan |              0 |                nan |              0 |              0 |               0 |             5 |                     0 |            0 |             0 |              0 |               0 |                0 |             0 |              0 |            0 |             0 |             0 |              0 |              0 |          0 |          0 |         0 |            5981 |                0 |            5981 |         932945 |          804952 |         127993 |          144587 |            69923 |         74664 |            nan |         24100 |            nan |               3 |            nan |               0 |               0 |           24103 |       260386 |             0 |              0 |                 0 |                0 |                   0 |                  0 |         102765 |                   0 |                  0 |        8936 |                 0 |           0 |           5525 |                  0 |               0 |                      0 |                 0 |          502 |         4238 |          0 |              0 |       10258 |        0 |                     0 |                   0 |             0 |              7623 |              7568 |        6707 |        22195 |         9544 |         4620 |         3844 |            0 |        20953 |         215278 |            8645 |             95227 |                   0 |                0 |                 0 |                 0 |                    0 |               3077 |                 0 |              27982 |              0 |              49581 |                  0 |                     0 |               0 |         184512 |                  0 |                 0 |                 0 |                0 |                   0 |                  0 |               0 |                   0 |          3835 |         3835 |                     0 |                       0 |                       0 |                   0 |                  0 |            180677 |           180677 |             184512 |        nan |                0 |            0 |                 0 |                   0 |             0 |                  0 |                0 |                   0 |                      0 |           0 |                  0 |            0 |            0 |                    0 |                   0 |                    0 |                       0 |                   0 |             0 |                  0 |                      0 |                0 |              0 |                 0 |                      0 |           0 |                      0 |                  0 |                   0 |            0 |            0 |"
      ],
      "text/plain": [
       "<IPython.core.display.Markdown object>"
      ]
     },
     "metadata": {},
     "output_type": "display_data"
    }
   ],
   "source": [
    "# Standardize column names.\n",
    "form_990_2022.columns = [x.lower() for x in form_990_2022.columns]\n",
    "\n",
    "# Replace zeros with NaN for appropriate columns.\n",
    "\n",
    "# Replace NaN with appropriate values accordingly.\n",
    "\n",
    "# Convert columns to appropriate data types.\n",
    "date_cols = ['tax_pd']\n",
    "for col in date_cols:\n",
    "    form_990_2022[col] = form_990_2022[col].astype(str).str.replace('\\.0$', '', regex=True)\n",
    "    form_990_2022[col] = pd.to_datetime(form_990_2022[col], format='%Y%m', errors='coerce')\n",
    "\n",
    "# Drop duplicates by keeping last tax_pd date.\n",
    "form_990_2022 = form_990_2022.sort_values('tax_pd').drop_duplicates('ein',keep='last') \n",
    "\n",
    "# Convert dtype for appropriate columns.\n",
    "form_990_2022['ein'] = form_990_2022['ein'].astype(str).str.replace('\\.0$', '', regex=True)\n",
    "\n",
    "# Show cleaned data.\n",
    "head_caption = \"Cleaned data sample view:\"\n",
    "head_df = form_990_2022.head().copy()\n",
    "head_markdown = head_caption + \"\\n\\n\" + head_df.to_markdown(index=False)\n",
    "display(Markdown(head_markdown))"
   ]
  },
  {
   "cell_type": "markdown",
   "metadata": {},
   "source": [
    "# 3. Analysis\n",
    "Objective: Determine if the 990 Form can be used to conduct a comprehensive analysis of existing philanthropic giving in environmental and social justice. Additionally, can it be used to assess the level of transparency and accountability in current giving practices?\n"
   ]
  },
  {
   "cell_type": "markdown",
   "metadata": {},
   "source": [
    "## 3.1. Indentifying Relevant Organizations\n",
    "The 990 Form can be filtered to reflect organizations by their codes (reflecting their primary mission), enabling the identification of nonprofits focused on environmental protection, social justice, advocacy, and related activities. This step is crucial for creating a focused dataset of relevant organizations for our objective above.\n",
    "\n",
    "Assuming that the action item (below) has been completed, the next order of data maniputlation should involve filtering the 990 Form in the same manner as the Exempt Organizations Business Master File was filtered for consistency. \n",
    "\n",
    "**Action item**: Review with team to determine which column makes the most sense to use to filter relevant orgs. Options include:\n",
    "* Subection and Classification codes.\n",
    "* National Taxonomy of Exempt Entities (NTEE) codes (many are missing unfortunately).\n",
    "* Foundation codes.\n",
    "* Activity codes (most likely not useful since becoming obsolete with the adoption of the NTEE coding system in January 1995)."
   ]
  },
  {
   "cell_type": "code",
   "execution_count": 12,
   "metadata": {},
   "outputs": [],
   "source": [
    "# Insert code here for appropriate filtering if necessary."
   ]
  },
  {
   "cell_type": "markdown",
   "metadata": {},
   "source": [
    "## 3.2 Philanthropic Giving Analysis\n",
    "\n",
    "Below are general topics that may be extracted from the data from a variety of fields to further our understanding of philanthropic giving. \n",
    "\n",
    "* Grants to Organizations & Individuals (US and outside the US): Determine the extent of philanthropic giving, both domestically and internationally.\n",
    "* Program Service Revenue: Analyze how much revenue is related to the mission and can be reinvested into philanthropic efforts.\n",
    "* Fundraising Expenses: Evaluate the cost-effectiveness of fundraising activities.\n",
    "* Investment Income: Understand how investments contribute to funding philanthropic activities.\n",
    "* Donor Advised Funds: Investigate the use of these funds which may be earmarked for future charitable giving."
   ]
  },
  {
   "cell_type": "markdown",
   "metadata": {},
   "source": [
    "### 3.2.1 Grants to Organizations & Individuals (US and outside of US)\n",
    "\n",
    "Related data fields and their descriptions:\n",
    "\n",
    "* grntstogovt:\tNumber of grants to governments/orgs in the US\n",
    "* grnsttoindiv:\tNumber of grants to individuals in the US\n",
    "* rptgrntstoindvcd:\tGrants to individuals? Yes or No\n",
    "* rptgrntstogovtcd:\tGrants to organizations? Yes or No\n",
    "* grntstofrgngovt:\tNumber of grants to orgs and individuals outside the US\n",
    "\n",
    "**Action Item:** Confirm if TUP wants to start with US or both US and outside."
   ]
  },
  {
   "cell_type": "code",
   "execution_count": 30,
   "metadata": {},
   "outputs": [
    {
     "data": {
      "text/markdown": [
       "Ex. of Grant Data to Organizations & Individuals Columns:\n",
       "\n",
       "|       ein |   grntstogovt |   grnsttoindiv | rptgrntstoindvcd   | rptgrntstogovtcd   |   grntstofrgngovt |\n",
       "|----------:|--------------:|---------------:|:-------------------|:-------------------|------------------:|\n",
       "| 426057254 |             0 |              0 | N                  | N                  |                 0 |\n",
       "|  60891737 |             0 |              0 | N                  | N                  |                 0 |\n",
       "| 660550623 |             0 |              0 | N                  | N                  |                 0 |\n",
       "| 464039105 |             0 |              0 | N                  | N                  |                 0 |\n",
       "| 161696098 |             0 |              0 | N                  | N                  |                 0 |"
      ],
      "text/plain": [
       "<IPython.core.display.Markdown object>"
      ]
     },
     "metadata": {},
     "output_type": "display_data"
    }
   ],
   "source": [
    "# Show data sample.\n",
    "head_caption = \"Ex. of Grant Data to Organizations & Individuals Columns:\"\n",
    "head_df = form_990_2022[['ein','grntstogovt','grnsttoindiv','rptgrntstoindvcd','rptgrntstogovtcd','grntstofrgngovt']].head().copy()\n",
    "head_markdown = head_caption + \"\\n\\n\" + head_df.to_markdown(index=False)\n",
    "display(Markdown(head_markdown))"
   ]
  },
  {
   "cell_type": "markdown",
   "metadata": {},
   "source": [
    "### 3.2.2 Program Service Revenue\n",
    "\n",
    "* rptinvstprgrelcd:\tProgram related investments reported?\n",
    "* totprgmrevnue:\tProgram service revenue\n",
    "* totrev2acola:\tProgram service revenue amount 2a\n",
    "* totrev2bcola:\tProgram service revenue amount 2b\n",
    "* totrev2ccola:\tProgram service revenue amount 2c\n",
    "* totrev2dcola:\tProgram service revenue amount 2d\n",
    "* totrev2ecola:\tProgram service revenue amount 2e\n",
    "* totrev2fcola:\tProgram service revenue amount 2f\n",
    "* prgmservcode2acd:\tProgram service revenue code 2a\n",
    "* prgmservcode2bcd:\tProgram service revenue code 2b\n",
    "* prgmservcode2ccd:\tProgram service revenue code 2c\n",
    "* prgmservcode2dcd:\tProgram service revenue code 2d\n",
    "* prgmservcode2ecd:\tProgram service revenue code 2e\n",
    "* invstmntsprgmend:\tProgram-related investments -- eoy\n",
    "\n",
    "**Action Item:** Confirm with team which columns make the most sense to prioritize.\n",
    "\n",
    "**Action Item:** Find documentation to explain codes."
   ]
  },
  {
   "cell_type": "code",
   "execution_count": 32,
   "metadata": {},
   "outputs": [
    {
     "data": {
      "text/markdown": [
       "Ex. of Program Service Revenue Amount Columns:\n",
       "\n",
       "|       ein | rptinvstprgrelcd   |   totprgmrevnue |   totrev2acola |   totrev2bcola |   totrev2ccola |   totrev2dcola |   totrev2ecola |   totrev2fcola |\n",
       "|----------:|:-------------------|----------------:|---------------:|---------------:|---------------:|---------------:|---------------:|---------------:|\n",
       "| 426057254 | N                  |          141124 |         141124 |              0 |              0 |              0 |              0 |              0 |\n",
       "|  60891737 | N                  |          296865 |         296865 |              0 |              0 |              0 |              0 |              0 |\n",
       "| 660550623 | N                  |               0 |              0 |              0 |              0 |              0 |              0 |              0 |\n",
       "| 464039105 | N                  |           99738 |          99738 |              0 |              0 |              0 |              0 |              0 |\n",
       "| 161696098 | N                  |               0 |              0 |              0 |              0 |              0 |              0 |              0 |"
      ],
      "text/plain": [
       "<IPython.core.display.Markdown object>"
      ]
     },
     "metadata": {},
     "output_type": "display_data"
    },
    {
     "data": {
      "text/markdown": [
       "Ex. of Program Service Revenue Code Columns:\n",
       "\n",
       "|       ein |   prgmservcode2acd |   prgmservcode2bcd |   prgmservcode2ccd |   prgmservcode2dcd |   prgmservcode2ecd |\n",
       "|----------:|-------------------:|-------------------:|-------------------:|-------------------:|-------------------:|\n",
       "| 426057254 |                nan |                nan |                nan |                nan |                nan |\n",
       "|  60891737 |                nan |                nan |                nan |                nan |                nan |\n",
       "| 660550623 |                nan |                nan |                nan |                nan |                nan |\n",
       "| 464039105 |             616000 |                nan |                nan |                nan |                nan |\n",
       "| 161696098 |             900099 |                nan |                nan |                nan |                nan |"
      ],
      "text/plain": [
       "<IPython.core.display.Markdown object>"
      ]
     },
     "metadata": {},
     "output_type": "display_data"
    }
   ],
   "source": [
    "# Show data sample.\n",
    "head_caption = \"Ex. of Program Service Revenue Amount Columns:\"\n",
    "head_df = form_990_2022[['ein','rptinvstprgrelcd','totprgmrevnue','totrev2acola','totrev2bcola','totrev2ccola','totrev2dcola','totrev2ecola','totrev2fcola']].head().copy()\n",
    "head_markdown = head_caption + \"\\n\\n\" + head_df.to_markdown(index=False)\n",
    "display(Markdown(head_markdown))\n",
    "\n",
    "head_caption = \"Ex. of Program Service Revenue Code Columns:\"\n",
    "head_df = form_990_2022[['ein','prgmservcode2acd','prgmservcode2bcd','prgmservcode2ccd','prgmservcode2dcd','prgmservcode2ecd']].head().copy()\n",
    "head_markdown = head_caption + \"\\n\\n\" + head_df.to_markdown(index=False)\n",
    "display(Markdown(head_markdown))"
   ]
  },
  {
   "cell_type": "markdown",
   "metadata": {},
   "source": [
    "### 3.2.3 Fundraising Expenses\n",
    "\n",
    "* rptincfnndrsngcd:\tFundraising activities?\n",
    "* lessdirfndrsng:\tFundraising expenses\n",
    "* netincfndrsng:\tFundraising income\n",
    "\n",
    "**Action Item:** Confirm with team which columns make the most sense to prioritize."
   ]
  },
  {
   "cell_type": "code",
   "execution_count": 34,
   "metadata": {},
   "outputs": [
    {
     "data": {
      "text/markdown": [
       "Ex. of Fundraising Columns:\n",
       "\n",
       "|       ein | rptincfnndrsngcd   |   lessdirfndrsng |   netincfndrsng |\n",
       "|----------:|:-------------------|-----------------:|----------------:|\n",
       "| 426057254 | N                  |                0 |               0 |\n",
       "|  60891737 | N                  |                0 |               0 |\n",
       "| 660550623 | N                  |                0 |               0 |\n",
       "| 464039105 | N                  |                0 |               0 |\n",
       "| 161696098 | N                  |                0 |               0 |"
      ],
      "text/plain": [
       "<IPython.core.display.Markdown object>"
      ]
     },
     "metadata": {},
     "output_type": "display_data"
    }
   ],
   "source": [
    "# Show data sample.\n",
    "head_caption = \"Ex. of Fundraising Columns:\"\n",
    "head_df = form_990_2022[['ein','rptincfnndrsngcd','lessdirfndrsng','netincfndrsng']].head().copy()\n",
    "head_markdown = head_caption + \"\\n\\n\" + head_df.to_markdown(index=False)\n",
    "display(Markdown(head_markdown))"
   ]
  },
  {
   "cell_type": "markdown",
   "metadata": {},
   "source": [
    "### 3.2.4 Investment Income\n",
    "\n",
    "* invstmntinc:\tInvestment income\n",
    "* invstproceedscd:\tInvestment income?"
   ]
  },
  {
   "cell_type": "code",
   "execution_count": 35,
   "metadata": {},
   "outputs": [
    {
     "data": {
      "text/markdown": [
       "Ex. of Investment Income Columns:\n",
       "\n",
       "|       ein |   invstmntinc | invstproceedscd   |\n",
       "|----------:|--------------:|:------------------|\n",
       "| 426057254 |             0 | nan               |\n",
       "|  60891737 |           231 | N                 |\n",
       "| 660550623 |             0 | nan               |\n",
       "| 464039105 |             0 | nan               |\n",
       "| 161696098 |             0 | nan               |"
      ],
      "text/plain": [
       "<IPython.core.display.Markdown object>"
      ]
     },
     "metadata": {},
     "output_type": "display_data"
    }
   ],
   "source": [
    "# Show data sample.\n",
    "head_caption = \"Ex. of Investment Income Columns:\"\n",
    "head_df = form_990_2022[['ein','invstmntinc','invstproceedscd']].head().copy()\n",
    "head_markdown = head_caption + \"\\n\\n\" + head_df.to_markdown(index=False)\n",
    "display(Markdown(head_markdown))"
   ]
  },
  {
   "cell_type": "markdown",
   "metadata": {},
   "source": [
    "### 3.2.5 Donor Advised Funds\n",
    "\n",
    "* dnradvisedfundscd:\tDonor advised funds?"
   ]
  },
  {
   "cell_type": "code",
   "execution_count": 36,
   "metadata": {},
   "outputs": [
    {
     "data": {
      "text/markdown": [
       "Ex. of Donor Advised Funds Columns:\n",
       "\n",
       "|       ein | dnradvisedfundscd   |\n",
       "|----------:|:--------------------|\n",
       "| 426057254 | N                   |\n",
       "|  60891737 | N                   |\n",
       "| 660550623 | N                   |\n",
       "| 464039105 | N                   |\n",
       "| 161696098 | N                   |"
      ],
      "text/plain": [
       "<IPython.core.display.Markdown object>"
      ]
     },
     "metadata": {},
     "output_type": "display_data"
    }
   ],
   "source": [
    "# Show data sample.\n",
    "head_caption = \"Ex. of Donor Advised Funds Columns:\"\n",
    "head_df = form_990_2022[['ein','dnradvisedfundscd']].head().copy()\n",
    "head_markdown = head_caption + \"\\n\\n\" + head_df.to_markdown(index=False)\n",
    "display(Markdown(head_markdown))"
   ]
  },
  {
   "cell_type": "markdown",
   "metadata": {},
   "source": [
    "## 3.3 Transparency & Accountability Analysis\n",
    "\n",
    "Below are general topics that may be extracted from the data from a variety of fields to further our understanding of transparency and accountability in philanthropic giving. \n",
    "\n",
    "* E-file Indicator: Check whether the organization files electronically, which may be a transparency indicator (Electronic filings are generally more accessible to the public).\n",
    "* Described in 501(c)(3)?: Confirm the organization's tax-exempt status ( 501(c)(3) are subject to public inspection, charitable/religious/educational etc. purposes only, must fill out Form 990 variants providing more transparency assurance).\n",
    "* Schedule B required?: Indicates whether the organization must report on its donors, affecting the transparency of funding sources.\n",
    "* Political Activities & Lobbying Activities: Understand involvement in activities that may require additional disclosure and could influence organizational focus.\n",
    "* Audited Financial Statement Included: Assesses the level of financial review and oversight.\n",
    "* Tax Period: The latest fiscal information provides current status and compliance with IRS filing (also provided in EO BMF)."
   ]
  }
 ],
 "metadata": {
  "kernelspec": {
   "display_name": "t_up",
   "language": "python",
   "name": "python3"
  },
  "language_info": {
   "codemirror_mode": {
    "name": "ipython",
    "version": 3
   },
   "file_extension": ".py",
   "mimetype": "text/x-python",
   "name": "python",
   "nbconvert_exporter": "python",
   "pygments_lexer": "ipython3",
   "version": "3.9.18"
  }
 },
 "nbformat": 4,
 "nbformat_minor": 2
}
