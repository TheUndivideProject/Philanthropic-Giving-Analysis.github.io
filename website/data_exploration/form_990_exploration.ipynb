{
 "cells": [
  {
   "cell_type": "raw",
   "metadata": {},
   "source": [
    "---\n",
    "title: \"2022 Form 990 Data Report\"\n",
    "author: \"Amelia Baier\"\n",
    "date: \"2024-03-22\"\n",
    "format: \n",
    "  html:\n",
    "    toc: true\n",
    "    toc-depth: 3\n",
    "    toc-title: \"Table of Contents\"\n",
    "    embed-resources: true\n",
    "    warnings: false\n",
    "    code-fold: true\n",
    "execute:\n",
    "  echo: true\n",
    "---"
   ]
  },
  {
   "cell_type": "markdown",
   "metadata": {},
   "source": [
    "# 1. Introduction\n",
    "\n",
    "This document aims to perform an initial exploration of the features and values within the Form 990 to identify relevant variables for a detailed analysis of philanthropic giving within the environmental and social justice sectors. Additionally, we intend to assess the level of transparency and accountability of various organizations, leveraging the data provided by the form 990 to inform our inquiry.\n",
    "\n",
    "Form 990 is a tax form that the United States Internal Revenue Service (IRS) requires tax-exempt organizations to file annually. The form provides the IRS and the public with financial information about the nonprofit organization, and it is used to assess the organization's compliance with tax laws. There are different types of this form. Form 990 is the standard form for organizations with gross receipts of over $200,000 or total assets over $500,000. Form 990ez is a shorter version of the form for organizations with gross receipts less than $200,000 and total assets less than $500,000 Futher information can be found on IRS.gov - https://www.irs.gov/statistics/soi-tax-stats-annual-extract-of-tax-exempt-organization-financial-data\n"
   ]
  },
  {
   "cell_type": "markdown",
   "metadata": {},
   "source": [
    "# 2. First Glance"
   ]
  },
  {
   "cell_type": "markdown",
   "metadata": {},
   "source": [
    "## 2.1. General Summary"
   ]
  },
  {
   "cell_type": "code",
   "execution_count": 1,
   "metadata": {},
   "outputs": [
    {
     "data": {
      "text/markdown": [
       "Data Dimensions:\n",
       "\n",
       "| Dimension   | Count   |\n",
       "|:------------|:--------|\n",
       "| Rows        | 326,123 |\n",
       "| Columns     | 246     |"
      ],
      "text/plain": [
       "<IPython.core.display.Markdown object>"
      ]
     },
     "metadata": {},
     "output_type": "display_data"
    },
    {
     "data": {
      "text/markdown": [
       "First Five Rows of Data:\n",
       "\n",
       "| efile   |         EIN |   tax_pd |   subseccd | s501c3or4947a1cd   | schdbind   | politicalactvtscd   |   lbbyingactvtscd | subjto6033cd   | dnradvisedfundscd   | prptyintrcvdcd   | maintwrkofartcd   | crcounselingqstncd   | hldassetsintermpermcd   | rptlndbldgeqptcd   | rptinvstothsecd   | rptinvstprgrelcd   | rptothasstcd   | rptothliabcd   | sepcnsldtfinstmtcd   | sepindaudfinstmtcd   | inclinfinstmtcd   | operateschools170cd   | frgnofficecd   | frgnrevexpnscd   | frgngrntscd   | frgnaggragrntscd   | rptprofndrsngfeescd   | rptincfnndrsngcd   | rptincgamingcd   | operatehosptlcd   |   hospaudfinstmtcd | rptgrntstogovtcd   | rptgrntstoindvcd   | rptyestocompnstncd   | txexmptbndcd   |   invstproceedscd |   maintescrwaccntcd |   actonbehalfcd |   engageexcessbnftcd |   awarexcessbnftcd | loantofficercd   | grantoofficercd   | dirbusnreltdcd   | fmlybusnreltdcd   | servasofficercd   | recvnoncashcd   | recvartcd   | ceaseoperationscd   | sellorexchcd   | ownsepentcd   | reltdorgcd   | intincntrlcd   |   orgtrnsfrcd | conduct5percentcd   | compltschocd   |   f1096cnt |   fw2gcnt | wthldngrulescd   |   noemplyeesw3cnt | filerqrdrtnscd   | unrelbusinccd   | filedf990tcd   | frgnacctcd   | prohibtdtxshltrcd   | prtynotifyorgcd   |   filedf8886tcd | solicitcntrbcd   |   exprstmntcd |   providegoodscd |   notfydnrvalcd |   filedf8282cd |   f8282cnt |   fndsrcvdcd |   premiumspaidcd |   filedf8899cd |   filedf1098ccd |   excbushldngscd |   s4966distribcd |   distribtodonorcd |   initiationfees |   grsrcptspublicuse |   grsincmembers |   grsincother |   filedlieuf1041cd |   txexmptint |   qualhlthplncd |   qualhlthreqmntn |   qualhlthonhnd | rcvdpdtngcd   |   filedf720cd |   totreprtabled |   totcomprelatede |   totestcompf |   noindiv100kcnt |   nocontractor100kcnt |   totcntrbgfts |   prgmservcode2acd |   totrev2acola |   prgmservcode2bcd |   totrev2bcola |   prgmservcode2ccd |   totrev2ccola |   prgmservcode2dcd |   totrev2dcola |   prgmservcode2ecd |   totrev2ecola |   totrev2fcola |   totprgmrevnue |   invstmntinc |   txexmptbndsproceeds |   royaltsinc |   grsrntsreal |   grsrntsprsnl |   rntlexpnsreal |   rntlexpnsprsnl |   rntlincreal |   rntlincprsnl |   netrntlinc |   grsalesecur |   grsalesothr |   cstbasisecur |   cstbasisothr |   gnlsecur |   gnlsothr |   netgnls |   grsincfndrsng |   lessdirfndrsng |   netincfndrsng |   grsincgaming |   lessdirgaming |   netincgaming |   grsalesinvent |   lesscstofgoods |   netincsales |   miscrev11acd |   miscrevtota |   miscrev11bcd |   miscrevtot11b |   miscrev11ccd |   miscrevtot11c |   miscrevtot11d |   miscrevtot11e |   totrevenue |   grntstogovt |   grnsttoindiv |   grntstofrgngovt |   benifitsmembrs |   compnsatncurrofcr |   compnsatnandothr |   othrsalwages |   pensionplancontrb |   othremplyeebenef |   payrolltx |   feesforsrvcmgmt |   legalfees |   accntingfees |   feesforsrvclobby |   profndraising |   feesforsrvcinvstmgmt |   feesforsrvcothr |   advrtpromo |   officexpns |   infotech |   royaltsexpns |   occupancy |   travel |   travelofpublicoffcl |   converconventmtng |   interestamt |   pymtoaffiliates |   deprcatndepletn |   insurance |   othrexpnsa |   othrexpnsb |   othrexpnsc |   othrexpnsd |   othrexpnse |   othrexpnsf |   totfuncexpns |   nonintcashend |   svngstempinvend |   pldgegrntrcvblend |   accntsrcvblend |   currfrmrcvblend |   rcvbldisqualend |   notesloansrcvblend |   invntriesalesend |   prepaidexpnsend |   lndbldgsequipend |   invstmntsend |   invstmntsothrend |   invstmntsprgmend |   intangibleassetsend |   othrassetsend |   totassetsend |   accntspayableend |   grntspayableend |   deferedrevnuend |   txexmptbndsend |   escrwaccntliabend |   paybletoffcrsend |   secrdmrtgsend |   unsecurednotesend |   othrliabend |   totliabend |   unrstrctnetasstsend |   temprstrctnetasstsend |   permrstrctnetasstsend |   capitalstktrstend |   paidinsurplusend |   retainedearnend |   totnetassetend |   totnetliabastend |   nonpfrea |   totnooforgscnt |   totsupport |   gftgrntsrcvd170 |   txrevnuelevied170 |   srvcsval170 |   pubsuppsubtot170 |   exceeds2pct170 |   pubsupplesspct170 |   samepubsuppsubtot170 |   grsinc170 |   netincunreltd170 |   othrinc170 |   totsupp170 |   grsrcptsrelated170 |   totgftgrntrcvd509 |   grsrcptsadmissn509 |   grsrcptsactivities509 |   txrevnuelevied509 |   srvcsval509 |   pubsuppsubtot509 |   rcvdfrmdisqualsub509 |   exceeds1pct509 |   subtotpub509 |   pubsupplesub509 |   samepubsuppsubtot509 |   grsinc509 |   unreltxincls511tx509 |   subtotsuppinc509 |   netincunrelatd509 |   othrinc509 |   totsupp509 |\n",
       "|:--------|------------:|---------:|-----------:|:-------------------|:-----------|:--------------------|------------------:|:---------------|:--------------------|:-----------------|:------------------|:---------------------|:------------------------|:-------------------|:------------------|:-------------------|:---------------|:---------------|:---------------------|:---------------------|:------------------|:----------------------|:---------------|:-----------------|:--------------|:-------------------|:----------------------|:-------------------|:-----------------|:------------------|-------------------:|:-------------------|:-------------------|:---------------------|:---------------|------------------:|--------------------:|----------------:|---------------------:|-------------------:|:-----------------|:------------------|:-----------------|:------------------|:------------------|:----------------|:------------|:--------------------|:---------------|:--------------|:-------------|:---------------|--------------:|:--------------------|:---------------|-----------:|----------:|:-----------------|------------------:|:-----------------|:----------------|:---------------|:-------------|:--------------------|:------------------|----------------:|:-----------------|--------------:|-----------------:|----------------:|---------------:|-----------:|-------------:|-----------------:|---------------:|----------------:|-----------------:|-----------------:|-------------------:|-----------------:|--------------------:|----------------:|--------------:|-------------------:|-------------:|----------------:|------------------:|----------------:|:--------------|--------------:|----------------:|------------------:|--------------:|-----------------:|----------------------:|---------------:|-------------------:|---------------:|-------------------:|---------------:|-------------------:|---------------:|-------------------:|---------------:|-------------------:|---------------:|---------------:|----------------:|--------------:|----------------------:|-------------:|--------------:|---------------:|----------------:|-----------------:|--------------:|---------------:|-------------:|--------------:|--------------:|---------------:|---------------:|-----------:|-----------:|----------:|----------------:|-----------------:|----------------:|---------------:|----------------:|---------------:|----------------:|-----------------:|--------------:|---------------:|--------------:|---------------:|----------------:|---------------:|----------------:|----------------:|----------------:|-------------:|--------------:|---------------:|------------------:|-----------------:|--------------------:|-------------------:|---------------:|--------------------:|-------------------:|------------:|------------------:|------------:|---------------:|-------------------:|----------------:|-----------------------:|------------------:|-------------:|-------------:|-----------:|---------------:|------------:|---------:|----------------------:|--------------------:|--------------:|------------------:|------------------:|------------:|-------------:|-------------:|-------------:|-------------:|-------------:|-------------:|---------------:|----------------:|------------------:|--------------------:|-----------------:|------------------:|------------------:|---------------------:|-------------------:|------------------:|-------------------:|---------------:|-------------------:|-------------------:|----------------------:|----------------:|---------------:|-------------------:|------------------:|------------------:|-----------------:|--------------------:|-------------------:|----------------:|--------------------:|--------------:|-------------:|----------------------:|------------------------:|------------------------:|--------------------:|-------------------:|------------------:|-----------------:|-------------------:|-----------:|-----------------:|-------------:|------------------:|--------------------:|--------------:|-------------------:|-----------------:|--------------------:|-----------------------:|------------:|-------------------:|-------------:|-------------:|---------------------:|--------------------:|---------------------:|------------------------:|--------------------:|--------------:|-------------------:|-----------------------:|-----------------:|---------------:|------------------:|-----------------------:|------------:|-----------------------:|-------------------:|--------------------:|-------------:|-------------:|\n",
       "| P       | 1.00189e+07 |   202004 |         19 | N                  | N          | N                   |               nan | N              | N                   | N                | N                 | N                    | N                       | N                  | N                 | N                  | N              | N              | N                    | Y                    | N                 | N                     | N              | N                | N             | N                  | N                     | N                  | N                | N                 |                nan | N                  | N                  | N                    | N              |               nan |                 nan |             nan |                  nan |                nan | N                | N                 | N                | N                 | N                 | N               | N           | N                   | N              | N             | N            | N              |           nan | N                   | Y              |          3 |         0 | N                |                 1 | Y                | N               | nan            | N            | N                   | N                 |             nan | N                |           nan |              nan |             nan |            nan |          0 |          nan |              nan |            nan |             nan |              nan |              nan |                nan |                0 |                   0 |               0 |             0 |                nan |            0 |             nan |                 0 |               0 | N             |           nan |           40000 |                 0 |             0 |                0 |                     0 |         125780 |                nan |          54362 |                nan |          48087 |                nan |          23211 |                nan |           8294 |                nan |              0 |              0 |          133954 |           725 |                     0 |            0 |             0 |              0 |               0 |                0 |             0 |              0 |            0 |             0 |             0 |              0 |              0 |          0 |          0 |         0 |               0 |                0 |               0 |              0 |               0 |              0 |               0 |                0 |             0 |            nan |             0 |            nan |               0 |            nan |               0 |               0 |               0 |       260459 |             0 |           1100 |                 0 |                0 |               40000 |                  0 |           1800 |                   0 |                  0 |        2624 |                 0 |           0 |           2700 |                  0 |               0 |                      0 |                 0 |            0 |         7097 |          0 |              0 |       12560 |        0 |                     0 |               13719 |             0 |                 0 |                 0 |        4395 |        65485 |        60719 |        44495 |        13703 |         6032 |            0 |         276429 |          179298 |             36656 |                   0 |                0 |                 0 |                 0 |                    0 |                  0 |                 0 |                  0 |              0 |                  0 |                  0 |                     0 |               0 |         215954 |                  0 |                 0 |                 0 |                0 |                   0 |                  0 |               0 |                   0 |             0 |            0 |                215954 |                       0 |                       0 |                   0 |                  0 |                 0 |           215954 |             215954 |        nan |                0 |            0 |                 0 |                   0 |             0 |                  0 |                0 |                   0 |                      0 |           0 |                  0 |            0 |            0 |                    0 |                   0 |                    0 |                       0 |                   0 |             0 |                  0 |                      0 |                0 |              0 |                 0 |                      0 |           0 |                      0 |                  0 |                   0 |            0 |            0 |\n",
       "| E       | 1.00189e+07 |   202104 |         19 | N                  | N          | N                   |               nan | N              | N                   | N                | N                 | N                    | nan                     | N                  | N                 | N                  | N              | N              | N                    | Y                    | N                 | N                     | N              | N                | N             | N                  | N                     | N                  | N                | N                 |                nan | N                  | N                  | N                    | N              |               nan |                 nan |             nan |                  nan |                nan | N                | N                 | N                | N                 | nan               | N               | N           | N                   | N              | N             | N            | N              |           nan | N                   | Y              |          2 |         0 | N                |                 1 | Y                | N               | nan            | N            | N                   | N                 |             nan | N                |           nan |              nan |             nan |            nan |          0 |          nan |              nan |            nan |             nan |              nan |              nan |                nan |                0 |                   0 |               0 |             0 |                nan |            0 |             nan |                 0 |               0 | N             |           nan |           42000 |                 0 |             0 |                0 |                     0 |         122786 |                nan |          20958 |                nan |           9018 |                nan |           2432 |                nan |           1091 |                nan |              0 |              0 |           33499 |           307 |                     0 |            0 |             0 |              0 |               0 |                0 |             0 |              0 |            0 |             0 |             0 |              0 |              0 |          0 |          0 |         0 |               0 |                0 |               0 |              0 |               0 |              0 |               0 |                0 |             0 |            nan |             0 |            nan |               0 |            nan |               0 |               0 |               0 |       156592 |             0 |              0 |                 0 |                0 |               42000 |                  0 |           1100 |                   0 |                  0 |        2878 |                 0 |           0 |           3000 |                  0 |               0 |                      0 |                 0 |            0 |         6200 |          0 |              0 |       12248 |        0 |                     0 |                 904 |             0 |                 0 |                 0 |         989 |        64897 |         6051 |         1657 |          260 |            0 |            0 |         142184 |          193408 |             36954 |                   0 |                0 |                 0 |                 0 |                    0 |                  0 |                 0 |                  0 |              0 |                  0 |                  0 |                     0 |               0 |         230362 |                  0 |                 0 |                 0 |                0 |                   0 |                  0 |               0 |                   0 |             0 |            0 |                230362 |                       0 |                       0 |                   0 |                  0 |                 0 |           230362 |             230362 |        nan |                0 |            0 |                 0 |                   0 |             0 |                  0 |                0 |                   0 |                      0 |           0 |                  0 |            0 |            0 |                    0 |                   0 |                    0 |                       0 |                   0 |             0 |                  0 |                      0 |                0 |              0 |                 0 |                      0 |           0 |                      0 |                  0 |                   0 |            0 |            0 |\n",
       "| E       | 1.00189e+07 |   202204 |         19 | N                  | N          | N                   |               nan | N              | N                   | N                | N                 | N                    | nan                     | N                  | N                 | N                  | N              | N              | N                    | Y                    | N                 | N                     | N              | N                | N             | N                  | N                     | N                  | N                | N                 |                nan | N                  | N                  | N                    | N              |               nan |                 nan |             nan |                  nan |                nan | N                | N                 | N                | N                 | nan               | N               | N           | N                   | N              | N             | N            | N              |           nan | N                   | Y              |          1 |         0 | N                |                 1 | Y                | N               | nan            | N            | N                   | N                 |             nan | N                |           nan |              nan |             nan |            nan |          0 |          nan |              nan |            nan |             nan |              nan |              nan |                nan |                0 |                   0 |               0 |             0 |                nan |            0 |             nan |                 0 |               0 | N             |           nan |           42750 |                 0 |             0 |                0 |                     0 |         122782 |                nan |          43047 |                nan |          11477 |                nan |          10368 |                nan |              1 |                nan |              0 |              0 |           64893 |           194 |                     0 |            0 |             0 |              0 |               0 |                0 |             0 |              0 |            0 |             0 |             0 |              0 |              0 |          0 |          0 |         0 |               0 |                0 |               0 |              0 |               0 |              0 |               0 |                0 |             0 |            nan |             0 |            nan |               0 |            nan |               0 |               0 |               0 |       187869 |             0 |              0 |                 0 |                0 |               42750 |                  0 |           1350 |                   0 |                  0 |        2846 |                 0 |           0 |           3700 |                  0 |               0 |                      0 |                 0 |            0 |         6333 |          0 |              0 |       12552 |        0 |                     0 |                8447 |             0 |                 0 |                 0 |         989 |        63566 |        21942 |        11304 |            0 |            0 |            0 |         175779 |          205313 |             37139 |                   0 |                0 |                 0 |                 0 |                    0 |                  0 |                 0 |                  0 |              0 |                  0 |                  0 |                     0 |               0 |         242452 |                  0 |                 0 |                 0 |                0 |                   0 |                  0 |               0 |                   0 |             0 |            0 |                242452 |                       0 |                       0 |                   0 |                  0 |                 0 |           242452 |             242452 |        nan |                0 |            0 |                 0 |                   0 |             0 |                  0 |                0 |                   0 |                      0 |           0 |                  0 |            0 |            0 |                    0 |                   0 |                    0 |                       0 |                   0 |             0 |                  0 |                      0 |                0 |              0 |                 0 |                      0 |           0 |                      0 |                  0 |                   0 |            0 |            0 |\n",
       "| E       | 1.00189e+07 |   202105 |         19 | N                  | N          | N                   |               nan | N              | N                   | N                | N                 | N                    | nan                     | Y                  | Y                 | N                  | N              | Y              | N                    | N                    | N                 | N                     | N              | N                | N             | N                  | N                     | N                  | Y                | N                 |                nan | N                  | N                  | N                    | N              |               nan |                 nan |             nan |                  nan |                nan | N                | N                 | N                | N                 | nan               | N               | N           | N                   | N              | N             | N            | N              |           nan | N                   | N              |          1 |         0 | N                |                14 | Y                | Y               | Y              | N            | N                   | N                 |             nan | N                |           nan |              nan |             nan |            nan |          0 |          nan |              nan |            nan |             nan |              nan |              nan |                nan |                0 |                   0 |               0 |             0 |                nan |            0 |             nan |                 0 |               0 | N             |           nan |               0 |                 0 |             0 |                0 |                     0 |          15102 |                nan |              0 |                nan |              0 |                nan |              0 |                nan |              0 |                nan |              0 |              0 |               0 |             4 |                     0 |            0 |             0 |              0 |               0 |                0 |             0 |              0 |            0 |             0 |             0 |              0 |              0 |          0 |          0 |         0 |             285 |                0 |             285 |         854292 |          748033 |         106259 |          101638 |            47148 |         54490 |            nan |          4656 |            nan |             371 |            nan |             345 |              41 |            5413 |       181553 |             0 |              0 |                 0 |              592 |                   0 |                  0 |          87593 |                   0 |                  0 |        7617 |                 0 |         675 |           5100 |                  0 |               0 |                      0 |                 0 |          273 |         2343 |          0 |              0 |         790 |        0 |                     0 |                   0 |             0 |              7661 |              9125 |        8376 |        15408 |        15013 |         4195 |         4045 |            0 |        15588 |         184394 |            9149 |             64413 |                   0 |                0 |                 0 |                 0 |                    0 |               3077 |                 0 |              29071 |              0 |              47576 |                  0 |                     0 |            2000 |         155286 |                  0 |                 0 |                 0 |                0 |                   0 |                  0 |               0 |                   0 |         26754 |        26754 |                     0 |                       0 |                       0 |                   0 |                  0 |            128532 |           128532 |             155286 |        nan |                0 |            0 |                 0 |                   0 |             0 |                  0 |                0 |                   0 |                      0 |           0 |                  0 |            0 |            0 |                    0 |                   0 |                    0 |                       0 |                   0 |             0 |                  0 |                      0 |                0 |              0 |                 0 |                      0 |           0 |                      0 |                  0 |                   0 |            0 |            0 |\n",
       "| E       | 1.00189e+07 |   202205 |         19 | N                  | N          | N                   |               nan | N              | N                   | N                | N                 | N                    | nan                     | Y                  | Y                 | N                  | N              | Y              | N                    | N                    | N                 | N                     | N              | N                | N             | N                  | N                     | N                  | Y                | N                 |                nan | N                  | N                  | N                    | N              |               nan |                 nan |             nan |                  nan |                nan | N                | N                 | N                | N                 | nan               | N               | N           | N                   | N              | N             | N            | N              |           nan | N                   | N              |          0 |         0 | N                |                13 | Y                | Y               | Y              | N            | N                   | N                 |             nan | N                |           nan |              nan |             nan |            nan |          0 |          nan |              nan |            nan |             nan |              nan |              nan |                nan |                0 |                   0 |               0 |             0 |                nan |            0 |             nan |                 0 |               0 | N             |           nan |               0 |                 0 |             0 |                0 |                     0 |          27640 |                nan |              0 |                nan |              0 |                nan |              0 |                nan |              0 |                nan |              0 |              0 |               0 |             5 |                     0 |            0 |             0 |              0 |               0 |                0 |             0 |              0 |            0 |             0 |             0 |              0 |              0 |          0 |          0 |         0 |            5981 |                0 |            5981 |         932945 |          804952 |         127993 |          144587 |            69923 |         74664 |            nan |         24100 |            nan |               3 |            nan |               0 |               0 |           24103 |       260386 |             0 |              0 |                 0 |                0 |                   0 |                  0 |         102765 |                   0 |                  0 |        8936 |                 0 |           0 |           5525 |                  0 |               0 |                      0 |                 0 |          502 |         4238 |          0 |              0 |       10258 |        0 |                     0 |                   0 |             0 |              7623 |              7568 |        6707 |        22195 |         9544 |         4620 |         3844 |            0 |        20953 |         215278 |            8645 |             95227 |                   0 |                0 |                 0 |                 0 |                    0 |               3077 |                 0 |              27982 |              0 |              49581 |                  0 |                     0 |               0 |         184512 |                  0 |                 0 |                 0 |                0 |                   0 |                  0 |               0 |                   0 |          3835 |         3835 |                     0 |                       0 |                       0 |                   0 |                  0 |            180677 |           180677 |             184512 |        nan |                0 |            0 |                 0 |                   0 |             0 |                  0 |                0 |                   0 |                      0 |           0 |                  0 |            0 |            0 |                    0 |                   0 |                    0 |                       0 |                   0 |             0 |                  0 |                      0 |                0 |              0 |                 0 |                      0 |           0 |                      0 |                  0 |                   0 |            0 |            0 |"
      ],
      "text/plain": [
       "<IPython.core.display.Markdown object>"
      ]
     },
     "metadata": {},
     "output_type": "display_data"
    },
    {
     "data": {
      "text/markdown": [
       "Metadata:\n",
       "\n",
       "| Column Name           | Data Type   | Unique Values   | Missing Values   |\n",
       "|:----------------------|:------------|:----------------|:-----------------|\n",
       "| efile                 | object      | 2               | 4                |\n",
       "| EIN                   | float64     | 302,567         | 4                |\n",
       "| tax_pd                | float64     | 115             | 4                |\n",
       "| subseccd              | float64     | 24              | 4                |\n",
       "| s501c3or4947a1cd      | object      | 2               | 59               |\n",
       "| schdbind              | object      | 2               | 55               |\n",
       "| politicalactvtscd     | object      | 2               | 53               |\n",
       "| lbbyingactvtscd       | object      | 2               | 73,196           |\n",
       "| subjto6033cd          | object      | 2               | 10,789           |\n",
       "| dnradvisedfundscd     | object      | 2               | 50               |\n",
       "| prptyintrcvdcd        | object      | 2               | 46               |\n",
       "| maintwrkofartcd       | object      | 2               | 51               |\n",
       "| crcounselingqstncd    | object      | 2               | 56               |\n",
       "| hldassetsintermpermcd | object      | 2               | 316,793          |\n",
       "| rptlndbldgeqptcd      | object      | 2               | 65               |\n",
       "| rptinvstothsecd       | object      | 2               | 68               |\n",
       "| rptinvstprgrelcd      | object      | 2               | 77               |\n",
       "| rptothasstcd          | object      | 2               | 78               |\n",
       "| rptothliabcd          | object      | 2               | 83               |\n",
       "| sepcnsldtfinstmtcd    | object      | 2               | 86               |\n",
       "| sepindaudfinstmtcd    | object      | 2               | 56               |\n",
       "| inclinfinstmtcd       | object      | 2               | 88               |\n",
       "| operateschools170cd   | object      | 2               | 66               |\n",
       "| frgnofficecd          | object      | 2               | 70               |\n",
       "| frgnrevexpnscd        | object      | 2               | 74               |\n",
       "| frgngrntscd           | object      | 2               | 53               |\n",
       "| frgnaggragrntscd      | object      | 2               | 52               |\n",
       "| rptprofndrsngfeescd   | object      | 2               | 60               |\n",
       "| rptincfnndrsngcd      | object      | 2               | 51               |\n",
       "| rptincgamingcd        | object      | 2               | 53               |\n",
       "| operatehosptlcd       | object      | 2               | 68               |\n",
       "| hospaudfinstmtcd      | float64     | 2               | 322,523          |\n",
       "| rptgrntstogovtcd      | object      | 2               | 73               |\n",
       "| rptgrntstoindvcd      | object      | 2               | 63               |\n",
       "| rptyestocompnstncd    | object      | 2               | 77               |\n",
       "| txexmptbndcd          | object      | 2               | 84               |\n",
       "| invstproceedscd       | object      | 2               | 313,308          |\n",
       "| maintescrwaccntcd     | object      | 2               | 313,391          |\n",
       "| actonbehalfcd         | object      | 2               | 313,505          |\n",
       "| engageexcessbnftcd    | object      | 2               | 61,710           |\n",
       "| awarexcessbnftcd      | object      | 2               | 61,514           |\n",
       "| loantofficercd        | object      | 2               | 66               |\n",
       "| grantoofficercd       | object      | 2               | 76               |\n",
       "| dirbusnreltdcd        | object      | 2               | 69               |\n",
       "| fmlybusnreltdcd       | object      | 2               | 88               |\n",
       "| servasofficercd       | object      | 2               | 316,799          |\n",
       "| recvnoncashcd         | object      | 2               | 70               |\n",
       "| recvartcd             | object      | 2               | 60               |\n",
       "| ceaseoperationscd     | object      | 2               | 68               |\n",
       "| sellorexchcd          | object      | 2               | 63               |\n",
       "| ownsepentcd           | object      | 2               | 60               |\n",
       "| reltdorgcd            | object      | 2               | 70               |\n",
       "| intincntrlcd          | object      | 2               | 310              |\n",
       "| orgtrnsfrcd           | object      | 2               | 73,493           |\n",
       "| conduct5percentcd     | object      | 2               | 78               |\n",
       "| compltschocd          | object      | 2               | 133              |\n",
       "| f1096cnt              | float64     | 2,831           | 4                |\n",
       "| fw2gcnt               | float64     | 152             | 4                |\n",
       "| wthldngrulescd        | object      | 2               | 122,684          |\n",
       "| noemplyeesw3cnt       | float64     | 2,973           | 4                |\n",
       "| filerqrdrtnscd        | object      | 2               | 123,640          |\n",
       "| unrelbusinccd         | object      | 2               | 109              |\n",
       "| filedf990tcd          | object      | 2               | 294,123          |\n",
       "| frgnacctcd            | object      | 2               | 122              |\n",
       "| prohibtdtxshltrcd     | object      | 2               | 88               |\n",
       "| prtynotifyorgcd       | object      | 2               | 303              |\n",
       "| filedf8886tcd         | object      | 2               | 323,361          |\n",
       "| solicitcntrbcd        | object      | 2               | 136              |\n",
       "| exprstmntcd           | object      | 2               | 315,315          |\n",
       "| providegoodscd        | object      | 2               | 101,679          |\n",
       "| notfydnrvalcd         | object      | 2               | 303,569          |\n",
       "| filedf8282cd          | object      | 2               | 102,286          |\n",
       "| f8282cnt              | float64     | 39              | 4                |\n",
       "| fndsrcvdcd            | object      | 2               | 138,722          |\n",
       "| premiumspaidcd        | object      | 2               | 138,694          |\n",
       "| filedf8899cd          | object      | 2               | 248,621          |\n",
       "| filedf1098ccd         | object      | 2               | 248,336          |\n",
       "| excbushldngscd        | object      | 2               | 324,052          |\n",
       "| s4966distribcd        | object      | 2               | 294,054          |\n",
       "| distribtodonorcd      | object      | 2               | 294,352          |\n",
       "| initiationfees        | float64     | 2,694           | 4                |\n",
       "| grsrcptspublicuse     | float64     | 2,231           | 4                |\n",
       "| grsincmembers         | float64     | 2,289           | 4                |\n",
       "| grsincother           | float64     | 1,962           | 4                |\n",
       "| filedlieuf1041cd      | object      | 1               | 322,811          |\n",
       "| txexmptint            | float64     | 4               | 4                |\n",
       "| qualhlthplncd         | object      | 2               | 320,991          |\n",
       "| qualhlthreqmntn       | float64     | 8               | 4                |\n",
       "| qualhlthonhnd         | float64     | 25              | 4                |\n",
       "| rcvdpdtngcd           | object      | 2               | 429              |\n",
       "| filedf720cd           | object      | 2               | 323,367          |\n",
       "| totreprtabled         | float64     | 108,040         | 4                |\n",
       "| totcomprelatede       | float64     | 25,017          | 4                |\n",
       "| totestcompf           | float64     | 60,267          | 4                |\n",
       "| noindiv100kcnt        | float64     | 944             | 4                |\n",
       "| nocontractor100kcnt   | float64     | 414             | 4                |\n",
       "| totcntrbgfts          | float64     | 219,353         | 4                |\n",
       "| prgmservcode2acd      | float64     | 1,093           | 173,346          |\n",
       "| totrev2acola          | float64     | 160,681         | 4                |\n",
       "| prgmservcode2bcd      | float64     | 774             | 244,782          |\n",
       "| totrev2bcola          | float64     | 76,944          | 4                |\n",
       "| prgmservcode2ccd      | float64     | 580             | 279,064          |\n",
       "| totrev2ccola          | float64     | 44,110          | 4                |\n",
       "| prgmservcode2dcd      | float64     | 455             | 300,130          |\n",
       "| totrev2dcola          | float64     | 25,391          | 4                |\n",
       "| prgmservcode2ecd      | float64     | 374             | 312,378          |\n",
       "| totrev2ecola          | float64     | 14,515          | 4                |\n",
       "| totrev2fcola          | float64     | 13,938          | 4                |\n",
       "| totprgmrevnue         | float64     | 172,610         | 4                |\n",
       "| invstmntinc           | float64     | 73,932          | 4                |\n",
       "| txexmptbndsproceeds   | float64     | 969             | 4                |\n",
       "| royaltsinc            | float64     | 6,201           | 4                |\n",
       "| grsrntsreal           | float64     | 26,604          | 4                |\n",
       "| grsrntsprsnl          | float64     | 1,569           | 4                |\n",
       "| rntlexpnsreal         | float64     | 14,631          | 4                |\n",
       "| rntlexpnsprsnl        | float64     | 574             | 4                |\n",
       "| rntlincreal           | float64     | 28,239          | 4                |\n",
       "| rntlincprsnl          | float64     | 1,616           | 4                |\n",
       "| netrntlinc            | float64     | 28,942          | 4                |\n",
       "| grsalesecur           | float64     | 52,558          | 4                |\n",
       "| grsalesothr           | float64     | 15,852          | 4                |\n",
       "| cstbasisecur          | float64     | 47,130          | 4                |\n",
       "| cstbasisothr          | float64     | 15,634          | 4                |\n",
       "| gnlsecur              | float64     | 47,779          | 4                |\n",
       "| gnlsothr              | float64     | 23,197          | 4                |\n",
       "| netgnls               | float64     | 59,819          | 4                |\n",
       "| grsincfndrsng         | float64     | 45,179          | 4                |\n",
       "| lessdirfndrsng        | float64     | 38,808          | 4                |\n",
       "| netincfndrsng         | float64     | 47,946          | 4                |\n",
       "| grsincgaming          | float64     | 12,146          | 4                |\n",
       "| lessdirgaming         | float64     | 10,817          | 4                |\n",
       "| netincgaming          | float64     | 12,038          | 4                |\n",
       "| grsalesinvent         | float64     | 31,967          | 4                |\n",
       "| lesscstofgoods        | float64     | 28,316          | 4                |\n",
       "| netincsales           | float64     | 30,344          | 4                |\n",
       "| miscrev11acd          | float64     | 681             | 243,083          |\n",
       "| miscrevtota           | float64     | 53,703          | 4                |\n",
       "| miscrev11bcd          | float64     | 448             | 297,611          |\n",
       "| miscrevtot11b         | float64     | 22,378          | 4                |\n",
       "| miscrev11ccd          | float64     | 315             | 314,436          |\n",
       "| miscrevtot11c         | float64     | 10,730          | 4                |\n",
       "| miscrevtot11d         | float64     | 10,057          | 4                |\n",
       "| miscrevtot11e         | float64     | 60,898          | 4                |\n",
       "| totrevenue            | float64     | 291,897         | 4                |\n",
       "| grntstogovt           | float64     | 41,319          | 4                |\n",
       "| grnsttoindiv          | float64     | 28,863          | 4                |\n",
       "| grntstofrgngovt       | float64     | 9,704           | 4                |\n",
       "| benifitsmembrs        | float64     | 12,054          | 4                |\n",
       "| compnsatncurrofcr     | float64     | 103,451         | 4                |\n",
       "| compnsatnandothr      | float64     | 7,113           | 4                |\n",
       "| othrsalwages          | float64     | 164,065         | 4                |\n",
       "| pensionplancontrb     | float64     | 51,113          | 4                |\n",
       "| othremplyeebenef      | float64     | 91,840          | 4                |\n",
       "| payrolltx             | float64     | 97,103          | 4                |\n",
       "| feesforsrvcmgmt       | float64     | 32,577          | 4                |\n",
       "| legalfees             | float64     | 40,390          | 4                |\n",
       "| accntingfees          | float64     | 52,646          | 4                |\n",
       "| feesforsrvclobby      | float64     | 6,825           | 4                |\n",
       "| profndraising         | float64     | 6,810           | 4                |\n",
       "| feesforsrvcinvstmgmt  | float64     | 29,304          | 4                |\n",
       "| feesforsrvcothr       | float64     | 91,138          | 4                |\n",
       "| advrtpromo            | float64     | 50,907          | 4                |\n",
       "| officexpns            | float64     | 80,120          | 4                |\n",
       "| infotech              | float64     | 50,211          | 4                |\n",
       "| royaltsexpns          | float64     | 2,611           | 4                |\n",
       "| occupancy             | float64     | 114,974         | 4                |\n",
       "| travel                | float64     | 48,208          | 4                |\n",
       "| travelofpublicoffcl   | float64     | 1,386           | 4                |\n",
       "| converconventmtng     | float64     | 41,412          | 4                |\n",
       "| interestamt           | float64     | 45,153          | 4                |\n",
       "| pymtoaffiliates       | float64     | 11,856          | 4                |\n",
       "| deprcatndepletn       | float64     | 100,405         | 4                |\n",
       "| insurance             | float64     | 72,911          | 4                |\n",
       "| othrexpnsa            | float64     | 147,171         | 4                |\n",
       "| othrexpnsb            | float64     | 101,478         | 4                |\n",
       "| othrexpnsc            | float64     | 78,174          | 4                |\n",
       "| othrexpnsd            | float64     | 61,365          | 4                |\n",
       "| othrexpnse            | float64     | 4,157           | 4                |\n",
       "| othrexpnsf            | float64     | 77,256          | 4                |\n",
       "| totfuncexpns          | float64     | 287,489         | 4                |\n",
       "| nonintcashend         | float64     | 219,323         | 4                |\n",
       "| svngstempinvend       | float64     | 144,007         | 4                |\n",
       "| pldgegrntrcvblend     | float64     | 45,168          | 4                |\n",
       "| accntsrcvblend        | float64     | 88,070          | 4                |\n",
       "| currfrmrcvblend       | float64     | 2,318           | 4                |\n",
       "| rcvbldisqualend       | float64     | 345             | 4                |\n",
       "| notesloansrcvblend    | float64     | 16,251          | 4                |\n",
       "| invntriesalesend      | float64     | 34,053          | 4                |\n",
       "| prepaidexpnsend       | float64     | 65,463          | 4                |\n",
       "| lndbldgsequipend      | float64     | 167,873         | 4                |\n",
       "| invstmntsend          | float64     | 77,435          | 4                |\n",
       "| invstmntsothrend      | float64     | 26,937          | 4                |\n",
       "| invstmntsprgmend      | float64     | 8,688           | 4                |\n",
       "| intangibleassetsend   | float64     | 11,043          | 4                |\n",
       "| othrassetsend         | float64     | 72,879          | 4                |\n",
       "| totassetsend          | float64     | 303,295         | 4                |\n",
       "| accntspayableend      | float64     | 116,076         | 4                |\n",
       "| grntspayableend       | float64     | 6,319           | 4                |\n",
       "| deferedrevnuend       | float64     | 55,752          | 4                |\n",
       "| txexmptbndsend        | float64     | 5,875           | 4                |\n",
       "| escrwaccntliabend     | float64     | 6,363           | 4                |\n",
       "| paybletoffcrsend      | float64     | 4,552           | 4                |\n",
       "| secrdmrtgsend         | float64     | 52,220          | 4                |\n",
       "| unsecurednotesend     | float64     | 21,736          | 4                |\n",
       "| othrliabend           | float64     | 81,595          | 4                |\n",
       "| totliabend            | float64     | 176,487         | 4                |\n",
       "| unrstrctnetasstsend   | float64     | 135,082         | 4                |\n",
       "| temprstrctnetasstsend | float64     | 46,602          | 4                |\n",
       "| permrstrctnetasstsend | float64     | 85              | 4                |\n",
       "| capitalstktrstend     | float64     | 12,542          | 4                |\n",
       "| paidinsurplusend      | float64     | 6,418           | 4                |\n",
       "| retainedearnend       | float64     | 67,507          | 4                |\n",
       "| totnetassetend        | float64     | 300,764         | 4                |\n",
       "| totnetliabastend      | float64     | 303,337         | 4                |\n",
       "| nonpfrea              | float64     | 15              | 73,594           |\n",
       "| totnooforgscnt        | float64     | 86              | 4                |\n",
       "| totsupport            | float64     | 8,015           | 4                |\n",
       "| gftgrntsrcvd170       | float64     | 113,604         | 4                |\n",
       "| txrevnuelevied170     | float64     | 2,443           | 4                |\n",
       "| srvcsval170           | float64     | 2,876           | 4                |\n",
       "| pubsuppsubtot170      | float64     | 113,800         | 4                |\n",
       "| exceeds2pct170        | float64     | 42,382          | 4                |\n",
       "| pubsupplesspct170     | float64     | 113,719         | 4                |\n",
       "| samepubsuppsubtot170  | float64     | 113,800         | 4                |\n",
       "| grsinc170             | float64     | 51,910          | 4                |\n",
       "| netincunreltd170      | float64     | 8,383           | 4                |\n",
       "| othrinc170            | float64     | 35,188          | 4                |\n",
       "| totsupp170            | float64     | 114,386         | 4                |\n",
       "| grsrcptsrelated170    | float64     | 49,840          | 4                |\n",
       "| totgftgrntrcvd509     | float64     | 83,625          | 4                |\n",
       "| grsrcptsadmissn509    | float64     | 66,560          | 4                |\n",
       "| grsrcptsactivities509 | float64     | 11,609          | 4                |\n",
       "| txrevnuelevied509     | float64     | 832             | 4                |\n",
       "| srvcsval509           | float64     | 857             | 4                |\n",
       "| pubsuppsubtot509      | float64     | 92,621          | 3                |\n",
       "| rcvdfrmdisqualsub509  | float64     | 10,513          | 4                |\n",
       "| exceeds1pct509        | float64     | 7,215           | 4                |\n",
       "| subtotpub509          | float64     | 14,966          | 4                |\n",
       "| pubsupplesub509       | float64     | 92,478          | 4                |\n",
       "| samepubsuppsubtot509  | float64     | 92,616          | 4                |\n",
       "| grsinc509             | float64     | 34,084          | 4                |\n",
       "| unreltxincls511tx509  | float64     | 1,400           | 4                |\n",
       "| subtotsuppinc509      | float64     | 34,431          | 4                |\n",
       "| netincunrelatd509     | float64     | 4,638           | 4                |\n",
       "| othrinc509            | float64     | 19,787          | 4                |\n",
       "| totsupp509            | float64     | 92,791          | 4                |"
      ],
      "text/plain": [
       "<IPython.core.display.Markdown object>"
      ]
     },
     "metadata": {},
     "output_type": "display_data"
    }
   ],
   "source": [
    "# Libraries for data manipulation.\n",
    "import pandas as pd\n",
    "import numpy as np\n",
    "\n",
    "# Libraries for data visualisation.\n",
    "import matplotlib.pyplot as plt\n",
    "import seaborn as sns\n",
    "import plotly.express as px\n",
    "import plotly.io as pio\n",
    "\n",
    "# Libraries for quarto rending\n",
    "from IPython.display import Markdown,display\n",
    "from tabulate import tabulate\n",
    "import plotly.io as pio\n",
    "\n",
    "# Remove warnings.\n",
    "import warnings\n",
    "warnings.filterwarnings(\"ignore\", category=UserWarning)\n",
    "\n",
    "# Read in data.\n",
    "form_990_2022 = pd.read_csv('../../data/22eoextract990.csv')\n",
    "\n",
    "# Print data dimensions.\n",
    "shape_caption = \"Data Dimensions:\"\n",
    "shape_df = pd.DataFrame({\n",
    "        'Dimension': ['Rows','Columns'],\n",
    "        'Count': [form_990_2022.shape[0], form_990_2022.shape[1]]\n",
    "    })\n",
    "shape_df['Count'] = shape_df['Count'].apply(lambda x: f\"{x:,}\")\n",
    "shape_markdown = shape_caption + \"\\n\\n\" + shape_df.to_markdown(index=False)\n",
    "display(Markdown(shape_markdown))\n",
    "\n",
    "# Print a sample of the data.\n",
    "first_five_rows_caption = \"First Five Rows of Data:\"\n",
    "first_five_rows_markdown = first_five_rows_caption + \"\\n\\n\" + form_990_2022.head().to_markdown(index=False)\n",
    "display(Markdown(first_five_rows_markdown))\n",
    "\n",
    "# Print metadata.\n",
    "metadata_caption = \"Metadata:\"\n",
    "column_metadata = []\n",
    "\n",
    "for col in form_990_2022.columns:\n",
    "    # Gather metadata for each col.\n",
    "    col_metadata = {\n",
    "        'Column Name': col,\n",
    "        'Data Type': str(form_990_2022[col].dtype),\n",
    "        'Unique Values': form_990_2022[col].nunique(),\n",
    "        'Missing Values': form_990_2022[col].isnull().sum()\n",
    "    }\n",
    "    # Append metadata to list.\n",
    "    column_metadata.append(col_metadata)\n",
    "\n",
    "# Convert list to pd df and then markdown table.\n",
    "metadata_df = pd.DataFrame(column_metadata)\n",
    "metadata_df['Unique Values'] = metadata_df['Unique Values'].apply(lambda x: f\"{x:,}\")\n",
    "metadata_df['Missing Values'] = metadata_df['Missing Values'].apply(lambda x: f\"{x:,}\")\n",
    "metadata_markdown = metadata_caption + \"\\n\\n\" + metadata_df.to_markdown(index=False)\n",
    "display(Markdown(metadata_markdown))"
   ]
  },
  {
   "cell_type": "markdown",
   "metadata": {},
   "source": [
    "# 3. Data Preparation\n",
    "\n",
    "In this section, we detail the initial steps taken to prepare the 990 Form from the IRS for analysis. Our goals are to ensure consistency in column naming, handle missing values appropriately, and convert data into formats that are suitable for our analytical needs. Please click the drop down arrow for more details on code used to achieve this."
   ]
  },
  {
   "cell_type": "code",
   "execution_count": 2,
   "metadata": {},
   "outputs": [
    {
     "data": {
      "text/markdown": [
       "Cleaned data sample view:\n",
       "\n",
       "| efile   |       ein | tax_pd              |   subseccd | s501c3or4947a1cd   | schdbind   | politicalactvtscd   | lbbyingactvtscd   | subjto6033cd   | dnradvisedfundscd   | prptyintrcvdcd   | maintwrkofartcd   | crcounselingqstncd   | hldassetsintermpermcd   | rptlndbldgeqptcd   | rptinvstothsecd   | rptinvstprgrelcd   | rptothasstcd   | rptothliabcd   | sepcnsldtfinstmtcd   | sepindaudfinstmtcd   | inclinfinstmtcd   | operateschools170cd   | frgnofficecd   | frgnrevexpnscd   | frgngrntscd   | frgnaggragrntscd   | rptprofndrsngfeescd   | rptincfnndrsngcd   | rptincgamingcd   | operatehosptlcd   |   hospaudfinstmtcd | rptgrntstogovtcd   | rptgrntstoindvcd   | rptyestocompnstncd   | txexmptbndcd   | invstproceedscd   | maintescrwaccntcd   | actonbehalfcd   | engageexcessbnftcd   | awarexcessbnftcd   | loantofficercd   | grantoofficercd   | dirbusnreltdcd   | fmlybusnreltdcd   | servasofficercd   | recvnoncashcd   | recvartcd   | ceaseoperationscd   | sellorexchcd   | ownsepentcd   | reltdorgcd   | intincntrlcd   | orgtrnsfrcd   | conduct5percentcd   | compltschocd   |   f1096cnt |   fw2gcnt | wthldngrulescd   |   noemplyeesw3cnt | filerqrdrtnscd   | unrelbusinccd   |   filedf990tcd | frgnacctcd   | prohibtdtxshltrcd   | prtynotifyorgcd   |   filedf8886tcd | solicitcntrbcd   |   exprstmntcd | providegoodscd   |   notfydnrvalcd | filedf8282cd   |   f8282cnt | fndsrcvdcd   | premiumspaidcd   | filedf8899cd   | filedf1098ccd   | excbushldngscd   | s4966distribcd   | distribtodonorcd   |   initiationfees |   grsrcptspublicuse |   grsincmembers |   grsincother |   filedlieuf1041cd |   txexmptint |   qualhlthplncd |   qualhlthreqmntn |   qualhlthonhnd | rcvdpdtngcd   |   filedf720cd |   totreprtabled |   totcomprelatede |   totestcompf |   noindiv100kcnt |   nocontractor100kcnt |   totcntrbgfts |   prgmservcode2acd |   totrev2acola |   prgmservcode2bcd |   totrev2bcola |   prgmservcode2ccd |   totrev2ccola |   prgmservcode2dcd |   totrev2dcola |   prgmservcode2ecd |   totrev2ecola |   totrev2fcola |   totprgmrevnue |   invstmntinc |   txexmptbndsproceeds |   royaltsinc |   grsrntsreal |   grsrntsprsnl |   rntlexpnsreal |   rntlexpnsprsnl |   rntlincreal |   rntlincprsnl |   netrntlinc |   grsalesecur |   grsalesothr |   cstbasisecur |   cstbasisothr |   gnlsecur |   gnlsothr |   netgnls |   grsincfndrsng |   lessdirfndrsng |   netincfndrsng |   grsincgaming |   lessdirgaming |   netincgaming |   grsalesinvent |   lesscstofgoods |   netincsales |   miscrev11acd |   miscrevtota |   miscrev11bcd |   miscrevtot11b |   miscrev11ccd |   miscrevtot11c |   miscrevtot11d |   miscrevtot11e |   totrevenue |   grntstogovt |   grnsttoindiv |   grntstofrgngovt |   benifitsmembrs |   compnsatncurrofcr |   compnsatnandothr |   othrsalwages |   pensionplancontrb |   othremplyeebenef |   payrolltx |   feesforsrvcmgmt |   legalfees |   accntingfees |   feesforsrvclobby |   profndraising |   feesforsrvcinvstmgmt |   feesforsrvcothr |   advrtpromo |   officexpns |   infotech |   royaltsexpns |   occupancy |   travel |   travelofpublicoffcl |   converconventmtng |   interestamt |   pymtoaffiliates |   deprcatndepletn |   insurance |   othrexpnsa |   othrexpnsb |   othrexpnsc |   othrexpnsd |   othrexpnse |   othrexpnsf |   totfuncexpns |   nonintcashend |   svngstempinvend |   pldgegrntrcvblend |   accntsrcvblend |   currfrmrcvblend |   rcvbldisqualend |   notesloansrcvblend |   invntriesalesend |   prepaidexpnsend |   lndbldgsequipend |   invstmntsend |   invstmntsothrend |   invstmntsprgmend |   intangibleassetsend |   othrassetsend |     totassetsend |   accntspayableend |   grntspayableend |   deferedrevnuend |   txexmptbndsend |   escrwaccntliabend |   paybletoffcrsend |   secrdmrtgsend |   unsecurednotesend |   othrliabend |   totliabend |   unrstrctnetasstsend |   temprstrctnetasstsend |   permrstrctnetasstsend |   capitalstktrstend |   paidinsurplusend |   retainedearnend |   totnetassetend |   totnetliabastend |   nonpfrea |   totnooforgscnt |   totsupport |   gftgrntsrcvd170 |   txrevnuelevied170 |   srvcsval170 |   pubsuppsubtot170 |   exceeds2pct170 |   pubsupplesspct170 |   samepubsuppsubtot170 |   grsinc170 |   netincunreltd170 |   othrinc170 |       totsupp170 |   grsrcptsrelated170 |   totgftgrntrcvd509 |   grsrcptsadmissn509 |   grsrcptsactivities509 |   txrevnuelevied509 |   srvcsval509 |   pubsuppsubtot509 |   rcvdfrmdisqualsub509 |   exceeds1pct509 |   subtotpub509 |   pubsupplesub509 |   samepubsuppsubtot509 |   grsinc509 |   unreltxincls511tx509 |   subtotsuppinc509 |   netincunrelatd509 |   othrinc509 |   totsupp509 |\n",
       "|:--------|----------:|:--------------------|-----------:|:-------------------|:-----------|:--------------------|:------------------|:---------------|:--------------------|:-----------------|:------------------|:---------------------|:------------------------|:-------------------|:------------------|:-------------------|:---------------|:---------------|:---------------------|:---------------------|:------------------|:----------------------|:---------------|:-----------------|:--------------|:-------------------|:----------------------|:-------------------|:-----------------|:------------------|-------------------:|:-------------------|:-------------------|:---------------------|:---------------|:------------------|:--------------------|:----------------|:---------------------|:-------------------|:-----------------|:------------------|:-----------------|:------------------|:------------------|:----------------|:------------|:--------------------|:---------------|:--------------|:-------------|:---------------|:--------------|:--------------------|:---------------|-----------:|----------:|:-----------------|------------------:|:-----------------|:----------------|---------------:|:-------------|:--------------------|:------------------|----------------:|:-----------------|--------------:|:-----------------|----------------:|:---------------|-----------:|:-------------|:-----------------|:---------------|:----------------|:-----------------|:-----------------|:-------------------|-----------------:|--------------------:|----------------:|--------------:|-------------------:|-------------:|----------------:|------------------:|----------------:|:--------------|--------------:|----------------:|------------------:|--------------:|-----------------:|----------------------:|---------------:|-------------------:|---------------:|-------------------:|---------------:|-------------------:|---------------:|-------------------:|---------------:|-------------------:|---------------:|---------------:|----------------:|--------------:|----------------------:|-------------:|--------------:|---------------:|----------------:|-----------------:|--------------:|---------------:|-------------:|--------------:|--------------:|---------------:|---------------:|-----------:|-----------:|----------:|----------------:|-----------------:|----------------:|---------------:|----------------:|---------------:|----------------:|-----------------:|--------------:|---------------:|--------------:|---------------:|----------------:|---------------:|----------------:|----------------:|----------------:|-------------:|--------------:|---------------:|------------------:|-----------------:|--------------------:|-------------------:|---------------:|--------------------:|-------------------:|------------:|------------------:|------------:|---------------:|-------------------:|----------------:|-----------------------:|------------------:|-------------:|-------------:|-----------:|---------------:|------------:|---------:|----------------------:|--------------------:|--------------:|------------------:|------------------:|------------:|-------------:|-------------:|-------------:|-------------:|-------------:|-------------:|---------------:|----------------:|------------------:|--------------------:|-----------------:|------------------:|------------------:|---------------------:|-------------------:|------------------:|-------------------:|---------------:|-------------------:|-------------------:|----------------------:|----------------:|-----------------:|-------------------:|------------------:|------------------:|-----------------:|--------------------:|-------------------:|----------------:|--------------------:|--------------:|-------------:|----------------------:|------------------------:|------------------------:|--------------------:|-------------------:|------------------:|-----------------:|-------------------:|-----------:|-----------------:|-------------:|------------------:|--------------------:|--------------:|-------------------:|-----------------:|--------------------:|-----------------------:|------------:|-------------------:|-------------:|-----------------:|---------------------:|--------------------:|---------------------:|------------------------:|--------------------:|--------------:|-------------------:|-----------------------:|-----------------:|---------------:|------------------:|-----------------------:|------------:|-----------------------:|-------------------:|--------------------:|-------------:|-------------:|\n",
       "| P       | 426057254 | 2011-06-01 00:00:00 |          2 | N                  | N          | N                   | nan               | N              | N                   | N                | N                 | N                    | N                       | Y                  | N                 | N                  | N              | Y              | N                    | N                    | N                 | N                     | N              | N                | N             | N                  | N                     | N                  | N                | N                 |                nan | N                  | N                  | N                    | N              | nan               | nan                 | nan             | N                    | N                  | N                | N                 | N                | N                 | N                 | N               | N           | N                   | N              | N             | N            | N              | N             | N                   | Y              |          0 |         0 | Y                |                 0 | nan              | N               |            nan | N            | N                   | N                 |             nan | N                |           nan | nan              |             nan | nan            |          0 | nan          | nan              | nan            | nan             | nan              | nan              | nan                |                0 |                   0 |               0 |             0 |                nan |            0 |             nan |                 0 |               0 | N             |           nan |               0 |                 0 |             0 |                0 |                     0 |              0 |                nan |         141124 |                nan |              0 |                nan |              0 |                nan |              0 |                nan |              0 |              0 |          141124 |             0 |                     0 |            0 |             0 |              0 |               0 |                0 |             0 |              0 |            0 |             0 |             0 |              0 |              0 |          0 |          0 |         0 |               0 |                0 |               0 |              0 |               0 |              0 |               0 |                0 |             0 |            nan |             0 |            nan |               0 |            nan |               0 |               0 |               0 |       141124 |             0 |              0 |                 0 |                0 |                   0 |                  0 |              0 |                   0 |                  0 |           0 |                 0 |           0 |              0 |                  0 |               0 |                      0 |                 0 |            0 |          313 |          0 |              0 |           0 |        0 |                     0 |                   0 |         51812 |                 0 |                 0 |       10006 |        21664 |        26817 |         1000 |            0 |            0 |            0 |         111612 |           52057 |                 0 |                   0 |                0 |                 0 |                 0 |                    0 |                  0 |                 0 |        1.45743e+06 |              0 |                  0 |                  0 |                     0 |               0 |      1.50949e+06 |                  0 |                 0 |                 0 |                0 |                   0 |                  0 |          622410 |                   0 |          7600 |       630010 |                879477 |                       0 |                       0 |                   0 |                  0 |                 0 |           879477 |        1.50949e+06 |        nan |                0 |            0 |       0           |                   0 |             0 |        0           |                0 |         0           |            0           |           0 |                  0 |            0 |      0           |                    0 |                   0 |                    0 |                       0 |                   0 |             0 |                  0 |                      0 |                0 |              0 |                 0 |                      0 |           0 |                      0 |                  0 |                   0 |            0 |            0 |\n",
       "| P       |  60891737 | 2011-10-01 00:00:00 |          5 | N                  | N          | N                   | nan               | N              | N                   | N                | N                 | N                    | N                       | Y                  | N                 | N                  | N              | N              | N                    | N                    | N                 | N                     | N              | N                | N             | N                  | N                     | N                  | N                | N                 |                nan | N                  | N                  | N                    | N              | N                 | N                   | N               | nan                  | nan                | N                | N                 | N                | N                 | N                 | N               | N           | N                   | N              | N             | N            | N              | nan           | N                   | Y              |          0 |         0 | Y                |                43 | Y                | N               |            nan | N            | N                   | N                 |             nan | N                |           nan | nan              |             nan | nan            |          0 | nan          | nan              | nan            | nan             | nan              | nan              | nan                |                0 |                   0 |               0 |             0 |                nan |            0 |             nan |                 0 |               0 | N             |           nan |               0 |                 0 |             0 |                0 |                     0 |              0 |                nan |         296865 |                nan |              0 |                nan |              0 |                nan |              0 |                nan |              0 |              0 |          296865 |           231 |                     0 |            0 |             0 |              0 |               0 |                0 |             0 |              0 |            0 |             0 |             0 |              0 |              0 |          0 |          0 |         0 |               0 |                0 |               0 |              0 |               0 |              0 |               0 |                0 |             0 |            nan |          2703 |            nan |            3000 |            nan |               0 |               0 |            5703 |       302799 |             0 |              0 |                 0 |                0 |                   0 |                  0 |          30171 |                   0 |                  0 |        3209 |                 0 |           0 |              0 |                  0 |               0 |                      0 |             31848 |        23347 |          330 |          0 |              0 |       46963 |        0 |                     0 |                5067 |         20204 |                 0 |             33976 |       19021 |        41487 |         5184 |        41184 |        37261 |        78940 |            0 |         418192 |           17327 |             10879 |                   0 |                0 |                 0 |                 0 |                 2602 |                  0 |                 0 |   934054           |              0 |                  0 |                  0 |                     0 |               0 | 964862           |                  0 |                 0 |                 0 |                0 |                   0 |                  0 |          375650 |                   0 |             0 |       375650 |                589212 |                       0 |                       0 |                   0 |                  0 |                 0 |           589212 |   964862           |        nan |                0 |            0 |       0           |                   0 |             0 |        0           |                0 |         0           |            0           |           0 |                  0 |            0 |      0           |                    0 |                   0 |                    0 |                       0 |                   0 |             0 |                  0 |                      0 |                0 |              0 |                 0 |                      0 |           0 |                      0 |                  0 |                   0 |            0 |            0 |\n",
       "| P       | 660550623 | 2011-12-01 00:00:00 |          3 | Y                  | Y          | N                   | N                 | N              | N                   | N                | N                 | N                    | N                       | N                  | N                 | N                  | N              | N              | N                    | N                    | N                 | N                     | N              | N                | N             | N                  | N                     | N                  | N                | N                 |                nan | N                  | N                  | N                    | N              | nan               | nan                 | nan             | N                    | N                  | N                | N                 | N                | N                 | N                 | N               | N           | N                   | N              | N             | N            | N              | N             | N                   | Y              |      20319 |         0 | N                |                 2 | Y                | N               |            nan | N            | N                   | N                 |             nan | N                |           nan | nan              |             nan | nan            |          0 | nan          | nan              | nan            | nan             | nan              | nan              | nan                |                0 |                   0 |               0 |             0 |                nan |            0 |             nan |                 0 |               0 | N             |           nan |               0 |                 0 |             0 |                0 |                     0 |          51958 |                nan |              0 |                nan |              0 |                nan |              0 |                nan |              0 |                nan |              0 |              0 |               0 |             0 |                     0 |            0 |             0 |              0 |               0 |                0 |             0 |              0 |            0 |             0 |             0 |              0 |              0 |          0 |          0 |         0 |               0 |                0 |               0 |              0 |               0 |              0 |               0 |                0 |             0 |            nan |             0 |            nan |               0 |            nan |               0 |               0 |               0 |        51958 |             0 |              0 |                 0 |                0 |                   0 |                  0 |          20790 |                   0 |               1193 |        2033 |                 0 |           0 |              0 |                  0 |               0 |                      0 |             11954 |         2844 |         5521 |          0 |              0 |           0 |     4832 |                     0 |                   0 |             0 |                 0 |                 0 |         857 |            0 |            0 |            0 |            0 |            0 |            0 |          50024 |           55339 |                 0 |                   0 |                0 |                 0 |                 0 |                    0 |                  0 |                 0 |        0           |              0 |                  0 |                  0 |                     0 |               0 |  55339           |                  0 |                 0 |                 0 |                0 |                   0 |                  0 |               0 |                   0 |             0 |            0 |                     0 |                       0 |                       0 |                   0 |                  0 |             55339 |            55339 |    55339           |          7 |                0 |            0 |  297377           |               24187 |         20450 |   342014           |                0 |    342014           |       342014           |           0 |                  0 |            0 | 342014           |                    0 |                   0 |                    0 |                       0 |                   0 |             0 |                  0 |                      0 |                0 |              0 |                 0 |                      0 |           0 |                      0 |                  0 |                   0 |            0 |            0 |\n",
       "| P       | 464039105 | 2012-06-01 00:00:00 |          3 | Y                  | Y          | N                   | N                 | N              | N                   | N                | N                 | N                    | N                       | N                  | N                 | N                  | N              | Y              | N                    | Y                    | N                 | N                     | N              | N                | N             | N                  | N                     | N                  | N                | N                 |                nan | N                  | N                  | N                    | N              | nan               | nan                 | nan             | N                    | N                  | N                | N                 | N                | N                 | N                 | N               | N           | N                   | N              | N             | Y            | N              | N             | N                   | Y              |          0 |         0 | Y                |                22 | Y                | N               |            nan | N            | N                   | N                 |             nan | N                |           nan | N                |             nan | N              |          0 | N            | N                | nan            | nan             | nan              | nan              | nan                |                0 |                   0 |               0 |             0 |                nan |            0 |             nan |                 0 |               0 | N             |           nan |           53800 |                 0 |             0 |                0 |                     0 |         768494 |             616000 |          99738 |                nan |              0 |                nan |              0 |                nan |              0 |                nan |              0 |              0 |           99738 |             0 |                     0 |            0 |             0 |              0 |               0 |                0 |             0 |              0 |            0 |             0 |             0 |              0 |              0 |          0 |          0 |         0 |               0 |                0 |               0 |              0 |               0 |              0 |               0 |                0 |             0 |            nan |             0 |            nan |               0 |            nan |               0 |               0 |               0 |       868232 |             0 |              0 |                 0 |                0 |               53800 |                  0 |         517025 |                   0 |              18559 |       43668 |                 0 |           0 |              0 |                  0 |               0 |                      0 |                 0 |            0 |        21734 |          0 |              0 |       64500 |       82 |                     0 |                   0 |          3858 |                 0 |                 0 |       17371 |        29928 |        88642 |         9241 |        45458 |        20206 |            0 |         934072 |           96395 |                 0 |                   0 |                0 |                 0 |                 0 |                    0 |                  0 |                 0 |        0           |              0 |                  0 |                  0 |                     0 |               0 |  96395           |                  0 |                 0 |                 0 |                0 |                   0 |                  0 |               0 |               82900 |         36058 |       118958 |                -22563 |                       0 |                       0 |                   0 |                  0 |                 0 |           -22563 |    96395           |          7 |                0 |            0 |       4.03637e+06 |                   0 |             0 |        4.03637e+06 |                0 |         4.03637e+06 |            4.03637e+06 |           0 |                  0 |            0 |      4.03637e+06 |                    0 |                   0 |                    0 |                       0 |                   0 |             0 |                  0 |                      0 |                0 |              0 |                 0 |                      0 |           0 |                      0 |                  0 |                   0 |            0 |            0 |\n",
       "| P       | 161696098 | 2012-12-01 00:00:00 |          3 | Y                  | N          | N                   | N                 | N              | N                   | N                | N                 | N                    | N                       | N                  | N                 | N                  | N              | N              | N                    | N                    | N                 | N                     | N              | N                | N             | N                  | N                     | N                  | N                | N                 |                nan | N                  | N                  | N                    | N              | nan               | nan                 | nan             | N                    | N                  | N                | N                 | N                | N                 | N                 | N               | N           | N                   | N              | N             | N            | N              | N             | N                   | Y              |          0 |         0 | N                |                 0 | N                | N               |            nan | N            | N                   | N                 |             nan | N                |           nan | N                |             nan | N              |          0 | N            | N                | N              | N               | N                | N                | N                  |                0 |                   0 |               0 |             0 |                nan |            0 |             nan |                 0 |               0 | N             |           nan |               0 |                 0 |             0 |                0 |                     0 |           7760 |             900099 |              0 |                nan |              0 |                nan |              0 |                nan |              0 |                nan |              0 |              0 |               0 |             0 |                     0 |            0 |             0 |              0 |               0 |                0 |             0 |              0 |            0 |             0 |             0 |              0 |              0 |          0 |          0 |         0 |               0 |                0 |               0 |              0 |               0 |              0 |               0 |                0 |             0 |            nan |             0 |            nan |               0 |            nan |               0 |               0 |               0 |         7760 |             0 |              0 |                 0 |                0 |                   0 |                  0 |              0 |                   0 |                  0 |           0 |               612 |           0 |              0 |                  0 |               0 |                      0 |                 0 |            0 |         3916 |          0 |              0 |           0 |        0 |                     0 |                   0 |             0 |                 0 |                 0 |           0 |         2160 |         1548 |         1699 |          500 |         2617 |            0 |          13052 |           -5292 |                 0 |                   0 |                0 |                 0 |                 0 |                    0 |                  0 |                 0 |        0           |              0 |                  0 |                  0 |                     0 |               0 |  -5292           |                  0 |                 0 |                 0 |                0 |                   0 |                  0 |               0 |                   0 |             0 |            0 |                 -5292 |                       0 |                       0 |                   0 |                  0 |                 0 |            -5292 |    -5292           |          9 |                0 |            0 |       0           |                   0 |             0 |        0           |                0 |         0           |            0           |           0 |                  0 |            0 |      0           |                    0 |              121247 |                    0 |                       0 |                   0 |             0 |             121247 |                      0 |                0 |              0 |            121247 |                 121247 |           0 |                      0 |                  0 |                   0 |            0 |       121247 |"
      ],
      "text/plain": [
       "<IPython.core.display.Markdown object>"
      ]
     },
     "metadata": {},
     "output_type": "display_data"
    }
   ],
   "source": [
    "# Standardize column names.\n",
    "form_990_2022.columns = [x.lower() for x in form_990_2022.columns]\n",
    "\n",
    "# Replace zeros with NaN for appropriate columns.\n",
    "\n",
    "# Replace NaN with appropriate values accordingly.\n",
    "\n",
    "# Convert columns to appropriate data types.\n",
    "date_cols = ['tax_pd']\n",
    "for col in date_cols:\n",
    "    form_990_2022[col] = form_990_2022[col].astype(str).str.replace('\\.0$', '', regex=True)\n",
    "    form_990_2022[col] = pd.to_datetime(form_990_2022[col], format='%Y%m', errors='coerce')\n",
    "\n",
    "# Drop duplicates by keeping last tax_pd date.\n",
    "form_990_2022 = form_990_2022.sort_values('tax_pd').drop_duplicates('ein',keep='last') \n",
    "\n",
    "# Convert dtype for appropriate columns.\n",
    "form_990_2022['ein'] = form_990_2022['ein'].astype(str).str.replace('\\.0$', '', regex=True)\n",
    "\n",
    "# Show cleaned data.\n",
    "head_caption = \"Cleaned data sample view:\"\n",
    "head_df = form_990_2022.head().copy()\n",
    "head_markdown = head_caption + \"\\n\\n\" + head_df.to_markdown(index=False)\n",
    "display(Markdown(head_markdown))"
   ]
  },
  {
   "cell_type": "markdown",
   "metadata": {},
   "source": [
    "# 4. Analysis\n",
    "Objective: Determine if the 990 Form can be used to conduct a comprehensive analysis of existing philanthropic giving in environmental and social justice. Additionally, can it be used to assess the level of transparency and accountability in current giving practices?\n"
   ]
  },
  {
   "cell_type": "code",
   "execution_count": 3,
   "metadata": {},
   "outputs": [],
   "source": [
    "def display_head(df, columns, caption):\n",
    "    head_df = df[columns].head()\n",
    "    head_markdown = f\"{caption}\\n\\n{head_df.to_markdown(index=False)}\"\n",
    "    display(Markdown(head_markdown))\n",
    "def display_unique_values(df, columns):\n",
    "    unique_val_df = df[columns].value_counts().reset_index()\n",
    "    uni_markdown = f\"{unique_val_df.to_markdown(index=False)}\"\n",
    "    display(Markdown(uni_markdown))\n",
    "def display_missing_cts(df, columns):\n",
    "    missing_values = df[columns].isna().sum().reset_index()\n",
    "    missing_markdown = f\"{missing_values.rename(columns={'index':'column name',0:'missing data points'}).to_markdown(index=False)}\"\n",
    "    display(Markdown(missing_markdown))\n",
    "def display_stats(df, columns):\n",
    "    stats = df[columns].describe().reset_index()\n",
    "    for col in stats.columns[1:]:  \n",
    "        if df[col].dtype == 'float64' or df[col].dtype == 'float32':\n",
    "            stats[col] = stats[col].astype(float).apply(lambda x: f\"{x:,.0f}\")\n",
    "    stats_markdown = stats.rename(columns={'index': 'Statistics'}).to_markdown(index=False)\n",
    "    display(Markdown(stats_markdown))"
   ]
  },
  {
   "cell_type": "markdown",
   "metadata": {},
   "source": [
    "## 4.1. Indentifying Relevant Organizations\n",
    "\n",
    "The 990 Form can be filtered to reflect organizations by their codes (reflecting their primary mission), enabling the identification of nonprofits focused on environmental protection, social justice, advocacy, and related activities. This step is crucial for creating a focused dataset of relevant organizations for our objective above.\n",
    "\n",
    "Assuming that the action item (below) has been completed, the next order of data maniputlation should involve filtering the 990 Form in the same manner as the Exempt Organizations Business Master File was filtered for consistency. \n",
    "\n",
    "**Action item**: Review with team to determine which column makes the most sense to use to filter relevant orgs. Options include:\n",
    "* Subection and Classification codes.\n",
    "* National Taxonomy of Exempt Entities (NTEE) codes (many are missing unfortunately).\n",
    "* Foundation codes.\n",
    "* Activity codes (most likely not useful since becoming obsolete with the adoption of the NTEE coding system in January 1995)."
   ]
  },
  {
   "cell_type": "code",
   "execution_count": 4,
   "metadata": {},
   "outputs": [],
   "source": [
    "# Insert code here for appropriate filtering if necessary."
   ]
  },
  {
   "cell_type": "markdown",
   "metadata": {},
   "source": [
    "## 4.2 Compliance and Legal Requirements\n",
    "\n",
    "Analyzing compliance and legal requirements for tax-exempt organizations helps assess their transparency and accountability. It ensures they adhere to legal and financial standards, showcases their commitment to ethical practices, and reflects their operational integrity."
   ]
  },
  {
   "cell_type": "markdown",
   "metadata": {},
   "source": [
    "### 4.2.1 Tax Compliance and Reporting \n",
    "\n",
    "* **Compliance with backup withholding?** (wthldngrulescd): \n",
    "  * Assess whether organizations comply with backup withholding requirements, indicating adherence to tax obligations.\n",
    "* **Employment tax returns filed?** (filerqrdrtnscd): \n",
    "  * Indicates whether the organization has filed the required employment tax returns (like Form 941 or Form 944), which report wages paid and the taxes withheld from employees.\n",
    "* **Form 990-T filed?** (filedf990tcd): \n",
    "  * This form is filed by tax-exempt organizations that have unrelated business income (UBI) that is taxable.\n"
   ]
  },
  {
   "cell_type": "code",
   "execution_count": 5,
   "metadata": {},
   "outputs": [
    {
     "data": {
      "text/markdown": [
       "| Statistics   | wthldngrulescd   | filerqrdrtnscd   | filedf990tcd   |\n",
       "|:-------------|:-----------------|:-----------------|:---------------|\n",
       "| count        | 189006           | 188734           | 29617          |\n",
       "| unique       | 2                | 2                | 2              |\n",
       "| top          | Y                | Y                | Y              |\n",
       "| freq         | 140610           | 172425           | 24954          |"
      ],
      "text/plain": [
       "<IPython.core.display.Markdown object>"
      ]
     },
     "metadata": {},
     "output_type": "display_data"
    },
    {
     "data": {
      "text/markdown": [
       "| column name    |   missing data points |\n",
       "|:---------------|----------------------:|\n",
       "| wthldngrulescd |                113562 |\n",
       "| filerqrdrtnscd |                113834 |\n",
       "| filedf990tcd   |                272951 |"
      ],
      "text/plain": [
       "<IPython.core.display.Markdown object>"
      ]
     },
     "metadata": {},
     "output_type": "display_data"
    }
   ],
   "source": [
    "head_columns = ['ein', 'wthldngrulescd','filerqrdrtnscd','filedf990tcd']\n",
    "#display_head(form_990_2022, head_columns, \"Tax Compliance/Reporting Columns, Unique Values and Missing Data Counts:\")\n",
    "\n",
    "unique_columns = ['wthldngrulescd','filerqrdrtnscd','filedf990tcd']\n",
    "display_stats(form_990_2022, unique_columns)\n",
    "\n",
    "display_missing_cts(form_990_2022, unique_columns)\n"
   ]
  },
  {
   "cell_type": "markdown",
   "metadata": {},
   "source": [
    "### 4.2.2 Specific Transaction Reporting\n",
    "\n",
    "* **Form 1098-C filed?** (filedf1098ccd): \n",
    "    * This form is filed when a charitable organization receives a vehicle donation valued over $500. It asks if the organization provided the donor with a written acknowledgment (Form 1098-C) of the donation. Analyze for transparency in reporting and tax compliance.\n",
    "* **Form 8282 property disposed of?** (filedf8282cd):  \n",
    "    * If the organization disposed of charitable deduction property or other types of property for which it had to use Form 8283 to report to the donors, Form 8282 must be filed within 125 days after the disposition of the property. Analyze for transparency in reporting and tax compliance.\n",
    "* **Form 8886-T filed?** (filedf8886tcd): \n",
    "    * Used by tax-exempt organizations to disclose information about \"prohibited tax shelter transactions\" or certain other types of transactions they are involved in, ensuring transparency and compliance with tax regulations.\n",
    "* **Form 8899 filed?** (filedf8899cd): \n",
    "    * Filed when an organization receives donations of intellectual property and earns income from it. Analyze for transparency in reporting and tax compliance."
   ]
  },
  {
   "cell_type": "code",
   "execution_count": 6,
   "metadata": {},
   "outputs": [
    {
     "data": {
      "text/markdown": [
       "| Statistics   | filedf1098ccd   | filedf8282cd   | filedf8886tcd   | filedf8899cd   |\n",
       "|:-------------|:----------------|:---------------|:----------------|:---------------|\n",
       "| count        | 71888           | 208163         | 2141            | 71600          |\n",
       "| unique       | 2               | 2              | 2               | 2              |\n",
       "| top          | N               | N              | N               | N              |\n",
       "| freq         | 70310           | 207732         | 2125            | 71098          |"
      ],
      "text/plain": [
       "<IPython.core.display.Markdown object>"
      ]
     },
     "metadata": {},
     "output_type": "display_data"
    },
    {
     "data": {
      "text/markdown": [
       "| column name   |   missing data points |\n",
       "|:--------------|----------------------:|\n",
       "| filedf1098ccd |                230680 |\n",
       "| filedf8282cd  |                 94405 |\n",
       "| filedf8886tcd |                300427 |\n",
       "| filedf8899cd  |                230968 |"
      ],
      "text/plain": [
       "<IPython.core.display.Markdown object>"
      ]
     },
     "metadata": {},
     "output_type": "display_data"
    }
   ],
   "source": [
    "head_columns = ['ein', 'filedf1098ccd','filedf8282cd','filedf8886tcd','filedf8899cd']\n",
    "#display_head(form_990_2022, head_columns, \"Specific Transaction Reporting Columns, Unique Values and Missing Data Counts:\")\n",
    "\n",
    "unique_columns = ['filedf1098ccd','filedf8282cd','filedf8886tcd','filedf8899cd']\n",
    "display_stats(form_990_2022, unique_columns)\n",
    "\n",
    "display_missing_cts(form_990_2022, unique_columns)\n"
   ]
  },
  {
   "cell_type": "markdown",
   "metadata": {},
   "source": [
    "### 4.2.3 Financial Transparency and Accountability\n",
    "\n",
    "* **Included in consolidated financial statements?** (inclinfinstmtcd): \n",
    "  * May determine if the entity's financial information is reported as part of the collective financial results of a larger group to which it belongs.\n",
    "* **Separate audited financial statement** (sepindaudfinstmtcd): \n",
    "  * This asks if the organization has prepared a set of financial statements that were audited by an independent auditor following generally accepted auditing standards."
   ]
  },
  {
   "cell_type": "code",
   "execution_count": 7,
   "metadata": {},
   "outputs": [
    {
     "data": {
      "text/markdown": [
       "| sepindaudfinstmtcd   | inclinfinstmtcd   |   count |\n",
       "|:---------------------|:------------------|--------:|\n",
       "| N                    | N                 |  190129 |\n",
       "| Y                    | N                 |   78595 |\n",
       "| N                    | Y                 |   27062 |\n",
       "| Y                    | Y                 |    6743 |"
      ],
      "text/plain": [
       "<IPython.core.display.Markdown object>"
      ]
     },
     "metadata": {},
     "output_type": "display_data"
    },
    {
     "data": {
      "text/markdown": [
       "| column name        |   missing data points |\n",
       "|:-------------------|----------------------:|\n",
       "| sepindaudfinstmtcd |                    26 |\n",
       "| inclinfinstmtcd    |                    39 |"
      ],
      "text/plain": [
       "<IPython.core.display.Markdown object>"
      ]
     },
     "metadata": {},
     "output_type": "display_data"
    }
   ],
   "source": [
    "head_columns = ['ein', 'sepindaudfinstmtcd','inclinfinstmtcd']\n",
    "#display_head(form_990_2022, head_columns, \"Financial Transparency & Accountability Columns, Unique Values and Missing Data Counts:\")\n",
    "\n",
    "unique_columns = [ 'sepindaudfinstmtcd','inclinfinstmtcd']\n",
    "display_unique_values(form_990_2022, unique_columns)\n",
    "\n",
    "display_missing_cts(form_990_2022, unique_columns)\n"
   ]
  },
  {
   "cell_type": "markdown",
   "metadata": {},
   "source": [
    "### 4.2.4 Schedules \n",
    "\n",
    "* **Schedule O completed?** (compltschocd): \n",
    "  * Used to provide additional information to the IRS that is not covered elsewhere in Form 990 or its schedules.\n",
    "* **Schedule B required?** (schdbind): \n",
    "  * Required for organizations that receive certain levels of contributions. It provides detailed information about donors who contribute significant amounts to the organization.\n",
    "* **Schedule J required?** (rptyestocompnstncd): \n",
    "  * Used if the organization compensates its officers, directors, trustees, key employees, highest compensated employees, and independent contractors. It provides details on compensation practices and policies."
   ]
  },
  {
   "cell_type": "code",
   "execution_count": 8,
   "metadata": {},
   "outputs": [
    {
     "data": {
      "text/markdown": [
       "| Statistics   | compltschocd   | schdbind   | rptyestocompnstncd   |\n",
       "|:-------------|:---------------|:-----------|:---------------------|\n",
       "| count        | 302514         | 302544     | 302537               |\n",
       "| unique       | 2              | 2          | 2                    |\n",
       "| top          | Y              | Y          | N                    |\n",
       "| freq         | 275980         | 154082     | 238416               |"
      ],
      "text/plain": [
       "<IPython.core.display.Markdown object>"
      ]
     },
     "metadata": {},
     "output_type": "display_data"
    },
    {
     "data": {
      "text/markdown": [
       "| column name        |   missing data points |\n",
       "|:-------------------|----------------------:|\n",
       "| compltschocd       |                    54 |\n",
       "| schdbind           |                    24 |\n",
       "| rptyestocompnstncd |                    31 |"
      ],
      "text/plain": [
       "<IPython.core.display.Markdown object>"
      ]
     },
     "metadata": {},
     "output_type": "display_data"
    }
   ],
   "source": [
    "head_columns = ['ein', 'compltschocd','schdbind','rptyestocompnstncd']\n",
    "#display_head(form_990_2022, head_columns, \"Schedules Information Columns, Unique Values and Missing Data Counts:\")\n",
    "\n",
    "unique_columns = [ 'compltschocd','schdbind','rptyestocompnstncd']\n",
    "display_stats(form_990_2022, unique_columns)\n",
    "\n",
    "display_missing_cts(form_990_2022, unique_columns)\n"
   ]
  },
  {
   "cell_type": "markdown",
   "metadata": {},
   "source": [
    "## 4.3. Financial Information\n",
    "   \n",
    "The following are columns that may be helpful in analyzing financial information for tax exempt organizations. "
   ]
  },
  {
   "cell_type": "markdown",
   "metadata": {},
   "source": [
    "### 4.3.1. Expenses\n",
    "* **Accounting fees** (accntingfees): \n",
    "  * High fees may indicate rigorous financial oversight and auditing, contributing to transparency.\n",
    "* **Compensation of current officers, directors, etc.** (compnsatncurrofcr): \n",
    "  * Indicates how much of the organization's budget is allocated to leadership.\n",
    "* **Compensation of disqualified persons** (compnsatnandothr): \n",
    "  * Helps identify potential conflicts of interest or self-dealing, which are critical for evaluating ethical practices.\n",
    "* **Fundraising expenses** (lessdirfndrsng): \n",
    "  * Reveals the efficiency of fundraising efforts if compared to fundraising income. \n",
    "* **Interest expense** (interestamt):  \n",
    "  * Insights into the organization's debt levels can inform assessments of financial health and sustainability.\n",
    "* **Legal fees** (legalfees): \n",
    "  * Elevated fees may be associated with compliance, litigation, or regulatory challenges.\n",
    "* **Management fees** (feesforsrvcmgmt):\n",
    "  * Can provide an understanding of how much is spent on external management services.\n",
    "* **Travel/entertainment expenses to public officials** (travelofpublicoffcl):\n",
    "  * Spending in this area might reflect lobbying or advocacy efforts.\n",
    "* **Lobbying fees** (feesforsrvclobby): \n",
    "  * Indicates the organization's investment in influencing public policy."
   ]
  },
  {
   "cell_type": "code",
   "execution_count": 12,
   "metadata": {},
   "outputs": [
    {
     "data": {
      "text/markdown": [
       "Operational Expenses Stats and Missing Data Counts:"
      ],
      "text/plain": [
       "<IPython.core.display.Markdown object>"
      ]
     },
     "metadata": {},
     "output_type": "display_data"
    },
    {
     "data": {
      "text/markdown": [
       "| Statistics   | accntingfees   | legalfees   | feesforsrvcmgmt   | interestamt   |\n",
       "|:-------------|:---------------|:------------|:------------------|:--------------|\n",
       "| count        | 302,567        | 302,567     | 302,567           | 302,567       |\n",
       "| mean         | 16,464         | 24,147      | 84,727            | 109,351       |\n",
       "| std          | 254,240        | 457,998     | 3,589,010         | 2,738,262     |\n",
       "| min          | -250,080       | -2,509,474  | -1,661,700        | -36,829,924   |\n",
       "| 25%          | 0              | 0           | 0                 | 0             |\n",
       "| 50%          | 2,777          | 0           | 0                 | 0             |\n",
       "| 75%          | 12,134         | 690         | 0                 | 9             |\n",
       "| max          | 125,165,101    | 78,620,215  | 1,239,504,856     | 887,289,629   |"
      ],
      "text/plain": [
       "<IPython.core.display.Markdown object>"
      ]
     },
     "metadata": {},
     "output_type": "display_data"
    },
    {
     "data": {
      "text/markdown": [
       "| column name     |   missing data points |\n",
       "|:----------------|----------------------:|\n",
       "| accntingfees    |                     1 |\n",
       "| legalfees       |                     1 |\n",
       "| feesforsrvcmgmt |                     1 |\n",
       "| interestamt     |                     1 |"
      ],
      "text/plain": [
       "<IPython.core.display.Markdown object>"
      ]
     },
     "metadata": {},
     "output_type": "display_data"
    }
   ],
   "source": [
    "head_columns = ['ein', 'accntingfees','legalfees','feesforsrvcmgmt','interestamt']\n",
    "display(Markdown('Operational Expenses Stats and Missing Data Counts:'))\n",
    "\n",
    "unique_columns = [ 'accntingfees','legalfees','feesforsrvcmgmt','interestamt']\n",
    "display_stats(form_990_2022, unique_columns)\n",
    "\n",
    "display_missing_cts(form_990_2022, unique_columns)\n"
   ]
  },
  {
   "cell_type": "code",
   "execution_count": 13,
   "metadata": {},
   "outputs": [
    {
     "data": {
      "text/markdown": [
       "Governance & Compliance Expenses Stats and Missing Data Counts:"
      ],
      "text/plain": [
       "<IPython.core.display.Markdown object>"
      ]
     },
     "metadata": {},
     "output_type": "display_data"
    },
    {
     "data": {
      "text/markdown": [
       "| Statistics   | compnsatncurrofcr   | compnsatnandothr   |\n",
       "|:-------------|:--------------------|:-------------------|\n",
       "| count        | 302,567             | 302,567            |\n",
       "| mean         | 148,922             | 18,745             |\n",
       "| std          | 1,035,575           | 956,231            |\n",
       "| min          | -255,394            | -104,000           |\n",
       "| 25%          | 0                   | 0                  |\n",
       "| 50%          | 0                   | 0                  |\n",
       "| 75%          | 92,800              | 0                  |\n",
       "| max          | 290,936,676         | 348,932,907        |"
      ],
      "text/plain": [
       "<IPython.core.display.Markdown object>"
      ]
     },
     "metadata": {},
     "output_type": "display_data"
    },
    {
     "data": {
      "text/markdown": [
       "| column name       |   missing data points |\n",
       "|:------------------|----------------------:|\n",
       "| compnsatncurrofcr |                     1 |\n",
       "| compnsatnandothr  |                     1 |"
      ],
      "text/plain": [
       "<IPython.core.display.Markdown object>"
      ]
     },
     "metadata": {},
     "output_type": "display_data"
    }
   ],
   "source": [
    "head_columns = ['ein', 'compnsatncurrofcr','compnsatnandothr']\n",
    "#display_head(form_990_2022, head_columns, \"Governance & Compliance Expenses Sample View, Summary Statistics and Missing Data Counts:\")\n",
    "display(Markdown('Governance & Compliance Expenses Stats and Missing Data Counts:'))\n",
    "\n",
    "unique_columns = [ 'compnsatncurrofcr','compnsatnandothr']\n",
    "display_stats(form_990_2022, unique_columns)\n",
    "\n",
    "display_missing_cts(form_990_2022, unique_columns)\n"
   ]
  },
  {
   "cell_type": "code",
   "execution_count": 14,
   "metadata": {},
   "outputs": [
    {
     "data": {
      "text/markdown": [
       "Advocacy and Development Expenses Stats and Missing Data Counts:"
      ],
      "text/plain": [
       "<IPython.core.display.Markdown object>"
      ]
     },
     "metadata": {},
     "output_type": "display_data"
    },
    {
     "data": {
      "text/markdown": [
       "| Statistics   | lessdirfndrsng   | feesforsrvclobby   | travelofpublicoffcl   |\n",
       "|:-------------|:-----------------|:-------------------|:----------------------|\n",
       "| count        | 302,567          | 302,567            | 302,567               |\n",
       "| mean         | 10,229           | 3,786              | 76                    |\n",
       "| std          | 115,939          | 248,544            | 4,351                 |\n",
       "| min          | -342,167         | -522               | -1,422                |\n",
       "| 25%          | 0                | 0                  | 0                     |\n",
       "| 50%          | 0                | 0                  | 0                     |\n",
       "| 75%          | 0                | 0                  | 0                     |\n",
       "| max          | 28,140,778       | 130,670,613        | 1,442,748             |"
      ],
      "text/plain": [
       "<IPython.core.display.Markdown object>"
      ]
     },
     "metadata": {},
     "output_type": "display_data"
    },
    {
     "data": {
      "text/markdown": [
       "| column name         |   missing data points |\n",
       "|:--------------------|----------------------:|\n",
       "| lessdirfndrsng      |                     1 |\n",
       "| feesforsrvclobby    |                     1 |\n",
       "| travelofpublicoffcl |                     1 |"
      ],
      "text/plain": [
       "<IPython.core.display.Markdown object>"
      ]
     },
     "metadata": {},
     "output_type": "display_data"
    }
   ],
   "source": [
    "head_columns = ['ein', 'lessdirfndrsng','feesforsrvclobby','travelofpublicoffcl']\n",
    "#display_head(form_990_2022, head_columns, \"Advocacy and Development Expenses Expenses Sample View, Summary Statistics and Missing Data Counts:\")\n",
    "display(Markdown('Advocacy and Development Expenses Stats and Missing Data Counts:'))\n",
    "\n",
    "unique_columns = [ 'lessdirfndrsng','feesforsrvclobby','travelofpublicoffcl']\n",
    "display_stats(form_990_2022, unique_columns)\n",
    "\n",
    "display_missing_cts(form_990_2022, unique_columns)\n"
   ]
  },
  {
   "cell_type": "markdown",
   "metadata": {},
   "source": [
    "### 4.3.2 Assets and Liabilities\n",
    "* Intangible assets -- eoy\n",
    "* Total assets -- eoy\n",
    "* Total liabilities -- eoy\n",
    "* Total Liabilities + Net Assets -- eoy\n",
    "* Total Net Assets -- eoy\n",
    "* Land, buildings, & equipment (net) -- eoy\n",
    "* Investments in other securities -- eoy\n",
    "* Investments in publicly traded securities -- eoy"
   ]
  },
  {
   "cell_type": "code",
   "execution_count": 15,
   "metadata": {},
   "outputs": [
    {
     "data": {
      "text/markdown": [
       "Assets Stats and Missing Data Counts:"
      ],
      "text/plain": [
       "<IPython.core.display.Markdown object>"
      ]
     },
     "metadata": {},
     "output_type": "display_data"
    },
    {
     "data": {
      "text/markdown": [
       "| Statistics   | intangibleassetsend   | totassetsend    | totnetassetend   | lndbldgsequipend   |\n",
       "|:-------------|:----------------------|:----------------|:-----------------|:-------------------|\n",
       "| count        | 302,567               | 302,567         | 302,567          | 302,567            |\n",
       "| mean         | 95,511                | 25,333,061      | 14,947,363       | 4,853,755          |\n",
       "| std          | 6,902,728             | 488,396,351     | 329,075,888      | 74,485,565         |\n",
       "| min          | -966,054              | -18,791,913     | -6,988,396,841   | -3,191,287         |\n",
       "| 25%          | 0                     | 267,718         | 170,890          | 0                  |\n",
       "| 50%          | 0                     | 842,983         | 621,358          | 22,239             |\n",
       "| 75%          | 0                     | 3,348,143       | 2,342,776        | 611,870            |\n",
       "| max          | 3,194,166,742         | 109,337,000,000 | 65,568,618,577   | 18,734,223,221     |"
      ],
      "text/plain": [
       "<IPython.core.display.Markdown object>"
      ]
     },
     "metadata": {},
     "output_type": "display_data"
    },
    {
     "data": {
      "text/markdown": [
       "| column name         |   missing data points |\n",
       "|:--------------------|----------------------:|\n",
       "| intangibleassetsend |                     1 |\n",
       "| totassetsend        |                     1 |\n",
       "| totnetassetend      |                     1 |\n",
       "| lndbldgsequipend    |                     1 |"
      ],
      "text/plain": [
       "<IPython.core.display.Markdown object>"
      ]
     },
     "metadata": {},
     "output_type": "display_data"
    }
   ],
   "source": [
    "head_columns = ['ein', 'intangibleassetsend','totassetsend','totnetassetend','lndbldgsequipend']\n",
    "#display_head(form_990_2022, head_columns, \"Assets Sample View, Summary Statistics and Missing Data Counts:\")\n",
    "display(Markdown('Assets Stats and Missing Data Counts:'))\n",
    "\n",
    "unique_columns = [ 'intangibleassetsend','totassetsend','totnetassetend','lndbldgsequipend']\n",
    "display_stats(form_990_2022, unique_columns)\n",
    "\n",
    "display_missing_cts(form_990_2022, unique_columns)\n"
   ]
  },
  {
   "cell_type": "code",
   "execution_count": 16,
   "metadata": {},
   "outputs": [
    {
     "data": {
      "text/markdown": [
       "Liabilities Stats and Missing Data Counts:"
      ],
      "text/plain": [
       "<IPython.core.display.Markdown object>"
      ]
     },
     "metadata": {},
     "output_type": "display_data"
    },
    {
     "data": {
      "text/markdown": [
       "| Statistics   | totliabend     | totnetliabastend   |\n",
       "|:-------------|:---------------|:-------------------|\n",
       "| count        | 302,567        | 302,567            |\n",
       "| mean         | 10,385,678     | 25,333,032         |\n",
       "| std          | 270,363,350    | 488,396,353        |\n",
       "| min          | -9,410,630     | -18,791,913        |\n",
       "| 25%          | 0              | 267,750            |\n",
       "| 50%          | 35,737         | 843,003            |\n",
       "| 75%          | 449,692        | 3,348,206          |\n",
       "| max          | 98,638,683,146 | 109,337,000,000    |"
      ],
      "text/plain": [
       "<IPython.core.display.Markdown object>"
      ]
     },
     "metadata": {},
     "output_type": "display_data"
    },
    {
     "data": {
      "text/markdown": [
       "| column name      |   missing data points |\n",
       "|:-----------------|----------------------:|\n",
       "| totliabend       |                     1 |\n",
       "| totnetliabastend |                     1 |"
      ],
      "text/plain": [
       "<IPython.core.display.Markdown object>"
      ]
     },
     "metadata": {},
     "output_type": "display_data"
    }
   ],
   "source": [
    "head_columns = ['ein', 'totliabend','totnetliabastend']\n",
    "#display_head(form_990_2022, head_columns, \"Liabilities Sample View, Summary Statistics and Missing Data Counts:\")\n",
    "display(Markdown('Liabilities Stats and Missing Data Counts:'))\n",
    "\n",
    "unique_columns = [ 'totliabend','totnetliabastend']\n",
    "display_stats(form_990_2022, unique_columns)\n",
    "\n",
    "display_missing_cts(form_990_2022, unique_columns)\n"
   ]
  },
  {
   "cell_type": "code",
   "execution_count": 17,
   "metadata": {},
   "outputs": [
    {
     "data": {
      "text/markdown": [
       "Investments Stats and Missing Data Counts:"
      ],
      "text/plain": [
       "<IPython.core.display.Markdown object>"
      ]
     },
     "metadata": {},
     "output_type": "display_data"
    },
    {
     "data": {
      "text/markdown": [
       "| Statistics   | invstmntsothrend   | invstmntsend   |\n",
       "|:-------------|:-------------------|:---------------|\n",
       "| count        | 302,567            | 302,567        |\n",
       "| mean         | 4,607,963          | 6,691,181      |\n",
       "| std          | 193,548,972        | 205,204,512    |\n",
       "| min          | -126,971,236       | -2,107,316     |\n",
       "| 25%          | 0                  | 0              |\n",
       "| 50%          | 0                  | 0              |\n",
       "| 75%          | 0                  | 0              |\n",
       "| max          | 49,780,087,314     | 49,082,798,623 |"
      ],
      "text/plain": [
       "<IPython.core.display.Markdown object>"
      ]
     },
     "metadata": {},
     "output_type": "display_data"
    },
    {
     "data": {
      "text/markdown": [
       "| column name      |   missing data points |\n",
       "|:-----------------|----------------------:|\n",
       "| invstmntsothrend |                     1 |\n",
       "| rptinvstothsecd  |                    27 |\n",
       "| invstmntsend     |                     1 |"
      ],
      "text/plain": [
       "<IPython.core.display.Markdown object>"
      ]
     },
     "metadata": {},
     "output_type": "display_data"
    }
   ],
   "source": [
    "head_columns = ['ein', 'invstmntsothrend','rptinvstothsecd','invstmntsend']\n",
    "#display_head(form_990_2022, head_columns, \"Investments Sample View, Summary Statistics and Missing Data Counts:\")\n",
    "display(Markdown('Investments Stats and Missing Data Counts:'))\n",
    "\n",
    "unique_columns = [ 'invstmntsothrend','rptinvstothsecd','invstmntsend']\n",
    "display_stats(form_990_2022, unique_columns)\n",
    "\n",
    "display_missing_cts(form_990_2022, unique_columns)"
   ]
  },
  {
   "cell_type": "markdown",
   "metadata": {},
   "source": [
    "### 4.3.3 Revenue\n",
    "* Program service revenue\n",
    "* Total revenue\n",
    "* Investment income\n",
    "* Fundraising income\n",
    "* Income from sales of inventory\n",
    "* Net UBI (170)\n",
    "* Net UBI (509)\n",
    "* Gross income from interest etc (170)\n",
    "* Gross income from interest etc (509)\n",
    "* Gross income from members\n",
    "* Gross income from other sources\n",
    "* Gross receipts amount\n",
    "* Gross receipts from related activities (170)\n",
    "* Gross receipts from related activities (509)\n",
    "* Gross rents -- Real estate"
   ]
  },
  {
   "cell_type": "code",
   "execution_count": 18,
   "metadata": {},
   "outputs": [
    {
     "data": {
      "text/markdown": [
       "Direct Mission-Related Revenue Stats and Missing Data Counts:"
      ],
      "text/plain": [
       "<IPython.core.display.Markdown object>"
      ]
     },
     "metadata": {},
     "output_type": "display_data"
    },
    {
     "data": {
      "text/markdown": [
       "| Statistics   | totprgmrevnue   | grsrcptsrelated170   | grsrcptsactivities509   |\n",
       "|:-------------|:----------------|:---------------------|:------------------------|\n",
       "| count        | 302,567         | 302,567              | 302,567                 |\n",
       "| mean         | 7,537,612       | 4,874,712            | 63,710                  |\n",
       "| std          | 177,617,550     | 304,874,226          | 10,532,675              |\n",
       "| min          | -16,997,704     | -1,569,177,171       | -4,112,488              |\n",
       "| 25%          | 0               | 0                    | 0                       |\n",
       "| 50%          | 41,433          | 0                    | 0                       |\n",
       "| 75%          | 434,256         | 0                    | 0                       |\n",
       "| max          | 68,337,728,116  | 114,560,000,000      | 5,596,470,578           |"
      ],
      "text/plain": [
       "<IPython.core.display.Markdown object>"
      ]
     },
     "metadata": {},
     "output_type": "display_data"
    },
    {
     "data": {
      "text/markdown": [
       "| column name           |   missing data points |\n",
       "|:----------------------|----------------------:|\n",
       "| totprgmrevnue         |                     1 |\n",
       "| grsrcptsrelated170    |                     1 |\n",
       "| grsrcptsactivities509 |                     1 |"
      ],
      "text/plain": [
       "<IPython.core.display.Markdown object>"
      ]
     },
     "metadata": {},
     "output_type": "display_data"
    }
   ],
   "source": [
    "head_columns = ['ein', 'totprgmrevnue','grsrcptsrelated170','grsrcptsactivities509']\n",
    "#display_head(form_990_2022, head_columns, \"Direct Mission-Related Revenue Sample View, Summary Statistics and Missing Data Counts:\")\n",
    "display(Markdown('Direct Mission-Related Revenue Stats and Missing Data Counts:'))\n",
    "\n",
    "unique_columns = [ 'totprgmrevnue','grsrcptsrelated170','grsrcptsactivities509']\n",
    "display_stats(form_990_2022, unique_columns)\n",
    "\n",
    "display_missing_cts(form_990_2022, unique_columns)"
   ]
  },
  {
   "cell_type": "code",
   "execution_count": 19,
   "metadata": {},
   "outputs": [
    {
     "data": {
      "text/markdown": [
       "Supplementary and Passive Income Stats and Missing Data Counts:"
      ],
      "text/plain": [
       "<IPython.core.display.Markdown object>"
      ]
     },
     "metadata": {},
     "output_type": "display_data"
    },
    {
     "data": {
      "text/markdown": [
       "| Statistics   | invstmntinc   | grsinc170     | grsinc509   |\n",
       "|:-------------|:--------------|:--------------|:------------|\n",
       "| count        | 302,567       | 302,567       | 302,567     |\n",
       "| mean         | 221,372       | 351,596       | 74,561      |\n",
       "| std          | 7,620,701     | 12,351,410    | 2,371,957   |\n",
       "| min          | -67,276,661   | -40,823,708   | -4,168,671  |\n",
       "| 25%          | 0             | 0             | 0           |\n",
       "| 50%          | 190           | 0             | 0           |\n",
       "| 75%          | 9,676         | 11            | 0           |\n",
       "| max          | 1,957,907,109 | 2,550,388,301 | 663,357,624 |"
      ],
      "text/plain": [
       "<IPython.core.display.Markdown object>"
      ]
     },
     "metadata": {},
     "output_type": "display_data"
    },
    {
     "data": {
      "text/markdown": [
       "| column name   |   missing data points |\n",
       "|:--------------|----------------------:|\n",
       "| invstmntinc   |                     1 |\n",
       "| grsinc170     |                     1 |\n",
       "| grsinc509     |                     1 |"
      ],
      "text/plain": [
       "<IPython.core.display.Markdown object>"
      ]
     },
     "metadata": {},
     "output_type": "display_data"
    }
   ],
   "source": [
    "head_columns = ['ein', 'invstmntinc','grsinc170','grsinc509']\n",
    "#display_head(form_990_2022, head_columns, \"Supplementary and Passive Income Sample View, Summary Statistics and Missing Data Counts:\")\n",
    "display(Markdown('Supplementary and Passive Income Stats and Missing Data Counts:'))\n",
    "\n",
    "unique_columns = [ 'invstmntinc','grsinc170','grsinc509']\n",
    "display_stats(form_990_2022, unique_columns)\n",
    "\n",
    "display_missing_cts(form_990_2022, unique_columns)"
   ]
  },
  {
   "cell_type": "code",
   "execution_count": 20,
   "metadata": {},
   "outputs": [
    {
     "data": {
      "text/markdown": [
       "Fundraising and Non-Mission Stats and Missing Data Counts:"
      ],
      "text/plain": [
       "<IPython.core.display.Markdown object>"
      ]
     },
     "metadata": {},
     "output_type": "display_data"
    },
    {
     "data": {
      "text/markdown": [
       "| Statistics   | netincfndrsng   | grsincmembers   | grsincother   |\n",
       "|:-------------|:----------------|:----------------|:--------------|\n",
       "| count        | 302,567         | 302,567         | 302,567       |\n",
       "| mean         | 6,396           | 230,625         | 8,543         |\n",
       "| std          | 87,257          | 10,323,608      | 619,705       |\n",
       "| min          | -13,121,659     | 0               | -25,005,000   |\n",
       "| 25%          | 0               | 0               | 0             |\n",
       "| 50%          | 0               | 0               | 0             |\n",
       "| 75%          | 0               | 0               | 0             |\n",
       "| max          | 14,362,240      | 3,706,190,064   | 179,381,153   |"
      ],
      "text/plain": [
       "<IPython.core.display.Markdown object>"
      ]
     },
     "metadata": {},
     "output_type": "display_data"
    },
    {
     "data": {
      "text/markdown": [
       "| column name   |   missing data points |\n",
       "|:--------------|----------------------:|\n",
       "| netincfndrsng |                     1 |\n",
       "| grsincmembers |                     1 |\n",
       "| grsincother   |                     1 |"
      ],
      "text/plain": [
       "<IPython.core.display.Markdown object>"
      ]
     },
     "metadata": {},
     "output_type": "display_data"
    }
   ],
   "source": [
    "head_columns = ['ein', 'netincfndrsng','grsincmembers','grsincother']\n",
    "#display_head(form_990_2022, head_columns, \"Fundraising and Non-Mission Income Sample View, Summary Statistics and Missing Data Counts:\")\n",
    "display(Markdown('Fundraising and Non-Mission Stats and Missing Data Counts:'))\n",
    "\n",
    "unique_columns = [ 'netincfndrsng','grsincmembers','grsincother']\n",
    "display_stats(form_990_2022, unique_columns)\n",
    "\n",
    "display_missing_cts(form_990_2022, unique_columns)"
   ]
  },
  {
   "cell_type": "code",
   "execution_count": 21,
   "metadata": {},
   "outputs": [
    {
     "data": {
      "text/markdown": [
       "Unrelated Business and Other Activities Stats and Missing Data Counts:"
      ],
      "text/plain": [
       "<IPython.core.display.Markdown object>"
      ]
     },
     "metadata": {},
     "output_type": "display_data"
    },
    {
     "data": {
      "text/markdown": [
       "| Statistics   | netincunreltd170   | unreltxincls511tx509   | netincsales   | grsrntsreal   |\n",
       "|:-------------|:-------------------|:-----------------------|:--------------|:--------------|\n",
       "| count        | 302,567            | 302,567                | 302,567       | 302,567       |\n",
       "| mean         | 7,559              | 3,491                  | 35,075        | 33,715        |\n",
       "| std          | 292,738            | 961,340                | 1,618,071     | 952,833       |\n",
       "| min          | -16,604,762        | -1,124,379             | -47,654,734   | -3,986,501    |\n",
       "| 25%          | 0                  | 0                      | 0             | 0             |\n",
       "| 50%          | 0                  | 0                      | 0             | 0             |\n",
       "| 75%          | 0                  | 0                      | 0             | 0             |\n",
       "| max          | 76,570,391         | 480,662,670            | 690,476,299   | 238,594,235   |"
      ],
      "text/plain": [
       "<IPython.core.display.Markdown object>"
      ]
     },
     "metadata": {},
     "output_type": "display_data"
    },
    {
     "data": {
      "text/markdown": [
       "| column name          |   missing data points |\n",
       "|:---------------------|----------------------:|\n",
       "| netincunreltd170     |                     1 |\n",
       "| unreltxincls511tx509 |                     1 |\n",
       "| netincsales          |                     1 |\n",
       "| grsrntsreal          |                     1 |"
      ],
      "text/plain": [
       "<IPython.core.display.Markdown object>"
      ]
     },
     "metadata": {},
     "output_type": "display_data"
    }
   ],
   "source": [
    "head_columns = ['ein', 'netincunreltd170','unreltxincls511tx509','netincsales','grsrntsreal']\n",
    "#display_head(form_990_2022, head_columns, \"Unrelated Business and Other Activities Sample View, Summary Statistics and Missing Data Counts:\")\n",
    "display(Markdown('Unrelated Business and Other Activities Stats and Missing Data Counts:'))\n",
    "\n",
    "unique_columns = [ 'netincunreltd170','unreltxincls511tx509','netincsales','grsrntsreal']\n",
    "display_stats(form_990_2022, unique_columns)\n",
    "\n",
    "display_missing_cts(form_990_2022, unique_columns)"
   ]
  },
  {
   "cell_type": "markdown",
   "metadata": {},
   "source": [
    "### 4.3.4 Contributions and Support\n",
    "* Total contributions\n",
    "* Non-deductible contributions\n",
    "* Gifts grants membership fees received (170)\n",
    "* Gifts grants membership fees received (509)\n",
    "* Public support (170)\n",
    "* Public support (509)\n",
    "* Total support (170)\n",
    "* Total support (509)\n"
   ]
  },
  {
   "cell_type": "code",
   "execution_count": 25,
   "metadata": {},
   "outputs": [
    {
     "data": {
      "text/markdown": [
       "| Statistics   | totcntrbgfts   | gftgrntsrcvd170   | totgftgrntrcvd509   | pubsupplesspct170   | pubsupplesub509   | totsupp170     | totsupp509      |\n",
       "|:-------------|:---------------|:------------------|:--------------------|:--------------------|:------------------|:---------------|:----------------|\n",
       "| count        | 302,567        | 302,567           | 302,567             | 302,567             | 302,567           | 302,567        | 302,567         |\n",
       "| mean         | 2,520,504      | 6,863,245         | 874,030             | 6,232,202           | 6,646,222         | 7,391,403      | 6,959,749       |\n",
       "| std          | 60,427,717     | 170,377,928       | 27,019,059          | 158,919,434         | 590,705,512       | 180,125,449    | 592,108,481     |\n",
       "| min          | -3,862,804     | -34,940           | -58,558             | -35,469,055         | -10,414,479       | -34,940        | -10,414,479     |\n",
       "| 25%          | 11,085         | 0                 | 0                   | 0                   | 0                 | 0              | 0               |\n",
       "| 50%          | 171,486        | 0                 | 0                   | 0                   | 0                 | 0              | 0               |\n",
       "| 75%          | 663,806        | 826,866           | 24,000              | 759,907             | 336,654           | 938,236        | 375,198         |\n",
       "| max          | 16,367,570,660 | 50,435,033,482    | 9,495,915,494       | 49,167,605,373      | 308,910,000,000   | 53,061,992,174 | 308,954,000,000 |"
      ],
      "text/plain": [
       "<IPython.core.display.Markdown object>"
      ]
     },
     "metadata": {},
     "output_type": "display_data"
    },
    {
     "data": {
      "text/markdown": [
       "| column name       |   missing data points |\n",
       "|:------------------|----------------------:|\n",
       "| totcntrbgfts      |                     1 |\n",
       "| gftgrntsrcvd170   |                     1 |\n",
       "| totgftgrntrcvd509 |                     1 |\n",
       "| pubsupplesspct170 |                     1 |\n",
       "| pubsupplesub509   |                     1 |\n",
       "| totsupp170        |                     1 |\n",
       "| totsupp509        |                     1 |"
      ],
      "text/plain": [
       "<IPython.core.display.Markdown object>"
      ]
     },
     "metadata": {},
     "output_type": "display_data"
    }
   ],
   "source": [
    "head_columns = ['ein', 'totcntrbgfts','solicitcntrbcd','gftgrntsrcvd170','totgftgrntrcvd509','pubsupplesspct170','pubsupplesub509','totsupp170','totsupp509']\n",
    "\n",
    "unique_columns = [ 'totcntrbgfts','solicitcntrbcd','gftgrntsrcvd170','totgftgrntrcvd509','pubsupplesspct170','pubsupplesub509','totsupp170','totsupp509']\n",
    "display_stats(form_990_2022, unique_columns)\n",
    "\n",
    "display_missing_cts(form_990_2022, unique_columns)"
   ]
  },
  {
   "cell_type": "markdown",
   "metadata": {},
   "source": [
    "### 4.3.5 Grantmaking \n",
    "   \n",
    "* Grants payable -- eoy\n",
    "* Grants to governments/orgs in the US\n",
    "* Grants to individuals in the US\n",
    "* Grants to orgs and individuals outside the US"
   ]
  },
  {
   "cell_type": "code",
   "execution_count": 6,
   "metadata": {},
   "outputs": [
    {
     "data": {
      "text/markdown": [
       "| Statistics   | grntspayableend   | grntstogovt    | grnsttoindiv   | grntstofrgngovt   | totnooforgscnt   |\n",
       "|:-------------|:------------------|:---------------|:---------------|:------------------|:-----------------|\n",
       "| count        | 302,567           | 302,567        | 302,567        | 302,567           | 302,567          |\n",
       "| mean         | 71,383            | 538,179        | 278,081        | 158,665           | 0                |\n",
       "| std          | 7,239,469         | 30,557,289     | 7,934,695      | 20,667,180        | 54               |\n",
       "| min          | -1,014,299        | -65,000        | -2,800         | -1,955            | 0                |\n",
       "| 25%          | 0                 | 0              | 0              | 0                 | 0                |\n",
       "| 50%          | 0                 | 0              | 0              | 0                 | 0                |\n",
       "| 75%          | 0                 | 0              | 0              | 0                 | 0                |\n",
       "| max          | 3,655,040,890     | 10,014,763,351 | 2,166,472,459  | 8,362,101,007     | 29,614           |"
      ],
      "text/plain": [
       "<IPython.core.display.Markdown object>"
      ]
     },
     "metadata": {},
     "output_type": "display_data"
    },
    {
     "data": {
      "text/markdown": [
       "| column name     |   missing data points |\n",
       "|:----------------|----------------------:|\n",
       "| grntspayableend |                     1 |\n",
       "| grntstogovt     |                     1 |\n",
       "| grnsttoindiv    |                     1 |\n",
       "| grntstofrgngovt |                     1 |\n",
       "| totnooforgscnt  |                     1 |"
      ],
      "text/plain": [
       "<IPython.core.display.Markdown object>"
      ]
     },
     "metadata": {},
     "output_type": "display_data"
    }
   ],
   "source": [
    "head_columns = ['ein', 'grntspayableend','grntstogovt','grnsttoindiv','grntstofrgngovt','totnooforgscnt']\n",
    "\n",
    "unique_columns = [ 'grntspayableend','grntstogovt','grnsttoindiv','grntstofrgngovt','totnooforgscnt']\n",
    "display_stats(form_990_2022, unique_columns)\n",
    "\n",
    "display_missing_cts(form_990_2022, unique_columns)\n"
   ]
  },
  {
   "cell_type": "markdown",
   "metadata": {},
   "source": [
    "## 4.4 Organizational & Operational Details\n",
    "   \n",
    "* Number of employees\n",
    "* Number individuals greater than $100K\n",
    "* Number of contractors greater than $100K\n",
    "* Number of organizations supported\n",
    "* Occupancy\n",
    "* Travel\n",
    "* Conferences, conventions, meetings\n",
    "* Foreign office?"
   ]
  },
  {
   "cell_type": "code",
   "execution_count": 7,
   "metadata": {},
   "outputs": [
    {
     "data": {
      "text/markdown": [
       "| Statistics   | noemplyeesw3cnt   | noindiv100kcnt   | occupancy   | travel      | converconventmtng   | totnooforgscnt   |\n",
       "|:-------------|:------------------|:-----------------|:------------|:------------|:--------------------|:-----------------|\n",
       "| count        | 302,567           | 302,567          | 302,567     | 302,567     | 302,567             | 302,567          |\n",
       "| mean         | 67                | 6                | 243,348     | 23,757      | 18,764              | 0                |\n",
       "| std          | 1,302             | 363              | 3,286,609   | 483,047     | 232,857             | 54               |\n",
       "| min          | 0                 | 0                | -19,431,500 | -142,888    | -981,444            | 0                |\n",
       "| 25%          | 0                 | 0                | 0           | 0           | 0                   | 0                |\n",
       "| 50%          | 2                 | 0                | 8,827       | 0           | 0                   | 0                |\n",
       "| 75%          | 16                | 0                | 54,798      | 3,518       | 1,036               | 0                |\n",
       "| max          | 520,474           | 137,288          | 502,675,626 | 172,465,765 | 34,382,682          | 29,614           |"
      ],
      "text/plain": [
       "<IPython.core.display.Markdown object>"
      ]
     },
     "metadata": {},
     "output_type": "display_data"
    },
    {
     "data": {
      "text/markdown": [
       "| column name       |   missing data points |\n",
       "|:------------------|----------------------:|\n",
       "| noemplyeesw3cnt   |                     1 |\n",
       "| noindiv100kcnt    |                     1 |\n",
       "| occupancy         |                     1 |\n",
       "| travel            |                     1 |\n",
       "| converconventmtng |                     1 |\n",
       "| frgnofficecd      |                    26 |\n",
       "| totnooforgscnt    |                     1 |"
      ],
      "text/plain": [
       "<IPython.core.display.Markdown object>"
      ]
     },
     "metadata": {},
     "output_type": "display_data"
    }
   ],
   "source": [
    "head_columns = ['ein', 'noemplyeesw3cnt','noindiv100kcnt','occupancy','travel','converconventmtng','frgnofficecd','totnooforgscnt']\n",
    "\n",
    "unique_columns = [ 'noemplyeesw3cnt','noindiv100kcnt','occupancy','travel','converconventmtng','frgnofficecd','totnooforgscnt']\n",
    "display_stats(form_990_2022, unique_columns)\n",
    "\n",
    "display_missing_cts(form_990_2022, unique_columns)\n"
   ]
  },
  {
   "cell_type": "markdown",
   "metadata": {},
   "source": [
    "## 4.5 Governance and Relationships\n",
    "   \n",
    "* Business relationship thru family member?\n",
    "* Business relationship with organization?\n",
    "* Grant to related person?\n",
    "* Related entity?\n",
    "* Receivables from disqualified persons -- eoy\n",
    "* Receivables from officers, directors, etc. -- eoy\n",
    "* Loan to officer or DQP?"
   ]
  },
  {
   "cell_type": "code",
   "execution_count": 9,
   "metadata": {},
   "outputs": [
    {
     "data": {
      "text/markdown": [
       "| Statistics   | rcvbldisqualend   | currfrmrcvblend   |\n",
       "|:-------------|:------------------|:------------------|\n",
       "| count        | 302,567           | 302,567           |\n",
       "| mean         | 2,067             | 9,539             |\n",
       "| std          | 502,628           | 467,460           |\n",
       "| min          | -953,698          | -175,117          |\n",
       "| 25%          | 0                 | 0                 |\n",
       "| 50%          | 0                 | 0                 |\n",
       "| 75%          | 0                 | 0                 |\n",
       "| max          | 263,752,773       | 132,421,382       |"
      ],
      "text/plain": [
       "<IPython.core.display.Markdown object>"
      ]
     },
     "metadata": {},
     "output_type": "display_data"
    },
    {
     "data": {
      "text/markdown": [
       "| Statistics   | fmlybusnreltdcd   | dirbusnreltdcd   | grantoofficercd   | reltdorgcd   | loantofficercd   |\n",
       "|:-------------|:------------------|:-----------------|:------------------|:-------------|:-----------------|\n",
       "| count        | 302532            | 302540           | 302538            | 302540       | 302542           |\n",
       "| unique       | 2                 | 2                | 2                 | 2            | 2                |\n",
       "| top          | N                 | N                | N                 | N            | N                |\n",
       "| freq         | 296747            | 295510           | 301405            | 234251       | 294695           |"
      ],
      "text/plain": [
       "<IPython.core.display.Markdown object>"
      ]
     },
     "metadata": {},
     "output_type": "display_data"
    },
    {
     "data": {
      "text/markdown": [
       "| column name     |   missing data points |\n",
       "|:----------------|----------------------:|\n",
       "| fmlybusnreltdcd |                    36 |\n",
       "| dirbusnreltdcd  |                    28 |\n",
       "| grantoofficercd |                    30 |\n",
       "| reltdorgcd      |                    28 |\n",
       "| loantofficercd  |                    26 |"
      ],
      "text/plain": [
       "<IPython.core.display.Markdown object>"
      ]
     },
     "metadata": {},
     "output_type": "display_data"
    }
   ],
   "source": [
    "head_columns = ['ein', 'fmlybusnreltdcd','dirbusnreltdcd','grantoofficercd','reltdorgcd','rcvbldisqualend','currfrmrcvblend','loantofficercd']\n",
    "\n",
    "unique_columns = [ 'rcvbldisqualend','currfrmrcvblend']\n",
    "display_stats(form_990_2022, unique_columns)\n",
    "\n",
    "unique_columns = [ 'fmlybusnreltdcd','dirbusnreltdcd','grantoofficercd','reltdorgcd','loantofficercd']\n",
    "display_stats(form_990_2022, unique_columns)\n",
    "\n",
    "display_missing_cts(form_990_2022, unique_columns)\n"
   ]
  },
  {
   "cell_type": "markdown",
   "metadata": {},
   "source": [
    "## 4.6 Regulatory Compliance and Activities\n",
    "   \n",
    "* Lobbying activities?\n",
    "* Political activities?\n",
    "* Foreign activities, etc?\n",
    "* More than $5000 to individuals Part IX, line 3?\n",
    "* More than $5000 to organizations Part IX, line 3?"
   ]
  },
  {
   "cell_type": "code",
   "execution_count": 10,
   "metadata": {},
   "outputs": [
    {
     "data": {
      "text/markdown": [
       "| Statistics   | lbbyingactvtscd   | politicalactvtscd   | frgnrevexpnscd   | frgnaggragrntscd   | frgngrntscd   |\n",
       "|:-------------|:------------------|:--------------------|:-----------------|:-------------------|:--------------|\n",
       "| count        | 234533            | 302543              | 302535           | 302547             | 302545        |\n",
       "| unique       | 2                 | 2                   | 2                | 2                  | 2             |\n",
       "| top          | N                 | N                   | N                | N                  | N             |\n",
       "| freq         | 223202            | 299678              | 289995           | 299872             | 294259        |"
      ],
      "text/plain": [
       "<IPython.core.display.Markdown object>"
      ]
     },
     "metadata": {},
     "output_type": "display_data"
    },
    {
     "data": {
      "text/markdown": [
       "| column name       |   missing data points |\n",
       "|:------------------|----------------------:|\n",
       "| lbbyingactvtscd   |                 68035 |\n",
       "| politicalactvtscd |                    25 |\n",
       "| frgnrevexpnscd    |                    33 |\n",
       "| frgnaggragrntscd  |                    21 |\n",
       "| frgngrntscd       |                    23 |"
      ],
      "text/plain": [
       "<IPython.core.display.Markdown object>"
      ]
     },
     "metadata": {},
     "output_type": "display_data"
    }
   ],
   "source": [
    "head_columns = ['ein', 'lbbyingactvtscd','politicalactvtscd','frgnrevexpnscd','frgnaggragrntscd','frgngrntscd']\n",
    "\n",
    "unique_columns = [ 'lbbyingactvtscd','politicalactvtscd','frgnrevexpnscd','frgnaggragrntscd','frgngrntscd']\n",
    "display_stats(form_990_2022, unique_columns)\n",
    "\n",
    "display_missing_cts(form_990_2022, unique_columns)"
   ]
  }
 ],
 "metadata": {
  "kernelspec": {
   "display_name": "t_up",
   "language": "python",
   "name": "python3"
  },
  "language_info": {
   "codemirror_mode": {
    "name": "ipython",
    "version": 3
   },
   "file_extension": ".py",
   "mimetype": "text/x-python",
   "name": "python",
   "nbconvert_exporter": "python",
   "pygments_lexer": "ipython3",
   "version": "3.9.18"
  }
 },
 "nbformat": 4,
 "nbformat_minor": 2
}
