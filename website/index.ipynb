{
 "cells": [
  {
   "cell_type": "markdown",
   "metadata": {},
   "source": [
    "# Philanthropic Giving Analysis\n"
   ]
  },
  {
   "cell_type": "markdown",
   "metadata": {},
   "source": [
    "Welcome to the Philanthropic Giving Analysis project!\n",
    "\n",
    "The goal of this website is to investigate and present insights into philanthropic spending efforts towards environmental and social justice causes, as well as assess transparency and accountability within this sector. This analysis is crucial in the creation of an Environmental and Climate Justice Dashboard to bridge the gap between funding allocation and community impact.\n",
    "\n",
    "The findings on this platform are still a work in progress. Ideas and suggestions are always welcome."
   ]
  },
  {
   "cell_type": "markdown",
   "metadata": {},
   "source": [
    "## Project Objectives\n",
    "\n",
    "This project aims to:\n",
    "\n",
    "* Conduct a comprehensive analysis of various types of philanthropic giving data (Tax forms, etc).\n",
    "* Identify trends and patterns in spending towards environmental and social justice.\n",
    "* Evaluate the transparency and accountability of these philanthropic efforts.\n",
    "* Indentify relevant information for the creation of an Environmental and Climate Justice Dashboard\n"
   ]
  }
 ],
 "metadata": {
  "language_info": {
   "name": "python"
  }
 },
 "nbformat": 4,
 "nbformat_minor": 2
}
